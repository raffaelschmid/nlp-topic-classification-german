{
 "cells": [
  {
   "cell_type": "markdown",
   "id": "4526a962-52d4-43e5-b198-1731ca6540f9",
   "metadata": {},
   "source": [
    "# Augmentation"
   ]
  },
  {
   "cell_type": "code",
   "execution_count": 1,
   "id": "309c321c-084c-47ba-827e-b186c0f592f8",
   "metadata": {},
   "outputs": [
    {
     "name": "stdout",
     "output_type": "stream",
     "text": [
      "Requirement already satisfied: torch in /opt/conda/lib/python3.7/site-packages (1.10.0)\n",
      "Requirement already satisfied: typing-extensions in /opt/conda/lib/python3.7/site-packages (from torch) (3.10.0.2)\n"
     ]
    }
   ],
   "source": [
    "!pip install torch"
   ]
  },
  {
   "cell_type": "code",
   "execution_count": 2,
   "id": "5790c6ed-67a9-4d61-a35a-479e98eced8c",
   "metadata": {},
   "outputs": [],
   "source": [
    "from transformers import FSMTForConditionalGeneration, FSMTTokenizer\n",
    "from pandas import concat, read_parquet, DataFrame, set_option\n",
    "from data import file\n",
    "from tqdm import tqdm"
   ]
  },
  {
   "cell_type": "code",
   "execution_count": 3,
   "id": "3e0c4efb-0491-4496-b972-35f18ef6ae3c",
   "metadata": {},
   "outputs": [],
   "source": [
    "# apply progress bar on pandas operations\n",
    "tqdm.pandas()\n",
    "set_option('display.max_colwidth', None)"
   ]
  },
  {
   "cell_type": "code",
   "execution_count": 4,
   "id": "b94ba94f-1281-469d-b635-a7e3524689f8",
   "metadata": {},
   "outputs": [],
   "source": [
    "mname_de_en = \"facebook/wmt19-de-en\"\n",
    "tokenizer_de_en = FSMTTokenizer.from_pretrained(mname_de_en)\n",
    "model_de_en = FSMTForConditionalGeneration.from_pretrained(mname_de_en)\n",
    "\n",
    "def translate_de_en(input):\n",
    "    input_ids = tokenizer_de_en.encode(input, return_tensors=\"pt\")\n",
    "    decoded = tokenizer_de_en.decode(model_de_en.generate(input_ids)[0], skip_special_tokens=True)\n",
    "    return decoded\n",
    "\n",
    "mname_en_de = \"facebook/wmt19-en-de\"\n",
    "tokenizer_en_de = FSMTTokenizer.from_pretrained(mname_en_de)\n",
    "model_en_de = FSMTForConditionalGeneration.from_pretrained(mname_en_de)\n",
    "\n",
    "\n",
    "def translate_en_de(input):\n",
    "    input_ids = tokenizer_en_de.encode(input, return_tensors=\"pt\")\n",
    "    outputs = model_en_de.generate(input_ids)\n",
    "    decoded = tokenizer_en_de.decode(outputs[0], skip_special_tokens=True)\n",
    "    return decoded\n",
    "\n",
    "def augment(input):\n",
    "    return translate_en_de(translate_de_en(input))"
   ]
  },
  {
   "cell_type": "code",
   "execution_count": 5,
   "id": "342c0a5c-d1ba-4397-a418-5f49aa6b86ee",
   "metadata": {},
   "outputs": [],
   "source": [
    "data = read_parquet(file.news_articles_raw)\n"
   ]
  },
  {
   "cell_type": "code",
   "execution_count": 6,
   "id": "6d741887-70b0-4258-80f9-19f93e9d9f58",
   "metadata": {},
   "outputs": [
    {
     "name": "stderr",
     "output_type": "stream",
     "text": [
      "100%|██████████| 2/2 [01:08<00:00, 34.46s/it]\n",
      "100%|██████████| 2/2 [01:14<00:00, 37.03s/it]\n",
      "100%|██████████| 1/1 [00:22<00:00, 22.11s/it]\n",
      "100%|██████████| 3/3 [01:59<00:00, 39.68s/it]\n",
      "0it [00:00, ?it/s]\n",
      "100%|██████████| 1/1 [00:16<00:00, 16.38s/it]\n",
      "0it [00:00, ?it/s]\n",
      "0it [00:00, ?it/s]\n",
      "100%|██████████| 1/1 [00:34<00:00, 34.74s/it]\n"
     ]
    }
   ],
   "source": [
    "config = {\n",
    "    'Etat': 2,\n",
    "    'Inland': 2,\n",
    "    'International': 1,\n",
    "    'Kultur': 3,\n",
    "    'Panorama': 0,\n",
    "    'Sport': 1,\n",
    "    'Web': 0,\n",
    "    'Wirtschaft': 0,\n",
    "    'Wissenschaft': 1,\n",
    "}\n",
    "\n",
    "def fake_tranlsate(input):\n",
    "    return f\"augmented: {input}\"\n",
    "\n",
    "list = []\n",
    "for (category, count) in config.items():\n",
    "    selection = data.loc[data.label==category][0:count]\n",
    "    text_augmented = selection.text_original.progress_map(augment)\n",
    "    list.append(DataFrame(concat([text_augmented, selection.label], axis=1)))\n",
    "    "
   ]
  },
  {
   "cell_type": "code",
   "execution_count": 7,
   "id": "986ba763-b68f-4ec5-a12d-4be2ebea84de",
   "metadata": {},
   "outputs": [],
   "source": [
    "augmented_only = DataFrame(concat(list))\n",
    "augmented_only.to_parquet(path=file.news_articles_augmented_only)"
   ]
  },
  {
   "cell_type": "code",
   "execution_count": 24,
   "id": "d0ab0f80-5ce8-4727-b39c-3719678ae9e1",
   "metadata": {},
   "outputs": [],
   "source": [
    "augmented = concat([data, augmented_only])\n",
    "augmented.to_parquet(path=file.news_articles_augmented)"
   ]
  }
 ],
 "metadata": {
  "environment": {
   "kernel": "python3",
   "name": "tf2-gpu.2-6.m84",
   "type": "gcloud",
   "uri": "gcr.io/deeplearning-platform-release/tf2-gpu.2-6:m84"
  },
  "kernelspec": {
   "display_name": "Python 3",
   "language": "python",
   "name": "python3"
  },
  "language_info": {
   "codemirror_mode": {
    "name": "ipython",
    "version": 3
   },
   "file_extension": ".py",
   "mimetype": "text/x-python",
   "name": "python",
   "nbconvert_exporter": "python",
   "pygments_lexer": "ipython3",
   "version": "3.7.12"
  }
 },
 "nbformat": 4,
 "nbformat_minor": 5
}

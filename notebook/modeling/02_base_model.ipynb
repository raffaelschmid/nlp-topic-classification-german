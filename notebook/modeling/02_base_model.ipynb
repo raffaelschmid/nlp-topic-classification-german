{
 "cells": [
  {
   "cell_type": "code",
   "execution_count": 4,
   "outputs": [],
   "source": [
    "from fhnw.nlp.utils.storage import load_dataframe\n",
    "\n",
    "from data import file"
   ],
   "metadata": {
    "collapsed": false,
    "pycharm": {
     "name": "#%%\n"
    }
   }
  },
  {
   "cell_type": "code",
   "execution_count": 20,
   "outputs": [
    {
     "data": {
      "text/plain": "array(['fällen', 'wohl', 'saisonende', 'wien', 'rapid', 'wohl',\n       'saisonende', 'offensivspieler', 'thomas', 'murg', 'verzichten',\n       'winter', 'ried', 'gekommen', 'erleiden', 'beim', 'admira',\n       'wacker', 'mödling', 'samstag', 'teilriss', 'innenbandes', 'link',\n       'knien', 'donnerstag', 'ergeben', 'murg', 'erhalten', 'schiene',\n       'operieren', 'dennoch', 'stehen', 'mehrwöchige', 'pause', 'bevor'],\n      dtype=object)"
     },
     "execution_count": 20,
     "metadata": {},
     "output_type": "execute_result"
    }
   ],
   "source": [
    "def filter_nempty(list):\n",
    "    print(list)\n",
    "    return [item for item in list if item]\n",
    "\n",
    "data_train = load_dataframe(file.news_articles_cleaned_train)\n",
    "data_train.iloc[[0]].text_tokenized_lemmas[0]"
   ],
   "metadata": {
    "collapsed": false,
    "pycharm": {
     "name": "#%%\n"
    }
   }
  },
  {
   "cell_type": "code",
   "execution_count": 6,
   "metadata": {
    "collapsed": true
   },
   "outputs": [
    {
     "data": {
      "text/plain": "                                          text_original          label  \\\n0     Die Gewerkschaft GPA-djp lanciert den \"All-in-...     Wirtschaft   \n1     Franzosen verteidigen 2:1-Führung – Kritische ...          Sport   \n2     Neues Video von Designern macht im Netz die Ru...            Web   \n3     23-jähriger Brasilianer muss vier Spiele pausi...          Sport   \n4     Aufständische verwendeten Chemikalie bei Gefec...  International   \n...                                                 ...            ...   \n1023  Programm \"Ebay Plus\" soll Ende September start...            Web   \n1024  Fehlerhafte Bilanz 2013, Partei will berufen –...         Inland   \n1025  Als erster Olympia-Champion auch Hawaii-Sieger...          Sport   \n1026  Der Außenseiter aus Denver gewinnt die 50. Sup...          Sport   \n1027  Wohl keine Einschränkungen bei Google-Services...            Web   \n\n                                         text_tokenized  \\\n0     [die, gewerkschaft, gpa-djp, lanciert, den, ``...   \n1     [franzosen, verteidigen, 2:1-führung, –, kriti...   \n2     [neues, video, von, designern, macht, im, netz...   \n3     [23-jähriger, brasilianer, muss, vier, spiele,...   \n4     [aufständische, verwendeten, chemikalie, bei, ...   \n...                                                 ...   \n1023  [programm, ``, ebay, plus, '', soll, ende, sep...   \n1024  [fehlerhafte, bilanz, 2013, ,, partei, will, b...   \n1025  [als, erster, olympia-champion, auch, hawaii-s...   \n1026  [der, außenseiter, aus, denver, gewinnt, die, ...   \n1027  [wohl, keine, einschränkungen, bei, google-ser...   \n\n                                text_tokenized_keywords  \\\n0     [gewerkschaft, gpa-djp, lanciert, ``, all-in-r...   \n1     [franzosen, verteidigen, 2:1-führung, –, kriti...   \n2     [neues, video, designern, macht, netz, runde, ...   \n3     [23-jähriger, brasilianer, vier, spiele, pausi...   \n4     [aufständische, verwendeten, chemikalie, gefec...   \n...                                                 ...   \n1023  [programm, ``, ebay, plus, '', ende, september...   \n1024  [fehlerhafte, bilanz, 2013, ,, partei, berufen...   \n1025  [erster, olympia-champion, hawaii-sieger, –, n...   \n1026  [außenseiter, denver, gewinnt, 50, ., super, b...   \n1027  [wohl, einschränkungen, google-services, –, ge...   \n\n                                  text_tokenized_lemmas  \\\n0     [gewerkschaft, lanciert, finden, vertragsform,...   \n1     [franzosen, verteidigen, kritisch, stimmen, sc...   \n2     [neu, video, designern, machen, netz, runden, ...   \n3     [brasilianer, vier, spiele, pausieren, entsche...   \n4     [aufständisch, verwenden, chemikalie, gefechte...   \n...                                                 ...   \n1023  [programm, ebay, plus, ende, september, starte...   \n1024  [fehlerhaft, bilanz, partei, berufen, strafe, ...   \n1025  [erst, niederösterreicher, weiss, aufholjagd, ...   \n1026  [außenseiter, denver, gewinnen, super, bowl, c...   \n1027  [wohl, einschränkungen, gebogen, ränder, geben...   \n\n                                 text_tokenized_stemmed  \n0     [gewerkschaft, gpa-djp, lanciert, ``, all-in-r...  \n1     [franzos, verteid, 2:1-fuhrung, –, kritisch, s...  \n2     [neu, video, design, macht, netz, rund, –, sch...  \n3     [23-jahrig, brasilian, vier, spiel, pausi, –, ...  \n4     [aufstand, verwendet, chemikali, gefecht, augu...  \n...                                                 ...  \n1023  [programm, ``, ebay, plus, '', end, septemb, s...  \n1024  [fehlerhaft, bilanz, 2013, ,, partei, beruf, –...  \n1025  [erst, olympia-champion, hawaii-sieg, –, niede...  \n1026  [aussenseit, denv, gewinnt, 50, ., sup, bowl, ...  \n1027  [wohl, einschrank, google-servic, –, gebog, ra...  \n\n[1028 rows x 6 columns]",
      "text/html": "<div>\n<style scoped>\n    .dataframe tbody tr th:only-of-type {\n        vertical-align: middle;\n    }\n\n    .dataframe tbody tr th {\n        vertical-align: top;\n    }\n\n    .dataframe thead th {\n        text-align: right;\n    }\n</style>\n<table border=\"1\" class=\"dataframe\">\n  <thead>\n    <tr style=\"text-align: right;\">\n      <th></th>\n      <th>text_original</th>\n      <th>label</th>\n      <th>text_tokenized</th>\n      <th>text_tokenized_keywords</th>\n      <th>text_tokenized_lemmas</th>\n      <th>text_tokenized_stemmed</th>\n    </tr>\n  </thead>\n  <tbody>\n    <tr>\n      <th>0</th>\n      <td>Die Gewerkschaft GPA-djp lanciert den \"All-in-...</td>\n      <td>Wirtschaft</td>\n      <td>[die, gewerkschaft, gpa-djp, lanciert, den, ``...</td>\n      <td>[gewerkschaft, gpa-djp, lanciert, ``, all-in-r...</td>\n      <td>[gewerkschaft, lanciert, finden, vertragsform,...</td>\n      <td>[gewerkschaft, gpa-djp, lanciert, ``, all-in-r...</td>\n    </tr>\n    <tr>\n      <th>1</th>\n      <td>Franzosen verteidigen 2:1-Führung – Kritische ...</td>\n      <td>Sport</td>\n      <td>[franzosen, verteidigen, 2:1-führung, –, kriti...</td>\n      <td>[franzosen, verteidigen, 2:1-führung, –, kriti...</td>\n      <td>[franzosen, verteidigen, kritisch, stimmen, sc...</td>\n      <td>[franzos, verteid, 2:1-fuhrung, –, kritisch, s...</td>\n    </tr>\n    <tr>\n      <th>2</th>\n      <td>Neues Video von Designern macht im Netz die Ru...</td>\n      <td>Web</td>\n      <td>[neues, video, von, designern, macht, im, netz...</td>\n      <td>[neues, video, designern, macht, netz, runde, ...</td>\n      <td>[neu, video, designern, machen, netz, runden, ...</td>\n      <td>[neu, video, design, macht, netz, rund, –, sch...</td>\n    </tr>\n    <tr>\n      <th>3</th>\n      <td>23-jähriger Brasilianer muss vier Spiele pausi...</td>\n      <td>Sport</td>\n      <td>[23-jähriger, brasilianer, muss, vier, spiele,...</td>\n      <td>[23-jähriger, brasilianer, vier, spiele, pausi...</td>\n      <td>[brasilianer, vier, spiele, pausieren, entsche...</td>\n      <td>[23-jahrig, brasilian, vier, spiel, pausi, –, ...</td>\n    </tr>\n    <tr>\n      <th>4</th>\n      <td>Aufständische verwendeten Chemikalie bei Gefec...</td>\n      <td>International</td>\n      <td>[aufständische, verwendeten, chemikalie, bei, ...</td>\n      <td>[aufständische, verwendeten, chemikalie, gefec...</td>\n      <td>[aufständisch, verwenden, chemikalie, gefechte...</td>\n      <td>[aufstand, verwendet, chemikali, gefecht, augu...</td>\n    </tr>\n    <tr>\n      <th>...</th>\n      <td>...</td>\n      <td>...</td>\n      <td>...</td>\n      <td>...</td>\n      <td>...</td>\n      <td>...</td>\n    </tr>\n    <tr>\n      <th>1023</th>\n      <td>Programm \"Ebay Plus\" soll Ende September start...</td>\n      <td>Web</td>\n      <td>[programm, ``, ebay, plus, '', soll, ende, sep...</td>\n      <td>[programm, ``, ebay, plus, '', ende, september...</td>\n      <td>[programm, ebay, plus, ende, september, starte...</td>\n      <td>[programm, ``, ebay, plus, '', end, septemb, s...</td>\n    </tr>\n    <tr>\n      <th>1024</th>\n      <td>Fehlerhafte Bilanz 2013, Partei will berufen –...</td>\n      <td>Inland</td>\n      <td>[fehlerhafte, bilanz, 2013, ,, partei, will, b...</td>\n      <td>[fehlerhafte, bilanz, 2013, ,, partei, berufen...</td>\n      <td>[fehlerhaft, bilanz, partei, berufen, strafe, ...</td>\n      <td>[fehlerhaft, bilanz, 2013, ,, partei, beruf, –...</td>\n    </tr>\n    <tr>\n      <th>1025</th>\n      <td>Als erster Olympia-Champion auch Hawaii-Sieger...</td>\n      <td>Sport</td>\n      <td>[als, erster, olympia-champion, auch, hawaii-s...</td>\n      <td>[erster, olympia-champion, hawaii-sieger, –, n...</td>\n      <td>[erst, niederösterreicher, weiss, aufholjagd, ...</td>\n      <td>[erst, olympia-champion, hawaii-sieg, –, niede...</td>\n    </tr>\n    <tr>\n      <th>1026</th>\n      <td>Der Außenseiter aus Denver gewinnt die 50. Sup...</td>\n      <td>Sport</td>\n      <td>[der, außenseiter, aus, denver, gewinnt, die, ...</td>\n      <td>[außenseiter, denver, gewinnt, 50, ., super, b...</td>\n      <td>[außenseiter, denver, gewinnen, super, bowl, c...</td>\n      <td>[aussenseit, denv, gewinnt, 50, ., sup, bowl, ...</td>\n    </tr>\n    <tr>\n      <th>1027</th>\n      <td>Wohl keine Einschränkungen bei Google-Services...</td>\n      <td>Web</td>\n      <td>[wohl, keine, einschränkungen, bei, google-ser...</td>\n      <td>[wohl, einschränkungen, google-services, –, ge...</td>\n      <td>[wohl, einschränkungen, gebogen, ränder, geben...</td>\n      <td>[wohl, einschrank, google-servic, –, gebog, ra...</td>\n    </tr>\n  </tbody>\n</table>\n<p>1028 rows × 6 columns</p>\n</div>"
     },
     "execution_count": 6,
     "metadata": {},
     "output_type": "execute_result"
    }
   ],
   "source": [
    "data_test = load_dataframe(file.news_articles_cleaned_test)\n",
    "data_test"
   ]
  },
  {
   "cell_type": "code",
   "execution_count": null,
   "outputs": [],
   "source": [],
   "metadata": {
    "collapsed": false,
    "pycharm": {
     "name": "#%%\n"
    }
   }
  }
 ],
 "metadata": {
  "kernelspec": {
   "display_name": "Python 3",
   "language": "python",
   "name": "python3"
  },
  "language_info": {
   "codemirror_mode": {
    "name": "ipython",
    "version": 2
   },
   "file_extension": ".py",
   "mimetype": "text/x-python",
   "name": "python",
   "nbconvert_exporter": "python",
   "pygments_lexer": "ipython2",
   "version": "2.7.6"
  }
 },
 "nbformat": 4,
 "nbformat_minor": 0
}
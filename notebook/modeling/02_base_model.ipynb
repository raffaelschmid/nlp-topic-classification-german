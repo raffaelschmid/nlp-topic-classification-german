{
 "cells": [
  {
   "cell_type": "code",
   "execution_count": 1,
   "metadata": {
    "collapsed": false,
    "jupyter": {
     "outputs_hidden": false
    },
    "pycharm": {
     "name": "#%%\n"
    }
   },
   "outputs": [],
   "source": [
    "import seaborn as sns\n",
    "from pandas import read_parquet\n",
    "from matplotlib import pyplot as plt\n",
    "from sklearn.metrics import classification_report\n",
    "from sklearn.preprocessing import LabelEncoder\n",
    "\n",
    "from data import file"
   ]
  },
  {
   "cell_type": "code",
   "execution_count": 2,
   "metadata": {
    "collapsed": false,
    "jupyter": {
     "outputs_hidden": false
    },
    "pycharm": {
     "name": "#%%\n"
    }
   },
   "outputs": [
    {
     "data": {
      "text/html": [
       "<div>\n",
       "<style scoped>\n",
       "    .dataframe tbody tr th:only-of-type {\n",
       "        vertical-align: middle;\n",
       "    }\n",
       "\n",
       "    .dataframe tbody tr th {\n",
       "        vertical-align: top;\n",
       "    }\n",
       "\n",
       "    .dataframe thead th {\n",
       "        text-align: right;\n",
       "    }\n",
       "</style>\n",
       "<table border=\"1\" class=\"dataframe\">\n",
       "  <thead>\n",
       "    <tr style=\"text-align: right;\">\n",
       "      <th></th>\n",
       "      <th>text_original</th>\n",
       "      <th>label</th>\n",
       "      <th>text_tokenized</th>\n",
       "      <th>text_tokenized_keywords</th>\n",
       "      <th>text_keywords</th>\n",
       "      <th>text_tokenized_lemmas</th>\n",
       "      <th>text_lemmas</th>\n",
       "      <th>text_tokenized_stemmed</th>\n",
       "      <th>text_stem</th>\n",
       "    </tr>\n",
       "  </thead>\n",
       "  <tbody>\n",
       "    <tr>\n",
       "      <th>0</th>\n",
       "      <td>21-Jähriger fällt wohl bis Saisonende aus. Wie...</td>\n",
       "      <td>Sport</td>\n",
       "      <td>[21-jähriger, fällt, wohl, bis, saisonende, au...</td>\n",
       "      <td>[21-jähriger, fällt, wohl, saisonende, ., wien...</td>\n",
       "      <td>21-jähriger fällt wohl saisonende . wien – rap...</td>\n",
       "      <td>[21-jähriger, fällen, wohl, saisonende, wien, ...</td>\n",
       "      <td>21-jähriger fällen wohl saisonende wien rapid ...</td>\n",
       "      <td>[21-jahrig, fallt, wohl, saison, wien, rapid, ...</td>\n",
       "      <td>21-jahrig fallt wohl saison wien rapid wohl sa...</td>\n",
       "    </tr>\n",
       "    <tr>\n",
       "      <th>1</th>\n",
       "      <td>Erfundene Bilder zu Filmen, die als verloren g...</td>\n",
       "      <td>Kultur</td>\n",
       "      <td>[erfundene, bilder, zu, filmen, ,, die, als, v...</td>\n",
       "      <td>[erfundene, bilder, filmen, ,, verloren, gelte...</td>\n",
       "      <td>erfundene bilder filmen , verloren gelten : ``...</td>\n",
       "      <td>[erfunden, bilder, filmen, verlieren, gelten, ...</td>\n",
       "      <td>erfunden bilder filmen verlieren gelten `` the...</td>\n",
       "      <td>[erfund, bild, film, verlor, gelt, ``, the, fo...</td>\n",
       "      <td>erfund bild film verlor gelt `` the forbidd ro...</td>\n",
       "    </tr>\n",
       "    <tr>\n",
       "      <th>2</th>\n",
       "      <td>Der frischgekürte CEO Sundar Pichai setzt auf ...</td>\n",
       "      <td>Web</td>\n",
       "      <td>[der, frischgekürte, ceo, sundar, pichai, setz...</td>\n",
       "      <td>[frischgekürte, ceo, sundar, pichai, setzt, um...</td>\n",
       "      <td>frischgekürte ceo sundar pichai setzt umgängli...</td>\n",
       "      <td>[frischgekürte, ceo, sundar, pichai, setzen, u...</td>\n",
       "      <td>frischgekürte ceo sundar pichai setzen umgängl...</td>\n",
       "      <td>[frischgekurt, ceo, sundar, pichai, setzt, umg...</td>\n",
       "      <td>frischgekurt ceo sundar pichai setzt umgang fu...</td>\n",
       "    </tr>\n",
       "    <tr>\n",
       "      <th>3</th>\n",
       "      <td>Putin: \"Einigung, dass wir Menge auf Niveau vo...</td>\n",
       "      <td>Wirtschaft</td>\n",
       "      <td>[putin, :, ``, einigung, ,, dass, wir, menge, ...</td>\n",
       "      <td>[putin, :, ``, einigung, ,, menge, niveau, jän...</td>\n",
       "      <td>putin : `` einigung , menge niveau jänner halt...</td>\n",
       "      <td>[putin, ``, einigung, menge, niveau, jänner, h...</td>\n",
       "      <td>putin `` einigung menge niveau jänner halten m...</td>\n",
       "      <td>[putin, ``, einig, meng, niveau, jann, halt, '...</td>\n",
       "      <td>putin `` einig meng niveau jann halt '' moskau...</td>\n",
       "    </tr>\n",
       "    <tr>\n",
       "      <th>4</th>\n",
       "      <td>Estland sieht den künftigen österreichischen P...</td>\n",
       "      <td>Inland</td>\n",
       "      <td>[estland, sieht, den, künftigen, österreichisc...</td>\n",
       "      <td>[estland, sieht, künftigen, österreichischen, ...</td>\n",
       "      <td>estland sieht künftigen österreichischen präsi...</td>\n",
       "      <td>[estland, sehen, künftig, österreichisch, präs...</td>\n",
       "      <td>estland sehen künftig österreichisch präsident...</td>\n",
       "      <td>[estland, sieht, kunftig, osterreich, prasiden...</td>\n",
       "      <td>estland sieht kunftig osterreich prasident est...</td>\n",
       "    </tr>\n",
       "    <tr>\n",
       "      <th>...</th>\n",
       "      <td>...</td>\n",
       "      <td>...</td>\n",
       "      <td>...</td>\n",
       "      <td>...</td>\n",
       "      <td>...</td>\n",
       "      <td>...</td>\n",
       "      <td>...</td>\n",
       "      <td>...</td>\n",
       "      <td>...</td>\n",
       "    </tr>\n",
       "    <tr>\n",
       "      <th>9240</th>\n",
       "      <td>Bernd Saurer war Bridge-Juniorenweltmeister un...</td>\n",
       "      <td>Inland</td>\n",
       "      <td>[bernd, saurer, war, bridge-juniorenweltmeiste...</td>\n",
       "      <td>[bernd, saurer, bridge-juniorenweltmeister, ,,...</td>\n",
       "      <td>bernd saurer bridge-juniorenweltmeister , krau...</td>\n",
       "      <td>[bernd, sauer, bridge-juniorenweltmeister, kra...</td>\n",
       "      <td>bernd sauer bridge-juniorenweltmeister krauss ...</td>\n",
       "      <td>[bernd, saur, bridge-juniorenweltmeist, krauss...</td>\n",
       "      <td>bernd saur bridge-juniorenweltmeist krauss sch...</td>\n",
       "    </tr>\n",
       "    <tr>\n",
       "      <th>9241</th>\n",
       "      <td>Sandhere soll in vergangener Woche bei Luftang...</td>\n",
       "      <td>International</td>\n",
       "      <td>[sandhere, soll, in, vergangener, woche, bei, ...</td>\n",
       "      <td>[sandhere, vergangener, woche, luftangriff, ge...</td>\n",
       "      <td>sandhere vergangener woche luftangriff getötet...</td>\n",
       "      <td>[sandhere, vergangen, woche, luftangriff, töte...</td>\n",
       "      <td>sandhere vergangen woche luftangriff töten wer...</td>\n",
       "      <td>[sandh, vergang, woch, luftangriff, getotet, w...</td>\n",
       "      <td>sandh vergang woch luftangriff getotet word wa...</td>\n",
       "    </tr>\n",
       "    <tr>\n",
       "      <th>9242</th>\n",
       "      <td>Derzeit Konzeptgruppe in Berlin – Kein Komment...</td>\n",
       "      <td>Wirtschaft</td>\n",
       "      <td>[derzeit, konzeptgruppe, in, berlin, –, kein, ...</td>\n",
       "      <td>[derzeit, konzeptgruppe, berlin, –, kommentar,...</td>\n",
       "      <td>derzeit konzeptgruppe berlin – kommentar apple...</td>\n",
       "      <td>[derzeit, konzeptgruppe, berlin, kommentar, ap...</td>\n",
       "      <td>derzeit konzeptgruppe berlin kommentar apple m...</td>\n",
       "      <td>[derzeit, konzeptgrupp, berlin, kommentar, app...</td>\n",
       "      <td>derzeit konzeptgrupp berlin kommentar appl mag...</td>\n",
       "    </tr>\n",
       "    <tr>\n",
       "      <th>9243</th>\n",
       "      <td>Landeshauptmann will den vierten Regierungssit...</td>\n",
       "      <td>Inland</td>\n",
       "      <td>[landeshauptmann, will, den, vierten, regierun...</td>\n",
       "      <td>[landeshauptmann, vierten, regierungssitz, erh...</td>\n",
       "      <td>landeshauptmann vierten regierungssitz erhalte...</td>\n",
       "      <td>[landeshauptmann, viert, regierungssitz, erhal...</td>\n",
       "      <td>landeshauptmann viert regierungssitz erhalten ...</td>\n",
       "      <td>[landeshauptmann, viert, regierungssitz, erhal...</td>\n",
       "      <td>landeshauptmann viert regierungssitz erhalt fp...</td>\n",
       "    </tr>\n",
       "    <tr>\n",
       "      <th>9244</th>\n",
       "      <td>Er ist einer von Millionen syrischen Flüchtlin...</td>\n",
       "      <td>Panorama</td>\n",
       "      <td>[er, ist, einer, von, millionen, syrischen, fl...</td>\n",
       "      <td>[millionen, syrischen, flüchtlingen, ., kamera...</td>\n",
       "      <td>millionen syrischen flüchtlingen . kamerafrau ...</td>\n",
       "      <td>[millionen, syrisch, flüchtlingen, kamerafrau,...</td>\n",
       "      <td>millionen syrisch flüchtlingen kamerafrau rech...</td>\n",
       "      <td>[million, syrisch, fluchtling, kamerafrau, rec...</td>\n",
       "      <td>million syrisch fluchtling kamerafrau rechtsge...</td>\n",
       "    </tr>\n",
       "  </tbody>\n",
       "</table>\n",
       "<p>9245 rows × 9 columns</p>\n",
       "</div>"
      ],
      "text/plain": [
       "                                          text_original          label  \\\n",
       "0     21-Jähriger fällt wohl bis Saisonende aus. Wie...          Sport   \n",
       "1     Erfundene Bilder zu Filmen, die als verloren g...         Kultur   \n",
       "2     Der frischgekürte CEO Sundar Pichai setzt auf ...            Web   \n",
       "3     Putin: \"Einigung, dass wir Menge auf Niveau vo...     Wirtschaft   \n",
       "4     Estland sieht den künftigen österreichischen P...         Inland   \n",
       "...                                                 ...            ...   \n",
       "9240  Bernd Saurer war Bridge-Juniorenweltmeister un...         Inland   \n",
       "9241  Sandhere soll in vergangener Woche bei Luftang...  International   \n",
       "9242  Derzeit Konzeptgruppe in Berlin – Kein Komment...     Wirtschaft   \n",
       "9243  Landeshauptmann will den vierten Regierungssit...         Inland   \n",
       "9244  Er ist einer von Millionen syrischen Flüchtlin...       Panorama   \n",
       "\n",
       "                                         text_tokenized  \\\n",
       "0     [21-jähriger, fällt, wohl, bis, saisonende, au...   \n",
       "1     [erfundene, bilder, zu, filmen, ,, die, als, v...   \n",
       "2     [der, frischgekürte, ceo, sundar, pichai, setz...   \n",
       "3     [putin, :, ``, einigung, ,, dass, wir, menge, ...   \n",
       "4     [estland, sieht, den, künftigen, österreichisc...   \n",
       "...                                                 ...   \n",
       "9240  [bernd, saurer, war, bridge-juniorenweltmeiste...   \n",
       "9241  [sandhere, soll, in, vergangener, woche, bei, ...   \n",
       "9242  [derzeit, konzeptgruppe, in, berlin, –, kein, ...   \n",
       "9243  [landeshauptmann, will, den, vierten, regierun...   \n",
       "9244  [er, ist, einer, von, millionen, syrischen, fl...   \n",
       "\n",
       "                                text_tokenized_keywords  \\\n",
       "0     [21-jähriger, fällt, wohl, saisonende, ., wien...   \n",
       "1     [erfundene, bilder, filmen, ,, verloren, gelte...   \n",
       "2     [frischgekürte, ceo, sundar, pichai, setzt, um...   \n",
       "3     [putin, :, ``, einigung, ,, menge, niveau, jän...   \n",
       "4     [estland, sieht, künftigen, österreichischen, ...   \n",
       "...                                                 ...   \n",
       "9240  [bernd, saurer, bridge-juniorenweltmeister, ,,...   \n",
       "9241  [sandhere, vergangener, woche, luftangriff, ge...   \n",
       "9242  [derzeit, konzeptgruppe, berlin, –, kommentar,...   \n",
       "9243  [landeshauptmann, vierten, regierungssitz, erh...   \n",
       "9244  [millionen, syrischen, flüchtlingen, ., kamera...   \n",
       "\n",
       "                                          text_keywords  \\\n",
       "0     21-jähriger fällt wohl saisonende . wien – rap...   \n",
       "1     erfundene bilder filmen , verloren gelten : ``...   \n",
       "2     frischgekürte ceo sundar pichai setzt umgängli...   \n",
       "3     putin : `` einigung , menge niveau jänner halt...   \n",
       "4     estland sieht künftigen österreichischen präsi...   \n",
       "...                                                 ...   \n",
       "9240  bernd saurer bridge-juniorenweltmeister , krau...   \n",
       "9241  sandhere vergangener woche luftangriff getötet...   \n",
       "9242  derzeit konzeptgruppe berlin – kommentar apple...   \n",
       "9243  landeshauptmann vierten regierungssitz erhalte...   \n",
       "9244  millionen syrischen flüchtlingen . kamerafrau ...   \n",
       "\n",
       "                                  text_tokenized_lemmas  \\\n",
       "0     [21-jähriger, fällen, wohl, saisonende, wien, ...   \n",
       "1     [erfunden, bilder, filmen, verlieren, gelten, ...   \n",
       "2     [frischgekürte, ceo, sundar, pichai, setzen, u...   \n",
       "3     [putin, ``, einigung, menge, niveau, jänner, h...   \n",
       "4     [estland, sehen, künftig, österreichisch, präs...   \n",
       "...                                                 ...   \n",
       "9240  [bernd, sauer, bridge-juniorenweltmeister, kra...   \n",
       "9241  [sandhere, vergangen, woche, luftangriff, töte...   \n",
       "9242  [derzeit, konzeptgruppe, berlin, kommentar, ap...   \n",
       "9243  [landeshauptmann, viert, regierungssitz, erhal...   \n",
       "9244  [millionen, syrisch, flüchtlingen, kamerafrau,...   \n",
       "\n",
       "                                            text_lemmas  \\\n",
       "0     21-jähriger fällen wohl saisonende wien rapid ...   \n",
       "1     erfunden bilder filmen verlieren gelten `` the...   \n",
       "2     frischgekürte ceo sundar pichai setzen umgängl...   \n",
       "3     putin `` einigung menge niveau jänner halten m...   \n",
       "4     estland sehen künftig österreichisch präsident...   \n",
       "...                                                 ...   \n",
       "9240  bernd sauer bridge-juniorenweltmeister krauss ...   \n",
       "9241  sandhere vergangen woche luftangriff töten wer...   \n",
       "9242  derzeit konzeptgruppe berlin kommentar apple m...   \n",
       "9243  landeshauptmann viert regierungssitz erhalten ...   \n",
       "9244  millionen syrisch flüchtlingen kamerafrau rech...   \n",
       "\n",
       "                                 text_tokenized_stemmed  \\\n",
       "0     [21-jahrig, fallt, wohl, saison, wien, rapid, ...   \n",
       "1     [erfund, bild, film, verlor, gelt, ``, the, fo...   \n",
       "2     [frischgekurt, ceo, sundar, pichai, setzt, umg...   \n",
       "3     [putin, ``, einig, meng, niveau, jann, halt, '...   \n",
       "4     [estland, sieht, kunftig, osterreich, prasiden...   \n",
       "...                                                 ...   \n",
       "9240  [bernd, saur, bridge-juniorenweltmeist, krauss...   \n",
       "9241  [sandh, vergang, woch, luftangriff, getotet, w...   \n",
       "9242  [derzeit, konzeptgrupp, berlin, kommentar, app...   \n",
       "9243  [landeshauptmann, viert, regierungssitz, erhal...   \n",
       "9244  [million, syrisch, fluchtling, kamerafrau, rec...   \n",
       "\n",
       "                                              text_stem  \n",
       "0     21-jahrig fallt wohl saison wien rapid wohl sa...  \n",
       "1     erfund bild film verlor gelt `` the forbidd ro...  \n",
       "2     frischgekurt ceo sundar pichai setzt umgang fu...  \n",
       "3     putin `` einig meng niveau jann halt '' moskau...  \n",
       "4     estland sieht kunftig osterreich prasident est...  \n",
       "...                                                 ...  \n",
       "9240  bernd saur bridge-juniorenweltmeist krauss sch...  \n",
       "9241  sandh vergang woch luftangriff getotet word wa...  \n",
       "9242  derzeit konzeptgrupp berlin kommentar appl mag...  \n",
       "9243  landeshauptmann viert regierungssitz erhalt fp...  \n",
       "9244  million syrisch fluchtling kamerafrau rechtsge...  \n",
       "\n",
       "[9245 rows x 9 columns]"
      ]
     },
     "execution_count": 2,
     "metadata": {},
     "output_type": "execute_result"
    }
   ],
   "source": [
    "data_train = read_parquet(file.news_articles_cleaned_train)\n",
    "data_train"
   ]
  },
  {
   "cell_type": "code",
   "execution_count": 3,
   "metadata": {
    "collapsed": false,
    "jupyter": {
     "outputs_hidden": false
    },
    "pycharm": {
     "name": "#%%\n"
    }
   },
   "outputs": [
    {
     "data": {
      "text/html": [
       "<div>\n",
       "<style scoped>\n",
       "    .dataframe tbody tr th:only-of-type {\n",
       "        vertical-align: middle;\n",
       "    }\n",
       "\n",
       "    .dataframe tbody tr th {\n",
       "        vertical-align: top;\n",
       "    }\n",
       "\n",
       "    .dataframe thead th {\n",
       "        text-align: right;\n",
       "    }\n",
       "</style>\n",
       "<table border=\"1\" class=\"dataframe\">\n",
       "  <thead>\n",
       "    <tr style=\"text-align: right;\">\n",
       "      <th></th>\n",
       "      <th>text_original</th>\n",
       "      <th>label</th>\n",
       "      <th>text_tokenized</th>\n",
       "      <th>text_tokenized_keywords</th>\n",
       "      <th>text_keywords</th>\n",
       "      <th>text_tokenized_lemmas</th>\n",
       "      <th>text_lemmas</th>\n",
       "      <th>text_tokenized_stemmed</th>\n",
       "      <th>text_stem</th>\n",
       "    </tr>\n",
       "  </thead>\n",
       "  <tbody>\n",
       "    <tr>\n",
       "      <th>0</th>\n",
       "      <td>Die Gewerkschaft GPA-djp lanciert den \"All-in-...</td>\n",
       "      <td>Wirtschaft</td>\n",
       "      <td>[die, gewerkschaft, gpa-djp, lanciert, den, ``...</td>\n",
       "      <td>[gewerkschaft, gpa-djp, lanciert, ``, all-in-r...</td>\n",
       "      <td>gewerkschaft gpa-djp lanciert `` all-in-rechne...</td>\n",
       "      <td>[gewerkschaft, gpa-djp, lanciert, ``, all-in-r...</td>\n",
       "      <td>gewerkschaft gpa-djp lanciert `` all-in-rechne...</td>\n",
       "      <td>[gewerkschaft, gpa-djp, lanciert, ``, all-in-r...</td>\n",
       "      <td>gewerkschaft gpa-djp lanciert `` all-in-rechn ...</td>\n",
       "    </tr>\n",
       "    <tr>\n",
       "      <th>1</th>\n",
       "      <td>Franzosen verteidigen 2:1-Führung – Kritische ...</td>\n",
       "      <td>Sport</td>\n",
       "      <td>[franzosen, verteidigen, 2:1-führung, –, kriti...</td>\n",
       "      <td>[franzosen, verteidigen, 2:1-führung, –, kriti...</td>\n",
       "      <td>franzosen verteidigen 2:1-führung – kritische ...</td>\n",
       "      <td>[franzosen, verteidigen, 2:1-führung, kritisch...</td>\n",
       "      <td>franzosen verteidigen 2:1-führung kritisch sti...</td>\n",
       "      <td>[franzos, verteid, 2:1-fuhrung, kritisch, stim...</td>\n",
       "      <td>franzos verteid 2:1-fuhrung kritisch stimm sch...</td>\n",
       "    </tr>\n",
       "    <tr>\n",
       "      <th>2</th>\n",
       "      <td>Neues Video von Designern macht im Netz die Ru...</td>\n",
       "      <td>Web</td>\n",
       "      <td>[neues, video, von, designern, macht, im, netz...</td>\n",
       "      <td>[neues, video, designern, macht, netz, runde, ...</td>\n",
       "      <td>neues video designern macht netz runde – schla...</td>\n",
       "      <td>[neu, video, designern, machen, netz, runden, ...</td>\n",
       "      <td>neu video designern machen netz runden schlage...</td>\n",
       "      <td>[neu, video, design, macht, netz, rund, schlag...</td>\n",
       "      <td>neu video design macht netz rund schlag etwa b...</td>\n",
       "    </tr>\n",
       "    <tr>\n",
       "      <th>3</th>\n",
       "      <td>23-jähriger Brasilianer muss vier Spiele pausi...</td>\n",
       "      <td>Sport</td>\n",
       "      <td>[23-jähriger, brasilianer, muss, vier, spiele,...</td>\n",
       "      <td>[23-jähriger, brasilianer, vier, spiele, pausi...</td>\n",
       "      <td>23-jähriger brasilianer vier spiele pausieren ...</td>\n",
       "      <td>[23-jähriger, brasilianer, vier, spiele, pausi...</td>\n",
       "      <td>23-jähriger brasilianer vier spiele pausieren ...</td>\n",
       "      <td>[23-jahrig, brasilian, vier, spiel, pausi, ent...</td>\n",
       "      <td>23-jahrig brasilian vier spiel pausi entscheid...</td>\n",
       "    </tr>\n",
       "    <tr>\n",
       "      <th>4</th>\n",
       "      <td>Aufständische verwendeten Chemikalie bei Gefec...</td>\n",
       "      <td>International</td>\n",
       "      <td>[aufständische, verwendeten, chemikalie, bei, ...</td>\n",
       "      <td>[aufständische, verwendeten, chemikalie, gefec...</td>\n",
       "      <td>aufständische verwendeten chemikalie gefechten...</td>\n",
       "      <td>[aufständisch, verwenden, chemikalie, gefechte...</td>\n",
       "      <td>aufständisch verwenden chemikalie gefechten au...</td>\n",
       "      <td>[aufstand, verwendet, chemikali, gefecht, augu...</td>\n",
       "      <td>aufstand verwendet chemikali gefecht august da...</td>\n",
       "    </tr>\n",
       "    <tr>\n",
       "      <th>...</th>\n",
       "      <td>...</td>\n",
       "      <td>...</td>\n",
       "      <td>...</td>\n",
       "      <td>...</td>\n",
       "      <td>...</td>\n",
       "      <td>...</td>\n",
       "      <td>...</td>\n",
       "      <td>...</td>\n",
       "      <td>...</td>\n",
       "    </tr>\n",
       "    <tr>\n",
       "      <th>1023</th>\n",
       "      <td>Programm \"Ebay Plus\" soll Ende September start...</td>\n",
       "      <td>Web</td>\n",
       "      <td>[programm, ``, ebay, plus, '', soll, ende, sep...</td>\n",
       "      <td>[programm, ``, ebay, plus, '', ende, september...</td>\n",
       "      <td>programm `` ebay plus '' ende september starte...</td>\n",
       "      <td>[programm, ``, ebay, plus, ende, september, st...</td>\n",
       "      <td>programm `` ebay plus ende september starten d...</td>\n",
       "      <td>[programm, ``, ebay, plus, '', end, septemb, s...</td>\n",
       "      <td>programm `` ebay plus '' end septemb start deu...</td>\n",
       "    </tr>\n",
       "    <tr>\n",
       "      <th>1024</th>\n",
       "      <td>Fehlerhafte Bilanz 2013, Partei will berufen –...</td>\n",
       "      <td>Inland</td>\n",
       "      <td>[fehlerhafte, bilanz, 2013, ,, partei, will, b...</td>\n",
       "      <td>[fehlerhafte, bilanz, 2013, ,, partei, berufen...</td>\n",
       "      <td>fehlerhafte bilanz 2013 , partei berufen – str...</td>\n",
       "      <td>[fehlerhaft, bilanz, 2013, partei, berufen, st...</td>\n",
       "      <td>fehlerhaft bilanz 2013 partei berufen strafe w...</td>\n",
       "      <td>[fehlerhaft, bilanz, 2013, partei, beruf, stra...</td>\n",
       "      <td>fehlerhaft bilanz 2013 partei beruf straf weg ...</td>\n",
       "    </tr>\n",
       "    <tr>\n",
       "      <th>1025</th>\n",
       "      <td>Als erster Olympia-Champion auch Hawaii-Sieger...</td>\n",
       "      <td>Sport</td>\n",
       "      <td>[als, erster, olympia-champion, auch, hawaii-s...</td>\n",
       "      <td>[erster, olympia-champion, hawaii-sieger, –, n...</td>\n",
       "      <td>erster olympia-champion hawaii-sieger – nieder...</td>\n",
       "      <td>[erst, olympia-champion, hawaii-sieger, nieder...</td>\n",
       "      <td>erst olympia-champion hawaii-sieger niederöste...</td>\n",
       "      <td>[erst, olympia-champion, hawaii-sieg, niederos...</td>\n",
       "      <td>erst olympia-champion hawaii-sieg niederosterr...</td>\n",
       "    </tr>\n",
       "    <tr>\n",
       "      <th>1026</th>\n",
       "      <td>Der Außenseiter aus Denver gewinnt die 50. Sup...</td>\n",
       "      <td>Sport</td>\n",
       "      <td>[der, außenseiter, aus, denver, gewinnt, die, ...</td>\n",
       "      <td>[außenseiter, denver, gewinnt, 50, ., super, b...</td>\n",
       "      <td>außenseiter denver gewinnt 50 . super bowl car...</td>\n",
       "      <td>[außenseiter, denver, gewinnen, 50, super, bow...</td>\n",
       "      <td>außenseiter denver gewinnen 50 super bowl caro...</td>\n",
       "      <td>[aussenseit, denv, gewinnt, 50, sup, bowl, car...</td>\n",
       "      <td>aussenseit denv gewinnt 50 sup bowl carolina p...</td>\n",
       "    </tr>\n",
       "    <tr>\n",
       "      <th>1027</th>\n",
       "      <td>Wohl keine Einschränkungen bei Google-Services...</td>\n",
       "      <td>Web</td>\n",
       "      <td>[wohl, keine, einschränkungen, bei, google-ser...</td>\n",
       "      <td>[wohl, einschränkungen, google-services, –, ge...</td>\n",
       "      <td>wohl einschränkungen google-services – gebogen...</td>\n",
       "      <td>[wohl, einschränkungen, google-services, gebog...</td>\n",
       "      <td>wohl einschränkungen google-services gebogen r...</td>\n",
       "      <td>[wohl, einschrank, google-servic, gebog, rand,...</td>\n",
       "      <td>wohl einschrank google-servic gebog rand gab b...</td>\n",
       "    </tr>\n",
       "  </tbody>\n",
       "</table>\n",
       "<p>1028 rows × 9 columns</p>\n",
       "</div>"
      ],
      "text/plain": [
       "                                          text_original          label  \\\n",
       "0     Die Gewerkschaft GPA-djp lanciert den \"All-in-...     Wirtschaft   \n",
       "1     Franzosen verteidigen 2:1-Führung – Kritische ...          Sport   \n",
       "2     Neues Video von Designern macht im Netz die Ru...            Web   \n",
       "3     23-jähriger Brasilianer muss vier Spiele pausi...          Sport   \n",
       "4     Aufständische verwendeten Chemikalie bei Gefec...  International   \n",
       "...                                                 ...            ...   \n",
       "1023  Programm \"Ebay Plus\" soll Ende September start...            Web   \n",
       "1024  Fehlerhafte Bilanz 2013, Partei will berufen –...         Inland   \n",
       "1025  Als erster Olympia-Champion auch Hawaii-Sieger...          Sport   \n",
       "1026  Der Außenseiter aus Denver gewinnt die 50. Sup...          Sport   \n",
       "1027  Wohl keine Einschränkungen bei Google-Services...            Web   \n",
       "\n",
       "                                         text_tokenized  \\\n",
       "0     [die, gewerkschaft, gpa-djp, lanciert, den, ``...   \n",
       "1     [franzosen, verteidigen, 2:1-führung, –, kriti...   \n",
       "2     [neues, video, von, designern, macht, im, netz...   \n",
       "3     [23-jähriger, brasilianer, muss, vier, spiele,...   \n",
       "4     [aufständische, verwendeten, chemikalie, bei, ...   \n",
       "...                                                 ...   \n",
       "1023  [programm, ``, ebay, plus, '', soll, ende, sep...   \n",
       "1024  [fehlerhafte, bilanz, 2013, ,, partei, will, b...   \n",
       "1025  [als, erster, olympia-champion, auch, hawaii-s...   \n",
       "1026  [der, außenseiter, aus, denver, gewinnt, die, ...   \n",
       "1027  [wohl, keine, einschränkungen, bei, google-ser...   \n",
       "\n",
       "                                text_tokenized_keywords  \\\n",
       "0     [gewerkschaft, gpa-djp, lanciert, ``, all-in-r...   \n",
       "1     [franzosen, verteidigen, 2:1-führung, –, kriti...   \n",
       "2     [neues, video, designern, macht, netz, runde, ...   \n",
       "3     [23-jähriger, brasilianer, vier, spiele, pausi...   \n",
       "4     [aufständische, verwendeten, chemikalie, gefec...   \n",
       "...                                                 ...   \n",
       "1023  [programm, ``, ebay, plus, '', ende, september...   \n",
       "1024  [fehlerhafte, bilanz, 2013, ,, partei, berufen...   \n",
       "1025  [erster, olympia-champion, hawaii-sieger, –, n...   \n",
       "1026  [außenseiter, denver, gewinnt, 50, ., super, b...   \n",
       "1027  [wohl, einschränkungen, google-services, –, ge...   \n",
       "\n",
       "                                          text_keywords  \\\n",
       "0     gewerkschaft gpa-djp lanciert `` all-in-rechne...   \n",
       "1     franzosen verteidigen 2:1-führung – kritische ...   \n",
       "2     neues video designern macht netz runde – schla...   \n",
       "3     23-jähriger brasilianer vier spiele pausieren ...   \n",
       "4     aufständische verwendeten chemikalie gefechten...   \n",
       "...                                                 ...   \n",
       "1023  programm `` ebay plus '' ende september starte...   \n",
       "1024  fehlerhafte bilanz 2013 , partei berufen – str...   \n",
       "1025  erster olympia-champion hawaii-sieger – nieder...   \n",
       "1026  außenseiter denver gewinnt 50 . super bowl car...   \n",
       "1027  wohl einschränkungen google-services – gebogen...   \n",
       "\n",
       "                                  text_tokenized_lemmas  \\\n",
       "0     [gewerkschaft, gpa-djp, lanciert, ``, all-in-r...   \n",
       "1     [franzosen, verteidigen, 2:1-führung, kritisch...   \n",
       "2     [neu, video, designern, machen, netz, runden, ...   \n",
       "3     [23-jähriger, brasilianer, vier, spiele, pausi...   \n",
       "4     [aufständisch, verwenden, chemikalie, gefechte...   \n",
       "...                                                 ...   \n",
       "1023  [programm, ``, ebay, plus, ende, september, st...   \n",
       "1024  [fehlerhaft, bilanz, 2013, partei, berufen, st...   \n",
       "1025  [erst, olympia-champion, hawaii-sieger, nieder...   \n",
       "1026  [außenseiter, denver, gewinnen, 50, super, bow...   \n",
       "1027  [wohl, einschränkungen, google-services, gebog...   \n",
       "\n",
       "                                            text_lemmas  \\\n",
       "0     gewerkschaft gpa-djp lanciert `` all-in-rechne...   \n",
       "1     franzosen verteidigen 2:1-führung kritisch sti...   \n",
       "2     neu video designern machen netz runden schlage...   \n",
       "3     23-jähriger brasilianer vier spiele pausieren ...   \n",
       "4     aufständisch verwenden chemikalie gefechten au...   \n",
       "...                                                 ...   \n",
       "1023  programm `` ebay plus ende september starten d...   \n",
       "1024  fehlerhaft bilanz 2013 partei berufen strafe w...   \n",
       "1025  erst olympia-champion hawaii-sieger niederöste...   \n",
       "1026  außenseiter denver gewinnen 50 super bowl caro...   \n",
       "1027  wohl einschränkungen google-services gebogen r...   \n",
       "\n",
       "                                 text_tokenized_stemmed  \\\n",
       "0     [gewerkschaft, gpa-djp, lanciert, ``, all-in-r...   \n",
       "1     [franzos, verteid, 2:1-fuhrung, kritisch, stim...   \n",
       "2     [neu, video, design, macht, netz, rund, schlag...   \n",
       "3     [23-jahrig, brasilian, vier, spiel, pausi, ent...   \n",
       "4     [aufstand, verwendet, chemikali, gefecht, augu...   \n",
       "...                                                 ...   \n",
       "1023  [programm, ``, ebay, plus, '', end, septemb, s...   \n",
       "1024  [fehlerhaft, bilanz, 2013, partei, beruf, stra...   \n",
       "1025  [erst, olympia-champion, hawaii-sieg, niederos...   \n",
       "1026  [aussenseit, denv, gewinnt, 50, sup, bowl, car...   \n",
       "1027  [wohl, einschrank, google-servic, gebog, rand,...   \n",
       "\n",
       "                                              text_stem  \n",
       "0     gewerkschaft gpa-djp lanciert `` all-in-rechn ...  \n",
       "1     franzos verteid 2:1-fuhrung kritisch stimm sch...  \n",
       "2     neu video design macht netz rund schlag etwa b...  \n",
       "3     23-jahrig brasilian vier spiel pausi entscheid...  \n",
       "4     aufstand verwendet chemikali gefecht august da...  \n",
       "...                                                 ...  \n",
       "1023  programm `` ebay plus '' end septemb start deu...  \n",
       "1024  fehlerhaft bilanz 2013 partei beruf straf weg ...  \n",
       "1025  erst olympia-champion hawaii-sieg niederosterr...  \n",
       "1026  aussenseit denv gewinnt 50 sup bowl carolina p...  \n",
       "1027  wohl einschrank google-servic gebog rand gab b...  \n",
       "\n",
       "[1028 rows x 9 columns]"
      ]
     },
     "execution_count": 3,
     "metadata": {},
     "output_type": "execute_result"
    }
   ],
   "source": [
    "data_test = read_parquet(file.news_articles_cleaned_test)\n",
    "data_test"
   ]
  },
  {
   "cell_type": "code",
   "execution_count": 5,
   "metadata": {
    "collapsed": false,
    "jupyter": {
     "outputs_hidden": false
    },
    "pycharm": {
     "name": "#%%\n"
    }
   },
   "outputs": [],
   "source": [
    "from numpy import atleast_1d\n",
    "\n",
    "def join(tokens):\n",
    "    return ' '.join(tokens)\n",
    "\n",
    "labelEncoder = LabelEncoder()\n",
    "labelEncoder.fit(data_train[\"label\"])\n",
    "\n",
    "X_train, y_train = data_train.text_tokenized_lemmas.map(join), atleast_1d(\n",
    "    labelEncoder.transform(data_train[\"label\"])).transpose()\n",
    "X_test, y_test = data_test.text_tokenized_lemmas.map(join), atleast_1d(\n",
    "    labelEncoder.transform(data_test[\"label\"])).transpose()"
   ]
  },
  {
   "cell_type": "code",
   "execution_count": 6,
   "metadata": {
    "collapsed": false,
    "jupyter": {
     "outputs_hidden": false
    },
    "pycharm": {
     "name": "#%%\n"
    }
   },
   "outputs": [
    {
     "data": {
      "text/plain": [
       "0       21-jähriger fällen wohl saisonende wien rapid ...\n",
       "1       erfunden bilder filmen verlieren gelten `` the...\n",
       "2       frischgekürte ceo sundar pichai setzen umgängl...\n",
       "3       putin `` einigung menge niveau jänner halten m...\n",
       "4       estland sehen künftig österreichisch präsident...\n",
       "                              ...                        \n",
       "9240    bernd sauer bridge-juniorenweltmeister krauss ...\n",
       "9241    sandhere vergangen woche luftangriff töten wer...\n",
       "9242    derzeit konzeptgruppe berlin kommentar apple m...\n",
       "9243    landeshauptmann viert regierungssitz erhalten ...\n",
       "9244    millionen syrisch flüchtlingen kamerafrau rech...\n",
       "Name: text_tokenized_lemmas, Length: 9245, dtype: object"
      ]
     },
     "execution_count": 6,
     "metadata": {},
     "output_type": "execute_result"
    }
   ],
   "source": [
    "X_train"
   ]
  },
  {
   "cell_type": "code",
   "execution_count": 7,
   "metadata": {
    "collapsed": false,
    "jupyter": {
     "outputs_hidden": false
    },
    "pycharm": {
     "name": "#%%\n"
    }
   },
   "outputs": [
    {
     "data": {
      "text/plain": [
       "Pipeline(steps=[('vec', CountVectorizer()), ('tfidf', TfidfTransformer()),\n",
       "                ('clf', SGDClassifier())])"
      ]
     },
     "execution_count": 7,
     "metadata": {},
     "output_type": "execute_result"
    }
   ],
   "source": [
    "from sklearn.linear_model import SGDClassifier\n",
    "from sklearn.feature_extraction.text import CountVectorizer\n",
    "from sklearn.feature_extraction.text import TfidfTransformer\n",
    "from sklearn.pipeline import Pipeline\n",
    "\n",
    "pipe = Pipeline([\n",
    "    (\"vec\", CountVectorizer()),\n",
    "    ('tfidf', TfidfTransformer()),\n",
    "    (\"clf\", SGDClassifier())\n",
    "])\n",
    "pipe.fit(X_train, y_train)"
   ]
  },
  {
   "cell_type": "code",
   "execution_count": 8,
   "metadata": {
    "collapsed": false,
    "jupyter": {
     "outputs_hidden": false
    },
    "pycharm": {
     "name": "#%%\n"
    }
   },
   "outputs": [],
   "source": [
    "y_train_pred = pipe.predict(X_train)\n",
    "y_test_pred = pipe.predict(X_test)\n"
   ]
  },
  {
   "cell_type": "code",
   "execution_count": 9,
   "metadata": {
    "collapsed": false,
    "jupyter": {
     "outputs_hidden": false
    },
    "pycharm": {
     "name": "#%%\n"
    }
   },
   "outputs": [
    {
     "name": "stdout",
     "output_type": "stream",
     "text": [
      "Train:\n",
      "              precision    recall  f1-score   support\n",
      "\n",
      "           0       1.00      0.99      0.99       601\n",
      "           1       0.99      0.99      0.99       913\n",
      "           2       1.00      0.99      0.99      1360\n",
      "           3       1.00      1.00      1.00       485\n",
      "           4       0.99      0.99      0.99      1510\n",
      "           5       1.00      1.00      1.00      1081\n",
      "           6       0.99      0.99      0.99      1509\n",
      "           7       0.98      0.99      0.99      1270\n",
      "           8       1.00      1.00      1.00       516\n",
      "\n",
      "    accuracy                           0.99      9245\n",
      "   macro avg       0.99      0.99      0.99      9245\n",
      "weighted avg       0.99      0.99      0.99      9245\n",
      "\n",
      "Test:\n",
      "              precision    recall  f1-score   support\n",
      "\n",
      "           0       0.92      0.81      0.86        67\n",
      "           1       0.89      0.83      0.86       102\n",
      "           2       0.89      0.83      0.86       151\n",
      "           3       0.86      0.89      0.87        54\n",
      "           4       0.82      0.86      0.84       168\n",
      "           5       0.99      0.99      0.99       120\n",
      "           6       0.92      0.92      0.92       168\n",
      "           7       0.83      0.89      0.86       141\n",
      "           8       0.87      0.96      0.92        57\n",
      "\n",
      "    accuracy                           0.89      1028\n",
      "   macro avg       0.89      0.89      0.89      1028\n",
      "weighted avg       0.89      0.89      0.89      1028\n",
      "\n"
     ]
    }
   ],
   "source": [
    "\n",
    "report = classification_report(y_train, y_train_pred)\n",
    "print(\"Train:\")\n",
    "print(report)\n",
    "report = classification_report(y_test, y_test_pred)\n",
    "print(\"Test:\")\n",
    "print(report)"
   ]
  },
  {
   "cell_type": "code",
   "execution_count": 10,
   "metadata": {
    "collapsed": false,
    "jupyter": {
     "outputs_hidden": false
    },
    "pycharm": {
     "name": "#%%\n"
    }
   },
   "outputs": [
    {
     "name": "stdout",
     "output_type": "stream",
     "text": [
      "[[ 54   2   1   1   2   0   5   2   0]\n",
      " [  0  85   1   3   6   0   0   4   3]\n",
      " [  2   2 125   2  12   1   0   6   1]\n",
      " [  1   0   1  48   4   0   0   0   0]\n",
      " [  1   4   7   2 144   0   2   5   3]\n",
      " [  0   0   0   0   0 119   1   0   0]\n",
      " [  1   0   2   0   2   0 155   7   1]\n",
      " [  0   3   3   0   5   0   5 125   0]\n",
      " [  0   0   1   0   0   0   0   1  55]]\n"
     ]
    },
    {
     "data": {
      "text/plain": [
       "<AxesSubplot:>"
      ]
     },
     "execution_count": 10,
     "metadata": {},
     "output_type": "execute_result"
    },
    {
     "data": {
      "image/png": "[encoded data removed]",
      "text/plain": [
       "<Figure size 432x288 with 2 Axes>"
      ]
     },
     "metadata": {
      "needs_background": "light"
     },
     "output_type": "display_data"
    }
   ],
   "source": [
    "from sklearn.metrics import confusion_matrix\n",
    "\n",
    "cf_matrix = confusion_matrix(y_test, y_test_pred)\n",
    "print(cf_matrix)\n",
    "\n",
    "sns.heatmap(cf_matrix, annot=True, cmap='Blues', fmt='.3g')"
   ]
  },
  {
   "cell_type": "code",
   "execution_count": 12,
   "metadata": {
    "collapsed": false,
    "jupyter": {
     "outputs_hidden": false
    },
    "pycharm": {
     "name": "#%%\n"
    }
   },
   "outputs": [
    {
     "data": {
      "text/plain": [
       "<AxesSubplot:>"
      ]
     },
     "execution_count": 12,
     "metadata": {},
     "output_type": "execute_result"
    },
    {
     "data": {
      "image/png": "[encoded data removed]",
      "text/plain": [
       "<Figure size 720x720 with 2 Axes>"
      ]
     },
     "metadata": {
      "needs_background": "light"
     },
     "output_type": "display_data"
    }
   ],
   "source": [
    "\n",
    "fig, ax = plt.subplots(figsize=(10,10))\n",
    "sns.heatmap(cf_matrix / sum(cf_matrix), annot=True, fmt='.2%', cmap='Blues', ax=ax)"
   ]
  },
  {
   "cell_type": "code",
   "execution_count": null,
   "metadata": {
    "collapsed": false,
    "jupyter": {
     "outputs_hidden": false
    },
    "pycharm": {
     "name": "#%%\n"
    }
   },
   "outputs": [],
   "source": []
  }
 ],
 "metadata": {
  "environment": {
   "kernel": "python3",
   "name": "tf2-gpu.2-6.m82",
   "type": "gcloud",
   "uri": "gcr.io/deeplearning-platform-release/tf2-gpu.2-6:m82"
  },
  "kernelspec": {
   "display_name": "Python 3",
   "language": "python",
   "name": "python3"
  },
  "language_info": {
   "codemirror_mode": {
    "name": "ipython",
    "version": 3
   },
   "file_extension": ".py",
   "mimetype": "text/x-python",
   "name": "python",
   "nbconvert_exporter": "python",
   "pygments_lexer": "ipython3",
   "version": "3.7.10"
  }
 },
 "nbformat": 4,
 "nbformat_minor": 4
}

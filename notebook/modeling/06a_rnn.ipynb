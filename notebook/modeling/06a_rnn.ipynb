{
 "cells": [
  {
   "cell_type": "markdown",
   "id": "e91b7e7e-49b4-4319-8b6a-eae917d0d500",
   "metadata": {},
   "source": [
    "# RNN (LSTM)"
   ]
  },
  {
   "cell_type": "markdown",
   "id": "e757f4aa-31ce-4fd1-a736-34c20e4cc37e",
   "metadata": {},
   "source": [
    "The second approach was based on an Recurrent Neural Network containing LSTM cells."
   ]
  },
  {
   "cell_type": "code",
   "execution_count": 1,
   "id": "75fae92d-2432-4406-8ce8-245637f4dc72",
   "metadata": {},
   "outputs": [],
   "source": [
    "%load_ext tensorboard"
   ]
  },
  {
   "cell_type": "code",
   "execution_count": 12,
   "id": "87abfeda-5423-46db-8df9-5c4b346828e1",
   "metadata": {},
   "outputs": [],
   "source": [
    "import tensorflow as tf\n",
    "from preprocessing.categorical import binarizer\n",
    "from pandas import read_parquet\n",
    "from data import file\n",
    "from models import rnn\n",
    "import json"
   ]
  },
  {
   "cell_type": "code",
   "execution_count": 1,
   "id": "570c4136-3a54-4776-9a3c-cddb32f4a95e",
   "metadata": {},
   "outputs": [
    {
     "name": "stderr",
     "output_type": "stream",
     "text": [
      "2021-11-23 06:05:25.514661: I tensorflow/stream_executor/cuda/cuda_gpu_executor.cc:937] successful NUMA node read from SysFS had negative value (-1), but there must be at least one NUMA node, so returning NUMA node zero\n",
      "2021-11-23 06:05:25.541336: I tensorflow/stream_executor/cuda/cuda_gpu_executor.cc:937] successful NUMA node read from SysFS had negative value (-1), but there must be at least one NUMA node, so returning NUMA node zero\n",
      "2021-11-23 06:05:25.541969: I tensorflow/stream_executor/cuda/cuda_gpu_executor.cc:937] successful NUMA node read from SysFS had negative value (-1), but there must be at least one NUMA node, so returning NUMA node zero\n"
     ]
    }
   ],
   "source": [
    "\n",
    "physical_devices = tf.config.list_physical_devices('GPU') \n",
    "tf.config.experimental.set_memory_growth(physical_devices[0], True)"
   ]
  },
  {
   "cell_type": "code",
   "execution_count": 2,
   "id": "0f86ade6-2106-484e-9434-6dff980e4584",
   "metadata": {},
   "outputs": [],
   "source": [
    "data_train = read_parquet(file.news_articles_cleaned_train)\n",
    "data_test = read_parquet(file.news_articles_cleaned_test)"
   ]
  },
  {
   "cell_type": "code",
   "execution_count": 3,
   "id": "ea5d6e5c-c066-4fb5-9f0b-50febf23e2ec",
   "metadata": {},
   "outputs": [
    {
     "name": "stderr",
     "output_type": "stream",
     "text": [
      "2021-11-23 06:05:27.747180: I tensorflow/core/platform/cpu_feature_guard.cc:142] This TensorFlow binary is optimized with oneAPI Deep Neural Network Library (oneDNN) to use the following CPU instructions in performance-critical operations:  AVX2 FMA\n",
      "To enable them in other operations, rebuild TensorFlow with the appropriate compiler flags.\n",
      "2021-11-23 06:05:27.747954: I tensorflow/stream_executor/cuda/cuda_gpu_executor.cc:937] successful NUMA node read from SysFS had negative value (-1), but there must be at least one NUMA node, so returning NUMA node zero\n",
      "2021-11-23 06:05:27.748672: I tensorflow/stream_executor/cuda/cuda_gpu_executor.cc:937] successful NUMA node read from SysFS had negative value (-1), but there must be at least one NUMA node, so returning NUMA node zero\n",
      "2021-11-23 06:05:27.749240: I tensorflow/stream_executor/cuda/cuda_gpu_executor.cc:937] successful NUMA node read from SysFS had negative value (-1), but there must be at least one NUMA node, so returning NUMA node zero\n",
      "2021-11-23 06:05:28.249476: I tensorflow/stream_executor/cuda/cuda_gpu_executor.cc:937] successful NUMA node read from SysFS had negative value (-1), but there must be at least one NUMA node, so returning NUMA node zero\n",
      "2021-11-23 06:05:28.250183: I tensorflow/stream_executor/cuda/cuda_gpu_executor.cc:937] successful NUMA node read from SysFS had negative value (-1), but there must be at least one NUMA node, so returning NUMA node zero\n",
      "2021-11-23 06:05:28.250781: I tensorflow/stream_executor/cuda/cuda_gpu_executor.cc:937] successful NUMA node read from SysFS had negative value (-1), but there must be at least one NUMA node, so returning NUMA node zero\n",
      "2021-11-23 06:05:28.251378: I tensorflow/core/common_runtime/gpu/gpu_device.cc:1510] Created device /job:localhost/replica:0/task:0/device:GPU:0 with 13839 MB memory:  -> device: 0, name: Tesla T4, pci bus id: 0000:00:04.0, compute capability: 7.5\n"
     ]
    },
    {
     "data": {
      "text/plain": [
       "<PrefetchDataset shapes: ((None,), (None, 9)), types: (tf.string, tf.int64)>"
      ]
     },
     "execution_count": 3,
     "metadata": {},
     "output_type": "execute_result"
    }
   ],
   "source": [
    "\n",
    "X_train = data_train.text_tokenized_stemmed\n",
    "y_train = data_train.label\n",
    "\n",
    "X_test = data_test.text_tokenized_stemmed\n",
    "y_test = data_test.label\n",
    "\n",
    "\n",
    "\n",
    "batch_size = 32\n",
    "\n",
    "y_train = data_train.label\n",
    "label_binarizer = binarizer(y_train)\n",
    "\n",
    "x_train = data_train['text_stem']\n",
    "y_train_bin = label_binarizer.transform(y_train)\n",
    "\n",
    "x_test = data_test['text_stem']\n",
    "y_test_bin = label_binarizer.transform(y_test)\n",
    "\n",
    "train_input = tf.data.Dataset.from_tensor_slices((x_train, y_train_bin)).batch(batch_size).prefetch(tf.data.AUTOTUNE)\n",
    "test_input = tf.data.Dataset.from_tensor_slices((x_test, y_test_bin)).batch(batch_size).prefetch(tf.data.AUTOTUNE)\n",
    "train_input\n"
   ]
  },
  {
   "cell_type": "code",
   "execution_count": 4,
   "id": "3c0d7b66-e874-428e-b07c-503d21acf267",
   "metadata": {},
   "outputs": [
    {
     "name": "stdout",
     "output_type": "stream",
     "text": [
      "Median sequence length:       : 171\n",
      "Percentil                     : 0.98)\n",
      "Cutoff sequence length        : 588\n",
      "Max sequence length           : 2590\n",
      "Embedding length              : 588\n",
      "Vocabulary length             : 139291\n"
     ]
    },
    {
     "name": "stderr",
     "output_type": "stream",
     "text": [
      "Warning : `load_model` does not return WordVectorModel or SupervisedModel any more, but a `FastText` object which is very similar.\n"
     ]
    },
    {
     "name": "stdout",
     "output_type": "stream",
     "text": [
      "Model: \"rnn\"\n",
      "_________________________________________________________________\n",
      "Layer (type)                 Output Shape              Param #   \n",
      "=================================================================\n",
      "text_vectorization (TextVect (None, None)              0         \n",
      "_________________________________________________________________\n",
      "embedding (Embedding)        (None, None, 300)         41787300  \n",
      "_________________________________________________________________\n",
      "bidirectional_lstm_0 (Bidire (None, None, 64)          85248     \n",
      "_________________________________________________________________\n",
      "global_max_pool (GlobalMaxPo (None, 64)                0         \n",
      "_________________________________________________________________\n",
      "prediction (Dense)           (None, 9)                 585       \n",
      "=================================================================\n",
      "Total params: 41,873,133\n",
      "Trainable params: 85,833\n",
      "Non-trainable params: 41,787,300\n",
      "_________________________________________________________________\n"
     ]
    }
   ],
   "source": [
    "model, model_name = rnn.build_model(X_train, y_train, len(label_binarizer.classes_), rnn_num_layers = 1)\n",
    "model.summary()"
   ]
  },
  {
   "cell_type": "code",
   "execution_count": 5,
   "id": "0e33febf-9393-414a-b505-001baab249c3",
   "metadata": {},
   "outputs": [],
   "source": [
    "from keras.losses import CategoricalCrossentropy\n",
    "from tensorflow.keras.optimizers import Adam\n",
    "\n",
    "learning_rate=0.02\n",
    "model_metric = [\"accuracy\"]\n",
    "loss_function = CategoricalCrossentropy()\n",
    "optimizer = Adam(learning_rate=learning_rate)\n",
    "\n",
    "model.compile(loss=loss_function, optimizer=optimizer, metrics=model_metric)"
   ]
  },
  {
   "cell_type": "code",
   "execution_count": 6,
   "id": "aa215a01-77cf-4ebf-8629-d1f69588045a",
   "metadata": {},
   "outputs": [
    {
     "name": "stdout",
     "output_type": "stream",
     "text": [
      "Epoch 1/5\n"
     ]
    },
    {
     "name": "stderr",
     "output_type": "stream",
     "text": [
      "2021-11-23 06:06:39.764128: I tensorflow/compiler/mlir/mlir_graph_optimization_pass.cc:185] None of the MLIR Optimization Passes are enabled (registered 2)\n",
      "2021-11-23 06:06:41.446175: I tensorflow/stream_executor/cuda/cuda_dnn.cc:369] Loaded cuDNN version 8005\n"
     ]
    },
    {
     "name": "stdout",
     "output_type": "stream",
     "text": [
      "226/226 [==============================] - 57s 215ms/step - loss: 1.6908 - accuracy: 0.4060 - val_loss: 1.4112 - val_accuracy: 0.5063\n",
      "Epoch 2/5\n",
      "226/226 [==============================] - 45s 201ms/step - loss: 1.2800 - accuracy: 0.5655 - val_loss: 1.2375 - val_accuracy: 0.5757\n",
      "Epoch 3/5\n",
      "226/226 [==============================] - 46s 202ms/step - loss: 1.0615 - accuracy: 0.6415 - val_loss: 1.1814 - val_accuracy: 0.5873\n",
      "Epoch 4/5\n",
      "226/226 [==============================] - 46s 202ms/step - loss: 0.8881 - accuracy: 0.6965 - val_loss: 1.1948 - val_accuracy: 0.6028\n",
      "Epoch 5/5\n",
      "226/226 [==============================] - 45s 201ms/step - loss: 0.7368 - accuracy: 0.7529 - val_loss: 1.2216 - val_accuracy: 0.5999\n"
     ]
    }
   ],
   "source": [
    "callbacks = []\n",
    "history = model.fit(train_input, validation_data=test_input, callbacks=callbacks, epochs=5)"
   ]
  },
  {
   "cell_type": "markdown",
   "id": "5d6db047-acb0-45a9-b977-5f732041ac7a",
   "metadata": {},
   "source": [
    "## Evaluation"
   ]
  },
  {
   "cell_type": "code",
   "execution_count": 9,
   "id": "cec2891f-9724-4480-9799-916b4c4a1f4a",
   "metadata": {},
   "outputs": [],
   "source": [
    "count = 100\n",
    "expected = y_test[0:100]\n",
    "predicted = label_binarizer.inverse_transform(model.predict(x_test[0:100]))"
   ]
  },
  {
   "cell_type": "code",
   "execution_count": 10,
   "id": "f55b8731-5e1e-4c0a-be4d-230c2dff18cb",
   "metadata": {},
   "outputs": [
    {
     "data": {
      "image/png": "[encoded data removed]",
      "text/plain": [
       "<Figure size 720x720 with 2 Axes>"
      ]
     },
     "metadata": {
      "needs_background": "light"
     },
     "output_type": "display_data"
    }
   ],
   "source": [
    "from reporting.evaluation import plot_confusion_matrix\n",
    "plot_confusion_matrix(expected, predicted)"
   ]
  },
  {
   "cell_type": "code",
   "execution_count": 15,
   "id": "4ec5b8e0-0dc5-4220-b123-062a80316a40",
   "metadata": {},
   "outputs": [],
   "source": [
    "reporting_data = {\n",
    "    \"expected\": expected.tolist(),\n",
    "    \"predicted\": predicted.tolist(),\n",
    "}\n",
    "with open(file.reporting_data_report_rnn, 'w') as f:\n",
    "    json.dump(reporting_data, f)"
   ]
  }
 ],
 "metadata": {
  "environment": {
   "kernel": "python3",
   "name": "tf2-gpu.2-6.m84",
   "type": "gcloud",
   "uri": "gcr.io/deeplearning-platform-release/tf2-gpu.2-6:m84"
  },
  "kernelspec": {
   "display_name": "Python 3",
   "language": "python",
   "name": "python3"
  },
  "language_info": {
   "codemirror_mode": {
    "name": "ipython",
    "version": 3
   },
   "file_extension": ".py",
   "mimetype": "text/x-python",
   "name": "python",
   "nbconvert_exporter": "python",
   "pygments_lexer": "ipython3",
   "version": "3.7.12"
  }
 },
 "nbformat": 4,
 "nbformat_minor": 5
}

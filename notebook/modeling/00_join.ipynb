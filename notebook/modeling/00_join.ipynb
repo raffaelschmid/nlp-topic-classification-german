{
 "cells": [
  {
   "cell_type": "markdown",
   "id": "f1f9a421-1111-44d9-bd01-a56d4dfe1440",
   "metadata": {},
   "source": [
    "# Preparation"
   ]
  },
  {
   "cell_type": "code",
   "execution_count": 1,
   "id": "e1c82307-2247-4247-853b-c8bf52c9fa97",
   "metadata": {},
   "outputs": [],
   "source": [
    "from pandas import concat, read_parquet\n",
    "from data import file"
   ]
  },
  {
   "cell_type": "code",
   "execution_count": 2,
   "id": "53449b61-8e8d-48fa-a4aa-f74143eaae48",
   "metadata": {},
   "outputs": [],
   "source": [
    "data_train = read_parquet(file.news_articles_raw_train)\n",
    "data_test = read_parquet(file.news_articles_raw_test)\n",
    "data = concat([data_train, data_test])\n",
    "data.to_parquet(path=file.news_articles_raw)"
   ]
  },
  {
   "cell_type": "code",
   "execution_count": 3,
   "id": "648c9e89-b87c-40cb-b2ee-495dd7d7d810",
   "metadata": {},
   "outputs": [
    {
     "data": {
      "text/html": [
       "<div>\n",
       "<style scoped>\n",
       "    .dataframe tbody tr th:only-of-type {\n",
       "        vertical-align: middle;\n",
       "    }\n",
       "\n",
       "    .dataframe tbody tr th {\n",
       "        vertical-align: top;\n",
       "    }\n",
       "\n",
       "    .dataframe thead th {\n",
       "        text-align: right;\n",
       "    }\n",
       "</style>\n",
       "<table border=\"1\" class=\"dataframe\">\n",
       "  <thead>\n",
       "    <tr style=\"text-align: right;\">\n",
       "      <th></th>\n",
       "      <th>text_original</th>\n",
       "      <th>label</th>\n",
       "    </tr>\n",
       "  </thead>\n",
       "  <tbody>\n",
       "    <tr>\n",
       "      <th>0</th>\n",
       "      <td>21-Jähriger fällt wohl bis Saisonende aus. Wie...</td>\n",
       "      <td>Sport</td>\n",
       "    </tr>\n",
       "    <tr>\n",
       "      <th>1</th>\n",
       "      <td>Erfundene Bilder zu Filmen, die als verloren g...</td>\n",
       "      <td>Kultur</td>\n",
       "    </tr>\n",
       "    <tr>\n",
       "      <th>2</th>\n",
       "      <td>Der frischgekürte CEO Sundar Pichai setzt auf ...</td>\n",
       "      <td>Web</td>\n",
       "    </tr>\n",
       "    <tr>\n",
       "      <th>3</th>\n",
       "      <td>Putin: \"Einigung, dass wir Menge auf Niveau vo...</td>\n",
       "      <td>Wirtschaft</td>\n",
       "    </tr>\n",
       "    <tr>\n",
       "      <th>4</th>\n",
       "      <td>Estland sieht den künftigen österreichischen P...</td>\n",
       "      <td>Inland</td>\n",
       "    </tr>\n",
       "    <tr>\n",
       "      <th>...</th>\n",
       "      <td>...</td>\n",
       "      <td>...</td>\n",
       "    </tr>\n",
       "    <tr>\n",
       "      <th>1023</th>\n",
       "      <td>Programm \"Ebay Plus\" soll Ende September start...</td>\n",
       "      <td>Web</td>\n",
       "    </tr>\n",
       "    <tr>\n",
       "      <th>1024</th>\n",
       "      <td>Fehlerhafte Bilanz 2013, Partei will berufen –...</td>\n",
       "      <td>Inland</td>\n",
       "    </tr>\n",
       "    <tr>\n",
       "      <th>1025</th>\n",
       "      <td>Als erster Olympia-Champion auch Hawaii-Sieger...</td>\n",
       "      <td>Sport</td>\n",
       "    </tr>\n",
       "    <tr>\n",
       "      <th>1026</th>\n",
       "      <td>Der Außenseiter aus Denver gewinnt die 50. Sup...</td>\n",
       "      <td>Sport</td>\n",
       "    </tr>\n",
       "    <tr>\n",
       "      <th>1027</th>\n",
       "      <td>Wohl keine Einschränkungen bei Google-Services...</td>\n",
       "      <td>Web</td>\n",
       "    </tr>\n",
       "  </tbody>\n",
       "</table>\n",
       "<p>10273 rows × 2 columns</p>\n",
       "</div>"
      ],
      "text/plain": [
       "                                          text_original       label\n",
       "0     21-Jähriger fällt wohl bis Saisonende aus. Wie...       Sport\n",
       "1     Erfundene Bilder zu Filmen, die als verloren g...      Kultur\n",
       "2     Der frischgekürte CEO Sundar Pichai setzt auf ...         Web\n",
       "3     Putin: \"Einigung, dass wir Menge auf Niveau vo...  Wirtschaft\n",
       "4     Estland sieht den künftigen österreichischen P...      Inland\n",
       "...                                                 ...         ...\n",
       "1023  Programm \"Ebay Plus\" soll Ende September start...         Web\n",
       "1024  Fehlerhafte Bilanz 2013, Partei will berufen –...      Inland\n",
       "1025  Als erster Olympia-Champion auch Hawaii-Sieger...       Sport\n",
       "1026  Der Außenseiter aus Denver gewinnt die 50. Sup...       Sport\n",
       "1027  Wohl keine Einschränkungen bei Google-Services...         Web\n",
       "\n",
       "[10273 rows x 2 columns]"
      ]
     },
     "execution_count": 3,
     "metadata": {},
     "output_type": "execute_result"
    }
   ],
   "source": [
    "data"
   ]
  },
  {
   "cell_type": "code",
   "execution_count": null,
   "id": "2576a4a5-4a69-46ca-b2cc-48fb8f6eb983",
   "metadata": {},
   "outputs": [],
   "source": []
  }
 ],
 "metadata": {
  "environment": {
   "kernel": "python3",
   "name": "tf2-gpu.2-6.m84",
   "type": "gcloud",
   "uri": "gcr.io/deeplearning-platform-release/tf2-gpu.2-6:m84"
  },
  "kernelspec": {
   "display_name": "Python 3",
   "language": "python",
   "name": "python3"
  },
  "language_info": {
   "codemirror_mode": {
    "name": "ipython",
    "version": 3
   },
   "file_extension": ".py",
   "mimetype": "text/x-python",
   "name": "python",
   "nbconvert_exporter": "python",
   "pygments_lexer": "ipython3",
   "version": "3.7.12"
  }
 },
 "nbformat": 4,
 "nbformat_minor": 5
}

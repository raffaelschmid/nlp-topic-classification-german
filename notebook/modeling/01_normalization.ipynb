{
 "cells": [
  {
   "cell_type": "code",
   "execution_count": 14,
   "outputs": [],
   "source": [
    "from fhnw.nlp.utils.storage import load_dataframe\n",
    "from pandas import concat\n",
    "\n",
    "from data import file\n",
    "from preprocessing.text import tokenize\n",
    "from preprocessing.token import ignore_stopwords\n",
    "from preprocessing.token import stem, lemma"
   ],
   "metadata": {
    "collapsed": false,
    "pycharm": {
     "name": "#%%\n"
    }
   }
  },
  {
   "cell_type": "code",
   "execution_count": 15,
   "outputs": [],
   "source": [
    "data_train = load_dataframe(file.news_articles_raw_train)\n",
    "data_test = load_dataframe(file.news_articles_raw_test)"
   ],
   "metadata": {
    "collapsed": false,
    "pycharm": {
     "name": "#%%\n"
    }
   }
  },
  {
   "cell_type": "code",
   "execution_count": 16,
   "outputs": [],
   "source": [
    "tokenized_train = data_train.text_original.map(tokenize).rename('text_tokenized')\n",
    "tokenized_test = data_test.text_original.map(tokenize).rename('text_tokenized')\n"
   ],
   "metadata": {
    "collapsed": false,
    "pycharm": {
     "name": "#%%\n"
    }
   }
  },
  {
   "cell_type": "code",
   "execution_count": 17,
   "outputs": [],
   "source": [
    "keywords_train = tokenized_train.map(ignore_stopwords).rename('text_tokenized_keywords')\n",
    "keywords_test = tokenized_test.map(ignore_stopwords).rename('text_tokenized_keywords')"
   ],
   "metadata": {
    "collapsed": false,
    "pycharm": {
     "name": "#%%\n"
    }
   }
  },
  {
   "cell_type": "code",
   "execution_count": 18,
   "outputs": [],
   "source": [
    "lemmas_train = keywords_train.map(lemma).rename('text_tokenized_lemmas')\n",
    "lemmas_test = keywords_test.map(lemma).rename('text_tokenized_lemmas')"
   ],
   "metadata": {
    "collapsed": false,
    "pycharm": {
     "name": "#%%\n"
    }
   }
  },
  {
   "cell_type": "code",
   "execution_count": 19,
   "outputs": [],
   "source": [
    "stem_train = keywords_train.map(stem).rename('text_tokenized_stemmed')\n",
    "stem_test = keywords_test.map(stem).rename('text_tokenized_stemmed')\n"
   ],
   "metadata": {
    "collapsed": false,
    "pycharm": {
     "name": "#%%\n"
    }
   }
  },
  {
   "cell_type": "code",
   "execution_count": 20,
   "outputs": [
    {
     "data": {
      "text/plain": "                                          text_original          label  \\\n0     21-Jähriger fällt wohl bis Saisonende aus. Wie...          Sport   \n1     Erfundene Bilder zu Filmen, die als verloren g...         Kultur   \n2     Der frischgekürte CEO Sundar Pichai setzt auf ...            Web   \n3     Putin: \"Einigung, dass wir Menge auf Niveau vo...     Wirtschaft   \n4     Estland sieht den künftigen österreichischen P...         Inland   \n...                                                 ...            ...   \n9240  Bernd Saurer war Bridge-Juniorenweltmeister un...         Inland   \n9241  Sandhere soll in vergangener Woche bei Luftang...  International   \n9242  Derzeit Konzeptgruppe in Berlin – Kein Komment...     Wirtschaft   \n9243  Landeshauptmann will den vierten Regierungssit...         Inland   \n9244  Er ist einer von Millionen syrischen Flüchtlin...       Panorama   \n\n                                         text_tokenized  \\\n0     [21-jähriger, fällt, wohl, bis, saisonende, au...   \n1     [erfundene, bilder, zu, filmen, ,, die, als, v...   \n2     [der, frischgekürte, ceo, sundar, pichai, setz...   \n3     [putin, :, ``, einigung, ,, dass, wir, menge, ...   \n4     [estland, sieht, den, künftigen, österreichisc...   \n...                                                 ...   \n9240  [bernd, saurer, war, bridge-juniorenweltmeiste...   \n9241  [sandhere, soll, in, vergangener, woche, bei, ...   \n9242  [derzeit, konzeptgruppe, in, berlin, –, kein, ...   \n9243  [landeshauptmann, will, den, vierten, regierun...   \n9244  [er, ist, einer, von, millionen, syrischen, fl...   \n\n                                text_tokenized_keywords  \\\n0     [21-jähriger, fällt, wohl, saisonende, ., wien...   \n1     [erfundene, bilder, filmen, ,, verloren, gelte...   \n2     [frischgekürte, ceo, sundar, pichai, setzt, um...   \n3     [putin, :, ``, einigung, ,, menge, niveau, jän...   \n4     [estland, sieht, künftigen, österreichischen, ...   \n...                                                 ...   \n9240  [bernd, saurer, bridge-juniorenweltmeister, ,,...   \n9241  [sandhere, vergangener, woche, luftangriff, ge...   \n9242  [derzeit, konzeptgruppe, berlin, –, kommentar,...   \n9243  [landeshauptmann, vierten, regierungssitz, erh...   \n9244  [millionen, syrischen, flüchtlingen, ., kamera...   \n\n                                  text_tokenized_lemmas  \\\n0     [fällen, wohl, saisonende, wien, rapid, wohl, ...   \n1     [erfunden, bilder, filmen, verlieren, gelten, ...   \n2     [frischgekürte, ceo, sundar, pichai, setzen, u...   \n3     [putin, einigung, menge, niveau, jänner, halte...   \n4     [estland, sehen, künftig, österreichisch, präs...   \n...                                                 ...   \n9240  [bernd, sauer, krauss, schlagend, burschenscha...   \n9241  [sandhere, vergangen, woche, luftangriff, töte...   \n9242  [derzeit, konzeptgruppe, berlin, kommentar, ap...   \n9243  [landeshauptmann, viert, regierungssitz, erhal...   \n9244  [millionen, syrisch, flüchtlingen, kamerafrau,...   \n\n                                 text_tokenized_stemmed  \n0     [21-jahrig, fallt, wohl, saison, ., wien, –, r...  \n1     [erfund, bild, film, ,, verlor, gelt, :, ``, t...  \n2     [frischgekurt, ceo, sundar, pichai, setzt, umg...  \n3     [putin, :, ``, einig, ,, meng, niveau, jann, h...  \n4     [estland, sieht, kunftig, osterreich, prasiden...  \n...                                                 ...  \n9240  [bernd, saur, bridge-juniorenweltmeist, ,, kra...  \n9241  [sandh, vergang, woch, luftangriff, getotet, w...  \n9242  [derzeit, konzeptgrupp, berlin, –, kommentar, ...  \n9243  [landeshauptmann, viert, regierungssitz, erhal...  \n9244  [million, syrisch, fluchtling, ., kamerafrau, ...  \n\n[9245 rows x 6 columns]",
      "text/html": "<div>\n<style scoped>\n    .dataframe tbody tr th:only-of-type {\n        vertical-align: middle;\n    }\n\n    .dataframe tbody tr th {\n        vertical-align: top;\n    }\n\n    .dataframe thead th {\n        text-align: right;\n    }\n</style>\n<table border=\"1\" class=\"dataframe\">\n  <thead>\n    <tr style=\"text-align: right;\">\n      <th></th>\n      <th>text_original</th>\n      <th>label</th>\n      <th>text_tokenized</th>\n      <th>text_tokenized_keywords</th>\n      <th>text_tokenized_lemmas</th>\n      <th>text_tokenized_stemmed</th>\n    </tr>\n  </thead>\n  <tbody>\n    <tr>\n      <th>0</th>\n      <td>21-Jähriger fällt wohl bis Saisonende aus. Wie...</td>\n      <td>Sport</td>\n      <td>[21-jähriger, fällt, wohl, bis, saisonende, au...</td>\n      <td>[21-jähriger, fällt, wohl, saisonende, ., wien...</td>\n      <td>[fällen, wohl, saisonende, wien, rapid, wohl, ...</td>\n      <td>[21-jahrig, fallt, wohl, saison, ., wien, –, r...</td>\n    </tr>\n    <tr>\n      <th>1</th>\n      <td>Erfundene Bilder zu Filmen, die als verloren g...</td>\n      <td>Kultur</td>\n      <td>[erfundene, bilder, zu, filmen, ,, die, als, v...</td>\n      <td>[erfundene, bilder, filmen, ,, verloren, gelte...</td>\n      <td>[erfunden, bilder, filmen, verlieren, gelten, ...</td>\n      <td>[erfund, bild, film, ,, verlor, gelt, :, ``, t...</td>\n    </tr>\n    <tr>\n      <th>2</th>\n      <td>Der frischgekürte CEO Sundar Pichai setzt auf ...</td>\n      <td>Web</td>\n      <td>[der, frischgekürte, ceo, sundar, pichai, setz...</td>\n      <td>[frischgekürte, ceo, sundar, pichai, setzt, um...</td>\n      <td>[frischgekürte, ceo, sundar, pichai, setzen, u...</td>\n      <td>[frischgekurt, ceo, sundar, pichai, setzt, umg...</td>\n    </tr>\n    <tr>\n      <th>3</th>\n      <td>Putin: \"Einigung, dass wir Menge auf Niveau vo...</td>\n      <td>Wirtschaft</td>\n      <td>[putin, :, ``, einigung, ,, dass, wir, menge, ...</td>\n      <td>[putin, :, ``, einigung, ,, menge, niveau, jän...</td>\n      <td>[putin, einigung, menge, niveau, jänner, halte...</td>\n      <td>[putin, :, ``, einig, ,, meng, niveau, jann, h...</td>\n    </tr>\n    <tr>\n      <th>4</th>\n      <td>Estland sieht den künftigen österreichischen P...</td>\n      <td>Inland</td>\n      <td>[estland, sieht, den, künftigen, österreichisc...</td>\n      <td>[estland, sieht, künftigen, österreichischen, ...</td>\n      <td>[estland, sehen, künftig, österreichisch, präs...</td>\n      <td>[estland, sieht, kunftig, osterreich, prasiden...</td>\n    </tr>\n    <tr>\n      <th>...</th>\n      <td>...</td>\n      <td>...</td>\n      <td>...</td>\n      <td>...</td>\n      <td>...</td>\n      <td>...</td>\n    </tr>\n    <tr>\n      <th>9240</th>\n      <td>Bernd Saurer war Bridge-Juniorenweltmeister un...</td>\n      <td>Inland</td>\n      <td>[bernd, saurer, war, bridge-juniorenweltmeiste...</td>\n      <td>[bernd, saurer, bridge-juniorenweltmeister, ,,...</td>\n      <td>[bernd, sauer, krauss, schlagend, burschenscha...</td>\n      <td>[bernd, saur, bridge-juniorenweltmeist, ,, kra...</td>\n    </tr>\n    <tr>\n      <th>9241</th>\n      <td>Sandhere soll in vergangener Woche bei Luftang...</td>\n      <td>International</td>\n      <td>[sandhere, soll, in, vergangener, woche, bei, ...</td>\n      <td>[sandhere, vergangener, woche, luftangriff, ge...</td>\n      <td>[sandhere, vergangen, woche, luftangriff, töte...</td>\n      <td>[sandh, vergang, woch, luftangriff, getotet, w...</td>\n    </tr>\n    <tr>\n      <th>9242</th>\n      <td>Derzeit Konzeptgruppe in Berlin – Kein Komment...</td>\n      <td>Wirtschaft</td>\n      <td>[derzeit, konzeptgruppe, in, berlin, –, kein, ...</td>\n      <td>[derzeit, konzeptgruppe, berlin, –, kommentar,...</td>\n      <td>[derzeit, konzeptgruppe, berlin, kommentar, ap...</td>\n      <td>[derzeit, konzeptgrupp, berlin, –, kommentar, ...</td>\n    </tr>\n    <tr>\n      <th>9243</th>\n      <td>Landeshauptmann will den vierten Regierungssit...</td>\n      <td>Inland</td>\n      <td>[landeshauptmann, will, den, vierten, regierun...</td>\n      <td>[landeshauptmann, vierten, regierungssitz, erh...</td>\n      <td>[landeshauptmann, viert, regierungssitz, erhal...</td>\n      <td>[landeshauptmann, viert, regierungssitz, erhal...</td>\n    </tr>\n    <tr>\n      <th>9244</th>\n      <td>Er ist einer von Millionen syrischen Flüchtlin...</td>\n      <td>Panorama</td>\n      <td>[er, ist, einer, von, millionen, syrischen, fl...</td>\n      <td>[millionen, syrischen, flüchtlingen, ., kamera...</td>\n      <td>[millionen, syrisch, flüchtlingen, kamerafrau,...</td>\n      <td>[million, syrisch, fluchtling, ., kamerafrau, ...</td>\n    </tr>\n  </tbody>\n</table>\n<p>9245 rows × 6 columns</p>\n</div>"
     },
     "execution_count": 20,
     "metadata": {},
     "output_type": "execute_result"
    }
   ],
   "source": [
    "result_train = concat([data_train, tokenized_train, keywords_train, lemmas_train, stem_train], axis=1)\n",
    "result_train"
   ],
   "metadata": {
    "collapsed": false,
    "pycharm": {
     "name": "#%%\n"
    }
   }
  },
  {
   "cell_type": "code",
   "execution_count": 21,
   "outputs": [
    {
     "data": {
      "text/plain": "                                          text_original          label  \\\n0     Die Gewerkschaft GPA-djp lanciert den \"All-in-...     Wirtschaft   \n1     Franzosen verteidigen 2:1-Führung – Kritische ...          Sport   \n2     Neues Video von Designern macht im Netz die Ru...            Web   \n3     23-jähriger Brasilianer muss vier Spiele pausi...          Sport   \n4     Aufständische verwendeten Chemikalie bei Gefec...  International   \n...                                                 ...            ...   \n1023  Programm \"Ebay Plus\" soll Ende September start...            Web   \n1024  Fehlerhafte Bilanz 2013, Partei will berufen –...         Inland   \n1025  Als erster Olympia-Champion auch Hawaii-Sieger...          Sport   \n1026  Der Außenseiter aus Denver gewinnt die 50. Sup...          Sport   \n1027  Wohl keine Einschränkungen bei Google-Services...            Web   \n\n                                         text_tokenized  \\\n0     [die, gewerkschaft, gpa-djp, lanciert, den, ``...   \n1     [franzosen, verteidigen, 2:1-führung, –, kriti...   \n2     [neues, video, von, designern, macht, im, netz...   \n3     [23-jähriger, brasilianer, muss, vier, spiele,...   \n4     [aufständische, verwendeten, chemikalie, bei, ...   \n...                                                 ...   \n1023  [programm, ``, ebay, plus, '', soll, ende, sep...   \n1024  [fehlerhafte, bilanz, 2013, ,, partei, will, b...   \n1025  [als, erster, olympia-champion, auch, hawaii-s...   \n1026  [der, außenseiter, aus, denver, gewinnt, die, ...   \n1027  [wohl, keine, einschränkungen, bei, google-ser...   \n\n                                text_tokenized_keywords  \\\n0     [gewerkschaft, gpa-djp, lanciert, ``, all-in-r...   \n1     [franzosen, verteidigen, 2:1-führung, –, kriti...   \n2     [neues, video, designern, macht, netz, runde, ...   \n3     [23-jähriger, brasilianer, vier, spiele, pausi...   \n4     [aufständische, verwendeten, chemikalie, gefec...   \n...                                                 ...   \n1023  [programm, ``, ebay, plus, '', ende, september...   \n1024  [fehlerhafte, bilanz, 2013, ,, partei, berufen...   \n1025  [erster, olympia-champion, hawaii-sieger, –, n...   \n1026  [außenseiter, denver, gewinnt, 50, ., super, b...   \n1027  [wohl, einschränkungen, google-services, –, ge...   \n\n                                  text_tokenized_lemmas  \\\n0     [gewerkschaft, lanciert, finden, vertragsform,...   \n1     [franzosen, verteidigen, kritisch, stimmen, sc...   \n2     [neu, video, designern, machen, netz, runden, ...   \n3     [brasilianer, vier, spiele, pausieren, entsche...   \n4     [aufständisch, verwenden, chemikalie, gefechte...   \n...                                                 ...   \n1023  [programm, ebay, plus, ende, september, starte...   \n1024  [fehlerhaft, bilanz, partei, berufen, strafe, ...   \n1025  [erst, niederösterreicher, weiss, aufholjagd, ...   \n1026  [außenseiter, denver, gewinnen, super, bowl, c...   \n1027  [wohl, einschränkungen, gebogen, ränder, geben...   \n\n                                 text_tokenized_stemmed  \n0     [gewerkschaft, gpa-djp, lanciert, ``, all-in-r...  \n1     [franzos, verteid, 2:1-fuhrung, –, kritisch, s...  \n2     [neu, video, design, macht, netz, rund, –, sch...  \n3     [23-jahrig, brasilian, vier, spiel, pausi, –, ...  \n4     [aufstand, verwendet, chemikali, gefecht, augu...  \n...                                                 ...  \n1023  [programm, ``, ebay, plus, '', end, septemb, s...  \n1024  [fehlerhaft, bilanz, 2013, ,, partei, beruf, –...  \n1025  [erst, olympia-champion, hawaii-sieg, –, niede...  \n1026  [aussenseit, denv, gewinnt, 50, ., sup, bowl, ...  \n1027  [wohl, einschrank, google-servic, –, gebog, ra...  \n\n[1028 rows x 6 columns]",
      "text/html": "<div>\n<style scoped>\n    .dataframe tbody tr th:only-of-type {\n        vertical-align: middle;\n    }\n\n    .dataframe tbody tr th {\n        vertical-align: top;\n    }\n\n    .dataframe thead th {\n        text-align: right;\n    }\n</style>\n<table border=\"1\" class=\"dataframe\">\n  <thead>\n    <tr style=\"text-align: right;\">\n      <th></th>\n      <th>text_original</th>\n      <th>label</th>\n      <th>text_tokenized</th>\n      <th>text_tokenized_keywords</th>\n      <th>text_tokenized_lemmas</th>\n      <th>text_tokenized_stemmed</th>\n    </tr>\n  </thead>\n  <tbody>\n    <tr>\n      <th>0</th>\n      <td>Die Gewerkschaft GPA-djp lanciert den \"All-in-...</td>\n      <td>Wirtschaft</td>\n      <td>[die, gewerkschaft, gpa-djp, lanciert, den, ``...</td>\n      <td>[gewerkschaft, gpa-djp, lanciert, ``, all-in-r...</td>\n      <td>[gewerkschaft, lanciert, finden, vertragsform,...</td>\n      <td>[gewerkschaft, gpa-djp, lanciert, ``, all-in-r...</td>\n    </tr>\n    <tr>\n      <th>1</th>\n      <td>Franzosen verteidigen 2:1-Führung – Kritische ...</td>\n      <td>Sport</td>\n      <td>[franzosen, verteidigen, 2:1-führung, –, kriti...</td>\n      <td>[franzosen, verteidigen, 2:1-führung, –, kriti...</td>\n      <td>[franzosen, verteidigen, kritisch, stimmen, sc...</td>\n      <td>[franzos, verteid, 2:1-fuhrung, –, kritisch, s...</td>\n    </tr>\n    <tr>\n      <th>2</th>\n      <td>Neues Video von Designern macht im Netz die Ru...</td>\n      <td>Web</td>\n      <td>[neues, video, von, designern, macht, im, netz...</td>\n      <td>[neues, video, designern, macht, netz, runde, ...</td>\n      <td>[neu, video, designern, machen, netz, runden, ...</td>\n      <td>[neu, video, design, macht, netz, rund, –, sch...</td>\n    </tr>\n    <tr>\n      <th>3</th>\n      <td>23-jähriger Brasilianer muss vier Spiele pausi...</td>\n      <td>Sport</td>\n      <td>[23-jähriger, brasilianer, muss, vier, spiele,...</td>\n      <td>[23-jähriger, brasilianer, vier, spiele, pausi...</td>\n      <td>[brasilianer, vier, spiele, pausieren, entsche...</td>\n      <td>[23-jahrig, brasilian, vier, spiel, pausi, –, ...</td>\n    </tr>\n    <tr>\n      <th>4</th>\n      <td>Aufständische verwendeten Chemikalie bei Gefec...</td>\n      <td>International</td>\n      <td>[aufständische, verwendeten, chemikalie, bei, ...</td>\n      <td>[aufständische, verwendeten, chemikalie, gefec...</td>\n      <td>[aufständisch, verwenden, chemikalie, gefechte...</td>\n      <td>[aufstand, verwendet, chemikali, gefecht, augu...</td>\n    </tr>\n    <tr>\n      <th>...</th>\n      <td>...</td>\n      <td>...</td>\n      <td>...</td>\n      <td>...</td>\n      <td>...</td>\n      <td>...</td>\n    </tr>\n    <tr>\n      <th>1023</th>\n      <td>Programm \"Ebay Plus\" soll Ende September start...</td>\n      <td>Web</td>\n      <td>[programm, ``, ebay, plus, '', soll, ende, sep...</td>\n      <td>[programm, ``, ebay, plus, '', ende, september...</td>\n      <td>[programm, ebay, plus, ende, september, starte...</td>\n      <td>[programm, ``, ebay, plus, '', end, septemb, s...</td>\n    </tr>\n    <tr>\n      <th>1024</th>\n      <td>Fehlerhafte Bilanz 2013, Partei will berufen –...</td>\n      <td>Inland</td>\n      <td>[fehlerhafte, bilanz, 2013, ,, partei, will, b...</td>\n      <td>[fehlerhafte, bilanz, 2013, ,, partei, berufen...</td>\n      <td>[fehlerhaft, bilanz, partei, berufen, strafe, ...</td>\n      <td>[fehlerhaft, bilanz, 2013, ,, partei, beruf, –...</td>\n    </tr>\n    <tr>\n      <th>1025</th>\n      <td>Als erster Olympia-Champion auch Hawaii-Sieger...</td>\n      <td>Sport</td>\n      <td>[als, erster, olympia-champion, auch, hawaii-s...</td>\n      <td>[erster, olympia-champion, hawaii-sieger, –, n...</td>\n      <td>[erst, niederösterreicher, weiss, aufholjagd, ...</td>\n      <td>[erst, olympia-champion, hawaii-sieg, –, niede...</td>\n    </tr>\n    <tr>\n      <th>1026</th>\n      <td>Der Außenseiter aus Denver gewinnt die 50. Sup...</td>\n      <td>Sport</td>\n      <td>[der, außenseiter, aus, denver, gewinnt, die, ...</td>\n      <td>[außenseiter, denver, gewinnt, 50, ., super, b...</td>\n      <td>[außenseiter, denver, gewinnen, super, bowl, c...</td>\n      <td>[aussenseit, denv, gewinnt, 50, ., sup, bowl, ...</td>\n    </tr>\n    <tr>\n      <th>1027</th>\n      <td>Wohl keine Einschränkungen bei Google-Services...</td>\n      <td>Web</td>\n      <td>[wohl, keine, einschränkungen, bei, google-ser...</td>\n      <td>[wohl, einschränkungen, google-services, –, ge...</td>\n      <td>[wohl, einschränkungen, gebogen, ränder, geben...</td>\n      <td>[wohl, einschrank, google-servic, –, gebog, ra...</td>\n    </tr>\n  </tbody>\n</table>\n<p>1028 rows × 6 columns</p>\n</div>"
     },
     "execution_count": 21,
     "metadata": {},
     "output_type": "execute_result"
    }
   ],
   "source": [
    "result_test = concat([data_test, tokenized_test, keywords_test, lemmas_test, stem_test], axis=1)\n",
    "result_test"
   ],
   "metadata": {
    "collapsed": false,
    "pycharm": {
     "name": "#%%\n"
    }
   }
  },
  {
   "cell_type": "code",
   "execution_count": 22,
   "outputs": [],
   "source": [
    "result_train.to_parquet(path=file.news_articles_cleaned_train)\n",
    "result_test.to_parquet(path=file.news_articles_cleaned_test)\n",
    "\n"
   ],
   "metadata": {
    "collapsed": false,
    "pycharm": {
     "name": "#%%\n"
    }
   }
  },
  {
   "cell_type": "code",
   "execution_count": 23,
   "outputs": [],
   "source": [
    "# for label in keywords_train[\"label\"].unique():\n",
    "#     tokens = keywords_train.loc[(data_train_tokenized[\"label\"] == label)].text_tokenized\n",
    "#     create_word_cloud(tokens)\n",
    "\n"
   ],
   "metadata": {
    "collapsed": false,
    "pycharm": {
     "name": "#%%\n"
    }
   }
  }
 ],
 "metadata": {
  "kernelspec": {
   "display_name": "Python 3",
   "language": "python",
   "name": "python3"
  },
  "language_info": {
   "codemirror_mode": {
    "name": "ipython",
    "version": 2
   },
   "file_extension": ".py",
   "mimetype": "text/x-python",
   "name": "python",
   "nbconvert_exporter": "python",
   "pygments_lexer": "ipython2",
   "version": "2.7.6"
  }
 },
 "nbformat": 4,
 "nbformat_minor": 0
}
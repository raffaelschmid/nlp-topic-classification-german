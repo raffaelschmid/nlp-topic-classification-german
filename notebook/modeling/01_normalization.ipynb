{
 "cells": [
  {
   "cell_type": "code",
   "execution_count": 1,
   "metadata": {
    "collapsed": false,
    "jupyter": {
     "outputs_hidden": false
    },
    "pycharm": {
     "name": "#%%\n"
    }
   },
   "outputs": [],
   "source": [
    "from pandas import concat, read_parquet\n",
    "\n",
    "from data import file\n",
    "from preprocessing.text import tokenize\n",
    "from preprocessing.token import ignore_stopwords\n",
    "from preprocessing.token import stem, lemma\n",
    "from preprocessing.text import join"
   ]
  },
  {
   "cell_type": "code",
   "execution_count": 2,
   "metadata": {
    "collapsed": false,
    "jupyter": {
     "outputs_hidden": false
    },
    "pycharm": {
     "name": "#%%\n"
    }
   },
   "outputs": [],
   "source": [
    "data_train = read_parquet(file.news_articles_raw_train)\n",
    "data_test = read_parquet(file.news_articles_raw_test)"
   ]
  },
  {
   "cell_type": "code",
   "execution_count": 3,
   "metadata": {},
   "outputs": [],
   "source": [
    "data = concat([data_train, data_test])\n"
   ]
  },
  {
   "cell_type": "code",
   "execution_count": 4,
   "metadata": {
    "collapsed": false,
    "jupyter": {
     "outputs_hidden": false
    },
    "pycharm": {
     "name": "#%%\n"
    }
   },
   "outputs": [
    {
     "name": "stdout",
     "output_type": "stream",
     "text": [
      "CPU times: user 33.1 s, sys: 207 ms, total: 33.3 s\n",
      "Wall time: 33.3 s\n"
     ]
    }
   ],
   "source": [
    "%%time\n",
    "tokenized = data.text_original.map(tokenize).rename('text_tokenized')"
   ]
  },
  {
   "cell_type": "code",
   "execution_count": 5,
   "metadata": {
    "collapsed": false,
    "jupyter": {
     "outputs_hidden": false
    },
    "pycharm": {
     "name": "#%%\n"
    }
   },
   "outputs": [
    {
     "name": "stdout",
     "output_type": "stream",
     "text": [
      "CPU times: user 623 ms, sys: 28 ms, total: 651 ms\n",
      "Wall time: 649 ms\n"
     ]
    }
   ],
   "source": [
    "%%time\n",
    "keywords = tokenized.map(ignore_stopwords).rename('text_tokenized_keywords')\n",
    "keywords_text = keywords.map(join).rename('text_keywords')"
   ]
  },
  {
   "cell_type": "code",
   "execution_count": 6,
   "metadata": {
    "collapsed": false,
    "jupyter": {
     "outputs_hidden": false
    },
    "pycharm": {
     "name": "#%%\n"
    }
   },
   "outputs": [
    {
     "name": "stdout",
     "output_type": "stream",
     "text": [
      "CPU times: user 2min 16s, sys: 372 ms, total: 2min 16s\n",
      "Wall time: 2min 16s\n"
     ]
    }
   ],
   "source": [
    "%%time\n",
    "lemmas = keywords.map(lemma).rename('text_tokenized_lemmas')\n",
    "lemmas_text = lemmas.map(join).rename('text_lemmas')"
   ]
  },
  {
   "cell_type": "code",
   "execution_count": 7,
   "metadata": {
    "collapsed": false,
    "jupyter": {
     "outputs_hidden": false
    },
    "pycharm": {
     "name": "#%%\n"
    }
   },
   "outputs": [
    {
     "name": "stdout",
     "output_type": "stream",
     "text": [
      "CPU times: user 14.9 s, sys: 67.9 ms, total: 15 s\n",
      "Wall time: 15 s\n"
     ]
    }
   ],
   "source": [
    "%%time\n",
    "stem = keywords.map(stem).rename('text_tokenized_stemmed')\n",
    "stem_text = stem.map(join).rename('text_stem')"
   ]
  },
  {
   "cell_type": "code",
   "execution_count": 8,
   "metadata": {
    "collapsed": false,
    "jupyter": {
     "outputs_hidden": false
    },
    "pycharm": {
     "name": "#%%\n"
    }
   },
   "outputs": [
    {
     "data": {
      "text/html": [
       "<div>\n",
       "<style scoped>\n",
       "    .dataframe tbody tr th:only-of-type {\n",
       "        vertical-align: middle;\n",
       "    }\n",
       "\n",
       "    .dataframe tbody tr th {\n",
       "        vertical-align: top;\n",
       "    }\n",
       "\n",
       "    .dataframe thead th {\n",
       "        text-align: right;\n",
       "    }\n",
       "</style>\n",
       "<table border=\"1\" class=\"dataframe\">\n",
       "  <thead>\n",
       "    <tr style=\"text-align: right;\">\n",
       "      <th></th>\n",
       "      <th>text_original</th>\n",
       "      <th>label</th>\n",
       "      <th>text_tokenized</th>\n",
       "      <th>text_tokenized_keywords</th>\n",
       "      <th>text_keywords</th>\n",
       "      <th>text_tokenized_lemmas</th>\n",
       "      <th>text_lemmas</th>\n",
       "      <th>text_tokenized_stemmed</th>\n",
       "      <th>text_stem</th>\n",
       "    </tr>\n",
       "  </thead>\n",
       "  <tbody>\n",
       "    <tr>\n",
       "      <th>0</th>\n",
       "      <td>21-Jähriger fällt wohl bis Saisonende aus. Wie...</td>\n",
       "      <td>Sport</td>\n",
       "      <td>[21-jähriger, fällt, wohl, bis, saisonende, au...</td>\n",
       "      <td>[21-jähriger, fällt, wohl, saisonende, ., wien...</td>\n",
       "      <td>21-jähriger fällt wohl saisonende . wien – rap...</td>\n",
       "      <td>[21-jähriger, fällen, wohl, saisonende, wien, ...</td>\n",
       "      <td>21-jähriger fällen wohl saisonende wien rapid ...</td>\n",
       "      <td>[21-jahrig, fallt, wohl, saison, wien, rapid, ...</td>\n",
       "      <td>21-jahrig fallt wohl saison wien rapid wohl sa...</td>\n",
       "    </tr>\n",
       "    <tr>\n",
       "      <th>1</th>\n",
       "      <td>Erfundene Bilder zu Filmen, die als verloren g...</td>\n",
       "      <td>Kultur</td>\n",
       "      <td>[erfundene, bilder, zu, filmen, ,, die, als, v...</td>\n",
       "      <td>[erfundene, bilder, filmen, ,, verloren, gelte...</td>\n",
       "      <td>erfundene bilder filmen , verloren gelten : ``...</td>\n",
       "      <td>[erfunden, bilder, filmen, verlieren, gelten, ...</td>\n",
       "      <td>erfunden bilder filmen verlieren gelten `` the...</td>\n",
       "      <td>[erfund, bild, film, verlor, gelt, ``, the, fo...</td>\n",
       "      <td>erfund bild film verlor gelt `` the forbidd ro...</td>\n",
       "    </tr>\n",
       "    <tr>\n",
       "      <th>2</th>\n",
       "      <td>Der frischgekürte CEO Sundar Pichai setzt auf ...</td>\n",
       "      <td>Web</td>\n",
       "      <td>[der, frischgekürte, ceo, sundar, pichai, setz...</td>\n",
       "      <td>[frischgekürte, ceo, sundar, pichai, setzt, um...</td>\n",
       "      <td>frischgekürte ceo sundar pichai setzt umgängli...</td>\n",
       "      <td>[frischgekürte, ceo, sundar, pichai, setzen, u...</td>\n",
       "      <td>frischgekürte ceo sundar pichai setzen umgängl...</td>\n",
       "      <td>[frischgekurt, ceo, sundar, pichai, setzt, umg...</td>\n",
       "      <td>frischgekurt ceo sundar pichai setzt umgang fu...</td>\n",
       "    </tr>\n",
       "    <tr>\n",
       "      <th>3</th>\n",
       "      <td>Putin: \"Einigung, dass wir Menge auf Niveau vo...</td>\n",
       "      <td>Wirtschaft</td>\n",
       "      <td>[putin, :, ``, einigung, ,, dass, wir, menge, ...</td>\n",
       "      <td>[putin, :, ``, einigung, ,, menge, niveau, jän...</td>\n",
       "      <td>putin : `` einigung , menge niveau jänner halt...</td>\n",
       "      <td>[putin, ``, einigung, menge, niveau, jänner, h...</td>\n",
       "      <td>putin `` einigung menge niveau jänner halten m...</td>\n",
       "      <td>[putin, ``, einig, meng, niveau, jann, halt, '...</td>\n",
       "      <td>putin `` einig meng niveau jann halt '' moskau...</td>\n",
       "    </tr>\n",
       "    <tr>\n",
       "      <th>4</th>\n",
       "      <td>Estland sieht den künftigen österreichischen P...</td>\n",
       "      <td>Inland</td>\n",
       "      <td>[estland, sieht, den, künftigen, österreichisc...</td>\n",
       "      <td>[estland, sieht, künftigen, österreichischen, ...</td>\n",
       "      <td>estland sieht künftigen österreichischen präsi...</td>\n",
       "      <td>[estland, sehen, künftig, österreichisch, präs...</td>\n",
       "      <td>estland sehen künftig österreichisch präsident...</td>\n",
       "      <td>[estland, sieht, kunftig, osterreich, prasiden...</td>\n",
       "      <td>estland sieht kunftig osterreich prasident est...</td>\n",
       "    </tr>\n",
       "    <tr>\n",
       "      <th>...</th>\n",
       "      <td>...</td>\n",
       "      <td>...</td>\n",
       "      <td>...</td>\n",
       "      <td>...</td>\n",
       "      <td>...</td>\n",
       "      <td>...</td>\n",
       "      <td>...</td>\n",
       "      <td>...</td>\n",
       "      <td>...</td>\n",
       "    </tr>\n",
       "    <tr>\n",
       "      <th>1023</th>\n",
       "      <td>Programm \"Ebay Plus\" soll Ende September start...</td>\n",
       "      <td>Web</td>\n",
       "      <td>[programm, ``, ebay, plus, '', soll, ende, sep...</td>\n",
       "      <td>[programm, ``, ebay, plus, '', ende, september...</td>\n",
       "      <td>programm `` ebay plus '' ende september starte...</td>\n",
       "      <td>[programm, ``, ebay, plus, ende, september, st...</td>\n",
       "      <td>programm `` ebay plus ende september starten d...</td>\n",
       "      <td>[programm, ``, ebay, plus, '', end, septemb, s...</td>\n",
       "      <td>programm `` ebay plus '' end septemb start deu...</td>\n",
       "    </tr>\n",
       "    <tr>\n",
       "      <th>1024</th>\n",
       "      <td>Fehlerhafte Bilanz 2013, Partei will berufen –...</td>\n",
       "      <td>Inland</td>\n",
       "      <td>[fehlerhafte, bilanz, 2013, ,, partei, will, b...</td>\n",
       "      <td>[fehlerhafte, bilanz, 2013, ,, partei, berufen...</td>\n",
       "      <td>fehlerhafte bilanz 2013 , partei berufen – str...</td>\n",
       "      <td>[fehlerhaft, bilanz, 2013, partei, berufen, st...</td>\n",
       "      <td>fehlerhaft bilanz 2013 partei berufen strafe w...</td>\n",
       "      <td>[fehlerhaft, bilanz, 2013, partei, beruf, stra...</td>\n",
       "      <td>fehlerhaft bilanz 2013 partei beruf straf weg ...</td>\n",
       "    </tr>\n",
       "    <tr>\n",
       "      <th>1025</th>\n",
       "      <td>Als erster Olympia-Champion auch Hawaii-Sieger...</td>\n",
       "      <td>Sport</td>\n",
       "      <td>[als, erster, olympia-champion, auch, hawaii-s...</td>\n",
       "      <td>[erster, olympia-champion, hawaii-sieger, –, n...</td>\n",
       "      <td>erster olympia-champion hawaii-sieger – nieder...</td>\n",
       "      <td>[erst, olympia-champion, hawaii-sieger, nieder...</td>\n",
       "      <td>erst olympia-champion hawaii-sieger niederöste...</td>\n",
       "      <td>[erst, olympia-champion, hawaii-sieg, niederos...</td>\n",
       "      <td>erst olympia-champion hawaii-sieg niederosterr...</td>\n",
       "    </tr>\n",
       "    <tr>\n",
       "      <th>1026</th>\n",
       "      <td>Der Außenseiter aus Denver gewinnt die 50. Sup...</td>\n",
       "      <td>Sport</td>\n",
       "      <td>[der, außenseiter, aus, denver, gewinnt, die, ...</td>\n",
       "      <td>[außenseiter, denver, gewinnt, 50, ., super, b...</td>\n",
       "      <td>außenseiter denver gewinnt 50 . super bowl car...</td>\n",
       "      <td>[außenseiter, denver, gewinnen, 50, super, bow...</td>\n",
       "      <td>außenseiter denver gewinnen 50 super bowl caro...</td>\n",
       "      <td>[aussenseit, denv, gewinnt, 50, sup, bowl, car...</td>\n",
       "      <td>aussenseit denv gewinnt 50 sup bowl carolina p...</td>\n",
       "    </tr>\n",
       "    <tr>\n",
       "      <th>1027</th>\n",
       "      <td>Wohl keine Einschränkungen bei Google-Services...</td>\n",
       "      <td>Web</td>\n",
       "      <td>[wohl, keine, einschränkungen, bei, google-ser...</td>\n",
       "      <td>[wohl, einschränkungen, google-services, –, ge...</td>\n",
       "      <td>wohl einschränkungen google-services – gebogen...</td>\n",
       "      <td>[wohl, einschränkungen, google-services, gebog...</td>\n",
       "      <td>wohl einschränkungen google-services gebogen r...</td>\n",
       "      <td>[wohl, einschrank, google-servic, gebog, rand,...</td>\n",
       "      <td>wohl einschrank google-servic gebog rand gab b...</td>\n",
       "    </tr>\n",
       "  </tbody>\n",
       "</table>\n",
       "<p>10273 rows × 9 columns</p>\n",
       "</div>"
      ],
      "text/plain": [
       "                                          text_original       label  \\\n",
       "0     21-Jähriger fällt wohl bis Saisonende aus. Wie...       Sport   \n",
       "1     Erfundene Bilder zu Filmen, die als verloren g...      Kultur   \n",
       "2     Der frischgekürte CEO Sundar Pichai setzt auf ...         Web   \n",
       "3     Putin: \"Einigung, dass wir Menge auf Niveau vo...  Wirtschaft   \n",
       "4     Estland sieht den künftigen österreichischen P...      Inland   \n",
       "...                                                 ...         ...   \n",
       "1023  Programm \"Ebay Plus\" soll Ende September start...         Web   \n",
       "1024  Fehlerhafte Bilanz 2013, Partei will berufen –...      Inland   \n",
       "1025  Als erster Olympia-Champion auch Hawaii-Sieger...       Sport   \n",
       "1026  Der Außenseiter aus Denver gewinnt die 50. Sup...       Sport   \n",
       "1027  Wohl keine Einschränkungen bei Google-Services...         Web   \n",
       "\n",
       "                                         text_tokenized  \\\n",
       "0     [21-jähriger, fällt, wohl, bis, saisonende, au...   \n",
       "1     [erfundene, bilder, zu, filmen, ,, die, als, v...   \n",
       "2     [der, frischgekürte, ceo, sundar, pichai, setz...   \n",
       "3     [putin, :, ``, einigung, ,, dass, wir, menge, ...   \n",
       "4     [estland, sieht, den, künftigen, österreichisc...   \n",
       "...                                                 ...   \n",
       "1023  [programm, ``, ebay, plus, '', soll, ende, sep...   \n",
       "1024  [fehlerhafte, bilanz, 2013, ,, partei, will, b...   \n",
       "1025  [als, erster, olympia-champion, auch, hawaii-s...   \n",
       "1026  [der, außenseiter, aus, denver, gewinnt, die, ...   \n",
       "1027  [wohl, keine, einschränkungen, bei, google-ser...   \n",
       "\n",
       "                                text_tokenized_keywords  \\\n",
       "0     [21-jähriger, fällt, wohl, saisonende, ., wien...   \n",
       "1     [erfundene, bilder, filmen, ,, verloren, gelte...   \n",
       "2     [frischgekürte, ceo, sundar, pichai, setzt, um...   \n",
       "3     [putin, :, ``, einigung, ,, menge, niveau, jän...   \n",
       "4     [estland, sieht, künftigen, österreichischen, ...   \n",
       "...                                                 ...   \n",
       "1023  [programm, ``, ebay, plus, '', ende, september...   \n",
       "1024  [fehlerhafte, bilanz, 2013, ,, partei, berufen...   \n",
       "1025  [erster, olympia-champion, hawaii-sieger, –, n...   \n",
       "1026  [außenseiter, denver, gewinnt, 50, ., super, b...   \n",
       "1027  [wohl, einschränkungen, google-services, –, ge...   \n",
       "\n",
       "                                          text_keywords  \\\n",
       "0     21-jähriger fällt wohl saisonende . wien – rap...   \n",
       "1     erfundene bilder filmen , verloren gelten : ``...   \n",
       "2     frischgekürte ceo sundar pichai setzt umgängli...   \n",
       "3     putin : `` einigung , menge niveau jänner halt...   \n",
       "4     estland sieht künftigen österreichischen präsi...   \n",
       "...                                                 ...   \n",
       "1023  programm `` ebay plus '' ende september starte...   \n",
       "1024  fehlerhafte bilanz 2013 , partei berufen – str...   \n",
       "1025  erster olympia-champion hawaii-sieger – nieder...   \n",
       "1026  außenseiter denver gewinnt 50 . super bowl car...   \n",
       "1027  wohl einschränkungen google-services – gebogen...   \n",
       "\n",
       "                                  text_tokenized_lemmas  \\\n",
       "0     [21-jähriger, fällen, wohl, saisonende, wien, ...   \n",
       "1     [erfunden, bilder, filmen, verlieren, gelten, ...   \n",
       "2     [frischgekürte, ceo, sundar, pichai, setzen, u...   \n",
       "3     [putin, ``, einigung, menge, niveau, jänner, h...   \n",
       "4     [estland, sehen, künftig, österreichisch, präs...   \n",
       "...                                                 ...   \n",
       "1023  [programm, ``, ebay, plus, ende, september, st...   \n",
       "1024  [fehlerhaft, bilanz, 2013, partei, berufen, st...   \n",
       "1025  [erst, olympia-champion, hawaii-sieger, nieder...   \n",
       "1026  [außenseiter, denver, gewinnen, 50, super, bow...   \n",
       "1027  [wohl, einschränkungen, google-services, gebog...   \n",
       "\n",
       "                                            text_lemmas  \\\n",
       "0     21-jähriger fällen wohl saisonende wien rapid ...   \n",
       "1     erfunden bilder filmen verlieren gelten `` the...   \n",
       "2     frischgekürte ceo sundar pichai setzen umgängl...   \n",
       "3     putin `` einigung menge niveau jänner halten m...   \n",
       "4     estland sehen künftig österreichisch präsident...   \n",
       "...                                                 ...   \n",
       "1023  programm `` ebay plus ende september starten d...   \n",
       "1024  fehlerhaft bilanz 2013 partei berufen strafe w...   \n",
       "1025  erst olympia-champion hawaii-sieger niederöste...   \n",
       "1026  außenseiter denver gewinnen 50 super bowl caro...   \n",
       "1027  wohl einschränkungen google-services gebogen r...   \n",
       "\n",
       "                                 text_tokenized_stemmed  \\\n",
       "0     [21-jahrig, fallt, wohl, saison, wien, rapid, ...   \n",
       "1     [erfund, bild, film, verlor, gelt, ``, the, fo...   \n",
       "2     [frischgekurt, ceo, sundar, pichai, setzt, umg...   \n",
       "3     [putin, ``, einig, meng, niveau, jann, halt, '...   \n",
       "4     [estland, sieht, kunftig, osterreich, prasiden...   \n",
       "...                                                 ...   \n",
       "1023  [programm, ``, ebay, plus, '', end, septemb, s...   \n",
       "1024  [fehlerhaft, bilanz, 2013, partei, beruf, stra...   \n",
       "1025  [erst, olympia-champion, hawaii-sieg, niederos...   \n",
       "1026  [aussenseit, denv, gewinnt, 50, sup, bowl, car...   \n",
       "1027  [wohl, einschrank, google-servic, gebog, rand,...   \n",
       "\n",
       "                                              text_stem  \n",
       "0     21-jahrig fallt wohl saison wien rapid wohl sa...  \n",
       "1     erfund bild film verlor gelt `` the forbidd ro...  \n",
       "2     frischgekurt ceo sundar pichai setzt umgang fu...  \n",
       "3     putin `` einig meng niveau jann halt '' moskau...  \n",
       "4     estland sieht kunftig osterreich prasident est...  \n",
       "...                                                 ...  \n",
       "1023  programm `` ebay plus '' end septemb start deu...  \n",
       "1024  fehlerhaft bilanz 2013 partei beruf straf weg ...  \n",
       "1025  erst olympia-champion hawaii-sieg niederosterr...  \n",
       "1026  aussenseit denv gewinnt 50 sup bowl carolina p...  \n",
       "1027  wohl einschrank google-servic gebog rand gab b...  \n",
       "\n",
       "[10273 rows x 9 columns]"
      ]
     },
     "execution_count": 8,
     "metadata": {},
     "output_type": "execute_result"
    }
   ],
   "source": [
    "result_train = concat([data, tokenized, keywords, keywords_text, lemmas, lemmas_text, stem, stem_text], axis=1)\n",
    "result_train"
   ]
  },
  {
   "cell_type": "code",
   "execution_count": 9,
   "metadata": {
    "collapsed": false,
    "jupyter": {
     "outputs_hidden": false
    },
    "pycharm": {
     "name": "#%%\n"
    }
   },
   "outputs": [],
   "source": [
    "result_train.to_parquet(path=file.news_articles_cleaned)"
   ]
  },
  {
   "cell_type": "code",
   "execution_count": null,
   "metadata": {},
   "outputs": [],
   "source": []
  }
 ],
 "metadata": {
  "environment": {
   "kernel": "python3",
   "name": "tf2-gpu.2-6.m84",
   "type": "gcloud",
   "uri": "gcr.io/deeplearning-platform-release/tf2-gpu.2-6:m84"
  },
  "kernelspec": {
   "display_name": "Python 3",
   "language": "python",
   "name": "python3"
  },
  "language_info": {
   "codemirror_mode": {
    "name": "ipython",
    "version": 3
   },
   "file_extension": ".py",
   "mimetype": "text/x-python",
   "name": "python",
   "nbconvert_exporter": "python",
   "pygments_lexer": "ipython3",
   "version": "3.7.12"
  }
 },
 "nbformat": 4,
 "nbformat_minor": 4
}

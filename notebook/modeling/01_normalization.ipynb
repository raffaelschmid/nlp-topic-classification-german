{
 "cells": [
  {
   "cell_type": "markdown",
   "metadata": {},
   "source": [
    "# Normalization"
   ]
  },
  {
   "cell_type": "code",
   "execution_count": 1,
   "metadata": {
    "collapsed": false,
    "jupyter": {
     "outputs_hidden": false
    },
    "pycharm": {
     "name": "#%%\n"
    }
   },
   "outputs": [],
   "source": [
    "from pandas import concat, read_parquet\n",
    "\n",
    "from data import file\n",
    "from preprocessing.text import tokenize\n",
    "from preprocessing.token import ignore_stopwords\n",
    "from preprocessing.token import stem, lemma\n",
    "from preprocessing.text import join"
   ]
  },
  {
   "cell_type": "code",
   "execution_count": 2,
   "metadata": {
    "collapsed": false,
    "jupyter": {
     "outputs_hidden": false
    },
    "pycharm": {
     "name": "#%%\n"
    }
   },
   "outputs": [],
   "source": [
    "data = read_parquet(file.news_articles_augmented)"
   ]
  },
  {
   "cell_type": "code",
   "execution_count": 3,
   "metadata": {
    "collapsed": false,
    "jupyter": {
     "outputs_hidden": false
    },
    "pycharm": {
     "name": "#%%\n"
    }
   },
   "outputs": [
    {
     "name": "stdout",
     "output_type": "stream",
     "text": [
      "CPU times: user 32 s, sys: 137 ms, total: 32.1 s\n",
      "Wall time: 32.2 s\n"
     ]
    }
   ],
   "source": [
    "%%time\n",
    "tokenized = data.text_original.map(tokenize).rename('text_tokenized')"
   ]
  },
  {
   "cell_type": "code",
   "execution_count": 4,
   "metadata": {
    "collapsed": false,
    "jupyter": {
     "outputs_hidden": false
    },
    "pycharm": {
     "name": "#%%\n"
    }
   },
   "outputs": [
    {
     "name": "stdout",
     "output_type": "stream",
     "text": [
      "CPU times: user 601 ms, sys: 12 ms, total: 613 ms\n",
      "Wall time: 612 ms\n"
     ]
    }
   ],
   "source": [
    "%%time\n",
    "keywords = tokenized.map(ignore_stopwords).rename('text_tokenized_keywords')\n",
    "keywords_text = keywords.map(join).rename('text_keywords')"
   ]
  },
  {
   "cell_type": "code",
   "execution_count": 5,
   "metadata": {
    "collapsed": false,
    "jupyter": {
     "outputs_hidden": false
    },
    "pycharm": {
     "name": "#%%\n"
    }
   },
   "outputs": [
    {
     "name": "stdout",
     "output_type": "stream",
     "text": [
      "CPU times: user 2min 11s, sys: 438 ms, total: 2min 11s\n",
      "Wall time: 2min 11s\n"
     ]
    }
   ],
   "source": [
    "%%time\n",
    "lemmas = keywords.map(lemma).rename('text_tokenized_lemmas')\n",
    "lemmas_text = lemmas.map(join).rename('text_lemmas')"
   ]
  },
  {
   "cell_type": "code",
   "execution_count": 6,
   "metadata": {
    "collapsed": false,
    "jupyter": {
     "outputs_hidden": false
    },
    "pycharm": {
     "name": "#%%\n"
    }
   },
   "outputs": [
    {
     "name": "stdout",
     "output_type": "stream",
     "text": [
      "CPU times: user 14.4 s, sys: 108 ms, total: 14.5 s\n",
      "Wall time: 14.5 s\n"
     ]
    }
   ],
   "source": [
    "%%time\n",
    "stem = keywords.map(stem).rename('text_tokenized_stemmed')\n",
    "stem_text = stem.map(join).rename('text_stem')"
   ]
  },
  {
   "cell_type": "code",
   "execution_count": 7,
   "metadata": {
    "collapsed": false,
    "jupyter": {
     "outputs_hidden": false
    },
    "pycharm": {
     "name": "#%%\n"
    }
   },
   "outputs": [
    {
     "data": {
      "text/html": [
       "<div>\n",
       "<style scoped>\n",
       "    .dataframe tbody tr th:only-of-type {\n",
       "        vertical-align: middle;\n",
       "    }\n",
       "\n",
       "    .dataframe tbody tr th {\n",
       "        vertical-align: top;\n",
       "    }\n",
       "\n",
       "    .dataframe thead th {\n",
       "        text-align: right;\n",
       "    }\n",
       "</style>\n",
       "<table border=\"1\" class=\"dataframe\">\n",
       "  <thead>\n",
       "    <tr style=\"text-align: right;\">\n",
       "      <th></th>\n",
       "      <th>text_original</th>\n",
       "      <th>label</th>\n",
       "      <th>text_tokenized</th>\n",
       "      <th>text_tokenized_keywords</th>\n",
       "      <th>text_keywords</th>\n",
       "      <th>text_tokenized_lemmas</th>\n",
       "      <th>text_lemmas</th>\n",
       "      <th>text_tokenized_stemmed</th>\n",
       "      <th>text_stem</th>\n",
       "    </tr>\n",
       "  </thead>\n",
       "  <tbody>\n",
       "    <tr>\n",
       "      <th>0</th>\n",
       "      <td>21-Jähriger fällt wohl bis Saisonende aus. Wie...</td>\n",
       "      <td>Sport</td>\n",
       "      <td>[21-jähriger, fällt, wohl, bis, saisonende, au...</td>\n",
       "      <td>[21-jähriger, fällt, wohl, saisonende, ., wien...</td>\n",
       "      <td>21-jähriger fällt wohl saisonende . wien – rap...</td>\n",
       "      <td>[21-jähriger, fällen, wohl, saisonende, wien, ...</td>\n",
       "      <td>21-jähriger fällen wohl saisonende wien rapid ...</td>\n",
       "      <td>[21-jahrig, fallt, wohl, saison, wien, rapid, ...</td>\n",
       "      <td>21-jahrig fallt wohl saison wien rapid wohl sa...</td>\n",
       "    </tr>\n",
       "    <tr>\n",
       "      <th>1</th>\n",
       "      <td>Erfundene Bilder zu Filmen, die als verloren g...</td>\n",
       "      <td>Kultur</td>\n",
       "      <td>[erfundene, bilder, zu, filmen, ,, die, als, v...</td>\n",
       "      <td>[erfundene, bilder, filmen, ,, verloren, gelte...</td>\n",
       "      <td>erfundene bilder filmen , verloren gelten : ``...</td>\n",
       "      <td>[erfunden, bilder, filmen, verlieren, gelten, ...</td>\n",
       "      <td>erfunden bilder filmen verlieren gelten `` the...</td>\n",
       "      <td>[erfund, bild, film, verlor, gelt, ``, the, fo...</td>\n",
       "      <td>erfund bild film verlor gelt `` the forbidd ro...</td>\n",
       "    </tr>\n",
       "    <tr>\n",
       "      <th>2</th>\n",
       "      <td>Der frischgekürte CEO Sundar Pichai setzt auf ...</td>\n",
       "      <td>Web</td>\n",
       "      <td>[der, frischgekürte, ceo, sundar, pichai, setz...</td>\n",
       "      <td>[frischgekürte, ceo, sundar, pichai, setzt, um...</td>\n",
       "      <td>frischgekürte ceo sundar pichai setzt umgängli...</td>\n",
       "      <td>[frischgekürte, ceo, sundar, pichai, setzen, u...</td>\n",
       "      <td>frischgekürte ceo sundar pichai setzen umgängl...</td>\n",
       "      <td>[frischgekurt, ceo, sundar, pichai, setzt, umg...</td>\n",
       "      <td>frischgekurt ceo sundar pichai setzt umgang fu...</td>\n",
       "    </tr>\n",
       "    <tr>\n",
       "      <th>3</th>\n",
       "      <td>Putin: \"Einigung, dass wir Menge auf Niveau vo...</td>\n",
       "      <td>Wirtschaft</td>\n",
       "      <td>[putin, :, ``, einigung, ,, dass, wir, menge, ...</td>\n",
       "      <td>[putin, :, ``, einigung, ,, menge, niveau, jän...</td>\n",
       "      <td>putin : `` einigung , menge niveau jänner halt...</td>\n",
       "      <td>[putin, ``, einigung, menge, niveau, jänner, h...</td>\n",
       "      <td>putin `` einigung menge niveau jänner halten m...</td>\n",
       "      <td>[putin, ``, einig, meng, niveau, jann, halt, '...</td>\n",
       "      <td>putin `` einig meng niveau jann halt '' moskau...</td>\n",
       "    </tr>\n",
       "    <tr>\n",
       "      <th>4</th>\n",
       "      <td>Estland sieht den künftigen österreichischen P...</td>\n",
       "      <td>Inland</td>\n",
       "      <td>[estland, sieht, den, künftigen, österreichisc...</td>\n",
       "      <td>[estland, sieht, künftigen, österreichischen, ...</td>\n",
       "      <td>estland sieht künftigen österreichischen präsi...</td>\n",
       "      <td>[estland, sehen, künftig, österreichisch, präs...</td>\n",
       "      <td>estland sehen künftig österreichisch präsident...</td>\n",
       "      <td>[estland, sieht, kunftig, osterreich, prasiden...</td>\n",
       "      <td>estland sieht kunftig osterreich prasident est...</td>\n",
       "    </tr>\n",
       "    <tr>\n",
       "      <th>...</th>\n",
       "      <td>...</td>\n",
       "      <td>...</td>\n",
       "      <td>...</td>\n",
       "      <td>...</td>\n",
       "      <td>...</td>\n",
       "      <td>...</td>\n",
       "      <td>...</td>\n",
       "      <td>...</td>\n",
       "      <td>...</td>\n",
       "    </tr>\n",
       "    <tr>\n",
       "      <th>1</th>\n",
       "      <td>Erfundene Bilder zu als verloren geltenden Fil...</td>\n",
       "      <td>Kultur</td>\n",
       "      <td>[erfundene, bilder, zu, als, verloren, geltend...</td>\n",
       "      <td>[erfundene, bilder, verloren, geltenden, filme...</td>\n",
       "      <td>erfundene bilder verloren geltenden filmen : `...</td>\n",
       "      <td>[erfunden, bilder, verlieren, geltend, filmen,...</td>\n",
       "      <td>erfunden bilder verlieren geltend filmen `` th...</td>\n",
       "      <td>[erfund, bild, verlor, geltend, film, ``, the,...</td>\n",
       "      <td>erfund bild verlor geltend film `` the forbidd...</td>\n",
       "    </tr>\n",
       "    <tr>\n",
       "      <th>25</th>\n",
       "      <td>Der neue \"King of Pop\" sollte es sein. Aber re...</td>\n",
       "      <td>Kultur</td>\n",
       "      <td>[der, neue, ``, king, of, pop, '', sollte, es,...</td>\n",
       "      <td>[neue, ``, king, of, pop, '', ., reicht, wirkl...</td>\n",
       "      <td>neue `` king of pop '' . reicht wirklich , trü...</td>\n",
       "      <td>[neue, ``, king, of, pop, reichen, wirklich, t...</td>\n",
       "      <td>neue `` king of pop reichen wirklich trüb tag ...</td>\n",
       "      <td>[neu, ``, king, of, pop, '', reicht, wirklich,...</td>\n",
       "      <td>neu `` king of pop '' reicht wirklich trub tag...</td>\n",
       "    </tr>\n",
       "    <tr>\n",
       "      <th>32</th>\n",
       "      <td>Das Duo Attwenger trifft bei der Eröffnung auf...</td>\n",
       "      <td>Kultur</td>\n",
       "      <td>[das, duo, attwenger, trifft, bei, der, eröffn...</td>\n",
       "      <td>[duo, attwenger, trifft, eröffnung, symphonisc...</td>\n",
       "      <td>duo attwenger trifft eröffnung symphonische bl...</td>\n",
       "      <td>[duo, attwenger, treffen, eröffnung, symphonis...</td>\n",
       "      <td>duo attwenger treffen eröffnung symphonische b...</td>\n",
       "      <td>[duo, attweng, trifft, eroffn, symphon, blasmu...</td>\n",
       "      <td>duo attweng trifft eroffn symphon blasmus viel...</td>\n",
       "    </tr>\n",
       "    <tr>\n",
       "      <th>0</th>\n",
       "      <td>Wien - Rapid wird wohl bis zum Ende der Saison...</td>\n",
       "      <td>Sport</td>\n",
       "      <td>[wien, -, rapid, wird, wohl, bis, zum, ende, d...</td>\n",
       "      <td>[wien, -, rapid, wohl, ende, saison, offensivs...</td>\n",
       "      <td>wien - rapid wohl ende saison offensivspieler ...</td>\n",
       "      <td>[wien, rapid, wohl, ende, saison, offensivspie...</td>\n",
       "      <td>wien rapid wohl ende saison offensivspieler th...</td>\n",
       "      <td>[wien, rapid, wohl, end, saison, offensivspiel...</td>\n",
       "      <td>wien rapid wohl end saison offensivspiel thoma...</td>\n",
       "    </tr>\n",
       "    <tr>\n",
       "      <th>29</th>\n",
       "      <td>Surrey / Lund - Der Begriff Jetset tauchte in ...</td>\n",
       "      <td>Wissenschaft</td>\n",
       "      <td>[surrey, /, lund, -, der, begriff, jetset, tau...</td>\n",
       "      <td>[surrey, /, lund, -, begriff, jetset, tauchte,...</td>\n",
       "      <td>surrey / lund - begriff jetset tauchte 1950er ...</td>\n",
       "      <td>[surrey, lund, begriff, jetset, tauchen, 1950e...</td>\n",
       "      <td>surrey lund begriff jetset tauchen 1950er jahr...</td>\n",
       "      <td>[surrey, lund, begriff, jetset, taucht, 1950er...</td>\n",
       "      <td>surrey lund begriff jetset taucht 1950er jahr ...</td>\n",
       "    </tr>\n",
       "  </tbody>\n",
       "</table>\n",
       "<p>10283 rows × 9 columns</p>\n",
       "</div>"
      ],
      "text/plain": [
       "                                        text_original         label  \\\n",
       "0   21-Jähriger fällt wohl bis Saisonende aus. Wie...         Sport   \n",
       "1   Erfundene Bilder zu Filmen, die als verloren g...        Kultur   \n",
       "2   Der frischgekürte CEO Sundar Pichai setzt auf ...           Web   \n",
       "3   Putin: \"Einigung, dass wir Menge auf Niveau vo...    Wirtschaft   \n",
       "4   Estland sieht den künftigen österreichischen P...        Inland   \n",
       "..                                                ...           ...   \n",
       "1   Erfundene Bilder zu als verloren geltenden Fil...        Kultur   \n",
       "25  Der neue \"King of Pop\" sollte es sein. Aber re...        Kultur   \n",
       "32  Das Duo Attwenger trifft bei der Eröffnung auf...        Kultur   \n",
       "0   Wien - Rapid wird wohl bis zum Ende der Saison...         Sport   \n",
       "29  Surrey / Lund - Der Begriff Jetset tauchte in ...  Wissenschaft   \n",
       "\n",
       "                                       text_tokenized  \\\n",
       "0   [21-jähriger, fällt, wohl, bis, saisonende, au...   \n",
       "1   [erfundene, bilder, zu, filmen, ,, die, als, v...   \n",
       "2   [der, frischgekürte, ceo, sundar, pichai, setz...   \n",
       "3   [putin, :, ``, einigung, ,, dass, wir, menge, ...   \n",
       "4   [estland, sieht, den, künftigen, österreichisc...   \n",
       "..                                                ...   \n",
       "1   [erfundene, bilder, zu, als, verloren, geltend...   \n",
       "25  [der, neue, ``, king, of, pop, '', sollte, es,...   \n",
       "32  [das, duo, attwenger, trifft, bei, der, eröffn...   \n",
       "0   [wien, -, rapid, wird, wohl, bis, zum, ende, d...   \n",
       "29  [surrey, /, lund, -, der, begriff, jetset, tau...   \n",
       "\n",
       "                              text_tokenized_keywords  \\\n",
       "0   [21-jähriger, fällt, wohl, saisonende, ., wien...   \n",
       "1   [erfundene, bilder, filmen, ,, verloren, gelte...   \n",
       "2   [frischgekürte, ceo, sundar, pichai, setzt, um...   \n",
       "3   [putin, :, ``, einigung, ,, menge, niveau, jän...   \n",
       "4   [estland, sieht, künftigen, österreichischen, ...   \n",
       "..                                                ...   \n",
       "1   [erfundene, bilder, verloren, geltenden, filme...   \n",
       "25  [neue, ``, king, of, pop, '', ., reicht, wirkl...   \n",
       "32  [duo, attwenger, trifft, eröffnung, symphonisc...   \n",
       "0   [wien, -, rapid, wohl, ende, saison, offensivs...   \n",
       "29  [surrey, /, lund, -, begriff, jetset, tauchte,...   \n",
       "\n",
       "                                        text_keywords  \\\n",
       "0   21-jähriger fällt wohl saisonende . wien – rap...   \n",
       "1   erfundene bilder filmen , verloren gelten : ``...   \n",
       "2   frischgekürte ceo sundar pichai setzt umgängli...   \n",
       "3   putin : `` einigung , menge niveau jänner halt...   \n",
       "4   estland sieht künftigen österreichischen präsi...   \n",
       "..                                                ...   \n",
       "1   erfundene bilder verloren geltenden filmen : `...   \n",
       "25  neue `` king of pop '' . reicht wirklich , trü...   \n",
       "32  duo attwenger trifft eröffnung symphonische bl...   \n",
       "0   wien - rapid wohl ende saison offensivspieler ...   \n",
       "29  surrey / lund - begriff jetset tauchte 1950er ...   \n",
       "\n",
       "                                text_tokenized_lemmas  \\\n",
       "0   [21-jähriger, fällen, wohl, saisonende, wien, ...   \n",
       "1   [erfunden, bilder, filmen, verlieren, gelten, ...   \n",
       "2   [frischgekürte, ceo, sundar, pichai, setzen, u...   \n",
       "3   [putin, ``, einigung, menge, niveau, jänner, h...   \n",
       "4   [estland, sehen, künftig, österreichisch, präs...   \n",
       "..                                                ...   \n",
       "1   [erfunden, bilder, verlieren, geltend, filmen,...   \n",
       "25  [neue, ``, king, of, pop, reichen, wirklich, t...   \n",
       "32  [duo, attwenger, treffen, eröffnung, symphonis...   \n",
       "0   [wien, rapid, wohl, ende, saison, offensivspie...   \n",
       "29  [surrey, lund, begriff, jetset, tauchen, 1950e...   \n",
       "\n",
       "                                          text_lemmas  \\\n",
       "0   21-jähriger fällen wohl saisonende wien rapid ...   \n",
       "1   erfunden bilder filmen verlieren gelten `` the...   \n",
       "2   frischgekürte ceo sundar pichai setzen umgängl...   \n",
       "3   putin `` einigung menge niveau jänner halten m...   \n",
       "4   estland sehen künftig österreichisch präsident...   \n",
       "..                                                ...   \n",
       "1   erfunden bilder verlieren geltend filmen `` th...   \n",
       "25  neue `` king of pop reichen wirklich trüb tag ...   \n",
       "32  duo attwenger treffen eröffnung symphonische b...   \n",
       "0   wien rapid wohl ende saison offensivspieler th...   \n",
       "29  surrey lund begriff jetset tauchen 1950er jahr...   \n",
       "\n",
       "                               text_tokenized_stemmed  \\\n",
       "0   [21-jahrig, fallt, wohl, saison, wien, rapid, ...   \n",
       "1   [erfund, bild, film, verlor, gelt, ``, the, fo...   \n",
       "2   [frischgekurt, ceo, sundar, pichai, setzt, umg...   \n",
       "3   [putin, ``, einig, meng, niveau, jann, halt, '...   \n",
       "4   [estland, sieht, kunftig, osterreich, prasiden...   \n",
       "..                                                ...   \n",
       "1   [erfund, bild, verlor, geltend, film, ``, the,...   \n",
       "25  [neu, ``, king, of, pop, '', reicht, wirklich,...   \n",
       "32  [duo, attweng, trifft, eroffn, symphon, blasmu...   \n",
       "0   [wien, rapid, wohl, end, saison, offensivspiel...   \n",
       "29  [surrey, lund, begriff, jetset, taucht, 1950er...   \n",
       "\n",
       "                                            text_stem  \n",
       "0   21-jahrig fallt wohl saison wien rapid wohl sa...  \n",
       "1   erfund bild film verlor gelt `` the forbidd ro...  \n",
       "2   frischgekurt ceo sundar pichai setzt umgang fu...  \n",
       "3   putin `` einig meng niveau jann halt '' moskau...  \n",
       "4   estland sieht kunftig osterreich prasident est...  \n",
       "..                                                ...  \n",
       "1   erfund bild verlor geltend film `` the forbidd...  \n",
       "25  neu `` king of pop '' reicht wirklich trub tag...  \n",
       "32  duo attweng trifft eroffn symphon blasmus viel...  \n",
       "0   wien rapid wohl end saison offensivspiel thoma...  \n",
       "29  surrey lund begriff jetset taucht 1950er jahr ...  \n",
       "\n",
       "[10283 rows x 9 columns]"
      ]
     },
     "execution_count": 7,
     "metadata": {},
     "output_type": "execute_result"
    }
   ],
   "source": [
    "result_train = concat([data, tokenized, keywords, keywords_text, lemmas, lemmas_text, stem, stem_text], axis=1)\n",
    "result_train"
   ]
  },
  {
   "cell_type": "code",
   "execution_count": 8,
   "metadata": {
    "collapsed": false,
    "jupyter": {
     "outputs_hidden": false
    },
    "pycharm": {
     "name": "#%%\n"
    }
   },
   "outputs": [],
   "source": [
    "result_train.to_parquet(path=file.news_articles_cleaned)"
   ]
  },
  {
   "cell_type": "code",
   "execution_count": null,
   "metadata": {},
   "outputs": [],
   "source": []
  }
 ],
 "metadata": {
  "environment": {
   "kernel": "python3",
   "name": "tf2-gpu.2-6.m84",
   "type": "gcloud",
   "uri": "gcr.io/deeplearning-platform-release/tf2-gpu.2-6:m84"
  },
  "kernelspec": {
   "display_name": "Python 3",
   "language": "python",
   "name": "python3"
  },
  "language_info": {
   "codemirror_mode": {
    "name": "ipython",
    "version": 3
   },
   "file_extension": ".py",
   "mimetype": "text/x-python",
   "name": "python",
   "nbconvert_exporter": "python",
   "pygments_lexer": "ipython3",
   "version": "3.7.12"
  }
 },
 "nbformat": 4,
 "nbformat_minor": 4
}

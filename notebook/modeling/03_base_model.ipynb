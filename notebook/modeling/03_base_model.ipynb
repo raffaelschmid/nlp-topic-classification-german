{
 "cells": [
  {
   "cell_type": "markdown",
   "metadata": {},
   "source": [
    "# Base Model"
   ]
  },
  {
   "cell_type": "code",
   "execution_count": 1,
   "metadata": {
    "collapsed": false,
    "jupyter": {
     "outputs_hidden": false
    },
    "pycharm": {
     "name": "#%%\n"
    }
   },
   "outputs": [],
   "source": [
    "import seaborn as sns\n",
    "from pandas import read_parquet\n",
    "from matplotlib import pyplot as plt\n",
    "from sklearn.metrics import classification_report\n",
    "from sklearn.preprocessing import LabelEncoder\n",
    "\n",
    "from data import file"
   ]
  },
  {
   "cell_type": "code",
   "execution_count": 2,
   "metadata": {
    "collapsed": false,
    "jupyter": {
     "outputs_hidden": false
    },
    "pycharm": {
     "name": "#%%\n"
    }
   },
   "outputs": [
    {
     "data": {
      "text/html": [
       "<div>\n",
       "<style scoped>\n",
       "    .dataframe tbody tr th:only-of-type {\n",
       "        vertical-align: middle;\n",
       "    }\n",
       "\n",
       "    .dataframe tbody tr th {\n",
       "        vertical-align: top;\n",
       "    }\n",
       "\n",
       "    .dataframe thead th {\n",
       "        text-align: right;\n",
       "    }\n",
       "</style>\n",
       "<table border=\"1\" class=\"dataframe\">\n",
       "  <thead>\n",
       "    <tr style=\"text-align: right;\">\n",
       "      <th></th>\n",
       "      <th>text_original</th>\n",
       "      <th>label</th>\n",
       "      <th>text_tokenized</th>\n",
       "      <th>text_tokenized_keywords</th>\n",
       "      <th>text_keywords</th>\n",
       "      <th>text_tokenized_lemmas</th>\n",
       "      <th>text_lemmas</th>\n",
       "      <th>text_tokenized_stemmed</th>\n",
       "      <th>text_stem</th>\n",
       "    </tr>\n",
       "  </thead>\n",
       "  <tbody>\n",
       "    <tr>\n",
       "      <th>1637</th>\n",
       "      <td>Asylverfahren sollen verkürzt werden, dafür is...</td>\n",
       "      <td>Wirtschaft</td>\n",
       "      <td>[asylverfahren, sollen, verkürzt, werden, ,, d...</td>\n",
       "      <td>[asylverfahren, sollen, verkürzt, ,, dafür, ge...</td>\n",
       "      <td>asylverfahren sollen verkürzt , dafür gewerksc...</td>\n",
       "      <td>[asylverfahren, sollen, verkürzen, dafür, gewe...</td>\n",
       "      <td>asylverfahren sollen verkürzen dafür gewerksch...</td>\n",
       "      <td>[asylverfahr, soll, verkurzt, dafur, gewerksch...</td>\n",
       "      <td>asylverfahr soll verkurzt dafur gewerkschaft b...</td>\n",
       "    </tr>\n",
       "    <tr>\n",
       "      <th>7445</th>\n",
       "      <td>Umsatz im abgelaufenen Quartal fiel um 8 Proze...</td>\n",
       "      <td>Web</td>\n",
       "      <td>[umsatz, im, abgelaufenen, quartal, fiel, um, ...</td>\n",
       "      <td>[umsatz, abgelaufenen, quartal, fiel, 8, proze...</td>\n",
       "      <td>umsatz abgelaufenen quartal fiel 8 prozent 12,...</td>\n",
       "      <td>[umsatz, abgelaufen, quartal, fallen, 8, proze...</td>\n",
       "      <td>umsatz abgelaufen quartal fallen 8 prozent 12,...</td>\n",
       "      <td>[umsatz, abgelauf, quartal, fiel, 8, prozent, ...</td>\n",
       "      <td>umsatz abgelauf quartal fiel 8 prozent 12,9 mr...</td>\n",
       "    </tr>\n",
       "    <tr>\n",
       "      <th>8808</th>\n",
       "      <td>Wegen Nichterfüllung eines Lizenzkriteriums in...</td>\n",
       "      <td>Sport</td>\n",
       "      <td>[wegen, nichterfüllung, eines, lizenzkriterium...</td>\n",
       "      <td>[wegen, nichterfüllung, lizenzkriteriums, stad...</td>\n",
       "      <td>wegen nichterfüllung lizenzkriteriums stadionf...</td>\n",
       "      <td>[wegen, nichterfüllung, lizenzkriteriums, stad...</td>\n",
       "      <td>wegen nichterfüllung lizenzkriteriums stadionf...</td>\n",
       "      <td>[weg, nichterfull, lizenzkriterium, stadionfra...</td>\n",
       "      <td>weg nichterfull lizenzkriterium stadionfrag na...</td>\n",
       "    </tr>\n",
       "    <tr>\n",
       "      <th>1982</th>\n",
       "      <td>Demokratische Präsidentschaftsanwärterin forde...</td>\n",
       "      <td>International</td>\n",
       "      <td>[demokratische, präsidentschaftsanwärterin, fo...</td>\n",
       "      <td>[demokratische, präsidentschaftsanwärterin, fo...</td>\n",
       "      <td>demokratische präsidentschaftsanwärterin forde...</td>\n",
       "      <td>[demokratische, präsidentschaftsanwärterin, fo...</td>\n",
       "      <td>demokratische präsidentschaftsanwärterin forde...</td>\n",
       "      <td>[demokrat, prasidentschaftsanwarterin, fordert...</td>\n",
       "      <td>demokrat prasidentschaftsanwarterin fordert ko...</td>\n",
       "    </tr>\n",
       "    <tr>\n",
       "      <th>255</th>\n",
       "      <td>Republikaner: Transparenzregeln umgangen. Die ...</td>\n",
       "      <td>Web</td>\n",
       "      <td>[republikaner, :, transparenzregeln, umgangen,...</td>\n",
       "      <td>[republikaner, :, transparenzregeln, umgangen,...</td>\n",
       "      <td>republikaner : transparenzregeln umgangen . us...</td>\n",
       "      <td>[republikaner, transparenzregeln, umgangen, us...</td>\n",
       "      <td>republikaner transparenzregeln umgangen us-prä...</td>\n",
       "      <td>[republikan, transparenzregeln, umgang, us-pra...</td>\n",
       "      <td>republikan transparenzregeln umgang us-praside...</td>\n",
       "    </tr>\n",
       "    <tr>\n",
       "      <th>...</th>\n",
       "      <td>...</td>\n",
       "      <td>...</td>\n",
       "      <td>...</td>\n",
       "      <td>...</td>\n",
       "      <td>...</td>\n",
       "      <td>...</td>\n",
       "      <td>...</td>\n",
       "      <td>...</td>\n",
       "      <td>...</td>\n",
       "    </tr>\n",
       "    <tr>\n",
       "      <th>5431</th>\n",
       "      <td>Premier Alexis Tsipras, der ein neuerliches Vo...</td>\n",
       "      <td>International</td>\n",
       "      <td>[premier, alexis, tsipras, ,, der, ein, neuerl...</td>\n",
       "      <td>[premier, alexis, tsipras, ,, neuerliches, vot...</td>\n",
       "      <td>premier alexis tsipras , neuerliches votum aus...</td>\n",
       "      <td>[premier, alexis, tsipras, neuerlich, votum, a...</td>\n",
       "      <td>premier alexis tsipras neuerlich votum ausschl...</td>\n",
       "      <td>[premi, alexis, tsipras, neu, votum, ausgeschl...</td>\n",
       "      <td>premi alexis tsipras neu votum ausgeschloss st...</td>\n",
       "    </tr>\n",
       "    <tr>\n",
       "      <th>2368</th>\n",
       "      <td>Ein Kreditereignis bei BMW sollte ausbleiben. ...</td>\n",
       "      <td>Wirtschaft</td>\n",
       "      <td>[ein, kreditereignis, bei, bmw, sollte, ausble...</td>\n",
       "      <td>[kreditereignis, bmw, ausbleiben, ., bmw, bedi...</td>\n",
       "      <td>kreditereignis bmw ausbleiben . bmw bedient ma...</td>\n",
       "      <td>[kreditereignis, bmw, ausbleiben, bmw, bediene...</td>\n",
       "      <td>kreditereignis bmw ausbleiben bmw bedienen mar...</td>\n",
       "      <td>[kreditereignis, bmw, ausbleib, bmw, bedient, ...</td>\n",
       "      <td>kreditereignis bmw ausbleib bmw bedient markt ...</td>\n",
       "    </tr>\n",
       "    <tr>\n",
       "      <th>3642</th>\n",
       "      <td>Fledermäuse sind von vielen Krankheitserregern...</td>\n",
       "      <td>Wissenschaft</td>\n",
       "      <td>[fledermäuse, sind, von, vielen, krankheitserr...</td>\n",
       "      <td>[fledermäuse, vielen, krankheitserregern, ,, s...</td>\n",
       "      <td>fledermäuse vielen krankheitserregern , säuget...</td>\n",
       "      <td>[fledermäuse, viel, krankheitserregern, säuget...</td>\n",
       "      <td>fledermäuse viel krankheitserregern säugetiere...</td>\n",
       "      <td>[fledermaus, viel, krankheitserreg, saugeti, b...</td>\n",
       "      <td>fledermaus viel krankheitserreg saugeti befall...</td>\n",
       "    </tr>\n",
       "    <tr>\n",
       "      <th>8420</th>\n",
       "      <td>Ein Fossil aus Spanien mit \"Star Wars\"-Bezug. ...</td>\n",
       "      <td>Wissenschaft</td>\n",
       "      <td>[ein, fossil, aus, spanien, mit, ``, star, war...</td>\n",
       "      <td>[fossil, spanien, ``, star, wars, '', -bezug, ...</td>\n",
       "      <td>fossil spanien `` star wars '' -bezug . madrid...</td>\n",
       "      <td>[fossil, spanien, ``, star, wars, -bezug, madr...</td>\n",
       "      <td>fossil spanien `` star wars -bezug madrid wien...</td>\n",
       "      <td>[fossil, spani, ``, star, war, '', -bezug, mad...</td>\n",
       "      <td>fossil spani `` star war '' -bezug madrid/wi k...</td>\n",
       "    </tr>\n",
       "    <tr>\n",
       "      <th>6661</th>\n",
       "      <td>General Motors und Ford setzen mehr Fahrzeuge ...</td>\n",
       "      <td>Wirtschaft</td>\n",
       "      <td>[general, motors, und, ford, setzen, mehr, fah...</td>\n",
       "      <td>[general, motors, ford, setzen, mehr, fahrzeug...</td>\n",
       "      <td>general motors ford setzen mehr fahrzeuge ab –...</td>\n",
       "      <td>[general, motors, ford, setzen, mehr, fahrzeug...</td>\n",
       "      <td>general motors ford setzen mehr fahrzeuge ab u...</td>\n",
       "      <td>[general, motor, ford, setz, mehr, fahrzeug, a...</td>\n",
       "      <td>general motor ford setz mehr fahrzeug ab us-au...</td>\n",
       "    </tr>\n",
       "  </tbody>\n",
       "</table>\n",
       "<p>7191 rows × 9 columns</p>\n",
       "</div>"
      ],
      "text/plain": [
       "                                          text_original          label  \\\n",
       "1637  Asylverfahren sollen verkürzt werden, dafür is...     Wirtschaft   \n",
       "7445  Umsatz im abgelaufenen Quartal fiel um 8 Proze...            Web   \n",
       "8808  Wegen Nichterfüllung eines Lizenzkriteriums in...          Sport   \n",
       "1982  Demokratische Präsidentschaftsanwärterin forde...  International   \n",
       "255   Republikaner: Transparenzregeln umgangen. Die ...            Web   \n",
       "...                                                 ...            ...   \n",
       "5431  Premier Alexis Tsipras, der ein neuerliches Vo...  International   \n",
       "2368  Ein Kreditereignis bei BMW sollte ausbleiben. ...     Wirtschaft   \n",
       "3642  Fledermäuse sind von vielen Krankheitserregern...   Wissenschaft   \n",
       "8420  Ein Fossil aus Spanien mit \"Star Wars\"-Bezug. ...   Wissenschaft   \n",
       "6661  General Motors und Ford setzen mehr Fahrzeuge ...     Wirtschaft   \n",
       "\n",
       "                                         text_tokenized  \\\n",
       "1637  [asylverfahren, sollen, verkürzt, werden, ,, d...   \n",
       "7445  [umsatz, im, abgelaufenen, quartal, fiel, um, ...   \n",
       "8808  [wegen, nichterfüllung, eines, lizenzkriterium...   \n",
       "1982  [demokratische, präsidentschaftsanwärterin, fo...   \n",
       "255   [republikaner, :, transparenzregeln, umgangen,...   \n",
       "...                                                 ...   \n",
       "5431  [premier, alexis, tsipras, ,, der, ein, neuerl...   \n",
       "2368  [ein, kreditereignis, bei, bmw, sollte, ausble...   \n",
       "3642  [fledermäuse, sind, von, vielen, krankheitserr...   \n",
       "8420  [ein, fossil, aus, spanien, mit, ``, star, war...   \n",
       "6661  [general, motors, und, ford, setzen, mehr, fah...   \n",
       "\n",
       "                                text_tokenized_keywords  \\\n",
       "1637  [asylverfahren, sollen, verkürzt, ,, dafür, ge...   \n",
       "7445  [umsatz, abgelaufenen, quartal, fiel, 8, proze...   \n",
       "8808  [wegen, nichterfüllung, lizenzkriteriums, stad...   \n",
       "1982  [demokratische, präsidentschaftsanwärterin, fo...   \n",
       "255   [republikaner, :, transparenzregeln, umgangen,...   \n",
       "...                                                 ...   \n",
       "5431  [premier, alexis, tsipras, ,, neuerliches, vot...   \n",
       "2368  [kreditereignis, bmw, ausbleiben, ., bmw, bedi...   \n",
       "3642  [fledermäuse, vielen, krankheitserregern, ,, s...   \n",
       "8420  [fossil, spanien, ``, star, wars, '', -bezug, ...   \n",
       "6661  [general, motors, ford, setzen, mehr, fahrzeug...   \n",
       "\n",
       "                                          text_keywords  \\\n",
       "1637  asylverfahren sollen verkürzt , dafür gewerksc...   \n",
       "7445  umsatz abgelaufenen quartal fiel 8 prozent 12,...   \n",
       "8808  wegen nichterfüllung lizenzkriteriums stadionf...   \n",
       "1982  demokratische präsidentschaftsanwärterin forde...   \n",
       "255   republikaner : transparenzregeln umgangen . us...   \n",
       "...                                                 ...   \n",
       "5431  premier alexis tsipras , neuerliches votum aus...   \n",
       "2368  kreditereignis bmw ausbleiben . bmw bedient ma...   \n",
       "3642  fledermäuse vielen krankheitserregern , säuget...   \n",
       "8420  fossil spanien `` star wars '' -bezug . madrid...   \n",
       "6661  general motors ford setzen mehr fahrzeuge ab –...   \n",
       "\n",
       "                                  text_tokenized_lemmas  \\\n",
       "1637  [asylverfahren, sollen, verkürzen, dafür, gewe...   \n",
       "7445  [umsatz, abgelaufen, quartal, fallen, 8, proze...   \n",
       "8808  [wegen, nichterfüllung, lizenzkriteriums, stad...   \n",
       "1982  [demokratische, präsidentschaftsanwärterin, fo...   \n",
       "255   [republikaner, transparenzregeln, umgangen, us...   \n",
       "...                                                 ...   \n",
       "5431  [premier, alexis, tsipras, neuerlich, votum, a...   \n",
       "2368  [kreditereignis, bmw, ausbleiben, bmw, bediene...   \n",
       "3642  [fledermäuse, viel, krankheitserregern, säuget...   \n",
       "8420  [fossil, spanien, ``, star, wars, -bezug, madr...   \n",
       "6661  [general, motors, ford, setzen, mehr, fahrzeug...   \n",
       "\n",
       "                                            text_lemmas  \\\n",
       "1637  asylverfahren sollen verkürzen dafür gewerksch...   \n",
       "7445  umsatz abgelaufen quartal fallen 8 prozent 12,...   \n",
       "8808  wegen nichterfüllung lizenzkriteriums stadionf...   \n",
       "1982  demokratische präsidentschaftsanwärterin forde...   \n",
       "255   republikaner transparenzregeln umgangen us-prä...   \n",
       "...                                                 ...   \n",
       "5431  premier alexis tsipras neuerlich votum ausschl...   \n",
       "2368  kreditereignis bmw ausbleiben bmw bedienen mar...   \n",
       "3642  fledermäuse viel krankheitserregern säugetiere...   \n",
       "8420  fossil spanien `` star wars -bezug madrid wien...   \n",
       "6661  general motors ford setzen mehr fahrzeuge ab u...   \n",
       "\n",
       "                                 text_tokenized_stemmed  \\\n",
       "1637  [asylverfahr, soll, verkurzt, dafur, gewerksch...   \n",
       "7445  [umsatz, abgelauf, quartal, fiel, 8, prozent, ...   \n",
       "8808  [weg, nichterfull, lizenzkriterium, stadionfra...   \n",
       "1982  [demokrat, prasidentschaftsanwarterin, fordert...   \n",
       "255   [republikan, transparenzregeln, umgang, us-pra...   \n",
       "...                                                 ...   \n",
       "5431  [premi, alexis, tsipras, neu, votum, ausgeschl...   \n",
       "2368  [kreditereignis, bmw, ausbleib, bmw, bedient, ...   \n",
       "3642  [fledermaus, viel, krankheitserreg, saugeti, b...   \n",
       "8420  [fossil, spani, ``, star, war, '', -bezug, mad...   \n",
       "6661  [general, motor, ford, setz, mehr, fahrzeug, a...   \n",
       "\n",
       "                                              text_stem  \n",
       "1637  asylverfahr soll verkurzt dafur gewerkschaft b...  \n",
       "7445  umsatz abgelauf quartal fiel 8 prozent 12,9 mr...  \n",
       "8808  weg nichterfull lizenzkriterium stadionfrag na...  \n",
       "1982  demokrat prasidentschaftsanwarterin fordert ko...  \n",
       "255   republikan transparenzregeln umgang us-praside...  \n",
       "...                                                 ...  \n",
       "5431  premi alexis tsipras neu votum ausgeschloss st...  \n",
       "2368  kreditereignis bmw ausbleib bmw bedient markt ...  \n",
       "3642  fledermaus viel krankheitserreg saugeti befall...  \n",
       "8420  fossil spani `` star war '' -bezug madrid/wi k...  \n",
       "6661  general motor ford setz mehr fahrzeug ab us-au...  \n",
       "\n",
       "[7191 rows x 9 columns]"
      ]
     },
     "execution_count": 2,
     "metadata": {},
     "output_type": "execute_result"
    }
   ],
   "source": [
    "data_train = read_parquet(file.news_articles_cleaned_train)\n",
    "data_train"
   ]
  },
  {
   "cell_type": "code",
   "execution_count": 3,
   "metadata": {
    "collapsed": false,
    "jupyter": {
     "outputs_hidden": false
    },
    "pycharm": {
     "name": "#%%\n"
    }
   },
   "outputs": [
    {
     "data": {
      "text/html": [
       "<div>\n",
       "<style scoped>\n",
       "    .dataframe tbody tr th:only-of-type {\n",
       "        vertical-align: middle;\n",
       "    }\n",
       "\n",
       "    .dataframe tbody tr th {\n",
       "        vertical-align: top;\n",
       "    }\n",
       "\n",
       "    .dataframe thead th {\n",
       "        text-align: right;\n",
       "    }\n",
       "</style>\n",
       "<table border=\"1\" class=\"dataframe\">\n",
       "  <thead>\n",
       "    <tr style=\"text-align: right;\">\n",
       "      <th></th>\n",
       "      <th>text_original</th>\n",
       "      <th>label</th>\n",
       "      <th>text_tokenized</th>\n",
       "      <th>text_tokenized_keywords</th>\n",
       "      <th>text_keywords</th>\n",
       "      <th>text_tokenized_lemmas</th>\n",
       "      <th>text_lemmas</th>\n",
       "      <th>text_tokenized_stemmed</th>\n",
       "      <th>text_stem</th>\n",
       "    </tr>\n",
       "  </thead>\n",
       "  <tbody>\n",
       "    <tr>\n",
       "      <th>2038</th>\n",
       "      <td>Archäologen rekonstruierten das Massaker an mi...</td>\n",
       "      <td>Wissenschaft</td>\n",
       "      <td>[archäologen, rekonstruierten, das, massaker, ...</td>\n",
       "      <td>[archäologen, rekonstruierten, massaker, minde...</td>\n",
       "      <td>archäologen rekonstruierten massaker mindesten...</td>\n",
       "      <td>[archäologen, rekonstruieren, massaker, mindes...</td>\n",
       "      <td>archäologen rekonstruieren massaker mindestens...</td>\n",
       "      <td>[archaolog, rekonstruiert, massak, mindest, 26...</td>\n",
       "      <td>archaolog rekonstruiert massak mindest 26 mens...</td>\n",
       "    </tr>\n",
       "    <tr>\n",
       "      <th>5661</th>\n",
       "      <td>Beben der Stärke 6,5 erschüttert arme Region i...</td>\n",
       "      <td>Panorama</td>\n",
       "      <td>[beben, der, stärke, 6,5, erschüttert, arme, r...</td>\n",
       "      <td>[beben, stärke, 6,5, erschüttert, arme, region...</td>\n",
       "      <td>beben stärke 6,5 erschüttert arme region weste...</td>\n",
       "      <td>[beben, stärken, 6,5, erschüttern, arme, regio...</td>\n",
       "      <td>beben stärken 6,5 erschüttern arme region west...</td>\n",
       "      <td>[beb, stark, 6,5, erschuttert, arm, region, we...</td>\n",
       "      <td>beb stark 6,5 erschuttert arm region west land...</td>\n",
       "    </tr>\n",
       "    <tr>\n",
       "      <th>5824</th>\n",
       "      <td>Der FPÖ-Kandidat kennt das Spiel mit Emotionen...</td>\n",
       "      <td>Inland</td>\n",
       "      <td>[der, fpö-kandidat, kennt, das, spiel, mit, em...</td>\n",
       "      <td>[fpö-kandidat, kennt, spiel, emotionen, ., wah...</td>\n",
       "      <td>fpö-kandidat kennt spiel emotionen . wahlkampf...</td>\n",
       "      <td>[fpö-kandidat, kennen, spiel, emotionen, wahlk...</td>\n",
       "      <td>fpö-kandidat kennen spiel emotionen wahlkampf ...</td>\n",
       "      <td>[fpo-kandidat, kennt, spiel, emotion, wahlkamp...</td>\n",
       "      <td>fpo-kandidat kennt spiel emotion wahlkampf zei...</td>\n",
       "    </tr>\n",
       "    <tr>\n",
       "      <th>7929</th>\n",
       "      <td>Die PKK hat den Krieg in die Städte getragen, ...</td>\n",
       "      <td>International</td>\n",
       "      <td>[die, pkk, hat, den, krieg, in, die, städte, g...</td>\n",
       "      <td>[pkk, krieg, städte, getragen, ,, sagt, sicher...</td>\n",
       "      <td>pkk krieg städte getragen , sagt sicherheitsex...</td>\n",
       "      <td>[pkk, krieg, städte, tragen, sagen, sicherheit...</td>\n",
       "      <td>pkk krieg städte tragen sagen sicherheitsexper...</td>\n",
       "      <td>[pkk, krieg, stadt, getrag, sagt, sicherheitse...</td>\n",
       "      <td>pkk krieg stadt getrag sagt sicherheitsexpert ...</td>\n",
       "    </tr>\n",
       "    <tr>\n",
       "      <th>3936</th>\n",
       "      <td>Früheste Spuren systematischen Vogelviehverzeh...</td>\n",
       "      <td>Wissenschaft</td>\n",
       "      <td>[früheste, spuren, systematischen, vogelviehve...</td>\n",
       "      <td>[früheste, spuren, systematischen, vogelviehve...</td>\n",
       "      <td>früheste spuren systematischen vogelviehverzeh...</td>\n",
       "      <td>[früh, spuren, systematisch, vogelviehverzehrs...</td>\n",
       "      <td>früh spuren systematisch vogelviehverzehrs ent...</td>\n",
       "      <td>[fruh, spur, systemat, vogelviehverzehr, entde...</td>\n",
       "      <td>fruh spur systemat vogelviehverzehr entdeckt a...</td>\n",
       "    </tr>\n",
       "    <tr>\n",
       "      <th>...</th>\n",
       "      <td>...</td>\n",
       "      <td>...</td>\n",
       "      <td>...</td>\n",
       "      <td>...</td>\n",
       "      <td>...</td>\n",
       "      <td>...</td>\n",
       "      <td>...</td>\n",
       "      <td>...</td>\n",
       "      <td>...</td>\n",
       "    </tr>\n",
       "    <tr>\n",
       "      <th>2616</th>\n",
       "      <td>Regierung kündigt schärfere Maßnahmen an – Übe...</td>\n",
       "      <td>Panorama</td>\n",
       "      <td>[regierung, kündigt, schärfere, maßnahmen, an,...</td>\n",
       "      <td>[regierung, kündigt, schärfere, maßnahmen, –, ...</td>\n",
       "      <td>regierung kündigt schärfere maßnahmen – übergr...</td>\n",
       "      <td>[regierung, kündigen, scharf, maßnahmen, überg...</td>\n",
       "      <td>regierung kündigen scharf maßnahmen übergriffe...</td>\n",
       "      <td>[regier, kundigt, scharf, massnahm, ubergriff,...</td>\n",
       "      <td>regier kundigt scharf massnahm ubergriff oster...</td>\n",
       "    </tr>\n",
       "    <tr>\n",
       "      <th>621</th>\n",
       "      <td>Ärztekammer startet Petition – Kräuter will Be...</td>\n",
       "      <td>Inland</td>\n",
       "      <td>[ärztekammer, startet, petition, –, kräuter, w...</td>\n",
       "      <td>[ärztekammer, startet, petition, –, kräuter, b...</td>\n",
       "      <td>ärztekammer startet petition – kräuter behaupt...</td>\n",
       "      <td>[ärztekammer, starten, petition, kräuter, beha...</td>\n",
       "      <td>ärztekammer starten petition kräuter behauptun...</td>\n",
       "      <td>[arztekamm, startet, petition, kraut, behaupt,...</td>\n",
       "      <td>arztekamm startet petition kraut behaupt pruf ...</td>\n",
       "    </tr>\n",
       "    <tr>\n",
       "      <th>2139</th>\n",
       "      <td>Gemeindebaumieter sind nicht viel ärmer als so...</td>\n",
       "      <td>Panorama</td>\n",
       "      <td>[gemeindebaumieter, sind, nicht, viel, ärmer, ...</td>\n",
       "      <td>[gemeindebaumieter, ärmer, privaten, wohnmarkt...</td>\n",
       "      <td>gemeindebaumieter ärmer privaten wohnmarkt . w...</td>\n",
       "      <td>[gemeindebaumieter, arm, privat, wohnmarkt, wi...</td>\n",
       "      <td>gemeindebaumieter arm privat wohnmarkt wien mi...</td>\n",
       "      <td>[gemeindebaumiet, arm, privat, wohnmarkt, wien...</td>\n",
       "      <td>gemeindebaumiet arm privat wohnmarkt wien miet...</td>\n",
       "    </tr>\n",
       "    <tr>\n",
       "      <th>4633</th>\n",
       "      <td>US-Geschäftsmann Siamak Namazi wurde im Oktobe...</td>\n",
       "      <td>International</td>\n",
       "      <td>[us-geschäftsmann, siamak, namazi, wurde, im, ...</td>\n",
       "      <td>[us-geschäftsmann, siamak, namazi, wurde, okto...</td>\n",
       "      <td>us-geschäftsmann siamak namazi wurde oktober t...</td>\n",
       "      <td>[us-geschäftsmann, siamak, namazi, werden, okt...</td>\n",
       "      <td>us-geschäftsmann siamak namazi werden oktober ...</td>\n",
       "      <td>[us-geschaftsmann, siamak, namazi, wurd, oktob...</td>\n",
       "      <td>us-geschaftsmann siamak namazi wurd oktob tehe...</td>\n",
       "    </tr>\n",
       "    <tr>\n",
       "      <th>764</th>\n",
       "      <td>Israel und Palästinenser beschuldigen sich geg...</td>\n",
       "      <td>International</td>\n",
       "      <td>[israel, und, palästinenser, beschuldigen, sic...</td>\n",
       "      <td>[israel, palästinenser, beschuldigen, gegensei...</td>\n",
       "      <td>israel palästinenser beschuldigen gegenseitig ...</td>\n",
       "      <td>[israel, palästinenser, beschuldigen, gegensei...</td>\n",
       "      <td>israel palästinenser beschuldigen gegenseitig ...</td>\n",
       "      <td>[israel, palastinens, beschuld, gegenseit, vol...</td>\n",
       "      <td>israel palastinens beschuld gegenseit volltext...</td>\n",
       "    </tr>\n",
       "  </tbody>\n",
       "</table>\n",
       "<p>2054 rows × 9 columns</p>\n",
       "</div>"
      ],
      "text/plain": [
       "                                          text_original          label  \\\n",
       "2038  Archäologen rekonstruierten das Massaker an mi...   Wissenschaft   \n",
       "5661  Beben der Stärke 6,5 erschüttert arme Region i...       Panorama   \n",
       "5824  Der FPÖ-Kandidat kennt das Spiel mit Emotionen...         Inland   \n",
       "7929  Die PKK hat den Krieg in die Städte getragen, ...  International   \n",
       "3936  Früheste Spuren systematischen Vogelviehverzeh...   Wissenschaft   \n",
       "...                                                 ...            ...   \n",
       "2616  Regierung kündigt schärfere Maßnahmen an – Übe...       Panorama   \n",
       "621   Ärztekammer startet Petition – Kräuter will Be...         Inland   \n",
       "2139  Gemeindebaumieter sind nicht viel ärmer als so...       Panorama   \n",
       "4633  US-Geschäftsmann Siamak Namazi wurde im Oktobe...  International   \n",
       "764   Israel und Palästinenser beschuldigen sich geg...  International   \n",
       "\n",
       "                                         text_tokenized  \\\n",
       "2038  [archäologen, rekonstruierten, das, massaker, ...   \n",
       "5661  [beben, der, stärke, 6,5, erschüttert, arme, r...   \n",
       "5824  [der, fpö-kandidat, kennt, das, spiel, mit, em...   \n",
       "7929  [die, pkk, hat, den, krieg, in, die, städte, g...   \n",
       "3936  [früheste, spuren, systematischen, vogelviehve...   \n",
       "...                                                 ...   \n",
       "2616  [regierung, kündigt, schärfere, maßnahmen, an,...   \n",
       "621   [ärztekammer, startet, petition, –, kräuter, w...   \n",
       "2139  [gemeindebaumieter, sind, nicht, viel, ärmer, ...   \n",
       "4633  [us-geschäftsmann, siamak, namazi, wurde, im, ...   \n",
       "764   [israel, und, palästinenser, beschuldigen, sic...   \n",
       "\n",
       "                                text_tokenized_keywords  \\\n",
       "2038  [archäologen, rekonstruierten, massaker, minde...   \n",
       "5661  [beben, stärke, 6,5, erschüttert, arme, region...   \n",
       "5824  [fpö-kandidat, kennt, spiel, emotionen, ., wah...   \n",
       "7929  [pkk, krieg, städte, getragen, ,, sagt, sicher...   \n",
       "3936  [früheste, spuren, systematischen, vogelviehve...   \n",
       "...                                                 ...   \n",
       "2616  [regierung, kündigt, schärfere, maßnahmen, –, ...   \n",
       "621   [ärztekammer, startet, petition, –, kräuter, b...   \n",
       "2139  [gemeindebaumieter, ärmer, privaten, wohnmarkt...   \n",
       "4633  [us-geschäftsmann, siamak, namazi, wurde, okto...   \n",
       "764   [israel, palästinenser, beschuldigen, gegensei...   \n",
       "\n",
       "                                          text_keywords  \\\n",
       "2038  archäologen rekonstruierten massaker mindesten...   \n",
       "5661  beben stärke 6,5 erschüttert arme region weste...   \n",
       "5824  fpö-kandidat kennt spiel emotionen . wahlkampf...   \n",
       "7929  pkk krieg städte getragen , sagt sicherheitsex...   \n",
       "3936  früheste spuren systematischen vogelviehverzeh...   \n",
       "...                                                 ...   \n",
       "2616  regierung kündigt schärfere maßnahmen – übergr...   \n",
       "621   ärztekammer startet petition – kräuter behaupt...   \n",
       "2139  gemeindebaumieter ärmer privaten wohnmarkt . w...   \n",
       "4633  us-geschäftsmann siamak namazi wurde oktober t...   \n",
       "764   israel palästinenser beschuldigen gegenseitig ...   \n",
       "\n",
       "                                  text_tokenized_lemmas  \\\n",
       "2038  [archäologen, rekonstruieren, massaker, mindes...   \n",
       "5661  [beben, stärken, 6,5, erschüttern, arme, regio...   \n",
       "5824  [fpö-kandidat, kennen, spiel, emotionen, wahlk...   \n",
       "7929  [pkk, krieg, städte, tragen, sagen, sicherheit...   \n",
       "3936  [früh, spuren, systematisch, vogelviehverzehrs...   \n",
       "...                                                 ...   \n",
       "2616  [regierung, kündigen, scharf, maßnahmen, überg...   \n",
       "621   [ärztekammer, starten, petition, kräuter, beha...   \n",
       "2139  [gemeindebaumieter, arm, privat, wohnmarkt, wi...   \n",
       "4633  [us-geschäftsmann, siamak, namazi, werden, okt...   \n",
       "764   [israel, palästinenser, beschuldigen, gegensei...   \n",
       "\n",
       "                                            text_lemmas  \\\n",
       "2038  archäologen rekonstruieren massaker mindestens...   \n",
       "5661  beben stärken 6,5 erschüttern arme region west...   \n",
       "5824  fpö-kandidat kennen spiel emotionen wahlkampf ...   \n",
       "7929  pkk krieg städte tragen sagen sicherheitsexper...   \n",
       "3936  früh spuren systematisch vogelviehverzehrs ent...   \n",
       "...                                                 ...   \n",
       "2616  regierung kündigen scharf maßnahmen übergriffe...   \n",
       "621   ärztekammer starten petition kräuter behauptun...   \n",
       "2139  gemeindebaumieter arm privat wohnmarkt wien mi...   \n",
       "4633  us-geschäftsmann siamak namazi werden oktober ...   \n",
       "764   israel palästinenser beschuldigen gegenseitig ...   \n",
       "\n",
       "                                 text_tokenized_stemmed  \\\n",
       "2038  [archaolog, rekonstruiert, massak, mindest, 26...   \n",
       "5661  [beb, stark, 6,5, erschuttert, arm, region, we...   \n",
       "5824  [fpo-kandidat, kennt, spiel, emotion, wahlkamp...   \n",
       "7929  [pkk, krieg, stadt, getrag, sagt, sicherheitse...   \n",
       "3936  [fruh, spur, systemat, vogelviehverzehr, entde...   \n",
       "...                                                 ...   \n",
       "2616  [regier, kundigt, scharf, massnahm, ubergriff,...   \n",
       "621   [arztekamm, startet, petition, kraut, behaupt,...   \n",
       "2139  [gemeindebaumiet, arm, privat, wohnmarkt, wien...   \n",
       "4633  [us-geschaftsmann, siamak, namazi, wurd, oktob...   \n",
       "764   [israel, palastinens, beschuld, gegenseit, vol...   \n",
       "\n",
       "                                              text_stem  \n",
       "2038  archaolog rekonstruiert massak mindest 26 mens...  \n",
       "5661  beb stark 6,5 erschuttert arm region west land...  \n",
       "5824  fpo-kandidat kennt spiel emotion wahlkampf zei...  \n",
       "7929  pkk krieg stadt getrag sagt sicherheitsexpert ...  \n",
       "3936  fruh spur systemat vogelviehverzehr entdeckt a...  \n",
       "...                                                 ...  \n",
       "2616  regier kundigt scharf massnahm ubergriff oster...  \n",
       "621   arztekamm startet petition kraut behaupt pruf ...  \n",
       "2139  gemeindebaumiet arm privat wohnmarkt wien miet...  \n",
       "4633  us-geschaftsmann siamak namazi wurd oktob tehe...  \n",
       "764   israel palastinens beschuld gegenseit volltext...  \n",
       "\n",
       "[2054 rows x 9 columns]"
      ]
     },
     "execution_count": 3,
     "metadata": {},
     "output_type": "execute_result"
    }
   ],
   "source": [
    "data_test = read_parquet(file.news_articles_cleaned_test)\n",
    "data_test"
   ]
  },
  {
   "cell_type": "code",
   "execution_count": 4,
   "metadata": {
    "collapsed": false,
    "jupyter": {
     "outputs_hidden": false
    },
    "pycharm": {
     "name": "#%%\n"
    }
   },
   "outputs": [],
   "source": [
    "from numpy import atleast_1d\n",
    "\n",
    "def join(tokens):\n",
    "    return ' '.join(tokens)\n",
    "\n",
    "labelEncoder = LabelEncoder()\n",
    "labelEncoder.fit(data_train[\"label\"])\n",
    "\n",
    "X_train, y_train = data_train.text_tokenized_lemmas.map(join), atleast_1d(\n",
    "    labelEncoder.transform(data_train[\"label\"])).transpose()\n",
    "X_test, y_test = data_test.text_tokenized_lemmas.map(join), atleast_1d(\n",
    "    labelEncoder.transform(data_test[\"label\"])).transpose()"
   ]
  },
  {
   "cell_type": "code",
   "execution_count": 5,
   "metadata": {
    "collapsed": false,
    "jupyter": {
     "outputs_hidden": false
    },
    "pycharm": {
     "name": "#%%\n"
    }
   },
   "outputs": [
    {
     "data": {
      "text/plain": [
       "1637    asylverfahren sollen verkürzen dafür gewerksch...\n",
       "7445    umsatz abgelaufen quartal fallen 8 prozent 12,...\n",
       "8808    wegen nichterfüllung lizenzkriteriums stadionf...\n",
       "1982    demokratische präsidentschaftsanwärterin forde...\n",
       "255     republikaner transparenzregeln umgangen us-prä...\n",
       "                              ...                        \n",
       "5431    premier alexis tsipras neuerlich votum ausschl...\n",
       "2368    kreditereignis bmw ausbleiben bmw bedienen mar...\n",
       "3642    fledermäuse viel krankheitserregern säugetiere...\n",
       "8420    fossil spanien `` star wars -bezug madrid wien...\n",
       "6661    general motors ford setzen mehr fahrzeuge ab u...\n",
       "Name: text_tokenized_lemmas, Length: 7191, dtype: object"
      ]
     },
     "execution_count": 5,
     "metadata": {},
     "output_type": "execute_result"
    }
   ],
   "source": [
    "X_train"
   ]
  },
  {
   "cell_type": "code",
   "execution_count": 6,
   "metadata": {
    "collapsed": false,
    "jupyter": {
     "outputs_hidden": false
    },
    "pycharm": {
     "name": "#%%\n"
    }
   },
   "outputs": [
    {
     "data": {
      "text/plain": [
       "Pipeline(steps=[('vec', CountVectorizer()), ('tfidf', TfidfTransformer()),\n",
       "                ('clf', SGDClassifier())])"
      ]
     },
     "execution_count": 6,
     "metadata": {},
     "output_type": "execute_result"
    }
   ],
   "source": [
    "from sklearn.linear_model import SGDClassifier\n",
    "from sklearn.feature_extraction.text import CountVectorizer\n",
    "from sklearn.feature_extraction.text import TfidfTransformer\n",
    "from sklearn.pipeline import Pipeline\n",
    "\n",
    "pipe = Pipeline([\n",
    "    (\"vec\", CountVectorizer()),\n",
    "    ('tfidf', TfidfTransformer()),\n",
    "    (\"clf\", SGDClassifier())\n",
    "])\n",
    "pipe.fit(X_train, y_train)"
   ]
  },
  {
   "cell_type": "code",
   "execution_count": 7,
   "metadata": {
    "collapsed": false,
    "jupyter": {
     "outputs_hidden": false
    },
    "pycharm": {
     "name": "#%%\n"
    }
   },
   "outputs": [],
   "source": [
    "y_train_pred = pipe.predict(X_train)\n",
    "y_test_pred = pipe.predict(X_test)\n"
   ]
  },
  {
   "cell_type": "code",
   "execution_count": 8,
   "metadata": {
    "collapsed": false,
    "jupyter": {
     "outputs_hidden": false
    },
    "pycharm": {
     "name": "#%%\n"
    }
   },
   "outputs": [
    {
     "name": "stdout",
     "output_type": "stream",
     "text": [
      "Train:\n",
      "              precision    recall  f1-score   support\n",
      "\n",
      "           0       1.00      1.00      1.00       468\n",
      "           1       0.99      0.99      0.99       710\n",
      "           2       1.00      0.99      1.00      1058\n",
      "           3       1.00      1.00      1.00       377\n",
      "           4       0.99      0.99      0.99      1174\n",
      "           5       1.00      1.00      1.00       841\n",
      "           6       1.00      0.99      1.00      1174\n",
      "           7       0.99      1.00      0.99       988\n",
      "           8       1.00      1.00      1.00       401\n",
      "\n",
      "    accuracy                           1.00      7191\n",
      "   macro avg       1.00      1.00      1.00      7191\n",
      "weighted avg       1.00      1.00      1.00      7191\n",
      "\n",
      "Test:\n",
      "              precision    recall  f1-score   support\n",
      "\n",
      "           0       0.93      0.77      0.84       133\n",
      "           1       0.81      0.80      0.81       203\n",
      "           2       0.86      0.91      0.88       302\n",
      "           3       0.87      0.89      0.88       108\n",
      "           4       0.81      0.82      0.82       336\n",
      "           5       0.99      0.97      0.98       240\n",
      "           6       0.91      0.89      0.90       335\n",
      "           7       0.82      0.85      0.83       282\n",
      "           8       0.86      0.85      0.86       115\n",
      "\n",
      "    accuracy                           0.87      2054\n",
      "   macro avg       0.87      0.86      0.87      2054\n",
      "weighted avg       0.87      0.87      0.87      2054\n",
      "\n"
     ]
    }
   ],
   "source": [
    "\n",
    "report = classification_report(y_train, y_train_pred)\n",
    "print(\"Train:\")\n",
    "print(report)\n",
    "report = classification_report(y_test, y_test_pred)\n",
    "print(\"Test:\")\n",
    "print(report)"
   ]
  },
  {
   "cell_type": "code",
   "execution_count": 9,
   "metadata": {
    "collapsed": false,
    "jupyter": {
     "outputs_hidden": false
    },
    "pycharm": {
     "name": "#%%\n"
    }
   },
   "outputs": [
    {
     "name": "stdout",
     "output_type": "stream",
     "text": [
      "[[102   3   5   7   4   1  10   1   0]\n",
      " [  2 162   3   1  21   0   1   9   4]\n",
      " [  0   1 276   0  16   0   2   7   0]\n",
      " [  2   1   1  96   2   1   1   3   1]\n",
      " [  1  13  16   4 277   0   4  12   9]\n",
      " [  0   1   2   0   1 233   1   2   0]\n",
      " [  1   3   6   1   8   0 298  16   2]\n",
      " [  1  13   9   1   9   1   9 239   0]\n",
      " [  1   2   4   0   3   0   3   4  98]]\n"
     ]
    },
    {
     "data": {
      "text/plain": [
       "<AxesSubplot:>"
      ]
     },
     "execution_count": 9,
     "metadata": {},
     "output_type": "execute_result"
    },
    {
     "data": {
      "image/png": "[encoded data removed]",
      "text/plain": [
       "<Figure size 432x288 with 2 Axes>"
      ]
     },
     "metadata": {
      "needs_background": "light"
     },
     "output_type": "display_data"
    }
   ],
   "source": [
    "from sklearn.metrics import confusion_matrix\n",
    "\n",
    "cf_matrix = confusion_matrix(y_test, y_test_pred)\n",
    "print(cf_matrix)\n",
    "\n",
    "sns.heatmap(cf_matrix, annot=True, cmap='Blues', fmt='.3g')"
   ]
  },
  {
   "cell_type": "code",
   "execution_count": 10,
   "metadata": {
    "collapsed": false,
    "jupyter": {
     "outputs_hidden": false
    },
    "pycharm": {
     "name": "#%%\n"
    }
   },
   "outputs": [
    {
     "data": {
      "text/plain": [
       "<AxesSubplot:>"
      ]
     },
     "execution_count": 10,
     "metadata": {},
     "output_type": "execute_result"
    },
    {
     "data": {
      "image/png": "[encoded data removed]",
      "text/plain": [
       "<Figure size 720x720 with 2 Axes>"
      ]
     },
     "metadata": {
      "needs_background": "light"
     },
     "output_type": "display_data"
    }
   ],
   "source": [
    "\n",
    "fig, ax = plt.subplots(figsize=(10,10))\n",
    "sns.heatmap(cf_matrix / sum(cf_matrix), annot=True, fmt='.2%', cmap='Blues', ax=ax)"
   ]
  },
  {
   "cell_type": "code",
   "execution_count": null,
   "metadata": {
    "collapsed": false,
    "jupyter": {
     "outputs_hidden": false
    },
    "pycharm": {
     "name": "#%%\n"
    }
   },
   "outputs": [],
   "source": []
  }
 ],
 "metadata": {
  "environment": {
   "kernel": "python3",
   "name": "tf2-gpu.2-6.m84",
   "type": "gcloud",
   "uri": "gcr.io/deeplearning-platform-release/tf2-gpu.2-6:m84"
  },
  "kernelspec": {
   "display_name": "Python 3",
   "language": "python",
   "name": "python3"
  },
  "language_info": {
   "codemirror_mode": {
    "name": "ipython",
    "version": 3
   },
   "file_extension": ".py",
   "mimetype": "text/x-python",
   "name": "python",
   "nbconvert_exporter": "python",
   "pygments_lexer": "ipython3",
   "version": "3.7.12"
  }
 },
 "nbformat": 4,
 "nbformat_minor": 4
}

{
 "cells": [
  {
   "cell_type": "markdown",
   "metadata": {},
   "source": [
    "# Preprocessing"
   ]
  },
  {
   "cell_type": "markdown",
   "metadata": {},
   "source": [
    "This notebook does tokenization, lemmatization, stemming based on the augmented dataset and stores all the columns in a single dataset. During training we can choose what column brings best results.\n",
    "\n",
    "**At the beginning I decided to do this task at a central step during preprocessing. Taking the right tokenization or preprocessing approach feels very model dependent  and should maybe be part of the pipeline in the model.**"
   ]
  },
  {
   "cell_type": "code",
   "execution_count": 1,
   "metadata": {
    "collapsed": false,
    "jupyter": {
     "outputs_hidden": false
    },
    "pycharm": {
     "name": "#%%\n"
    }
   },
   "outputs": [],
   "source": [
    "from pandas import concat, read_parquet\n",
    "\n",
    "from data import file\n",
    "from preprocessing.text import tokenize\n",
    "from preprocessing.token import ignore_stopwords\n",
    "from preprocessing.token import stem, lemma\n",
    "from preprocessing.text import join"
   ]
  },
  {
   "cell_type": "code",
   "execution_count": 2,
   "metadata": {
    "collapsed": false,
    "jupyter": {
     "outputs_hidden": false
    },
    "pycharm": {
     "name": "#%%\n"
    }
   },
   "outputs": [],
   "source": [
    "data = read_parquet(file.news_articles_augmented)"
   ]
  },
  {
   "cell_type": "code",
   "execution_count": 3,
   "metadata": {
    "collapsed": false,
    "jupyter": {
     "outputs_hidden": false
    },
    "pycharm": {
     "name": "#%%\n"
    }
   },
   "outputs": [
    {
     "name": "stdout",
     "output_type": "stream",
     "text": [
      "CPU times: user 32.6 s, sys: 198 ms, total: 32.8 s\n",
      "Wall time: 32.8 s\n"
     ]
    }
   ],
   "source": [
    "%%time\n",
    "tokenized = data.text_original.map(tokenize).rename('text_tokenized')"
   ]
  },
  {
   "cell_type": "code",
   "execution_count": 4,
   "metadata": {
    "collapsed": false,
    "jupyter": {
     "outputs_hidden": false
    },
    "pycharm": {
     "name": "#%%\n"
    }
   },
   "outputs": [
    {
     "name": "stdout",
     "output_type": "stream",
     "text": [
      "CPU times: user 629 ms, sys: 24 ms, total: 653 ms\n",
      "Wall time: 651 ms\n"
     ]
    }
   ],
   "source": [
    "%%time\n",
    "keywords = tokenized.map(ignore_stopwords).rename('text_tokenized_keywords')\n",
    "keywords_text = keywords.map(join).rename('text_keywords')"
   ]
  },
  {
   "cell_type": "code",
   "execution_count": 5,
   "metadata": {
    "collapsed": false,
    "jupyter": {
     "outputs_hidden": false
    },
    "pycharm": {
     "name": "#%%\n"
    }
   },
   "outputs": [
    {
     "name": "stdout",
     "output_type": "stream",
     "text": [
      "CPU times: user 2min 18s, sys: 385 ms, total: 2min 19s\n",
      "Wall time: 2min 19s\n"
     ]
    }
   ],
   "source": [
    "%%time\n",
    "lemmas = keywords.map(lemma).rename('text_tokenized_lemmas')\n",
    "lemmas_text = lemmas.map(join).rename('text_lemmas')"
   ]
  },
  {
   "cell_type": "code",
   "execution_count": 6,
   "metadata": {
    "collapsed": false,
    "jupyter": {
     "outputs_hidden": false
    },
    "pycharm": {
     "name": "#%%\n"
    }
   },
   "outputs": [
    {
     "name": "stdout",
     "output_type": "stream",
     "text": [
      "CPU times: user 15.3 s, sys: 112 ms, total: 15.4 s\n",
      "Wall time: 15.4 s\n"
     ]
    }
   ],
   "source": [
    "%%time\n",
    "stem = keywords.map(stem).rename('text_tokenized_stemmed')\n",
    "stem_text = stem.map(join).rename('text_stem')"
   ]
  },
  {
   "cell_type": "code",
   "execution_count": 7,
   "metadata": {
    "collapsed": false,
    "jupyter": {
     "outputs_hidden": false
    },
    "pycharm": {
     "name": "#%%\n"
    }
   },
   "outputs": [
    {
     "data": {
      "text/html": [
       "<div>\n",
       "<style scoped>\n",
       "    .dataframe tbody tr th:only-of-type {\n",
       "        vertical-align: middle;\n",
       "    }\n",
       "\n",
       "    .dataframe tbody tr th {\n",
       "        vertical-align: top;\n",
       "    }\n",
       "\n",
       "    .dataframe thead th {\n",
       "        text-align: right;\n",
       "    }\n",
       "</style>\n",
       "<table border=\"1\" class=\"dataframe\">\n",
       "  <thead>\n",
       "    <tr style=\"text-align: right;\">\n",
       "      <th></th>\n",
       "      <th>text_original</th>\n",
       "      <th>label</th>\n",
       "      <th>text_tokenized</th>\n",
       "      <th>text_tokenized_keywords</th>\n",
       "      <th>text_keywords</th>\n",
       "      <th>text_tokenized_lemmas</th>\n",
       "      <th>text_lemmas</th>\n",
       "      <th>text_tokenized_stemmed</th>\n",
       "      <th>text_stem</th>\n",
       "    </tr>\n",
       "  </thead>\n",
       "  <tbody>\n",
       "    <tr>\n",
       "      <th>0</th>\n",
       "      <td>21-Jähriger fällt wohl bis Saisonende aus. Wie...</td>\n",
       "      <td>Sport</td>\n",
       "      <td>[21-jähriger, fällt, wohl, bis, saisonende, au...</td>\n",
       "      <td>[21-jähriger, fällt, wohl, saisonende, ., wien...</td>\n",
       "      <td>21-jähriger fällt wohl saisonende . wien – rap...</td>\n",
       "      <td>[21-jähriger, fällen, wohl, saisonende, wien, ...</td>\n",
       "      <td>21-jähriger fällen wohl saisonende wien rapid ...</td>\n",
       "      <td>[21-jahrig, fallt, wohl, saison, wien, rapid, ...</td>\n",
       "      <td>21-jahrig fallt wohl saison wien rapid wohl sa...</td>\n",
       "    </tr>\n",
       "    <tr>\n",
       "      <th>1</th>\n",
       "      <td>Erfundene Bilder zu Filmen, die als verloren g...</td>\n",
       "      <td>Kultur</td>\n",
       "      <td>[erfundene, bilder, zu, filmen, ,, die, als, v...</td>\n",
       "      <td>[erfundene, bilder, filmen, ,, verloren, gelte...</td>\n",
       "      <td>erfundene bilder filmen , verloren gelten : ``...</td>\n",
       "      <td>[erfunden, bilder, filmen, verlieren, gelten, ...</td>\n",
       "      <td>erfunden bilder filmen verlieren gelten `` the...</td>\n",
       "      <td>[erfund, bild, film, verlor, gelt, ``, the, fo...</td>\n",
       "      <td>erfund bild film verlor gelt `` the forbidd ro...</td>\n",
       "    </tr>\n",
       "    <tr>\n",
       "      <th>2</th>\n",
       "      <td>Der frischgekürte CEO Sundar Pichai setzt auf ...</td>\n",
       "      <td>Web</td>\n",
       "      <td>[der, frischgekürte, ceo, sundar, pichai, setz...</td>\n",
       "      <td>[frischgekürte, ceo, sundar, pichai, setzt, um...</td>\n",
       "      <td>frischgekürte ceo sundar pichai setzt umgängli...</td>\n",
       "      <td>[frischgekürte, ceo, sundar, pichai, setzen, u...</td>\n",
       "      <td>frischgekürte ceo sundar pichai setzen umgängl...</td>\n",
       "      <td>[frischgekurt, ceo, sundar, pichai, setzt, umg...</td>\n",
       "      <td>frischgekurt ceo sundar pichai setzt umgang fu...</td>\n",
       "    </tr>\n",
       "    <tr>\n",
       "      <th>3</th>\n",
       "      <td>Putin: \"Einigung, dass wir Menge auf Niveau vo...</td>\n",
       "      <td>Wirtschaft</td>\n",
       "      <td>[putin, :, ``, einigung, ,, dass, wir, menge, ...</td>\n",
       "      <td>[putin, :, ``, einigung, ,, menge, niveau, jän...</td>\n",
       "      <td>putin : `` einigung , menge niveau jänner halt...</td>\n",
       "      <td>[putin, ``, einigung, menge, niveau, jänner, h...</td>\n",
       "      <td>putin `` einigung menge niveau jänner halten m...</td>\n",
       "      <td>[putin, ``, einig, meng, niveau, jann, halt, '...</td>\n",
       "      <td>putin `` einig meng niveau jann halt '' moskau...</td>\n",
       "    </tr>\n",
       "    <tr>\n",
       "      <th>4</th>\n",
       "      <td>Estland sieht den künftigen österreichischen P...</td>\n",
       "      <td>Inland</td>\n",
       "      <td>[estland, sieht, den, künftigen, österreichisc...</td>\n",
       "      <td>[estland, sieht, künftigen, österreichischen, ...</td>\n",
       "      <td>estland sieht künftigen österreichischen präsi...</td>\n",
       "      <td>[estland, sehen, künftig, österreichisch, präs...</td>\n",
       "      <td>estland sehen künftig österreichisch präsident...</td>\n",
       "      <td>[estland, sieht, kunftig, osterreich, prasiden...</td>\n",
       "      <td>estland sieht kunftig osterreich prasident est...</td>\n",
       "    </tr>\n",
       "    <tr>\n",
       "      <th>...</th>\n",
       "      <td>...</td>\n",
       "      <td>...</td>\n",
       "      <td>...</td>\n",
       "      <td>...</td>\n",
       "      <td>...</td>\n",
       "      <td>...</td>\n",
       "      <td>...</td>\n",
       "      <td>...</td>\n",
       "      <td>...</td>\n",
       "    </tr>\n",
       "    <tr>\n",
       "      <th>10</th>\n",
       "      <td>SSC nach 5: 1-Erfolg bei Robert Gucher's Frosi...</td>\n",
       "      <td>Sport</td>\n",
       "      <td>[ssc, nach, 5, :, 1-erfolg, bei, robert, guche...</td>\n",
       "      <td>[ssc, 5, :, 1-erfolg, robert, gucher, 's, fros...</td>\n",
       "      <td>ssc 5 : 1-erfolg robert gucher 's frosinone ne...</td>\n",
       "      <td>[ssc, 5, 1-erfolg, robert, gucher, 's, frosino...</td>\n",
       "      <td>ssc 5 1-erfolg robert gucher 's frosinone neu ...</td>\n",
       "      <td>[ssc, 5, 1-erfolg, robert, guch, 's, frosinon,...</td>\n",
       "      <td>ssc 5 1-erfolg robert guch 's frosinon neu lea...</td>\n",
       "    </tr>\n",
       "    <tr>\n",
       "      <th>13</th>\n",
       "      <td>Leicesters Teamkapitän Christian Fuchs denkt o...</td>\n",
       "      <td>Sport</td>\n",
       "      <td>[leicesters, teamkapitän, christian, fuchs, de...</td>\n",
       "      <td>[leicesters, teamkapitän, christian, fuchs, de...</td>\n",
       "      <td>leicesters teamkapitän christian fuchs denkt o...</td>\n",
       "      <td>[leicesters, teamkapitän, christian, fuchs, de...</td>\n",
       "      <td>leicesters teamkapitän christian fuchs denken ...</td>\n",
       "      <td>[leicest, teamkapitan, christian, fuch, denkt,...</td>\n",
       "      <td>leicest teamkapitan christian fuch denkt offen...</td>\n",
       "    </tr>\n",
       "    <tr>\n",
       "      <th>29</th>\n",
       "      <td>Surrey / Lund - Der Begriff Jetset tauchte in ...</td>\n",
       "      <td>Wissenschaft</td>\n",
       "      <td>[surrey, /, lund, -, der, begriff, jetset, tau...</td>\n",
       "      <td>[surrey, /, lund, -, begriff, jetset, tauchte,...</td>\n",
       "      <td>surrey / lund - begriff jetset tauchte 1950er ...</td>\n",
       "      <td>[surrey, lund, begriff, jetset, tauchen, 1950e...</td>\n",
       "      <td>surrey lund begriff jetset tauchen 1950er jahr...</td>\n",
       "      <td>[surrey, lund, begriff, jetset, taucht, 1950er...</td>\n",
       "      <td>surrey lund begriff jetset taucht 1950er jahr ...</td>\n",
       "    </tr>\n",
       "    <tr>\n",
       "      <th>34</th>\n",
       "      <td>Kampf um Klimaanlagen: Das bleibende Vermächtn...</td>\n",
       "      <td>Wissenschaft</td>\n",
       "      <td>[kampf, um, klimaanlagen, :, das, bleibende, v...</td>\n",
       "      <td>[kampf, klimaanlagen, :, bleibende, vermächtni...</td>\n",
       "      <td>kampf klimaanlagen : bleibende vermächtnis dän...</td>\n",
       "      <td>[kampf, klimaanlagen, bleibend, vermächtnis, d...</td>\n",
       "      <td>kampf klimaanlagen bleibend vermächtnis dänisc...</td>\n",
       "      <td>[kampf, klimaanlag, bleibend, vermachtnis, dan...</td>\n",
       "      <td>kampf klimaanlag bleibend vermachtnis danisch ...</td>\n",
       "    </tr>\n",
       "    <tr>\n",
       "      <th>46</th>\n",
       "      <td>Das Molekül 3-Nitrooxypropanol hemmt Mikroorga...</td>\n",
       "      <td>Wissenschaft</td>\n",
       "      <td>[das, molekül, 3-nitrooxypropanol, hemmt, mikr...</td>\n",
       "      <td>[molekül, 3-nitrooxypropanol, hemmt, mikroorga...</td>\n",
       "      <td>molekül 3-nitrooxypropanol hemmt mikroorganism...</td>\n",
       "      <td>[molekül, 3-nitrooxypropanol, hemmen, mikroorg...</td>\n",
       "      <td>molekül 3-nitrooxypropanol hemmen mikroorganis...</td>\n",
       "      <td>[molekul, 3-nitrooxypropanol, hemmt, mikroorga...</td>\n",
       "      <td>molekul 3-nitrooxypropanol hemmt mikroorganism...</td>\n",
       "    </tr>\n",
       "  </tbody>\n",
       "</table>\n",
       "<p>10309 rows × 9 columns</p>\n",
       "</div>"
      ],
      "text/plain": [
       "                                        text_original         label  \\\n",
       "0   21-Jähriger fällt wohl bis Saisonende aus. Wie...         Sport   \n",
       "1   Erfundene Bilder zu Filmen, die als verloren g...        Kultur   \n",
       "2   Der frischgekürte CEO Sundar Pichai setzt auf ...           Web   \n",
       "3   Putin: \"Einigung, dass wir Menge auf Niveau vo...    Wirtschaft   \n",
       "4   Estland sieht den künftigen österreichischen P...        Inland   \n",
       "..                                                ...           ...   \n",
       "10  SSC nach 5: 1-Erfolg bei Robert Gucher's Frosi...         Sport   \n",
       "13  Leicesters Teamkapitän Christian Fuchs denkt o...         Sport   \n",
       "29  Surrey / Lund - Der Begriff Jetset tauchte in ...  Wissenschaft   \n",
       "34  Kampf um Klimaanlagen: Das bleibende Vermächtn...  Wissenschaft   \n",
       "46  Das Molekül 3-Nitrooxypropanol hemmt Mikroorga...  Wissenschaft   \n",
       "\n",
       "                                       text_tokenized  \\\n",
       "0   [21-jähriger, fällt, wohl, bis, saisonende, au...   \n",
       "1   [erfundene, bilder, zu, filmen, ,, die, als, v...   \n",
       "2   [der, frischgekürte, ceo, sundar, pichai, setz...   \n",
       "3   [putin, :, ``, einigung, ,, dass, wir, menge, ...   \n",
       "4   [estland, sieht, den, künftigen, österreichisc...   \n",
       "..                                                ...   \n",
       "10  [ssc, nach, 5, :, 1-erfolg, bei, robert, guche...   \n",
       "13  [leicesters, teamkapitän, christian, fuchs, de...   \n",
       "29  [surrey, /, lund, -, der, begriff, jetset, tau...   \n",
       "34  [kampf, um, klimaanlagen, :, das, bleibende, v...   \n",
       "46  [das, molekül, 3-nitrooxypropanol, hemmt, mikr...   \n",
       "\n",
       "                              text_tokenized_keywords  \\\n",
       "0   [21-jähriger, fällt, wohl, saisonende, ., wien...   \n",
       "1   [erfundene, bilder, filmen, ,, verloren, gelte...   \n",
       "2   [frischgekürte, ceo, sundar, pichai, setzt, um...   \n",
       "3   [putin, :, ``, einigung, ,, menge, niveau, jän...   \n",
       "4   [estland, sieht, künftigen, österreichischen, ...   \n",
       "..                                                ...   \n",
       "10  [ssc, 5, :, 1-erfolg, robert, gucher, 's, fros...   \n",
       "13  [leicesters, teamkapitän, christian, fuchs, de...   \n",
       "29  [surrey, /, lund, -, begriff, jetset, tauchte,...   \n",
       "34  [kampf, klimaanlagen, :, bleibende, vermächtni...   \n",
       "46  [molekül, 3-nitrooxypropanol, hemmt, mikroorga...   \n",
       "\n",
       "                                        text_keywords  \\\n",
       "0   21-jähriger fällt wohl saisonende . wien – rap...   \n",
       "1   erfundene bilder filmen , verloren gelten : ``...   \n",
       "2   frischgekürte ceo sundar pichai setzt umgängli...   \n",
       "3   putin : `` einigung , menge niveau jänner halt...   \n",
       "4   estland sieht künftigen österreichischen präsi...   \n",
       "..                                                ...   \n",
       "10  ssc 5 : 1-erfolg robert gucher 's frosinone ne...   \n",
       "13  leicesters teamkapitän christian fuchs denkt o...   \n",
       "29  surrey / lund - begriff jetset tauchte 1950er ...   \n",
       "34  kampf klimaanlagen : bleibende vermächtnis dän...   \n",
       "46  molekül 3-nitrooxypropanol hemmt mikroorganism...   \n",
       "\n",
       "                                text_tokenized_lemmas  \\\n",
       "0   [21-jähriger, fällen, wohl, saisonende, wien, ...   \n",
       "1   [erfunden, bilder, filmen, verlieren, gelten, ...   \n",
       "2   [frischgekürte, ceo, sundar, pichai, setzen, u...   \n",
       "3   [putin, ``, einigung, menge, niveau, jänner, h...   \n",
       "4   [estland, sehen, künftig, österreichisch, präs...   \n",
       "..                                                ...   \n",
       "10  [ssc, 5, 1-erfolg, robert, gucher, 's, frosino...   \n",
       "13  [leicesters, teamkapitän, christian, fuchs, de...   \n",
       "29  [surrey, lund, begriff, jetset, tauchen, 1950e...   \n",
       "34  [kampf, klimaanlagen, bleibend, vermächtnis, d...   \n",
       "46  [molekül, 3-nitrooxypropanol, hemmen, mikroorg...   \n",
       "\n",
       "                                          text_lemmas  \\\n",
       "0   21-jähriger fällen wohl saisonende wien rapid ...   \n",
       "1   erfunden bilder filmen verlieren gelten `` the...   \n",
       "2   frischgekürte ceo sundar pichai setzen umgängl...   \n",
       "3   putin `` einigung menge niveau jänner halten m...   \n",
       "4   estland sehen künftig österreichisch präsident...   \n",
       "..                                                ...   \n",
       "10  ssc 5 1-erfolg robert gucher 's frosinone neu ...   \n",
       "13  leicesters teamkapitän christian fuchs denken ...   \n",
       "29  surrey lund begriff jetset tauchen 1950er jahr...   \n",
       "34  kampf klimaanlagen bleibend vermächtnis dänisc...   \n",
       "46  molekül 3-nitrooxypropanol hemmen mikroorganis...   \n",
       "\n",
       "                               text_tokenized_stemmed  \\\n",
       "0   [21-jahrig, fallt, wohl, saison, wien, rapid, ...   \n",
       "1   [erfund, bild, film, verlor, gelt, ``, the, fo...   \n",
       "2   [frischgekurt, ceo, sundar, pichai, setzt, umg...   \n",
       "3   [putin, ``, einig, meng, niveau, jann, halt, '...   \n",
       "4   [estland, sieht, kunftig, osterreich, prasiden...   \n",
       "..                                                ...   \n",
       "10  [ssc, 5, 1-erfolg, robert, guch, 's, frosinon,...   \n",
       "13  [leicest, teamkapitan, christian, fuch, denkt,...   \n",
       "29  [surrey, lund, begriff, jetset, taucht, 1950er...   \n",
       "34  [kampf, klimaanlag, bleibend, vermachtnis, dan...   \n",
       "46  [molekul, 3-nitrooxypropanol, hemmt, mikroorga...   \n",
       "\n",
       "                                            text_stem  \n",
       "0   21-jahrig fallt wohl saison wien rapid wohl sa...  \n",
       "1   erfund bild film verlor gelt `` the forbidd ro...  \n",
       "2   frischgekurt ceo sundar pichai setzt umgang fu...  \n",
       "3   putin `` einig meng niveau jann halt '' moskau...  \n",
       "4   estland sieht kunftig osterreich prasident est...  \n",
       "..                                                ...  \n",
       "10  ssc 5 1-erfolg robert guch 's frosinon neu lea...  \n",
       "13  leicest teamkapitan christian fuch denkt offen...  \n",
       "29  surrey lund begriff jetset taucht 1950er jahr ...  \n",
       "34  kampf klimaanlag bleibend vermachtnis danisch ...  \n",
       "46  molekul 3-nitrooxypropanol hemmt mikroorganism...  \n",
       "\n",
       "[10309 rows x 9 columns]"
      ]
     },
     "execution_count": 7,
     "metadata": {},
     "output_type": "execute_result"
    }
   ],
   "source": [
    "result_train = concat([data, tokenized, keywords, keywords_text, lemmas, lemmas_text, stem, stem_text], axis=1)\n",
    "result_train"
   ]
  },
  {
   "cell_type": "code",
   "execution_count": 8,
   "metadata": {
    "collapsed": false,
    "jupyter": {
     "outputs_hidden": false
    },
    "pycharm": {
     "name": "#%%\n"
    }
   },
   "outputs": [],
   "source": [
    "result_train.to_parquet(path=file.news_articles_cleaned)"
   ]
  },
  {
   "cell_type": "code",
   "execution_count": null,
   "metadata": {},
   "outputs": [],
   "source": []
  }
 ],
 "metadata": {
  "environment": {
   "kernel": "python3",
   "name": "tf2-gpu.2-6.m84",
   "type": "gcloud",
   "uri": "gcr.io/deeplearning-platform-release/tf2-gpu.2-6:m84"
  },
  "kernelspec": {
   "display_name": "Python 3",
   "language": "python",
   "name": "python3"
  },
  "language_info": {
   "codemirror_mode": {
    "name": "ipython",
    "version": 3
   },
   "file_extension": ".py",
   "mimetype": "text/x-python",
   "name": "python",
   "nbconvert_exporter": "python",
   "pygments_lexer": "ipython3",
   "version": "3.7.12"
  }
 },
 "nbformat": 4,
 "nbformat_minor": 4
}

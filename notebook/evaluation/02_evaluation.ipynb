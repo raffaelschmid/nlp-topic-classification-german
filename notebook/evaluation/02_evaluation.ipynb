{
 "cells": [
  {
   "cell_type": "markdown",
   "id": "68c3c405-e4d9-473b-a314-771baaabe8d0",
   "metadata": {},
   "source": [
    "# Evaluation"
   ]
  },
  {
   "cell_type": "code",
   "execution_count": 2,
   "id": "4fb8597f-d94c-4ef7-beea-659316adb9b9",
   "metadata": {},
   "outputs": [],
   "source": [
    "import json\n",
    "\n",
    "from pandas import concat, set_option\n",
    "\n",
    "from data import file\n",
    "from reporting.evaluation import plot_confusion_matrix, percentage_true_positives"
   ]
  },
  {
   "cell_type": "markdown",
   "source": [
    "## Load Evaluation Data\n",
    "Within each model I generated and stored some validation data that can be used here.\n",
    "I decided to not store any statistics but just two series of predicted and expected labels:\n",
    "```\n",
    "{\n",
    "\"expected\": [\"International\", \"Etat\", ...],\n",
    "\"predicted\": [\"International\", \"Etat\", ...]\n",
    "}```\n",
    "\n",
    "Afterwards I can generate any statistic out of this n predictions here."
   ],
   "metadata": {
    "collapsed": false,
    "pycharm": {
     "name": "#%% md\n"
    }
   }
  },
  {
   "cell_type": "code",
   "execution_count": 3,
   "id": "e56304fa-c2ae-4e85-912c-6ff057ffc1f0",
   "metadata": {},
   "outputs": [],
   "source": [
    "with open(file.reporting_data_report_tfidf, 'r') as f:\n",
    "    tfidf_raw = json.load(f)\n",
    "    tfidf_expected = tfidf_raw['expected']\n",
    "    tfidf_predicted = tfidf_raw['predicted']\n",
    "\n",
    "with open(file.reporting_data_report_cnn, 'r') as f:\n",
    "    cnn_raw = json.load(f)\n",
    "    cnn_expected = cnn_raw['expected']\n",
    "    cnn_predicted = cnn_raw['predicted']\n",
    "\n",
    "with open(file.reporting_data_report_rnn, 'r') as f:\n",
    "    rnn_raw = json.load(f)\n",
    "    rnn_expected = rnn_raw['expected']\n",
    "    rnn_predicted = rnn_raw['predicted']\n",
    "\n",
    "with open(file.reporting_data_report_bert, 'r') as f:\n",
    "    bert_raw = json.load(f)\n",
    "    bert_expected = bert_raw['expected']\n",
    "    bert_predicted = bert_raw['predicted']"
   ]
  },
  {
   "cell_type": "markdown",
   "source": [
    "## Overview\n",
    "During model development and training I mainly focused on the recal. The obvious reason for this is that it is the\n",
    "metric I am most used to, on the other side I still feel confident with this decision regarding the type of problem."
   ],
   "metadata": {
    "collapsed": false
   }
  },
  {
   "cell_type": "markdown",
   "source": [
    "### Recall (Sensitivity / True Positive Rate)\n",
    "In the following table we see the recall for given model and classes, labels."
   ],
   "metadata": {
    "collapsed": false
   }
  },
  {
   "cell_type": "code",
   "execution_count": 4,
   "outputs": [
    {
     "data": {
      "text/plain": "                TF-IDF     CNN     RNN     BERT\nEtat            66.667  83.333  83.333   66.667\nInland          75.000  37.500  50.000  100.000\nInternational  100.000  50.000  70.588  100.000\nKultur         100.000  40.000  20.000  100.000\nPanorama        79.167  75.000  57.143   79.167\nSport           90.909  72.727  87.500   90.909\nWeb             92.308  69.231  68.182   84.615\nWirtschaft      84.615  46.154  61.538   84.615\nWissenschaft   100.000  60.000   0.000   80.000",
      "text/html": "<div>\n<style scoped>\n    .dataframe tbody tr th:only-of-type {\n        vertical-align: middle;\n    }\n\n    .dataframe tbody tr th {\n        vertical-align: top;\n    }\n\n    .dataframe thead th {\n        text-align: right;\n    }\n</style>\n<table border=\"1\" class=\"dataframe\">\n  <thead>\n    <tr style=\"text-align: right;\">\n      <th></th>\n      <th>TF-IDF</th>\n      <th>CNN</th>\n      <th>RNN</th>\n      <th>BERT</th>\n    </tr>\n  </thead>\n  <tbody>\n    <tr>\n      <th>Etat</th>\n      <td>66.667</td>\n      <td>83.333</td>\n      <td>83.333</td>\n      <td>66.667</td>\n    </tr>\n    <tr>\n      <th>Inland</th>\n      <td>75.000</td>\n      <td>37.500</td>\n      <td>50.000</td>\n      <td>100.000</td>\n    </tr>\n    <tr>\n      <th>International</th>\n      <td>100.000</td>\n      <td>50.000</td>\n      <td>70.588</td>\n      <td>100.000</td>\n    </tr>\n    <tr>\n      <th>Kultur</th>\n      <td>100.000</td>\n      <td>40.000</td>\n      <td>20.000</td>\n      <td>100.000</td>\n    </tr>\n    <tr>\n      <th>Panorama</th>\n      <td>79.167</td>\n      <td>75.000</td>\n      <td>57.143</td>\n      <td>79.167</td>\n    </tr>\n    <tr>\n      <th>Sport</th>\n      <td>90.909</td>\n      <td>72.727</td>\n      <td>87.500</td>\n      <td>90.909</td>\n    </tr>\n    <tr>\n      <th>Web</th>\n      <td>92.308</td>\n      <td>69.231</td>\n      <td>68.182</td>\n      <td>84.615</td>\n    </tr>\n    <tr>\n      <th>Wirtschaft</th>\n      <td>84.615</td>\n      <td>46.154</td>\n      <td>61.538</td>\n      <td>84.615</td>\n    </tr>\n    <tr>\n      <th>Wissenschaft</th>\n      <td>100.000</td>\n      <td>60.000</td>\n      <td>0.000</td>\n      <td>80.000</td>\n    </tr>\n  </tbody>\n</table>\n</div>"
     },
     "execution_count": 4,
     "metadata": {},
     "output_type": "execute_result"
    }
   ],
   "source": [
    "tp_tfidf = percentage_true_positives(tfidf_predicted, tfidf_expected, column='TF-IDF')\n",
    "tp_cnn = percentage_true_positives(cnn_predicted, cnn_expected, column='CNN')\n",
    "tp_rnn = percentage_true_positives(rnn_predicted, rnn_expected, column='RNN')\n",
    "tp_bert = percentage_true_positives(bert_predicted, bert_expected, column='BERT')\n",
    "set_option('display.max_rows', 500)\n",
    "set_option('display.max_columns', 500)\n",
    "set_option('display.width', 1000)\n",
    "set_option('display.expand_frame_repr', True)\n",
    "concat([tp_tfidf, tp_cnn, tp_rnn, tp_bert], axis=1)"
   ],
   "metadata": {
    "collapsed": false,
    "pycharm": {
     "name": "#%%\n"
    }
   }
  },
  {
   "cell_type": "markdown",
   "source": [
    "TF-IDF as a base model already provided decent results in classification and it was quite hard to find a ML based model that\n",
    "performed better."
   ],
   "metadata": {
    "collapsed": false,
    "pycharm": {
     "name": "#%% md\n"
    }
   }
  }
 ],
 "metadata": {
  "environment": {
   "kernel": "python3",
   "name": "tf2-gpu.2-6.m84",
   "type": "gcloud",
   "uri": "gcr.io/deeplearning-platform-release/tf2-gpu.2-6:m84"
  },
  "kernelspec": {
   "name": "pycharm-d7199a65",
   "language": "python",
   "display_name": "PyCharm (nlp-topic-classification-german)"
  },
  "language_info": {
   "codemirror_mode": {
    "name": "ipython",
    "version": 3
   },
   "file_extension": ".py",
   "mimetype": "text/x-python",
   "name": "python",
   "nbconvert_exporter": "python",
   "pygments_lexer": "ipython3",
   "version": "3.7.12"
  }
 },
 "nbformat": 4,
 "nbformat_minor": 5
}
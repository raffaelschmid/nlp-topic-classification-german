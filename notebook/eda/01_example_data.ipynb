{
 "cells": [
  {
   "cell_type": "markdown",
   "metadata": {
    "pycharm": {
     "name": "#%% md\n"
    },
    "tags": []
   },
   "source": [
    "# Exploratory Data Analysis"
   ]
  },
  {
   "cell_type": "code",
   "execution_count": 1,
   "metadata": {
    "collapsed": false,
    "jupyter": {
     "outputs_hidden": false
    },
    "pycharm": {
     "name": "#%%\n"
    }
   },
   "outputs": [],
   "source": [
    "from pandas import concat, read_parquet\n",
    "\n",
    "from data import file\n",
    "import seaborn as sns\n",
    "import pandas as pd"
   ]
  },
  {
   "cell_type": "markdown",
   "metadata": {},
   "source": [
    "The data downloaded in [download script](./notebook/download.ipynb) has already undergone a stratified split where 10% of the data was used as test data."
   ]
  },
  {
   "cell_type": "code",
   "execution_count": 2,
   "metadata": {
    "collapsed": false,
    "jupyter": {
     "outputs_hidden": false
    },
    "pycharm": {
     "name": "#%%\n"
    }
   },
   "outputs": [],
   "source": [
    "data_train = read_parquet(file.news_articles_raw_train)\n",
    "data_test = read_parquet(file.news_articles_raw_test)"
   ]
  },
  {
   "cell_type": "markdown",
   "metadata": {},
   "source": [
    "## Example Data"
   ]
  },
  {
   "cell_type": "markdown",
   "metadata": {},
   "source": [
    "To get an understanding how the data looks I print 100 samples out of each dataset."
   ]
  },
  {
   "cell_type": "markdown",
   "metadata": {},
   "source": [
    "### Training Set"
   ]
  },
  {
   "cell_type": "code",
   "execution_count": 3,
   "metadata": {
    "collapsed": false,
    "jupyter": {
     "outputs_hidden": false
    },
    "pycharm": {
     "name": "#%%\n"
    }
   },
   "outputs": [
    {
     "data": {
      "text/html": [
       "<div>\n",
       "<style scoped>\n",
       "    .dataframe tbody tr th:only-of-type {\n",
       "        vertical-align: middle;\n",
       "    }\n",
       "\n",
       "    .dataframe tbody tr th {\n",
       "        vertical-align: top;\n",
       "    }\n",
       "\n",
       "    .dataframe thead th {\n",
       "        text-align: right;\n",
       "    }\n",
       "</style>\n",
       "<table border=\"1\" class=\"dataframe\">\n",
       "  <thead>\n",
       "    <tr style=\"text-align: right;\">\n",
       "      <th></th>\n",
       "      <th>text_original</th>\n",
       "      <th>label</th>\n",
       "    </tr>\n",
       "  </thead>\n",
       "  <tbody>\n",
       "    <tr>\n",
       "      <th>3472</th>\n",
       "      <td>So lautet zumindest der Befund einer aktuellen Studie, die Aussterberaten verglich. Ohne massives Gegensteuern werde die Erde Millionen Jahre zur Erholung brauchen. Miami – Die Erdgeschichte lässt sich nicht weniger an Ereignissen festmachen, die massenhaften Tod mit sich brachten, als die menschliche Historie. Die einzelnen Erdzeitalter werden vor allem aufgrund starker biologischer Veränderungen voneinander unterschieden. Damit sich aber die charakteristische Flora und Fauna einer Ära entwickeln konnte, musste erst die der vorangegangenen Epoche weichen. Oft geschah dies aufgrund katastrophaler Ereignisse, die binnen relativ kurzer Zeit eine längere Phase der Stabilität beendeten. In der Geschichte des Lebens gibt es eine lange Reihe von Massenaussterbeereignissen auf regionaler oder sogar globaler Ebene. Fünf davon hatten jedoch so drastische Auswirkungen, dass sie traditionell über alle anderen gestellt werden: Das bekannteste vor knapp 66 Millionen Jahren, das alle Dinosaurier...</td>\n",
       "      <td>Wissenschaft</td>\n",
       "    </tr>\n",
       "    <tr>\n",
       "      <th>8003</th>\n",
       "      <td>Fast zwei Drittel der Slowenen stimmten am Sonntag in einem Referendum gegen die Gleichstellung der Homosexuellen im Eherecht. Die liberale Regierung ist mit ihrem Gesetz gescheitert. Aktivisten wollen nun auf rechtlicher Ebene die Diskriminierung bekämpfen. Ljubljana – Wir sind bereits daran gewöhnt. Immer wenn wir verlieren, ist das ein kleiner Schritt nach vorn, sagt der LGBT-Aktivist Mitja Blazic aus Ljubljana zum STANDARD. Die slowenischen Schwulen und Lesben versuchen sich über das Referendum am Sonntag hinwegzutrösten, bei dem sich eine Mehrheit gegen ihre rechtliche Gleichstellung ausgesprochen hat. Mehr als 63 Prozent Slowenen stimmten dagegen. Das Gesetz war im März von der liberalen Regierung gemacht worden, doch kirchennahe konservative Kreise hatten dagegen mobilisiert. Blazic und seine Mitstreiter überlegen nun auf einer anderen Ebene die mangelnde Gleichberechtigung der Homosexuellen zu bekämpfen. Sie wollen insgesamt 70 Gesetze, die diskriminierend sind – etwa im So...</td>\n",
       "      <td>International</td>\n",
       "    </tr>\n",
       "    <tr>\n",
       "      <th>6301</th>\n",
       "      <td>Redakteure stimmten für Christa Hofmann. Wien – Das Weltjournal des ORF sucht einen neuen Redaktionschef. Donnerstag müssen sich die Bewerber einem Unternehmenshearing stellen. Am Dienstag stimmte die Redakteursversammlung ab – mehrheitlich für Redakteurin Christa Hofmann. Vor der Abstimmung schickten die scheidenden Redaktionsleiter Walter Erdelitsch und Claudia Neuhauser allen Journalisten der ORF-Hauptabteilung ein langes Mail zu Anforderungen und Team. Es endete mit dem Satz: Die Kandidatin der Redaktion Weltjournal ist Christa Hofmann, die seit 2010 auch die Abwesenheitsstellvertreterin der Sendungsverantwortlichen ist. Und: Wir wünschen allen Kandidaten und Kandidatinnen ein gutes Hearing. ORF-Chef Alexander Wrabetz besetzt den Job auf Vorschlag der TV-Direktorin. Der Vorschlag bindet ihn ebenso wenig wie das Redakteursvotum.</td>\n",
       "      <td>Etat</td>\n",
       "    </tr>\n",
       "    <tr>\n",
       "      <th>7414</th>\n",
       "      <td>Asylnovelle noch nicht auf Tagesordnung. Wien – Die Regierung findet kommenden Dienstag erstmals im neuen Jahr zu einer Sitzung zusammen. Inhaltliche Highlights hat der erste Ministerrat 2016 allerdings nicht zu bieten, wie ein Blick auf die Tagesordnung zeigt. Die Asylgesetznovelle ist offenbar noch nicht beschlussreif. Und auch sonst sind nach derzeitigem Stand keine Regierungsvorlagen zu erwarten. Immerhin beschließt die Regierung, auch heuer wieder den Ehrenschutz für den Opernball zu übernehmen. Ansonsten ist laut Bundeskanzleramt unter anderem die Arbeitsmarktsituation Thema, denn Sozialminister Rudolf Hundstorfer (SPÖ) legt den Kollegen die Arbeitslosenzahlen vom Dezember 2015 vor. Finanzminister Hans Jörg Schelling (ÖVP) wird als österreichischer Gouverneur bei der Asiatischen Infrastruktur Investitionsbank nominiert, Finanzministeriums-Sektionschef Harald Waiglein wird stellvertretender Gouverneur.</td>\n",
       "      <td>Inland</td>\n",
       "    </tr>\n",
       "    <tr>\n",
       "      <th>4284</th>\n",
       "      <td>Stoff kann als Interface benutzt werden – Steuerung von Musik über Ärmel. Smarte Stoffe könnten unseren Umgang mit Technologie in den kommenden Jahren nachhaltig verändern, davon ist zumindest Googles Forschungsabteilung ATAP überzeugt. Im Vorjahr hat man erstmals das sich diesem Thema widmende Project Jacquard präsentiert, nun gelangt dieses vom Forschungsunterfangen zur Marktreife. Gemeinsam mit dem Kleidungshersteller Levis bringt Google kommendes Jahr eine smarte Jacke auf den Markt. Das Levis Commuter Jacket  kann direkt für die Interaktion mit dem eigenen Smartphone genutzt werden. So soll es etwa möglich sein, über das Berühren des Ärmels einen Anruf anzunehmen, die Lautstärke zu ändern oder auch auf ein neues Lied zu wechseln. Auch mit Google Navigation lässt sich interagieren. Google und Levis denken dabei vor allem an Radfahrer, damit diese nicht das Smartphone aus der Tasche holen müssen. Möglich wird dies durch feine, leitfähige Fäden, die direkt im Stoff verwoben sind....</td>\n",
       "      <td>Web</td>\n",
       "    </tr>\n",
       "    <tr>\n",
       "      <th>...</th>\n",
       "      <td>...</td>\n",
       "      <td>...</td>\n",
       "    </tr>\n",
       "    <tr>\n",
       "      <th>4449</th>\n",
       "      <td>Vorführung auf Google I/O - erfolgreicher Start und nachträglicher Einbau von Kamera-Modul. Wenngleich es im Rahmen der Keynote kaum Erwähnung fand, hat Googles Projekt zur Entwicklung eines modularen Smartphones, Ara, weiter große Fortschritte gemacht. Bei einer Session auf der Google I/O in San Francisco konnten die Mitarbeiter der zuständigen ATAP-Abteilung den aktuellen Entwicklungsstand live präsentieren. Technikspezialist Rafa Camargo demonstrierte den Prototypen. Das Konzept von Ara sieht vor, dass praktisch alle Komponenten des Smartphones – darunter auch die CPU – über einen zentralen Bus miteinander kommunizieren, der gleichzeitig auch das Skelett des Telefons darstellt. Der Anschluss erfolgt dabei über Einschübe mit magnetischen Kontakten. Camargo zeigte einen aktuellen Spiral 2-Prototypen, der unter anderem mit zwei Lautsprechern konfiguriert war. Nach dem Start des Gerätes demonstrierte er den nachträglichen Anschluss eines Kamera-Moduls. Ara wurde außerdem auch softwa...</td>\n",
       "      <td>Web</td>\n",
       "    </tr>\n",
       "    <tr>\n",
       "      <th>2088</th>\n",
       "      <td>Elisabeth Scharangs Unterweger-Interpretation feiert Weltpremiere. Bern/Locarno/Wien –18 Werke konkurrieren heuer im Wettbewerb des Filmfestivals Locarno vom 5. bis 15. August um den Goldenen Leoparden. Eröffnet wird das Festival mit Ricki and the Flash auf der Piazza Grande. Im Familiendrama von Jonathan Demme (Das Schweigen der Lämmer) verkörpert Meryl Streep eine Bandleaderin fortgeschrittenen Alters, die sich nach Jahrzehnten auf Tour von ihren Kindern entfremdet hat und die Versöhnung sucht. Die belgische Regisseurin Chantal Akerman steht im Concorso internazionale, dem Hauptwettbewerb, u.a. dem Briten Ben Rivers (The sky trembles and the earth is afraid and the two eyes are not brothers), dem US-Amerikaner Rick Alverson (Entertainment) und der Griechin Athina Rachel Tsangari (Chevalier) gegenüber. Zur Jury gehören neben dem israelischen Regisseur Nadav Lapid, der mexikanischen Festivalleiterin Daniela Michel und der südkoreanischen Schauspielerin Moon So-ri auch der in Hollyw...</td>\n",
       "      <td>Kultur</td>\n",
       "    </tr>\n",
       "    <tr>\n",
       "      <th>391</th>\n",
       "      <td>19 bekannte Persönlichkeiten Algeriens fragen sich, ob der Präsident noch weiß, was im Land passiert. In Algerien ist die seltsame Situation eingetreten, dass 19 bekannte Persönlichkeiten einen Brief an den Staatspräsidenten schreiben, um ihn um ein Treffen zu bitten – aber dafür den Weg über die Öffentlichkeit wählen. Da sie Zweifel daran haben, dass Präsident Abdelaziz Bouteflika den Brief jemals zu Gesicht bekommt, geben sie die Existenz und den Inhalt des Briefs in einer Pressekonferenz bekannt. Damit haben sie zwar noch immer keine Garantie, dass er ihn bekommt, aber sie haben öffentlich den Finger auf die Wunde gelegt: Ist der Präsident eigentlich noch auf dem Laufenden über das, was in Algerien passiert? Als Wortführerin der Gruppe tritt die Linkspolitikerin und Juristin Louisa Hanoune auf. Die Zeitung El Khabar meldet, dass der Brief, der am 1. November vorgestellt wurde, noch von dutzenden anderen Personen des öffentlichen Lebens aus den unterschiedlichsten Lagern unterstü...</td>\n",
       "      <td>International</td>\n",
       "    </tr>\n",
       "    <tr>\n",
       "      <th>4838</th>\n",
       "      <td>Metamaterial ändert je nach Temperatur seine magnetischen Eigenschaften. Villigen – Aus einer Milliarde winziger Magnete haben Forscher am Paul Scherrer Institut (PSI) ein künstliches Material erschaffen. Überraschenderweise ändern sich die magnetischen Eigenschaften dieses sogenannten Metamaterials je nach Temperatur, so dass es verschiedene Zustände einnehmen kann; ähnlich wie Wasser einen gasförmigen, flüssigen und festen Zustand hat. Dies ließe sich womöglich für zukünftige elektronische Anwendungen weiterentwickeln, wie die Forscher in Nature Communications berichten. Ähnlich wie die Übergänge zwischen Dampf, Wasser und Eis zeigt auch das sogenannte Metamaterial aus Nanomagneten Phasenübergänge. Wir waren überrascht und begeistert, sagt Studienleiterin Laura Heyderman. Denn nur komplexe Systeme können Phasenübergänge aufweisen. Zugleich könnten komplexe Systeme zu neuen Arten der Informationsübertragung dienen. Der große Vorteil des künstlichen Metamaterials sei, dass es sich ...</td>\n",
       "      <td>Wissenschaft</td>\n",
       "    </tr>\n",
       "    <tr>\n",
       "      <th>7854</th>\n",
       "      <td>Die \"Initiative gegen Überhundung\" legt die Mechanismen populistischer Panikmache offen – und schafft sich damit Feinde. Es ist eine auf den ersten Blick bizarre politische Vereinigung, die mit Reimen auf Volksschulniveau gegen eine Minderheit hetzt, weil diese angeblich den normalen Österreicher bedroht: Die Initiative Hunde raus aus Österreich hat es sich zum Ziel gesetzt, der Überhundung Österreichs ein Ende zu setzen. Mit Slogans wie Österreich statt Waustria und Deutsch statt Wuff will das Projekt mit seiner Facebook-Seite aufrütteln. Dabei handelt es sich natürlich um ein Satireprojekt: Die drei Betreiber wollen offenlegen, welcher Mechanismen sich Populisten bedienen, um gegen Minderheiten zu hetzen – und auch die Absurdität mancher Behauptungen klarmachen. Der Hund eigne sich dabei am besten als Platzhalter, zeigen sich die Seiten-Betreiber überzeugt: Hunde sind greifbar. Irgendwie kann sich jeder damit auf die eine oder andere Weise identifizieren, vielleicht oder gerade m...</td>\n",
       "      <td>Web</td>\n",
       "    </tr>\n",
       "  </tbody>\n",
       "</table>\n",
       "<p>100 rows × 2 columns</p>\n",
       "</div>"
      ],
      "text/plain": [
       "                                                                                                                                                                                                                                                                                                                                                                                                                                                                                                                                                                                                                                                                                                                                                                                                                                                                                                                                                                                                                                text_original  \\\n",
       "3472  So lautet zumindest der Befund einer aktuellen Studie, die Aussterberaten verglich. Ohne massives Gegensteuern werde die Erde Millionen Jahre zur Erholung brauchen. Miami – Die Erdgeschichte lässt sich nicht weniger an Ereignissen festmachen, die massenhaften Tod mit sich brachten, als die menschliche Historie. Die einzelnen Erdzeitalter werden vor allem aufgrund starker biologischer Veränderungen voneinander unterschieden. Damit sich aber die charakteristische Flora und Fauna einer Ära entwickeln konnte, musste erst die der vorangegangenen Epoche weichen. Oft geschah dies aufgrund katastrophaler Ereignisse, die binnen relativ kurzer Zeit eine längere Phase der Stabilität beendeten. In der Geschichte des Lebens gibt es eine lange Reihe von Massenaussterbeereignissen auf regionaler oder sogar globaler Ebene. Fünf davon hatten jedoch so drastische Auswirkungen, dass sie traditionell über alle anderen gestellt werden: Das bekannteste vor knapp 66 Millionen Jahren, das alle Dinosaurier...   \n",
       "8003  Fast zwei Drittel der Slowenen stimmten am Sonntag in einem Referendum gegen die Gleichstellung der Homosexuellen im Eherecht. Die liberale Regierung ist mit ihrem Gesetz gescheitert. Aktivisten wollen nun auf rechtlicher Ebene die Diskriminierung bekämpfen. Ljubljana – Wir sind bereits daran gewöhnt. Immer wenn wir verlieren, ist das ein kleiner Schritt nach vorn, sagt der LGBT-Aktivist Mitja Blazic aus Ljubljana zum STANDARD. Die slowenischen Schwulen und Lesben versuchen sich über das Referendum am Sonntag hinwegzutrösten, bei dem sich eine Mehrheit gegen ihre rechtliche Gleichstellung ausgesprochen hat. Mehr als 63 Prozent Slowenen stimmten dagegen. Das Gesetz war im März von der liberalen Regierung gemacht worden, doch kirchennahe konservative Kreise hatten dagegen mobilisiert. Blazic und seine Mitstreiter überlegen nun auf einer anderen Ebene die mangelnde Gleichberechtigung der Homosexuellen zu bekämpfen. Sie wollen insgesamt 70 Gesetze, die diskriminierend sind – etwa im So...   \n",
       "6301                                                                                                                                                              Redakteure stimmten für Christa Hofmann. Wien – Das Weltjournal des ORF sucht einen neuen Redaktionschef. Donnerstag müssen sich die Bewerber einem Unternehmenshearing stellen. Am Dienstag stimmte die Redakteursversammlung ab – mehrheitlich für Redakteurin Christa Hofmann. Vor der Abstimmung schickten die scheidenden Redaktionsleiter Walter Erdelitsch und Claudia Neuhauser allen Journalisten der ORF-Hauptabteilung ein langes Mail zu Anforderungen und Team. Es endete mit dem Satz: Die Kandidatin der Redaktion Weltjournal ist Christa Hofmann, die seit 2010 auch die Abwesenheitsstellvertreterin der Sendungsverantwortlichen ist. Und: Wir wünschen allen Kandidaten und Kandidatinnen ein gutes Hearing. ORF-Chef Alexander Wrabetz besetzt den Job auf Vorschlag der TV-Direktorin. Der Vorschlag bindet ihn ebenso wenig wie das Redakteursvotum.   \n",
       "7414                                                                                 Asylnovelle noch nicht auf Tagesordnung. Wien – Die Regierung findet kommenden Dienstag erstmals im neuen Jahr zu einer Sitzung zusammen. Inhaltliche Highlights hat der erste Ministerrat 2016 allerdings nicht zu bieten, wie ein Blick auf die Tagesordnung zeigt. Die Asylgesetznovelle ist offenbar noch nicht beschlussreif. Und auch sonst sind nach derzeitigem Stand keine Regierungsvorlagen zu erwarten. Immerhin beschließt die Regierung, auch heuer wieder den Ehrenschutz für den Opernball zu übernehmen. Ansonsten ist laut Bundeskanzleramt unter anderem die Arbeitsmarktsituation Thema, denn Sozialminister Rudolf Hundstorfer (SPÖ) legt den Kollegen die Arbeitslosenzahlen vom Dezember 2015 vor. Finanzminister Hans Jörg Schelling (ÖVP) wird als österreichischer Gouverneur bei der Asiatischen Infrastruktur Investitionsbank nominiert, Finanzministeriums-Sektionschef Harald Waiglein wird stellvertretender Gouverneur.   \n",
       "4284  Stoff kann als Interface benutzt werden – Steuerung von Musik über Ärmel. Smarte Stoffe könnten unseren Umgang mit Technologie in den kommenden Jahren nachhaltig verändern, davon ist zumindest Googles Forschungsabteilung ATAP überzeugt. Im Vorjahr hat man erstmals das sich diesem Thema widmende Project Jacquard präsentiert, nun gelangt dieses vom Forschungsunterfangen zur Marktreife. Gemeinsam mit dem Kleidungshersteller Levis bringt Google kommendes Jahr eine smarte Jacke auf den Markt. Das Levis Commuter Jacket  kann direkt für die Interaktion mit dem eigenen Smartphone genutzt werden. So soll es etwa möglich sein, über das Berühren des Ärmels einen Anruf anzunehmen, die Lautstärke zu ändern oder auch auf ein neues Lied zu wechseln. Auch mit Google Navigation lässt sich interagieren. Google und Levis denken dabei vor allem an Radfahrer, damit diese nicht das Smartphone aus der Tasche holen müssen. Möglich wird dies durch feine, leitfähige Fäden, die direkt im Stoff verwoben sind....   \n",
       "...                                                                                                                                                                                                                                                                                                                                                                                                                                                                                                                                                                                                                                                                                                                                                                                                                                                                                                                                                                                                                                       ...   \n",
       "4449  Vorführung auf Google I/O - erfolgreicher Start und nachträglicher Einbau von Kamera-Modul. Wenngleich es im Rahmen der Keynote kaum Erwähnung fand, hat Googles Projekt zur Entwicklung eines modularen Smartphones, Ara, weiter große Fortschritte gemacht. Bei einer Session auf der Google I/O in San Francisco konnten die Mitarbeiter der zuständigen ATAP-Abteilung den aktuellen Entwicklungsstand live präsentieren. Technikspezialist Rafa Camargo demonstrierte den Prototypen. Das Konzept von Ara sieht vor, dass praktisch alle Komponenten des Smartphones – darunter auch die CPU – über einen zentralen Bus miteinander kommunizieren, der gleichzeitig auch das Skelett des Telefons darstellt. Der Anschluss erfolgt dabei über Einschübe mit magnetischen Kontakten. Camargo zeigte einen aktuellen Spiral 2-Prototypen, der unter anderem mit zwei Lautsprechern konfiguriert war. Nach dem Start des Gerätes demonstrierte er den nachträglichen Anschluss eines Kamera-Moduls. Ara wurde außerdem auch softwa...   \n",
       "2088  Elisabeth Scharangs Unterweger-Interpretation feiert Weltpremiere. Bern/Locarno/Wien –18 Werke konkurrieren heuer im Wettbewerb des Filmfestivals Locarno vom 5. bis 15. August um den Goldenen Leoparden. Eröffnet wird das Festival mit Ricki and the Flash auf der Piazza Grande. Im Familiendrama von Jonathan Demme (Das Schweigen der Lämmer) verkörpert Meryl Streep eine Bandleaderin fortgeschrittenen Alters, die sich nach Jahrzehnten auf Tour von ihren Kindern entfremdet hat und die Versöhnung sucht. Die belgische Regisseurin Chantal Akerman steht im Concorso internazionale, dem Hauptwettbewerb, u.a. dem Briten Ben Rivers (The sky trembles and the earth is afraid and the two eyes are not brothers), dem US-Amerikaner Rick Alverson (Entertainment) und der Griechin Athina Rachel Tsangari (Chevalier) gegenüber. Zur Jury gehören neben dem israelischen Regisseur Nadav Lapid, der mexikanischen Festivalleiterin Daniela Michel und der südkoreanischen Schauspielerin Moon So-ri auch der in Hollyw...   \n",
       "391   19 bekannte Persönlichkeiten Algeriens fragen sich, ob der Präsident noch weiß, was im Land passiert. In Algerien ist die seltsame Situation eingetreten, dass 19 bekannte Persönlichkeiten einen Brief an den Staatspräsidenten schreiben, um ihn um ein Treffen zu bitten – aber dafür den Weg über die Öffentlichkeit wählen. Da sie Zweifel daran haben, dass Präsident Abdelaziz Bouteflika den Brief jemals zu Gesicht bekommt, geben sie die Existenz und den Inhalt des Briefs in einer Pressekonferenz bekannt. Damit haben sie zwar noch immer keine Garantie, dass er ihn bekommt, aber sie haben öffentlich den Finger auf die Wunde gelegt: Ist der Präsident eigentlich noch auf dem Laufenden über das, was in Algerien passiert? Als Wortführerin der Gruppe tritt die Linkspolitikerin und Juristin Louisa Hanoune auf. Die Zeitung El Khabar meldet, dass der Brief, der am 1. November vorgestellt wurde, noch von dutzenden anderen Personen des öffentlichen Lebens aus den unterschiedlichsten Lagern unterstü...   \n",
       "4838  Metamaterial ändert je nach Temperatur seine magnetischen Eigenschaften. Villigen – Aus einer Milliarde winziger Magnete haben Forscher am Paul Scherrer Institut (PSI) ein künstliches Material erschaffen. Überraschenderweise ändern sich die magnetischen Eigenschaften dieses sogenannten Metamaterials je nach Temperatur, so dass es verschiedene Zustände einnehmen kann; ähnlich wie Wasser einen gasförmigen, flüssigen und festen Zustand hat. Dies ließe sich womöglich für zukünftige elektronische Anwendungen weiterentwickeln, wie die Forscher in Nature Communications berichten. Ähnlich wie die Übergänge zwischen Dampf, Wasser und Eis zeigt auch das sogenannte Metamaterial aus Nanomagneten Phasenübergänge. Wir waren überrascht und begeistert, sagt Studienleiterin Laura Heyderman. Denn nur komplexe Systeme können Phasenübergänge aufweisen. Zugleich könnten komplexe Systeme zu neuen Arten der Informationsübertragung dienen. Der große Vorteil des künstlichen Metamaterials sei, dass es sich ...   \n",
       "7854  Die \"Initiative gegen Überhundung\" legt die Mechanismen populistischer Panikmache offen – und schafft sich damit Feinde. Es ist eine auf den ersten Blick bizarre politische Vereinigung, die mit Reimen auf Volksschulniveau gegen eine Minderheit hetzt, weil diese angeblich den normalen Österreicher bedroht: Die Initiative Hunde raus aus Österreich hat es sich zum Ziel gesetzt, der Überhundung Österreichs ein Ende zu setzen. Mit Slogans wie Österreich statt Waustria und Deutsch statt Wuff will das Projekt mit seiner Facebook-Seite aufrütteln. Dabei handelt es sich natürlich um ein Satireprojekt: Die drei Betreiber wollen offenlegen, welcher Mechanismen sich Populisten bedienen, um gegen Minderheiten zu hetzen – und auch die Absurdität mancher Behauptungen klarmachen. Der Hund eigne sich dabei am besten als Platzhalter, zeigen sich die Seiten-Betreiber überzeugt: Hunde sind greifbar. Irgendwie kann sich jeder damit auf die eine oder andere Weise identifizieren, vielleicht oder gerade m...   \n",
       "\n",
       "              label  \n",
       "3472   Wissenschaft  \n",
       "8003  International  \n",
       "6301           Etat  \n",
       "7414         Inland  \n",
       "4284            Web  \n",
       "...             ...  \n",
       "4449            Web  \n",
       "2088         Kultur  \n",
       "391   International  \n",
       "4838   Wissenschaft  \n",
       "7854            Web  \n",
       "\n",
       "[100 rows x 2 columns]"
      ]
     },
     "execution_count": 3,
     "metadata": {},
     "output_type": "execute_result"
    }
   ],
   "source": [
    "pd.set_option('display.max_colwidth', 1000),\n",
    "data_train.sample(100)"
   ]
  },
  {
   "cell_type": "markdown",
   "metadata": {},
   "source": [
    "### Test Set"
   ]
  },
  {
   "cell_type": "code",
   "execution_count": 4,
   "metadata": {
    "collapsed": false,
    "jupyter": {
     "outputs_hidden": false
    },
    "pycharm": {
     "name": "#%%\n"
    }
   },
   "outputs": [
    {
     "data": {
      "text/html": [
       "<div>\n",
       "<style scoped>\n",
       "    .dataframe tbody tr th:only-of-type {\n",
       "        vertical-align: middle;\n",
       "    }\n",
       "\n",
       "    .dataframe tbody tr th {\n",
       "        vertical-align: top;\n",
       "    }\n",
       "\n",
       "    .dataframe thead th {\n",
       "        text-align: right;\n",
       "    }\n",
       "</style>\n",
       "<table border=\"1\" class=\"dataframe\">\n",
       "  <thead>\n",
       "    <tr style=\"text-align: right;\">\n",
       "      <th></th>\n",
       "      <th>text_original</th>\n",
       "      <th>label</th>\n",
       "    </tr>\n",
       "  </thead>\n",
       "  <tbody>\n",
       "    <tr>\n",
       "      <th>30</th>\n",
       "      <td>Beratungen gehen nach dem Treffen zwischen Kerry und Lawrow in Wien weiter – Thema ist Einbindung weiterer Akteuer. Moskau – Russland hat Wahlen im Bürgerkriegsland Syrien als Teil einer politischen Lösung des Konflikts gefordert. Natürlich müssen Parlaments- und Präsidentenwahlen vorbereitet werden, sagte Außenminister Sergej Lawrow dem staatlichen Fernsehsender Rossija 1 am Samstag. Nach dem weitgehend ergebnislosen Treffen mit US-Außenminister John Kerry in Wien am Vortag setzten die beiden Minister ihre Beratungen über die Lage in Syrien telefonisch fort. Nach Angaben aus Moskau sprachen sie unter anderem über die mögliche Einbindung weiterer Akteure aus Nahost. Lawrow informierte auch die Außenminister des Irans und Ägyptens über das Treffen in Wien. Bereits in den kommenden Tagen wollen Lawrow und Kerry ihre Verhandlungen über den Syrien-Konflikt fortsetzen. Der russische Außenminister machte sich für eine erweiterte Gesprächsrunde stark. Auch der Iran, Ägypten, Katar, die Ve...</td>\n",
       "      <td>International</td>\n",
       "    </tr>\n",
       "    <tr>\n",
       "      <th>676</th>\n",
       "      <td>Die Ermittler hatten zunächst einen Unfall angenommen, nun ermitteln sie wegen Mordes gegen den Ehemann des Opfers. Celle – Eine 36 Jahre alte Frau aus dem Kreis Celle in Niedersachsen ist an schweren Brandverletzungen gestorben, nachdem ihr Mann sie mit Benzin übergossen und angezündet haben soll. Gegen den 43-jährigen Ehemann werde wegen Mordes ermittelt, sagte Staatsanwalt Witold Franke am Dienstag zu einem Bericht der Celleschen Zeitung. Die Frau hatte mehr als zwei Wochen lang im Krankenhaus um ihr Leben gerungen. Nach der Verpuffung im niedersächsischen Bergen im November, bei der die Frau lebensgefährlich verletzt worden war, waren die Ermittler zunächst von einem Unfall ausgegangen. Später hatten Brandermittler jedoch Spuren in der Wohnung des Paares sichergestellt, die darauf hindeuteten, dass Benzin im Wohnzimmer verschüttet und das Feuer absichtlich gelegt wurde. Der Ehemann hatte eine Rauchgasvergiftung erlitten, tauchte aber kurze Zeit später unter. Anfang Dezember wur...</td>\n",
       "      <td>Panorama</td>\n",
       "    </tr>\n",
       "    <tr>\n",
       "      <th>485</th>\n",
       "      <td>Das Gesetz zum Schutz von Frauen tritt am Dienstag in Kraft. Doch zuvor hat China die größte Frauenschutzinitiative des Landes schließen lassen – weil sie eine NGO und kein KP-Verein ist. Peking – Es war kurz vor Mitternacht. Die Sichuaner Hausfrau Li Yan wusch in der Küche ab. Ihr angetrunkener Mann Tan Yong schaute zu. Plötzlich griff er sein Luftgewehr und zielte auf die Fensterablage zehn Zentimeter oberhalb von Li. Die 39-Jährige schimpfte, er könnte sie am Kopf treffen. Das machte ihn nur wütend: Dann schieße ich dir auf den Po. Beide stritten in der Nacht auf den 3. November 2010, in der Li ihren Mann umbrachte. 19 Monate waren sie verheiratet. Beide hatten gescheiterte Ehen hinter sich. Tan war dreimal wegen Gewalttätigkeit geschieden worden. Li glaubte ihm, dass er sich verändert hätte. Bald ging sein Jähzorn wieder mit ihm durch. Er verbot ihr alles, selbst ihre Tochter aus erster Ehe zu treffen. Brutal drückte er Zigaretten auf ihrer Haut aus, schnitt ihr in einem Wutanf...</td>\n",
       "      <td>Panorama</td>\n",
       "    </tr>\n",
       "    <tr>\n",
       "      <th>1003</th>\n",
       "      <td>Bis zu 300 Menschen gingen bei Essensausgabe mit Stöcken und Steinen aufeinander los. Calais – Bei einer Massenschlägerei im Flüchtlingscamp von Calais sind 40 Menschen verletzt worden. Etwa 200 bis 300 Migranten seien unter anderem mit Stöcken und Steinen aufeinander losgegangen, berichtete die Präfektur des nordfranzösischen Departements Pas-de-Calais am Freitag. Mehr als 400 Polizisten schritten ein, um die Auseinandersetzung zwischen Afghanen und Sudanesen zu beenden. Mittlerweile hat auch die Staatsanwaltschaft Ermittlungen wegen bewaffneter Gewalt aufgenommen. Das bestätigte Staatsanwalt Jean-Pierre Valensi am Freitag der Nachrichtenagentur AFP. Die Behörde sprach von 33 leicht verletzten Flüchtlingen und zwei leicht verletzten Polizisten. Zudem wurden fünf Mitarbeiter der Hilfsorganisation Vie Active verletzt, eine von ihnen schwerer. Es bestehe aber keine Lebensgefahr, sagte ein Sprecher der Präfektur. Die Schlägerei begann am Donnerstagnachmittag während der Essensausgabe ...</td>\n",
       "      <td>Panorama</td>\n",
       "    </tr>\n",
       "    <tr>\n",
       "      <th>378</th>\n",
       "      <td>Griechische Regierung: Umgehung des Grenzzauns war \"organisierte Aktion\" mit Flugblättern. Athen – Mazedonien hat nach eigenen Angaben mehrere hundert Migranten nach Griechenland geschickt, die sich aus dem Flüchtlingslager Idomeni nach einem Fußmarsch über die Grenze durchgeschlagen haben. Die meisten der Flüchtlinge seien noch am Montag oder in der Nacht mit Lastwagen zurück nach Griechenland gebracht worden, sagte ein Polizeisprecher am Dienstag. Von der griechischen Regierung hieß es, sie könne dies weder bestätigen noch dementieren. Hunderte Menschen aus dem Notlager an der griechisch-mazedonischen Grenze, in dem mehr als 12.000 Männer, Frauen und Kinder seit der Schließung der Balkanroute festsitzen, hatten sich am Montag auf eine mehrstündige Wanderung gemacht, durchquerten einen Fluss und nutzten schließlich eine Lücke im Grenzzaun. Auf mazedonischem Gebiet wurden sie jedoch von der Polizei oder von Soldaten aufgegriffen. Nach Ansicht Athens war der Versuch, die Grenze zu ü...</td>\n",
       "      <td>Panorama</td>\n",
       "    </tr>\n",
       "    <tr>\n",
       "      <th>...</th>\n",
       "      <td>...</td>\n",
       "      <td>...</td>\n",
       "    </tr>\n",
       "    <tr>\n",
       "      <th>642</th>\n",
       "      <td>Interessante Konzepte treffen auf eine weiterhin mangelhafte Umsetzung. Es war Anfang 2013, da trat Ubuntu-Gründer Mark Shuttleworth mit einem ambitionierten Projekt an die Öffentlichkeit: Mit Ubuntu Phone soll die bekannte Linux-Distribution künftig auch den Smartphone-Markt erobern. Zweieinhalb Jahre später ist davon noch nicht viel zu bemerken. Die – zugegeben reichlich ambitionierten – Zeitpläne mussten immer wieder verschoben werden, eine Crowdfunding-Kampagne brachte zwar viel Aufmerksamkeit, scheiterte schlussendlich aber doch. Der Marktanteil von Ubuntu bei Smartphones ist bislang entsprechend gleich null. Das könnte – und soll – sich nun aber ändern: Sind doch mittlerweile die ersten Smartphones mit dem Linux-System im Handel erhältlich. So liefert etwa der chinesische Hersteller Meizu mittlerweile eine Version seines MX4, die mit Ubuntu ausgestattet ist. Diese haben wir in den letzten Tagen unter die Lupe genommen, der Fokus lag dabei bewusst auf der Software – die Hardwa...</td>\n",
       "      <td>Web</td>\n",
       "    </tr>\n",
       "    <tr>\n",
       "      <th>674</th>\n",
       "      <td>Stealth-Jagdflugzeuge besuchen Litauen und Rumänien. Im Rahmen der Nato-Aufrüstung in Osteuropa haben die US-Streitkräfte zwei F-22-Kampfflugzeuge nach Rumänien und Litauen entsandt. Die Flugzeuge landeten am Montag auf dem Luftwaffenstützpunkt Mihail Kogalniceanu, der in der Nähe der Stadt Constanța liegt, am Mittwoch kamen sie auf dem litauischen Flugplatz Siauliai an, wo sie von Präsidentin Dalia Grybauskaite begrüßt wurden. Die F-22 Raptor soll den Luftüberlegenheitsjäger F-15A-D Eagle ablösen und verfügt im Gegensatz zum Vorgänger über Tarnkappeneigenschaften. Sie kann ohne Einsatz von Nachbrennern Überschallgeschwindigkeit erreichen und gilt mit einem Stückpreis von 189 Millionen Dollar (167 Millionen Euro) als das teuerste Jagdflugzeug der Welt. Air-Force-Sprecherin Sheryll Klinkel erklärte, mit der Stationierung wolle man eine stärkere Präsenz an der Nato-Ostgrenze erreichen: Wir wollen von mehreren Stützpunkten aus operieren, um den Gegner in Unsicherheit darüber zu verset...</td>\n",
       "      <td>International</td>\n",
       "    </tr>\n",
       "    <tr>\n",
       "      <th>459</th>\n",
       "      <td>Demnächst wird bei den Verhandlungen die Landwirtschaft besprochen. Dabei zeigen sich schon jetzt große Differenzen. Wien – In den kommenden Wochen und Monaten sollen die Verhandlungen zum Freihandelsabkommen TTIP (Transatlantische Handels- und Investitionspartnerschaft) in die Phase treten, wo über die Landwirtschaft verhandelt wird. Die Positionen dazu liegen teilweise weit auseinander, erläutert Landwirtschaftskammerpräsident Hermann Schultes. Wir wollen, dass das Abkommen für uns sinnvoll ist, sagt er. Die Bauernvertreter wollen deshalb in den nächsten Monaten offensiv die Vor- und Nachteile, die sich im Verlauf der Verhandlungen ergeben, kommunizieren. Nur so werden die Menschen das auch mittragen wollen. · Der augenfälligste Unterschied im Zugang zu dem Abkommen zwischen der EU und den USA liegt in der Art, wie Produkt- beziehungsweise Markenschutz für Agrargüter geregelt sind. In der EU gibt es geografische Ursprungsbezeichnungen, mit denen sich ein Land oder eine Region typ...</td>\n",
       "      <td>Wirtschaft</td>\n",
       "    </tr>\n",
       "    <tr>\n",
       "      <th>149</th>\n",
       "      <td>15 Menschen noch immer vermisst. Tianjin – Mehr als zwei Wochen nach den verheerenden Explosionen in der chinesischen Hafenstadt Tianjin ist die Zahl der Todesopfer auf 158 gestiegen. 15 Menschen werden noch immer vermisst, berichtete die staatliche Nachrichtenagentur Xinhua am Montag. Zuvor waren den Behörden 145 Tote bekannt gewesen. In einem Chemielager im Hafen der Millionenmetropole waren am 12. August gefährliche Chemikalien explodiert und hatten auf dem Gelände im Binhai Distrikt schwere Zerstörungen und selbst in einem kilometerweiten Umkreis noch Schäden angerichtet. 23 Verantwortliche wurden von der Polizei in Haft genommen oder festgesetzt.</td>\n",
       "      <td>Panorama</td>\n",
       "    </tr>\n",
       "    <tr>\n",
       "      <th>330</th>\n",
       "      <td>Die Kugel kann per Smartphone ferngesteuert werden und verfügt über eine Überwachungskamera. Zwischen neuen Smartphones und Telekomtechnologien findet man am Mobile World Congress in Barcelona immer wieder auch Skurriles. LG zeigte nicht nur sein neues Android-Smartphone G5 und Virtual Reality-Zubehör, sondern auch einen Ball, der ein Doppelleben führt: als Überwachungskamera und Spielzeug für Zwei- und Vierbeiner. Der WebStandard konnte eine Runde mit dem Rolling Bot drehen. Beim Rolling Bot handelt es sich um einen etwa Honigmelonen großen Ball, der per Smartphone dirigiert werden kann und mit einer Kamera ausgestattet ist. Anders als der Ball von Sphero rollt der Ball nicht, sondern verfügt er über zwei drehbare Halbkugeln. Dazwischen befindet sich ein mittlerer Teil, der die Kamera beherbergt. Ferngesteuert wird der Ball per WLAN und Bluetooth von einer Smartphone-App aus. Die Kamera bietet eine Auflösung von 8 Megapixel und kann sowohl Videos live streamen als auch Fotos aufne...</td>\n",
       "      <td>Web</td>\n",
       "    </tr>\n",
       "  </tbody>\n",
       "</table>\n",
       "<p>100 rows × 2 columns</p>\n",
       "</div>"
      ],
      "text/plain": [
       "                                                                                                                                                                                                                                                                                                                                                                                                                                                                                                                                                                                                                                                                                                                                                                                                                                                                                                                                                                                                                                text_original  \\\n",
       "30    Beratungen gehen nach dem Treffen zwischen Kerry und Lawrow in Wien weiter – Thema ist Einbindung weiterer Akteuer. Moskau – Russland hat Wahlen im Bürgerkriegsland Syrien als Teil einer politischen Lösung des Konflikts gefordert. Natürlich müssen Parlaments- und Präsidentenwahlen vorbereitet werden, sagte Außenminister Sergej Lawrow dem staatlichen Fernsehsender Rossija 1 am Samstag. Nach dem weitgehend ergebnislosen Treffen mit US-Außenminister John Kerry in Wien am Vortag setzten die beiden Minister ihre Beratungen über die Lage in Syrien telefonisch fort. Nach Angaben aus Moskau sprachen sie unter anderem über die mögliche Einbindung weiterer Akteure aus Nahost. Lawrow informierte auch die Außenminister des Irans und Ägyptens über das Treffen in Wien. Bereits in den kommenden Tagen wollen Lawrow und Kerry ihre Verhandlungen über den Syrien-Konflikt fortsetzen. Der russische Außenminister machte sich für eine erweiterte Gesprächsrunde stark. Auch der Iran, Ägypten, Katar, die Ve...   \n",
       "676   Die Ermittler hatten zunächst einen Unfall angenommen, nun ermitteln sie wegen Mordes gegen den Ehemann des Opfers. Celle – Eine 36 Jahre alte Frau aus dem Kreis Celle in Niedersachsen ist an schweren Brandverletzungen gestorben, nachdem ihr Mann sie mit Benzin übergossen und angezündet haben soll. Gegen den 43-jährigen Ehemann werde wegen Mordes ermittelt, sagte Staatsanwalt Witold Franke am Dienstag zu einem Bericht der Celleschen Zeitung. Die Frau hatte mehr als zwei Wochen lang im Krankenhaus um ihr Leben gerungen. Nach der Verpuffung im niedersächsischen Bergen im November, bei der die Frau lebensgefährlich verletzt worden war, waren die Ermittler zunächst von einem Unfall ausgegangen. Später hatten Brandermittler jedoch Spuren in der Wohnung des Paares sichergestellt, die darauf hindeuteten, dass Benzin im Wohnzimmer verschüttet und das Feuer absichtlich gelegt wurde. Der Ehemann hatte eine Rauchgasvergiftung erlitten, tauchte aber kurze Zeit später unter. Anfang Dezember wur...   \n",
       "485   Das Gesetz zum Schutz von Frauen tritt am Dienstag in Kraft. Doch zuvor hat China die größte Frauenschutzinitiative des Landes schließen lassen – weil sie eine NGO und kein KP-Verein ist. Peking – Es war kurz vor Mitternacht. Die Sichuaner Hausfrau Li Yan wusch in der Küche ab. Ihr angetrunkener Mann Tan Yong schaute zu. Plötzlich griff er sein Luftgewehr und zielte auf die Fensterablage zehn Zentimeter oberhalb von Li. Die 39-Jährige schimpfte, er könnte sie am Kopf treffen. Das machte ihn nur wütend: Dann schieße ich dir auf den Po. Beide stritten in der Nacht auf den 3. November 2010, in der Li ihren Mann umbrachte. 19 Monate waren sie verheiratet. Beide hatten gescheiterte Ehen hinter sich. Tan war dreimal wegen Gewalttätigkeit geschieden worden. Li glaubte ihm, dass er sich verändert hätte. Bald ging sein Jähzorn wieder mit ihm durch. Er verbot ihr alles, selbst ihre Tochter aus erster Ehe zu treffen. Brutal drückte er Zigaretten auf ihrer Haut aus, schnitt ihr in einem Wutanf...   \n",
       "1003  Bis zu 300 Menschen gingen bei Essensausgabe mit Stöcken und Steinen aufeinander los. Calais – Bei einer Massenschlägerei im Flüchtlingscamp von Calais sind 40 Menschen verletzt worden. Etwa 200 bis 300 Migranten seien unter anderem mit Stöcken und Steinen aufeinander losgegangen, berichtete die Präfektur des nordfranzösischen Departements Pas-de-Calais am Freitag. Mehr als 400 Polizisten schritten ein, um die Auseinandersetzung zwischen Afghanen und Sudanesen zu beenden. Mittlerweile hat auch die Staatsanwaltschaft Ermittlungen wegen bewaffneter Gewalt aufgenommen. Das bestätigte Staatsanwalt Jean-Pierre Valensi am Freitag der Nachrichtenagentur AFP. Die Behörde sprach von 33 leicht verletzten Flüchtlingen und zwei leicht verletzten Polizisten. Zudem wurden fünf Mitarbeiter der Hilfsorganisation Vie Active verletzt, eine von ihnen schwerer. Es bestehe aber keine Lebensgefahr, sagte ein Sprecher der Präfektur. Die Schlägerei begann am Donnerstagnachmittag während der Essensausgabe ...   \n",
       "378   Griechische Regierung: Umgehung des Grenzzauns war \"organisierte Aktion\" mit Flugblättern. Athen – Mazedonien hat nach eigenen Angaben mehrere hundert Migranten nach Griechenland geschickt, die sich aus dem Flüchtlingslager Idomeni nach einem Fußmarsch über die Grenze durchgeschlagen haben. Die meisten der Flüchtlinge seien noch am Montag oder in der Nacht mit Lastwagen zurück nach Griechenland gebracht worden, sagte ein Polizeisprecher am Dienstag. Von der griechischen Regierung hieß es, sie könne dies weder bestätigen noch dementieren. Hunderte Menschen aus dem Notlager an der griechisch-mazedonischen Grenze, in dem mehr als 12.000 Männer, Frauen und Kinder seit der Schließung der Balkanroute festsitzen, hatten sich am Montag auf eine mehrstündige Wanderung gemacht, durchquerten einen Fluss und nutzten schließlich eine Lücke im Grenzzaun. Auf mazedonischem Gebiet wurden sie jedoch von der Polizei oder von Soldaten aufgegriffen. Nach Ansicht Athens war der Versuch, die Grenze zu ü...   \n",
       "...                                                                                                                                                                                                                                                                                                                                                                                                                                                                                                                                                                                                                                                                                                                                                                                                                                                                                                                                                                                                                                       ...   \n",
       "642   Interessante Konzepte treffen auf eine weiterhin mangelhafte Umsetzung. Es war Anfang 2013, da trat Ubuntu-Gründer Mark Shuttleworth mit einem ambitionierten Projekt an die Öffentlichkeit: Mit Ubuntu Phone soll die bekannte Linux-Distribution künftig auch den Smartphone-Markt erobern. Zweieinhalb Jahre später ist davon noch nicht viel zu bemerken. Die – zugegeben reichlich ambitionierten – Zeitpläne mussten immer wieder verschoben werden, eine Crowdfunding-Kampagne brachte zwar viel Aufmerksamkeit, scheiterte schlussendlich aber doch. Der Marktanteil von Ubuntu bei Smartphones ist bislang entsprechend gleich null. Das könnte – und soll – sich nun aber ändern: Sind doch mittlerweile die ersten Smartphones mit dem Linux-System im Handel erhältlich. So liefert etwa der chinesische Hersteller Meizu mittlerweile eine Version seines MX4, die mit Ubuntu ausgestattet ist. Diese haben wir in den letzten Tagen unter die Lupe genommen, der Fokus lag dabei bewusst auf der Software – die Hardwa...   \n",
       "674   Stealth-Jagdflugzeuge besuchen Litauen und Rumänien. Im Rahmen der Nato-Aufrüstung in Osteuropa haben die US-Streitkräfte zwei F-22-Kampfflugzeuge nach Rumänien und Litauen entsandt. Die Flugzeuge landeten am Montag auf dem Luftwaffenstützpunkt Mihail Kogalniceanu, der in der Nähe der Stadt Constanța liegt, am Mittwoch kamen sie auf dem litauischen Flugplatz Siauliai an, wo sie von Präsidentin Dalia Grybauskaite begrüßt wurden. Die F-22 Raptor soll den Luftüberlegenheitsjäger F-15A-D Eagle ablösen und verfügt im Gegensatz zum Vorgänger über Tarnkappeneigenschaften. Sie kann ohne Einsatz von Nachbrennern Überschallgeschwindigkeit erreichen und gilt mit einem Stückpreis von 189 Millionen Dollar (167 Millionen Euro) als das teuerste Jagdflugzeug der Welt. Air-Force-Sprecherin Sheryll Klinkel erklärte, mit der Stationierung wolle man eine stärkere Präsenz an der Nato-Ostgrenze erreichen: Wir wollen von mehreren Stützpunkten aus operieren, um den Gegner in Unsicherheit darüber zu verset...   \n",
       "459   Demnächst wird bei den Verhandlungen die Landwirtschaft besprochen. Dabei zeigen sich schon jetzt große Differenzen. Wien – In den kommenden Wochen und Monaten sollen die Verhandlungen zum Freihandelsabkommen TTIP (Transatlantische Handels- und Investitionspartnerschaft) in die Phase treten, wo über die Landwirtschaft verhandelt wird. Die Positionen dazu liegen teilweise weit auseinander, erläutert Landwirtschaftskammerpräsident Hermann Schultes. Wir wollen, dass das Abkommen für uns sinnvoll ist, sagt er. Die Bauernvertreter wollen deshalb in den nächsten Monaten offensiv die Vor- und Nachteile, die sich im Verlauf der Verhandlungen ergeben, kommunizieren. Nur so werden die Menschen das auch mittragen wollen. · Der augenfälligste Unterschied im Zugang zu dem Abkommen zwischen der EU und den USA liegt in der Art, wie Produkt- beziehungsweise Markenschutz für Agrargüter geregelt sind. In der EU gibt es geografische Ursprungsbezeichnungen, mit denen sich ein Land oder eine Region typ...   \n",
       "149                                                                                                                                                                                                                                                                                                                                                       15 Menschen noch immer vermisst. Tianjin – Mehr als zwei Wochen nach den verheerenden Explosionen in der chinesischen Hafenstadt Tianjin ist die Zahl der Todesopfer auf 158 gestiegen. 15 Menschen werden noch immer vermisst, berichtete die staatliche Nachrichtenagentur Xinhua am Montag. Zuvor waren den Behörden 145 Tote bekannt gewesen. In einem Chemielager im Hafen der Millionenmetropole waren am 12. August gefährliche Chemikalien explodiert und hatten auf dem Gelände im Binhai Distrikt schwere Zerstörungen und selbst in einem kilometerweiten Umkreis noch Schäden angerichtet. 23 Verantwortliche wurden von der Polizei in Haft genommen oder festgesetzt.   \n",
       "330   Die Kugel kann per Smartphone ferngesteuert werden und verfügt über eine Überwachungskamera. Zwischen neuen Smartphones und Telekomtechnologien findet man am Mobile World Congress in Barcelona immer wieder auch Skurriles. LG zeigte nicht nur sein neues Android-Smartphone G5 und Virtual Reality-Zubehör, sondern auch einen Ball, der ein Doppelleben führt: als Überwachungskamera und Spielzeug für Zwei- und Vierbeiner. Der WebStandard konnte eine Runde mit dem Rolling Bot drehen. Beim Rolling Bot handelt es sich um einen etwa Honigmelonen großen Ball, der per Smartphone dirigiert werden kann und mit einer Kamera ausgestattet ist. Anders als der Ball von Sphero rollt der Ball nicht, sondern verfügt er über zwei drehbare Halbkugeln. Dazwischen befindet sich ein mittlerer Teil, der die Kamera beherbergt. Ferngesteuert wird der Ball per WLAN und Bluetooth von einer Smartphone-App aus. Die Kamera bietet eine Auflösung von 8 Megapixel und kann sowohl Videos live streamen als auch Fotos aufne...   \n",
       "\n",
       "              label  \n",
       "30    International  \n",
       "676        Panorama  \n",
       "485        Panorama  \n",
       "1003       Panorama  \n",
       "378        Panorama  \n",
       "...             ...  \n",
       "642             Web  \n",
       "674   International  \n",
       "459      Wirtschaft  \n",
       "149        Panorama  \n",
       "330             Web  \n",
       "\n",
       "[100 rows x 2 columns]"
      ]
     },
     "execution_count": 4,
     "metadata": {},
     "output_type": "execute_result"
    }
   ],
   "source": [
    "data_test.sample(100)"
   ]
  },
  {
   "cell_type": "code",
   "execution_count": null,
   "metadata": {},
   "outputs": [],
   "source": []
  }
 ],
 "metadata": {
  "environment": {
   "kernel": "python3",
   "name": "tf2-gpu.2-6.m84",
   "type": "gcloud",
   "uri": "gcr.io/deeplearning-platform-release/tf2-gpu.2-6:m84"
  },
  "kernelspec": {
   "display_name": "Python 3",
   "language": "python",
   "name": "python3"
  },
  "language_info": {
   "codemirror_mode": {
    "name": "ipython",
    "version": 3
   },
   "file_extension": ".py",
   "mimetype": "text/x-python",
   "name": "python",
   "nbconvert_exporter": "python",
   "pygments_lexer": "ipython3",
   "version": "3.7.12"
  }
 },
 "nbformat": 4,
 "nbformat_minor": 4
}

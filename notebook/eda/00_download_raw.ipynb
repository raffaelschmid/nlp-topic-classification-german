{
 "cells": [
  {
   "cell_type": "code",
   "execution_count": null,
   "metadata": {
    "collapsed": true,
    "pycharm": {
     "name": "#%% markdown\n"
    }
   },
   "outputs": [],
   "source": []
  },
  {
   "cell_type": "code",
   "execution_count": 2,
   "outputs": [],
   "source": [
    "from fhnw.nlp.utils.storage import download\n",
    "from fhnw.nlp.utils.storage import load_dataframe\n",
    "\n",
    "from data import file"
   ],
   "metadata": {
    "collapsed": false,
    "pycharm": {
     "name": "#%%\n"
    }
   }
  },
  {
   "cell_type": "code",
   "execution_count": 3,
   "outputs": [
    {
     "data": {
      "text/plain": "                                          text_original          label\n0     21-Jähriger fällt wohl bis Saisonende aus. Wie...          Sport\n1     Erfundene Bilder zu Filmen, die als verloren g...         Kultur\n2     Der frischgekürte CEO Sundar Pichai setzt auf ...            Web\n3     Putin: \"Einigung, dass wir Menge auf Niveau vo...     Wirtschaft\n4     Estland sieht den künftigen österreichischen P...         Inland\n...                                                 ...            ...\n9240  Bernd Saurer war Bridge-Juniorenweltmeister un...         Inland\n9241  Sandhere soll in vergangener Woche bei Luftang...  International\n9242  Derzeit Konzeptgruppe in Berlin – Kein Komment...     Wirtschaft\n9243  Landeshauptmann will den vierten Regierungssit...         Inland\n9244  Er ist einer von Millionen syrischen Flüchtlin...       Panorama\n\n[9245 rows x 2 columns]",
      "text/html": "<div>\n<style scoped>\n    .dataframe tbody tr th:only-of-type {\n        vertical-align: middle;\n    }\n\n    .dataframe tbody tr th {\n        vertical-align: top;\n    }\n\n    .dataframe thead th {\n        text-align: right;\n    }\n</style>\n<table border=\"1\" class=\"dataframe\">\n  <thead>\n    <tr style=\"text-align: right;\">\n      <th></th>\n      <th>text_original</th>\n      <th>label</th>\n    </tr>\n  </thead>\n  <tbody>\n    <tr>\n      <th>0</th>\n      <td>21-Jähriger fällt wohl bis Saisonende aus. Wie...</td>\n      <td>Sport</td>\n    </tr>\n    <tr>\n      <th>1</th>\n      <td>Erfundene Bilder zu Filmen, die als verloren g...</td>\n      <td>Kultur</td>\n    </tr>\n    <tr>\n      <th>2</th>\n      <td>Der frischgekürte CEO Sundar Pichai setzt auf ...</td>\n      <td>Web</td>\n    </tr>\n    <tr>\n      <th>3</th>\n      <td>Putin: \"Einigung, dass wir Menge auf Niveau vo...</td>\n      <td>Wirtschaft</td>\n    </tr>\n    <tr>\n      <th>4</th>\n      <td>Estland sieht den künftigen österreichischen P...</td>\n      <td>Inland</td>\n    </tr>\n    <tr>\n      <th>...</th>\n      <td>...</td>\n      <td>...</td>\n    </tr>\n    <tr>\n      <th>9240</th>\n      <td>Bernd Saurer war Bridge-Juniorenweltmeister un...</td>\n      <td>Inland</td>\n    </tr>\n    <tr>\n      <th>9241</th>\n      <td>Sandhere soll in vergangener Woche bei Luftang...</td>\n      <td>International</td>\n    </tr>\n    <tr>\n      <th>9242</th>\n      <td>Derzeit Konzeptgruppe in Berlin – Kein Komment...</td>\n      <td>Wirtschaft</td>\n    </tr>\n    <tr>\n      <th>9243</th>\n      <td>Landeshauptmann will den vierten Regierungssit...</td>\n      <td>Inland</td>\n    </tr>\n    <tr>\n      <th>9244</th>\n      <td>Er ist einer von Millionen syrischen Flüchtlin...</td>\n      <td>Panorama</td>\n    </tr>\n  </tbody>\n</table>\n<p>9245 rows × 2 columns</p>\n</div>"
     },
     "execution_count": 3,
     "metadata": {},
     "output_type": "execute_result"
    }
   ],
   "source": [
    "download(\"https://drive.google.com/uc?id=1EuluVm0PX-akbh_EN-jZM2QbxXZ1uDeq\", file.news_articles_raw_train)\n",
    "data_train = load_dataframe(file.news_articles_raw_train)\n",
    "data_train"
   ],
   "metadata": {
    "collapsed": false,
    "pycharm": {
     "name": "#%%\n"
    }
   }
  },
  {
   "cell_type": "code",
   "execution_count": 4,
   "outputs": [
    {
     "data": {
      "text/plain": "                                          text_original          label\n0     Die Gewerkschaft GPA-djp lanciert den \"All-in-...     Wirtschaft\n1     Franzosen verteidigen 2:1-Führung – Kritische ...          Sport\n2     Neues Video von Designern macht im Netz die Ru...            Web\n3     23-jähriger Brasilianer muss vier Spiele pausi...          Sport\n4     Aufständische verwendeten Chemikalie bei Gefec...  International\n...                                                 ...            ...\n1023  Programm \"Ebay Plus\" soll Ende September start...            Web\n1024  Fehlerhafte Bilanz 2013, Partei will berufen –...         Inland\n1025  Als erster Olympia-Champion auch Hawaii-Sieger...          Sport\n1026  Der Außenseiter aus Denver gewinnt die 50. Sup...          Sport\n1027  Wohl keine Einschränkungen bei Google-Services...            Web\n\n[1028 rows x 2 columns]",
      "text/html": "<div>\n<style scoped>\n    .dataframe tbody tr th:only-of-type {\n        vertical-align: middle;\n    }\n\n    .dataframe tbody tr th {\n        vertical-align: top;\n    }\n\n    .dataframe thead th {\n        text-align: right;\n    }\n</style>\n<table border=\"1\" class=\"dataframe\">\n  <thead>\n    <tr style=\"text-align: right;\">\n      <th></th>\n      <th>text_original</th>\n      <th>label</th>\n    </tr>\n  </thead>\n  <tbody>\n    <tr>\n      <th>0</th>\n      <td>Die Gewerkschaft GPA-djp lanciert den \"All-in-...</td>\n      <td>Wirtschaft</td>\n    </tr>\n    <tr>\n      <th>1</th>\n      <td>Franzosen verteidigen 2:1-Führung – Kritische ...</td>\n      <td>Sport</td>\n    </tr>\n    <tr>\n      <th>2</th>\n      <td>Neues Video von Designern macht im Netz die Ru...</td>\n      <td>Web</td>\n    </tr>\n    <tr>\n      <th>3</th>\n      <td>23-jähriger Brasilianer muss vier Spiele pausi...</td>\n      <td>Sport</td>\n    </tr>\n    <tr>\n      <th>4</th>\n      <td>Aufständische verwendeten Chemikalie bei Gefec...</td>\n      <td>International</td>\n    </tr>\n    <tr>\n      <th>...</th>\n      <td>...</td>\n      <td>...</td>\n    </tr>\n    <tr>\n      <th>1023</th>\n      <td>Programm \"Ebay Plus\" soll Ende September start...</td>\n      <td>Web</td>\n    </tr>\n    <tr>\n      <th>1024</th>\n      <td>Fehlerhafte Bilanz 2013, Partei will berufen –...</td>\n      <td>Inland</td>\n    </tr>\n    <tr>\n      <th>1025</th>\n      <td>Als erster Olympia-Champion auch Hawaii-Sieger...</td>\n      <td>Sport</td>\n    </tr>\n    <tr>\n      <th>1026</th>\n      <td>Der Außenseiter aus Denver gewinnt die 50. Sup...</td>\n      <td>Sport</td>\n    </tr>\n    <tr>\n      <th>1027</th>\n      <td>Wohl keine Einschränkungen bei Google-Services...</td>\n      <td>Web</td>\n    </tr>\n  </tbody>\n</table>\n<p>1028 rows × 2 columns</p>\n</div>"
     },
     "execution_count": 4,
     "metadata": {},
     "output_type": "execute_result"
    }
   ],
   "source": [
    "download(\"https://drive.google.com/uc?id=1XI2yUaDaAy0PlD-ETiK8VMV_W1vOQ97n\", file.news_articles_raw_test)\n",
    "data_test = load_dataframe(file.news_articles_raw_test)\n",
    "data_test"
   ],
   "metadata": {
    "collapsed": false,
    "pycharm": {
     "name": "#%%\n"
    }
   }
  },
  {
   "cell_type": "code",
   "execution_count": 3,
   "outputs": [
    {
     "name": "stdout",
     "output_type": "stream",
     "text": [
      "/Users/raffael/learn/fhnw/nlp/nlp-projektarbeit/nlp-topic-classification-german/data/raw/german_news_articles_raw_train.parq\n"
     ]
    }
   ],
   "source": [
    "\n"
   ],
   "metadata": {
    "collapsed": false,
    "pycharm": {
     "name": "#%%\n"
    }
   }
  }
 ],
 "metadata": {
  "kernelspec": {
   "name": "python3",
   "language": "python",
   "display_name": "Python 3 (ipykernel)"
  },
  "language_info": {
   "codemirror_mode": {
    "name": "ipython",
    "version": 2
   },
   "file_extension": ".py",
   "mimetype": "text/x-python",
   "name": "python",
   "nbconvert_exporter": "python",
   "pygments_lexer": "ipython2",
   "version": "2.7.6"
  }
 },
 "nbformat": 4,
 "nbformat_minor": 0
}
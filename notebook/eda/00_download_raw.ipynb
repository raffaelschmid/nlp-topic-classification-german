{
 "cells": [
  {
   "cell_type": "code",
   "execution_count": 1,
   "metadata": {
    "collapsed": false,
    "jupyter": {
     "outputs_hidden": false
    },
    "pycharm": {
     "name": "#%%\n"
    }
   },
   "outputs": [],
   "source": [
    "from preprocessing.http import download\n",
    "from pandas import read_parquet\n",
    "\n",
    "from data import file"
   ]
  },
  {
   "cell_type": "code",
   "execution_count": 6,
   "metadata": {
    "collapsed": false,
    "jupyter": {
     "outputs_hidden": false
    },
    "pycharm": {
     "name": "#%%\n"
    }
   },
   "outputs": [
    {
     "data": {
      "text/html": [
       "<div>\n",
       "<style scoped>\n",
       "    .dataframe tbody tr th:only-of-type {\n",
       "        vertical-align: middle;\n",
       "    }\n",
       "\n",
       "    .dataframe tbody tr th {\n",
       "        vertical-align: top;\n",
       "    }\n",
       "\n",
       "    .dataframe thead th {\n",
       "        text-align: right;\n",
       "    }\n",
       "</style>\n",
       "<table border=\"1\" class=\"dataframe\">\n",
       "  <thead>\n",
       "    <tr style=\"text-align: right;\">\n",
       "      <th></th>\n",
       "      <th>text_original</th>\n",
       "      <th>label</th>\n",
       "    </tr>\n",
       "  </thead>\n",
       "  <tbody>\n",
       "    <tr>\n",
       "      <th>0</th>\n",
       "      <td>21-Jähriger fällt wohl bis Saisonende aus. Wie...</td>\n",
       "      <td>Sport</td>\n",
       "    </tr>\n",
       "    <tr>\n",
       "      <th>1</th>\n",
       "      <td>Erfundene Bilder zu Filmen, die als verloren g...</td>\n",
       "      <td>Kultur</td>\n",
       "    </tr>\n",
       "    <tr>\n",
       "      <th>2</th>\n",
       "      <td>Der frischgekürte CEO Sundar Pichai setzt auf ...</td>\n",
       "      <td>Web</td>\n",
       "    </tr>\n",
       "    <tr>\n",
       "      <th>3</th>\n",
       "      <td>Putin: \"Einigung, dass wir Menge auf Niveau vo...</td>\n",
       "      <td>Wirtschaft</td>\n",
       "    </tr>\n",
       "    <tr>\n",
       "      <th>4</th>\n",
       "      <td>Estland sieht den künftigen österreichischen P...</td>\n",
       "      <td>Inland</td>\n",
       "    </tr>\n",
       "    <tr>\n",
       "      <th>...</th>\n",
       "      <td>...</td>\n",
       "      <td>...</td>\n",
       "    </tr>\n",
       "    <tr>\n",
       "      <th>9240</th>\n",
       "      <td>Bernd Saurer war Bridge-Juniorenweltmeister un...</td>\n",
       "      <td>Inland</td>\n",
       "    </tr>\n",
       "    <tr>\n",
       "      <th>9241</th>\n",
       "      <td>Sandhere soll in vergangener Woche bei Luftang...</td>\n",
       "      <td>International</td>\n",
       "    </tr>\n",
       "    <tr>\n",
       "      <th>9242</th>\n",
       "      <td>Derzeit Konzeptgruppe in Berlin – Kein Komment...</td>\n",
       "      <td>Wirtschaft</td>\n",
       "    </tr>\n",
       "    <tr>\n",
       "      <th>9243</th>\n",
       "      <td>Landeshauptmann will den vierten Regierungssit...</td>\n",
       "      <td>Inland</td>\n",
       "    </tr>\n",
       "    <tr>\n",
       "      <th>9244</th>\n",
       "      <td>Er ist einer von Millionen syrischen Flüchtlin...</td>\n",
       "      <td>Panorama</td>\n",
       "    </tr>\n",
       "  </tbody>\n",
       "</table>\n",
       "<p>9245 rows × 2 columns</p>\n",
       "</div>"
      ],
      "text/plain": [
       "                                          text_original          label\n",
       "0     21-Jähriger fällt wohl bis Saisonende aus. Wie...          Sport\n",
       "1     Erfundene Bilder zu Filmen, die als verloren g...         Kultur\n",
       "2     Der frischgekürte CEO Sundar Pichai setzt auf ...            Web\n",
       "3     Putin: \"Einigung, dass wir Menge auf Niveau vo...     Wirtschaft\n",
       "4     Estland sieht den künftigen österreichischen P...         Inland\n",
       "...                                                 ...            ...\n",
       "9240  Bernd Saurer war Bridge-Juniorenweltmeister un...         Inland\n",
       "9241  Sandhere soll in vergangener Woche bei Luftang...  International\n",
       "9242  Derzeit Konzeptgruppe in Berlin – Kein Komment...     Wirtschaft\n",
       "9243  Landeshauptmann will den vierten Regierungssit...         Inland\n",
       "9244  Er ist einer von Millionen syrischen Flüchtlin...       Panorama\n",
       "\n",
       "[9245 rows x 2 columns]"
      ]
     },
     "execution_count": 6,
     "metadata": {},
     "output_type": "execute_result"
    }
   ],
   "source": [
    "download(\"https://drive.google.com/uc?id=1EuluVm0PX-akbh_EN-jZM2QbxXZ1uDeq\", file.news_articles_raw_train)\n",
    "data_train = read_parquet(file.news_articles_raw_train)\n",
    "data_train"
   ]
  },
  {
   "cell_type": "code",
   "execution_count": 5,
   "metadata": {
    "collapsed": false,
    "jupyter": {
     "outputs_hidden": false
    },
    "pycharm": {
     "name": "#%%\n"
    }
   },
   "outputs": [
    {
     "data": {
      "text/html": [
       "<div>\n",
       "<style scoped>\n",
       "    .dataframe tbody tr th:only-of-type {\n",
       "        vertical-align: middle;\n",
       "    }\n",
       "\n",
       "    .dataframe tbody tr th {\n",
       "        vertical-align: top;\n",
       "    }\n",
       "\n",
       "    .dataframe thead th {\n",
       "        text-align: right;\n",
       "    }\n",
       "</style>\n",
       "<table border=\"1\" class=\"dataframe\">\n",
       "  <thead>\n",
       "    <tr style=\"text-align: right;\">\n",
       "      <th></th>\n",
       "      <th>text_original</th>\n",
       "      <th>label</th>\n",
       "    </tr>\n",
       "  </thead>\n",
       "  <tbody>\n",
       "    <tr>\n",
       "      <th>0</th>\n",
       "      <td>Die Gewerkschaft GPA-djp lanciert den \"All-in-...</td>\n",
       "      <td>Wirtschaft</td>\n",
       "    </tr>\n",
       "    <tr>\n",
       "      <th>1</th>\n",
       "      <td>Franzosen verteidigen 2:1-Führung – Kritische ...</td>\n",
       "      <td>Sport</td>\n",
       "    </tr>\n",
       "    <tr>\n",
       "      <th>2</th>\n",
       "      <td>Neues Video von Designern macht im Netz die Ru...</td>\n",
       "      <td>Web</td>\n",
       "    </tr>\n",
       "    <tr>\n",
       "      <th>3</th>\n",
       "      <td>23-jähriger Brasilianer muss vier Spiele pausi...</td>\n",
       "      <td>Sport</td>\n",
       "    </tr>\n",
       "    <tr>\n",
       "      <th>4</th>\n",
       "      <td>Aufständische verwendeten Chemikalie bei Gefec...</td>\n",
       "      <td>International</td>\n",
       "    </tr>\n",
       "    <tr>\n",
       "      <th>...</th>\n",
       "      <td>...</td>\n",
       "      <td>...</td>\n",
       "    </tr>\n",
       "    <tr>\n",
       "      <th>1023</th>\n",
       "      <td>Programm \"Ebay Plus\" soll Ende September start...</td>\n",
       "      <td>Web</td>\n",
       "    </tr>\n",
       "    <tr>\n",
       "      <th>1024</th>\n",
       "      <td>Fehlerhafte Bilanz 2013, Partei will berufen –...</td>\n",
       "      <td>Inland</td>\n",
       "    </tr>\n",
       "    <tr>\n",
       "      <th>1025</th>\n",
       "      <td>Als erster Olympia-Champion auch Hawaii-Sieger...</td>\n",
       "      <td>Sport</td>\n",
       "    </tr>\n",
       "    <tr>\n",
       "      <th>1026</th>\n",
       "      <td>Der Außenseiter aus Denver gewinnt die 50. Sup...</td>\n",
       "      <td>Sport</td>\n",
       "    </tr>\n",
       "    <tr>\n",
       "      <th>1027</th>\n",
       "      <td>Wohl keine Einschränkungen bei Google-Services...</td>\n",
       "      <td>Web</td>\n",
       "    </tr>\n",
       "  </tbody>\n",
       "</table>\n",
       "<p>1028 rows × 2 columns</p>\n",
       "</div>"
      ],
      "text/plain": [
       "                                          text_original          label\n",
       "0     Die Gewerkschaft GPA-djp lanciert den \"All-in-...     Wirtschaft\n",
       "1     Franzosen verteidigen 2:1-Führung – Kritische ...          Sport\n",
       "2     Neues Video von Designern macht im Netz die Ru...            Web\n",
       "3     23-jähriger Brasilianer muss vier Spiele pausi...          Sport\n",
       "4     Aufständische verwendeten Chemikalie bei Gefec...  International\n",
       "...                                                 ...            ...\n",
       "1023  Programm \"Ebay Plus\" soll Ende September start...            Web\n",
       "1024  Fehlerhafte Bilanz 2013, Partei will berufen –...         Inland\n",
       "1025  Als erster Olympia-Champion auch Hawaii-Sieger...          Sport\n",
       "1026  Der Außenseiter aus Denver gewinnt die 50. Sup...          Sport\n",
       "1027  Wohl keine Einschränkungen bei Google-Services...            Web\n",
       "\n",
       "[1028 rows x 2 columns]"
      ]
     },
     "execution_count": 5,
     "metadata": {},
     "output_type": "execute_result"
    }
   ],
   "source": [
    "download(\"https://drive.google.com/uc?id=1XI2yUaDaAy0PlD-ETiK8VMV_W1vOQ97n\", file.news_articles_raw_test)\n",
    "data_test = read_parquet(file.news_articles_raw_test)\n",
    "data_test"
   ]
  },
  {
   "cell_type": "code",
   "execution_count": 3,
   "metadata": {
    "collapsed": false,
    "jupyter": {
     "outputs_hidden": false
    },
    "pycharm": {
     "name": "#%%\n"
    }
   },
   "outputs": [
    {
     "name": "stdout",
     "output_type": "stream",
     "text": [
      "/Users/raffael/learn/fhnw/nlp/nlp-projektarbeit/nlp-topic-classification-german/data/raw/german_news_articles_raw_train.parq\n"
     ]
    }
   ],
   "source": []
  }
 ],
 "metadata": {
  "environment": {
   "kernel": "python3",
   "name": "tf2-gpu.2-6.m82",
   "type": "gcloud",
   "uri": "gcr.io/deeplearning-platform-release/tf2-gpu.2-6:m82"
  },
  "kernelspec": {
   "display_name": "Python 3",
   "language": "python",
   "name": "python3"
  },
  "language_info": {
   "codemirror_mode": {
    "name": "ipython",
    "version": 3
   },
   "file_extension": ".py",
   "mimetype": "text/x-python",
   "name": "python",
   "nbconvert_exporter": "python",
   "pygments_lexer": "ipython3",
   "version": "3.7.10"
  }
 },
 "nbformat": 4,
 "nbformat_minor": 4
}

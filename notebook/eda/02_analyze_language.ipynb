{
 "cells": [
  {
   "cell_type": "code",
   "execution_count": 35,
   "outputs": [],
   "source": [
    "import fasttext as fasttext\n",
    "from fhnw.nlp.utils.storage import load_dataframe, download\n",
    "from pandas import concat\n",
    "import seaborn as sns\n",
    "from data import file\n"
   ],
   "metadata": {
    "collapsed": false,
    "pycharm": {
     "name": "#%%\n"
    }
   }
  },
  {
   "cell_type": "code",
   "execution_count": null,
   "outputs": [],
   "source": [
    "pretrained_model = \"./.pretrained/fasttext.lid.176.ftz\"\n",
    "download(url=f\"https://dl.fbaipublicfiles.com/fasttext/supervised-models/lid.176.ftz\", path = pretrained_model)\n",
    "model = fasttext.load_model(pretrained_model)"
   ],
   "metadata": {
    "collapsed": false,
    "pycharm": {
     "name": "#%%\n"
    }
   }
  },
  {
   "cell_type": "code",
   "source": [
    "def predict_lang(text):\n",
    "    \"\"\"Predicts the language of a sentence\n",
    "\n",
    "    Parameters\n",
    "    ----------\n",
    "    text : str\n",
    "        The text to predict the language\n",
    "\n",
    "    Returns\n",
    "    -------\n",
    "    str\n",
    "        The predicted language (e.g. en, de, ...)\n",
    "    \"\"\"\n",
    "\n",
    "    lang = model.predict(text)[0]\n",
    "    return str(lang)[11:13]"
   ],
   "metadata": {
    "collapsed": false,
    "pycharm": {
     "name": "#%%\n"
    }
   },
   "execution_count": 31,
   "outputs": []
  },
  {
   "cell_type": "markdown",
   "source": [
    "# Data Loading"
   ],
   "metadata": {
    "collapsed": false
   }
  },
  {
   "cell_type": "code",
   "execution_count": 6,
   "outputs": [
    {
     "data": {
      "text/plain": "                                          text_original          label\n0     21-Jähriger fällt wohl bis Saisonende aus. Wie...          Sport\n1     Erfundene Bilder zu Filmen, die als verloren g...         Kultur\n2     Der frischgekürte CEO Sundar Pichai setzt auf ...            Web\n3     Putin: \"Einigung, dass wir Menge auf Niveau vo...     Wirtschaft\n4     Estland sieht den künftigen österreichischen P...         Inland\n...                                                 ...            ...\n9240  Bernd Saurer war Bridge-Juniorenweltmeister un...         Inland\n9241  Sandhere soll in vergangener Woche bei Luftang...  International\n9242  Derzeit Konzeptgruppe in Berlin – Kein Komment...     Wirtschaft\n9243  Landeshauptmann will den vierten Regierungssit...         Inland\n9244  Er ist einer von Millionen syrischen Flüchtlin...       Panorama\n\n[9245 rows x 2 columns]",
      "text/html": "<div>\n<style scoped>\n    .dataframe tbody tr th:only-of-type {\n        vertical-align: middle;\n    }\n\n    .dataframe tbody tr th {\n        vertical-align: top;\n    }\n\n    .dataframe thead th {\n        text-align: right;\n    }\n</style>\n<table border=\"1\" class=\"dataframe\">\n  <thead>\n    <tr style=\"text-align: right;\">\n      <th></th>\n      <th>text_original</th>\n      <th>label</th>\n    </tr>\n  </thead>\n  <tbody>\n    <tr>\n      <th>0</th>\n      <td>21-Jähriger fällt wohl bis Saisonende aus. Wie...</td>\n      <td>Sport</td>\n    </tr>\n    <tr>\n      <th>1</th>\n      <td>Erfundene Bilder zu Filmen, die als verloren g...</td>\n      <td>Kultur</td>\n    </tr>\n    <tr>\n      <th>2</th>\n      <td>Der frischgekürte CEO Sundar Pichai setzt auf ...</td>\n      <td>Web</td>\n    </tr>\n    <tr>\n      <th>3</th>\n      <td>Putin: \"Einigung, dass wir Menge auf Niveau vo...</td>\n      <td>Wirtschaft</td>\n    </tr>\n    <tr>\n      <th>4</th>\n      <td>Estland sieht den künftigen österreichischen P...</td>\n      <td>Inland</td>\n    </tr>\n    <tr>\n      <th>...</th>\n      <td>...</td>\n      <td>...</td>\n    </tr>\n    <tr>\n      <th>9240</th>\n      <td>Bernd Saurer war Bridge-Juniorenweltmeister un...</td>\n      <td>Inland</td>\n    </tr>\n    <tr>\n      <th>9241</th>\n      <td>Sandhere soll in vergangener Woche bei Luftang...</td>\n      <td>International</td>\n    </tr>\n    <tr>\n      <th>9242</th>\n      <td>Derzeit Konzeptgruppe in Berlin – Kein Komment...</td>\n      <td>Wirtschaft</td>\n    </tr>\n    <tr>\n      <th>9243</th>\n      <td>Landeshauptmann will den vierten Regierungssit...</td>\n      <td>Inland</td>\n    </tr>\n    <tr>\n      <th>9244</th>\n      <td>Er ist einer von Millionen syrischen Flüchtlin...</td>\n      <td>Panorama</td>\n    </tr>\n  </tbody>\n</table>\n<p>9245 rows × 2 columns</p>\n</div>"
     },
     "execution_count": 6,
     "metadata": {},
     "output_type": "execute_result"
    }
   ],
   "source": [
    "\n",
    "data_train = load_dataframe(file.news_articles_raw_train)\n",
    "data_train"
   ],
   "metadata": {
    "collapsed": false,
    "pycharm": {
     "name": "#%%\n"
    }
   }
  },
  {
   "cell_type": "code",
   "execution_count": 7,
   "outputs": [
    {
     "data": {
      "text/plain": "                                          text_original          label\n0     Die Gewerkschaft GPA-djp lanciert den \"All-in-...     Wirtschaft\n1     Franzosen verteidigen 2:1-Führung – Kritische ...          Sport\n2     Neues Video von Designern macht im Netz die Ru...            Web\n3     23-jähriger Brasilianer muss vier Spiele pausi...          Sport\n4     Aufständische verwendeten Chemikalie bei Gefec...  International\n...                                                 ...            ...\n1023  Programm \"Ebay Plus\" soll Ende September start...            Web\n1024  Fehlerhafte Bilanz 2013, Partei will berufen –...         Inland\n1025  Als erster Olympia-Champion auch Hawaii-Sieger...          Sport\n1026  Der Außenseiter aus Denver gewinnt die 50. Sup...          Sport\n1027  Wohl keine Einschränkungen bei Google-Services...            Web\n\n[1028 rows x 2 columns]",
      "text/html": "<div>\n<style scoped>\n    .dataframe tbody tr th:only-of-type {\n        vertical-align: middle;\n    }\n\n    .dataframe tbody tr th {\n        vertical-align: top;\n    }\n\n    .dataframe thead th {\n        text-align: right;\n    }\n</style>\n<table border=\"1\" class=\"dataframe\">\n  <thead>\n    <tr style=\"text-align: right;\">\n      <th></th>\n      <th>text_original</th>\n      <th>label</th>\n    </tr>\n  </thead>\n  <tbody>\n    <tr>\n      <th>0</th>\n      <td>Die Gewerkschaft GPA-djp lanciert den \"All-in-...</td>\n      <td>Wirtschaft</td>\n    </tr>\n    <tr>\n      <th>1</th>\n      <td>Franzosen verteidigen 2:1-Führung – Kritische ...</td>\n      <td>Sport</td>\n    </tr>\n    <tr>\n      <th>2</th>\n      <td>Neues Video von Designern macht im Netz die Ru...</td>\n      <td>Web</td>\n    </tr>\n    <tr>\n      <th>3</th>\n      <td>23-jähriger Brasilianer muss vier Spiele pausi...</td>\n      <td>Sport</td>\n    </tr>\n    <tr>\n      <th>4</th>\n      <td>Aufständische verwendeten Chemikalie bei Gefec...</td>\n      <td>International</td>\n    </tr>\n    <tr>\n      <th>...</th>\n      <td>...</td>\n      <td>...</td>\n    </tr>\n    <tr>\n      <th>1023</th>\n      <td>Programm \"Ebay Plus\" soll Ende September start...</td>\n      <td>Web</td>\n    </tr>\n    <tr>\n      <th>1024</th>\n      <td>Fehlerhafte Bilanz 2013, Partei will berufen –...</td>\n      <td>Inland</td>\n    </tr>\n    <tr>\n      <th>1025</th>\n      <td>Als erster Olympia-Champion auch Hawaii-Sieger...</td>\n      <td>Sport</td>\n    </tr>\n    <tr>\n      <th>1026</th>\n      <td>Der Außenseiter aus Denver gewinnt die 50. Sup...</td>\n      <td>Sport</td>\n    </tr>\n    <tr>\n      <th>1027</th>\n      <td>Wohl keine Einschränkungen bei Google-Services...</td>\n      <td>Web</td>\n    </tr>\n  </tbody>\n</table>\n<p>1028 rows × 2 columns</p>\n</div>"
     },
     "execution_count": 7,
     "metadata": {},
     "output_type": "execute_result"
    }
   ],
   "source": [
    "data_test = load_dataframe(file.news_articles_raw_test)\n",
    "data_test"
   ],
   "metadata": {
    "collapsed": false,
    "pycharm": {
     "name": "#%%\n"
    }
   }
  },
  {
   "cell_type": "code",
   "execution_count": 36,
   "outputs": [
    {
     "data": {
      "text/plain": "                                          text_original          label lang\n0     21-Jähriger fällt wohl bis Saisonende aus. Wie...          Sport   de\n1     Erfundene Bilder zu Filmen, die als verloren g...         Kultur   de\n2     Der frischgekürte CEO Sundar Pichai setzt auf ...            Web   de\n3     Putin: \"Einigung, dass wir Menge auf Niveau vo...     Wirtschaft   de\n4     Estland sieht den künftigen österreichischen P...         Inland   de\n...                                                 ...            ...  ...\n9240  Bernd Saurer war Bridge-Juniorenweltmeister un...         Inland   de\n9241  Sandhere soll in vergangener Woche bei Luftang...  International   de\n9242  Derzeit Konzeptgruppe in Berlin – Kein Komment...     Wirtschaft   de\n9243  Landeshauptmann will den vierten Regierungssit...         Inland   de\n9244  Er ist einer von Millionen syrischen Flüchtlin...       Panorama   de\n\n[9245 rows x 3 columns]",
      "text/html": "<div>\n<style scoped>\n    .dataframe tbody tr th:only-of-type {\n        vertical-align: middle;\n    }\n\n    .dataframe tbody tr th {\n        vertical-align: top;\n    }\n\n    .dataframe thead th {\n        text-align: right;\n    }\n</style>\n<table border=\"1\" class=\"dataframe\">\n  <thead>\n    <tr style=\"text-align: right;\">\n      <th></th>\n      <th>text_original</th>\n      <th>label</th>\n      <th>lang</th>\n    </tr>\n  </thead>\n  <tbody>\n    <tr>\n      <th>0</th>\n      <td>21-Jähriger fällt wohl bis Saisonende aus. Wie...</td>\n      <td>Sport</td>\n      <td>de</td>\n    </tr>\n    <tr>\n      <th>1</th>\n      <td>Erfundene Bilder zu Filmen, die als verloren g...</td>\n      <td>Kultur</td>\n      <td>de</td>\n    </tr>\n    <tr>\n      <th>2</th>\n      <td>Der frischgekürte CEO Sundar Pichai setzt auf ...</td>\n      <td>Web</td>\n      <td>de</td>\n    </tr>\n    <tr>\n      <th>3</th>\n      <td>Putin: \"Einigung, dass wir Menge auf Niveau vo...</td>\n      <td>Wirtschaft</td>\n      <td>de</td>\n    </tr>\n    <tr>\n      <th>4</th>\n      <td>Estland sieht den künftigen österreichischen P...</td>\n      <td>Inland</td>\n      <td>de</td>\n    </tr>\n    <tr>\n      <th>...</th>\n      <td>...</td>\n      <td>...</td>\n      <td>...</td>\n    </tr>\n    <tr>\n      <th>9240</th>\n      <td>Bernd Saurer war Bridge-Juniorenweltmeister un...</td>\n      <td>Inland</td>\n      <td>de</td>\n    </tr>\n    <tr>\n      <th>9241</th>\n      <td>Sandhere soll in vergangener Woche bei Luftang...</td>\n      <td>International</td>\n      <td>de</td>\n    </tr>\n    <tr>\n      <th>9242</th>\n      <td>Derzeit Konzeptgruppe in Berlin – Kein Komment...</td>\n      <td>Wirtschaft</td>\n      <td>de</td>\n    </tr>\n    <tr>\n      <th>9243</th>\n      <td>Landeshauptmann will den vierten Regierungssit...</td>\n      <td>Inland</td>\n      <td>de</td>\n    </tr>\n    <tr>\n      <th>9244</th>\n      <td>Er ist einer von Millionen syrischen Flüchtlin...</td>\n      <td>Panorama</td>\n      <td>de</td>\n    </tr>\n  </tbody>\n</table>\n<p>9245 rows × 3 columns</p>\n</div>"
     },
     "execution_count": 36,
     "metadata": {},
     "output_type": "execute_result"
    }
   ],
   "source": [
    "data_train_lang = concat([data_train, data_train.text_original.map(predict_lang).rename(\"lang\")], axis=1)\n",
    "data_train_lang"
   ],
   "metadata": {
    "collapsed": false,
    "pycharm": {
     "name": "#%%\n"
    }
   }
  },
  {
   "cell_type": "code",
   "execution_count": 37,
   "outputs": [
    {
     "data": {
      "text/plain": "                                          text_original          label lang\n0     Die Gewerkschaft GPA-djp lanciert den \"All-in-...     Wirtschaft   de\n1     Franzosen verteidigen 2:1-Führung – Kritische ...          Sport   de\n2     Neues Video von Designern macht im Netz die Ru...            Web   de\n3     23-jähriger Brasilianer muss vier Spiele pausi...          Sport   de\n4     Aufständische verwendeten Chemikalie bei Gefec...  International   de\n...                                                 ...            ...  ...\n1023  Programm \"Ebay Plus\" soll Ende September start...            Web   de\n1024  Fehlerhafte Bilanz 2013, Partei will berufen –...         Inland   de\n1025  Als erster Olympia-Champion auch Hawaii-Sieger...          Sport   de\n1026  Der Außenseiter aus Denver gewinnt die 50. Sup...          Sport   de\n1027  Wohl keine Einschränkungen bei Google-Services...            Web   de\n\n[1028 rows x 3 columns]",
      "text/html": "<div>\n<style scoped>\n    .dataframe tbody tr th:only-of-type {\n        vertical-align: middle;\n    }\n\n    .dataframe tbody tr th {\n        vertical-align: top;\n    }\n\n    .dataframe thead th {\n        text-align: right;\n    }\n</style>\n<table border=\"1\" class=\"dataframe\">\n  <thead>\n    <tr style=\"text-align: right;\">\n      <th></th>\n      <th>text_original</th>\n      <th>label</th>\n      <th>lang</th>\n    </tr>\n  </thead>\n  <tbody>\n    <tr>\n      <th>0</th>\n      <td>Die Gewerkschaft GPA-djp lanciert den \"All-in-...</td>\n      <td>Wirtschaft</td>\n      <td>de</td>\n    </tr>\n    <tr>\n      <th>1</th>\n      <td>Franzosen verteidigen 2:1-Führung – Kritische ...</td>\n      <td>Sport</td>\n      <td>de</td>\n    </tr>\n    <tr>\n      <th>2</th>\n      <td>Neues Video von Designern macht im Netz die Ru...</td>\n      <td>Web</td>\n      <td>de</td>\n    </tr>\n    <tr>\n      <th>3</th>\n      <td>23-jähriger Brasilianer muss vier Spiele pausi...</td>\n      <td>Sport</td>\n      <td>de</td>\n    </tr>\n    <tr>\n      <th>4</th>\n      <td>Aufständische verwendeten Chemikalie bei Gefec...</td>\n      <td>International</td>\n      <td>de</td>\n    </tr>\n    <tr>\n      <th>...</th>\n      <td>...</td>\n      <td>...</td>\n      <td>...</td>\n    </tr>\n    <tr>\n      <th>1023</th>\n      <td>Programm \"Ebay Plus\" soll Ende September start...</td>\n      <td>Web</td>\n      <td>de</td>\n    </tr>\n    <tr>\n      <th>1024</th>\n      <td>Fehlerhafte Bilanz 2013, Partei will berufen –...</td>\n      <td>Inland</td>\n      <td>de</td>\n    </tr>\n    <tr>\n      <th>1025</th>\n      <td>Als erster Olympia-Champion auch Hawaii-Sieger...</td>\n      <td>Sport</td>\n      <td>de</td>\n    </tr>\n    <tr>\n      <th>1026</th>\n      <td>Der Außenseiter aus Denver gewinnt die 50. Sup...</td>\n      <td>Sport</td>\n      <td>de</td>\n    </tr>\n    <tr>\n      <th>1027</th>\n      <td>Wohl keine Einschränkungen bei Google-Services...</td>\n      <td>Web</td>\n      <td>de</td>\n    </tr>\n  </tbody>\n</table>\n<p>1028 rows × 3 columns</p>\n</div>"
     },
     "execution_count": 37,
     "metadata": {},
     "output_type": "execute_result"
    }
   ],
   "source": [
    "\n",
    "data_test_lang = concat([data_test, data_test.text_original.map(predict_lang).rename(\"lang\")], axis=1)\n",
    "data_test_lang"
   ],
   "metadata": {
    "collapsed": false,
    "pycharm": {
     "name": "#%%\n"
    }
   }
  },
  {
   "cell_type": "markdown",
   "source": [
    "# Data Quality (missingno)"
   ],
   "metadata": {
    "collapsed": false
   }
  },
  {
   "cell_type": "markdown",
   "source": [
    "## Training Set"
   ],
   "metadata": {
    "collapsed": false
   }
  },
  {
   "cell_type": "code",
   "execution_count": 39,
   "outputs": [
    {
     "data": {
      "text/plain": "<AxesSubplot:xlabel='lang', ylabel='count'>"
     },
     "execution_count": 39,
     "metadata": {},
     "output_type": "execute_result"
    },
    {
     "data": {
      "text/plain": "<Figure size 720x504 with 1 Axes>",
      "image/png": "[encoded data removed]"
     },
     "metadata": {},
     "output_type": "display_data"
    }
   ],
   "source": [
    "sns.set(rc={'figure.figsize': (10, 7)})\n",
    "sns.countplot(x=\"lang\", data=data_train_lang)"
   ],
   "metadata": {
    "collapsed": false,
    "pycharm": {
     "name": "#%%\n"
    }
   }
  },
  {
   "cell_type": "markdown",
   "source": [
    "## Test Set"
   ],
   "metadata": {
    "collapsed": false,
    "pycharm": {
     "name": "#%% md\n"
    }
   }
  },
  {
   "cell_type": "code",
   "execution_count": 41,
   "outputs": [
    {
     "data": {
      "text/plain": "<AxesSubplot:xlabel='lang', ylabel='count'>"
     },
     "execution_count": 41,
     "metadata": {},
     "output_type": "execute_result"
    },
    {
     "data": {
      "text/plain": "<Figure size 720x504 with 1 Axes>",
      "image/png": "[encoded data removed]"
     },
     "metadata": {},
     "output_type": "display_data"
    }
   ],
   "source": [
    "sns.set(rc={'figure.figsize': (10, 7)})\n",
    "sns.countplot(x=\"lang\", data=data_test_lang)"
   ],
   "metadata": {
    "collapsed": false,
    "pycharm": {
     "name": "#%%\n"
    }
   }
  },
  {
   "cell_type": "code",
   "execution_count": null,
   "outputs": [],
   "source": [],
   "metadata": {
    "collapsed": false,
    "pycharm": {
     "name": "#%%\n"
    }
   }
  }
 ],
 "metadata": {
  "kernelspec": {
   "display_name": "Python 3",
   "language": "python",
   "name": "python3"
  },
  "language_info": {
   "codemirror_mode": {
    "name": "ipython",
    "version": 2
   },
   "file_extension": ".py",
   "mimetype": "text/x-python",
   "name": "python",
   "nbconvert_exporter": "python",
   "pygments_lexer": "ipython2",
   "version": "2.7.6"
  }
 },
 "nbformat": 4,
 "nbformat_minor": 0
}
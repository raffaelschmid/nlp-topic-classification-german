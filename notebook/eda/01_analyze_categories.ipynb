{
 "cells": [
  {
   "cell_type": "code",
   "execution_count": 1,
   "metadata": {
    "collapsed": false,
    "jupyter": {
     "outputs_hidden": false
    },
    "pycharm": {
     "name": "#%%\n"
    }
   },
   "outputs": [],
   "source": [
    "from pandas import concat, read_parquet\n",
    "\n",
    "from data import file\n",
    "import missingno as msno\n",
    "import seaborn as sns\n",
    "import pandas as pd"
   ]
  },
  {
   "cell_type": "markdown",
   "metadata": {
    "pycharm": {
     "name": "#%% md\n"
    }
   },
   "source": [
    "# Data Loading"
   ]
  },
  {
   "cell_type": "code",
   "execution_count": 2,
   "metadata": {
    "collapsed": false,
    "jupyter": {
     "outputs_hidden": false
    },
    "pycharm": {
     "name": "#%%\n"
    }
   },
   "outputs": [
    {
     "data": {
      "text/html": [
       "<div>\n",
       "<style scoped>\n",
       "    .dataframe tbody tr th:only-of-type {\n",
       "        vertical-align: middle;\n",
       "    }\n",
       "\n",
       "    .dataframe tbody tr th {\n",
       "        vertical-align: top;\n",
       "    }\n",
       "\n",
       "    .dataframe thead th {\n",
       "        text-align: right;\n",
       "    }\n",
       "</style>\n",
       "<table border=\"1\" class=\"dataframe\">\n",
       "  <thead>\n",
       "    <tr style=\"text-align: right;\">\n",
       "      <th></th>\n",
       "      <th>text_original</th>\n",
       "      <th>label</th>\n",
       "    </tr>\n",
       "  </thead>\n",
       "  <tbody>\n",
       "    <tr>\n",
       "      <th>0</th>\n",
       "      <td>21-Jähriger fällt wohl bis Saisonende aus. Wie...</td>\n",
       "      <td>Sport</td>\n",
       "    </tr>\n",
       "    <tr>\n",
       "      <th>1</th>\n",
       "      <td>Erfundene Bilder zu Filmen, die als verloren g...</td>\n",
       "      <td>Kultur</td>\n",
       "    </tr>\n",
       "    <tr>\n",
       "      <th>2</th>\n",
       "      <td>Der frischgekürte CEO Sundar Pichai setzt auf ...</td>\n",
       "      <td>Web</td>\n",
       "    </tr>\n",
       "    <tr>\n",
       "      <th>3</th>\n",
       "      <td>Putin: \"Einigung, dass wir Menge auf Niveau vo...</td>\n",
       "      <td>Wirtschaft</td>\n",
       "    </tr>\n",
       "    <tr>\n",
       "      <th>4</th>\n",
       "      <td>Estland sieht den künftigen österreichischen P...</td>\n",
       "      <td>Inland</td>\n",
       "    </tr>\n",
       "    <tr>\n",
       "      <th>...</th>\n",
       "      <td>...</td>\n",
       "      <td>...</td>\n",
       "    </tr>\n",
       "    <tr>\n",
       "      <th>9240</th>\n",
       "      <td>Bernd Saurer war Bridge-Juniorenweltmeister un...</td>\n",
       "      <td>Inland</td>\n",
       "    </tr>\n",
       "    <tr>\n",
       "      <th>9241</th>\n",
       "      <td>Sandhere soll in vergangener Woche bei Luftang...</td>\n",
       "      <td>International</td>\n",
       "    </tr>\n",
       "    <tr>\n",
       "      <th>9242</th>\n",
       "      <td>Derzeit Konzeptgruppe in Berlin – Kein Komment...</td>\n",
       "      <td>Wirtschaft</td>\n",
       "    </tr>\n",
       "    <tr>\n",
       "      <th>9243</th>\n",
       "      <td>Landeshauptmann will den vierten Regierungssit...</td>\n",
       "      <td>Inland</td>\n",
       "    </tr>\n",
       "    <tr>\n",
       "      <th>9244</th>\n",
       "      <td>Er ist einer von Millionen syrischen Flüchtlin...</td>\n",
       "      <td>Panorama</td>\n",
       "    </tr>\n",
       "  </tbody>\n",
       "</table>\n",
       "<p>9245 rows × 2 columns</p>\n",
       "</div>"
      ],
      "text/plain": [
       "                                          text_original          label\n",
       "0     21-Jähriger fällt wohl bis Saisonende aus. Wie...          Sport\n",
       "1     Erfundene Bilder zu Filmen, die als verloren g...         Kultur\n",
       "2     Der frischgekürte CEO Sundar Pichai setzt auf ...            Web\n",
       "3     Putin: \"Einigung, dass wir Menge auf Niveau vo...     Wirtschaft\n",
       "4     Estland sieht den künftigen österreichischen P...         Inland\n",
       "...                                                 ...            ...\n",
       "9240  Bernd Saurer war Bridge-Juniorenweltmeister un...         Inland\n",
       "9241  Sandhere soll in vergangener Woche bei Luftang...  International\n",
       "9242  Derzeit Konzeptgruppe in Berlin – Kein Komment...     Wirtschaft\n",
       "9243  Landeshauptmann will den vierten Regierungssit...         Inland\n",
       "9244  Er ist einer von Millionen syrischen Flüchtlin...       Panorama\n",
       "\n",
       "[9245 rows x 2 columns]"
      ]
     },
     "execution_count": 2,
     "metadata": {},
     "output_type": "execute_result"
    }
   ],
   "source": [
    "data_train = read_parquet(file.news_articles_raw_train)\n",
    "data_train"
   ]
  },
  {
   "cell_type": "code",
   "execution_count": 3,
   "metadata": {
    "collapsed": false,
    "jupyter": {
     "outputs_hidden": false
    },
    "pycharm": {
     "name": "#%%\n"
    }
   },
   "outputs": [
    {
     "data": {
      "text/html": [
       "<div>\n",
       "<style scoped>\n",
       "    .dataframe tbody tr th:only-of-type {\n",
       "        vertical-align: middle;\n",
       "    }\n",
       "\n",
       "    .dataframe tbody tr th {\n",
       "        vertical-align: top;\n",
       "    }\n",
       "\n",
       "    .dataframe thead th {\n",
       "        text-align: right;\n",
       "    }\n",
       "</style>\n",
       "<table border=\"1\" class=\"dataframe\">\n",
       "  <thead>\n",
       "    <tr style=\"text-align: right;\">\n",
       "      <th></th>\n",
       "      <th>text_original</th>\n",
       "      <th>label</th>\n",
       "    </tr>\n",
       "  </thead>\n",
       "  <tbody>\n",
       "    <tr>\n",
       "      <th>0</th>\n",
       "      <td>Die Gewerkschaft GPA-djp lanciert den \"All-in-...</td>\n",
       "      <td>Wirtschaft</td>\n",
       "    </tr>\n",
       "    <tr>\n",
       "      <th>1</th>\n",
       "      <td>Franzosen verteidigen 2:1-Führung – Kritische ...</td>\n",
       "      <td>Sport</td>\n",
       "    </tr>\n",
       "    <tr>\n",
       "      <th>2</th>\n",
       "      <td>Neues Video von Designern macht im Netz die Ru...</td>\n",
       "      <td>Web</td>\n",
       "    </tr>\n",
       "    <tr>\n",
       "      <th>3</th>\n",
       "      <td>23-jähriger Brasilianer muss vier Spiele pausi...</td>\n",
       "      <td>Sport</td>\n",
       "    </tr>\n",
       "    <tr>\n",
       "      <th>4</th>\n",
       "      <td>Aufständische verwendeten Chemikalie bei Gefec...</td>\n",
       "      <td>International</td>\n",
       "    </tr>\n",
       "    <tr>\n",
       "      <th>...</th>\n",
       "      <td>...</td>\n",
       "      <td>...</td>\n",
       "    </tr>\n",
       "    <tr>\n",
       "      <th>1023</th>\n",
       "      <td>Programm \"Ebay Plus\" soll Ende September start...</td>\n",
       "      <td>Web</td>\n",
       "    </tr>\n",
       "    <tr>\n",
       "      <th>1024</th>\n",
       "      <td>Fehlerhafte Bilanz 2013, Partei will berufen –...</td>\n",
       "      <td>Inland</td>\n",
       "    </tr>\n",
       "    <tr>\n",
       "      <th>1025</th>\n",
       "      <td>Als erster Olympia-Champion auch Hawaii-Sieger...</td>\n",
       "      <td>Sport</td>\n",
       "    </tr>\n",
       "    <tr>\n",
       "      <th>1026</th>\n",
       "      <td>Der Außenseiter aus Denver gewinnt die 50. Sup...</td>\n",
       "      <td>Sport</td>\n",
       "    </tr>\n",
       "    <tr>\n",
       "      <th>1027</th>\n",
       "      <td>Wohl keine Einschränkungen bei Google-Services...</td>\n",
       "      <td>Web</td>\n",
       "    </tr>\n",
       "  </tbody>\n",
       "</table>\n",
       "<p>1028 rows × 2 columns</p>\n",
       "</div>"
      ],
      "text/plain": [
       "                                          text_original          label\n",
       "0     Die Gewerkschaft GPA-djp lanciert den \"All-in-...     Wirtschaft\n",
       "1     Franzosen verteidigen 2:1-Führung – Kritische ...          Sport\n",
       "2     Neues Video von Designern macht im Netz die Ru...            Web\n",
       "3     23-jähriger Brasilianer muss vier Spiele pausi...          Sport\n",
       "4     Aufständische verwendeten Chemikalie bei Gefec...  International\n",
       "...                                                 ...            ...\n",
       "1023  Programm \"Ebay Plus\" soll Ende September start...            Web\n",
       "1024  Fehlerhafte Bilanz 2013, Partei will berufen –...         Inland\n",
       "1025  Als erster Olympia-Champion auch Hawaii-Sieger...          Sport\n",
       "1026  Der Außenseiter aus Denver gewinnt die 50. Sup...          Sport\n",
       "1027  Wohl keine Einschränkungen bei Google-Services...            Web\n",
       "\n",
       "[1028 rows x 2 columns]"
      ]
     },
     "execution_count": 3,
     "metadata": {},
     "output_type": "execute_result"
    }
   ],
   "source": [
    "data_test = read_parquet(file.news_articles_raw_test)\n",
    "data_test"
   ]
  },
  {
   "cell_type": "code",
   "execution_count": 4,
   "metadata": {
    "collapsed": false,
    "jupyter": {
     "outputs_hidden": false
    },
    "pycharm": {
     "name": "#%%\n"
    }
   },
   "outputs": [
    {
     "data": {
      "text/html": [
       "<div>\n",
       "<style scoped>\n",
       "    .dataframe tbody tr th:only-of-type {\n",
       "        vertical-align: middle;\n",
       "    }\n",
       "\n",
       "    .dataframe tbody tr th {\n",
       "        vertical-align: top;\n",
       "    }\n",
       "\n",
       "    .dataframe thead th {\n",
       "        text-align: right;\n",
       "    }\n",
       "</style>\n",
       "<table border=\"1\" class=\"dataframe\">\n",
       "  <thead>\n",
       "    <tr style=\"text-align: right;\">\n",
       "      <th></th>\n",
       "      <th>text_original</th>\n",
       "      <th>label</th>\n",
       "      <th>characters_total</th>\n",
       "    </tr>\n",
       "  </thead>\n",
       "  <tbody>\n",
       "    <tr>\n",
       "      <th>0</th>\n",
       "      <td>21-Jähriger fällt wohl bis Saisonende aus. Wie...</td>\n",
       "      <td>Sport</td>\n",
       "      <td>448</td>\n",
       "    </tr>\n",
       "    <tr>\n",
       "      <th>1</th>\n",
       "      <td>Erfundene Bilder zu Filmen, die als verloren g...</td>\n",
       "      <td>Kultur</td>\n",
       "      <td>4020</td>\n",
       "    </tr>\n",
       "    <tr>\n",
       "      <th>2</th>\n",
       "      <td>Der frischgekürte CEO Sundar Pichai setzt auf ...</td>\n",
       "      <td>Web</td>\n",
       "      <td>2116</td>\n",
       "    </tr>\n",
       "    <tr>\n",
       "      <th>3</th>\n",
       "      <td>Putin: \"Einigung, dass wir Menge auf Niveau vo...</td>\n",
       "      <td>Wirtschaft</td>\n",
       "      <td>664</td>\n",
       "    </tr>\n",
       "    <tr>\n",
       "      <th>4</th>\n",
       "      <td>Estland sieht den künftigen österreichischen P...</td>\n",
       "      <td>Inland</td>\n",
       "      <td>4393</td>\n",
       "    </tr>\n",
       "    <tr>\n",
       "      <th>...</th>\n",
       "      <td>...</td>\n",
       "      <td>...</td>\n",
       "      <td>...</td>\n",
       "    </tr>\n",
       "    <tr>\n",
       "      <th>9240</th>\n",
       "      <td>Bernd Saurer war Bridge-Juniorenweltmeister un...</td>\n",
       "      <td>Inland</td>\n",
       "      <td>2385</td>\n",
       "    </tr>\n",
       "    <tr>\n",
       "      <th>9241</th>\n",
       "      <td>Sandhere soll in vergangener Woche bei Luftang...</td>\n",
       "      <td>International</td>\n",
       "      <td>969</td>\n",
       "    </tr>\n",
       "    <tr>\n",
       "      <th>9242</th>\n",
       "      <td>Derzeit Konzeptgruppe in Berlin – Kein Komment...</td>\n",
       "      <td>Wirtschaft</td>\n",
       "      <td>1341</td>\n",
       "    </tr>\n",
       "    <tr>\n",
       "      <th>9243</th>\n",
       "      <td>Landeshauptmann will den vierten Regierungssit...</td>\n",
       "      <td>Inland</td>\n",
       "      <td>2699</td>\n",
       "    </tr>\n",
       "    <tr>\n",
       "      <th>9244</th>\n",
       "      <td>Er ist einer von Millionen syrischen Flüchtlin...</td>\n",
       "      <td>Panorama</td>\n",
       "      <td>6913</td>\n",
       "    </tr>\n",
       "  </tbody>\n",
       "</table>\n",
       "<p>9245 rows × 3 columns</p>\n",
       "</div>"
      ],
      "text/plain": [
       "                                          text_original          label  \\\n",
       "0     21-Jähriger fällt wohl bis Saisonende aus. Wie...          Sport   \n",
       "1     Erfundene Bilder zu Filmen, die als verloren g...         Kultur   \n",
       "2     Der frischgekürte CEO Sundar Pichai setzt auf ...            Web   \n",
       "3     Putin: \"Einigung, dass wir Menge auf Niveau vo...     Wirtschaft   \n",
       "4     Estland sieht den künftigen österreichischen P...         Inland   \n",
       "...                                                 ...            ...   \n",
       "9240  Bernd Saurer war Bridge-Juniorenweltmeister un...         Inland   \n",
       "9241  Sandhere soll in vergangener Woche bei Luftang...  International   \n",
       "9242  Derzeit Konzeptgruppe in Berlin – Kein Komment...     Wirtschaft   \n",
       "9243  Landeshauptmann will den vierten Regierungssit...         Inland   \n",
       "9244  Er ist einer von Millionen syrischen Flüchtlin...       Panorama   \n",
       "\n",
       "      characters_total  \n",
       "0                  448  \n",
       "1                 4020  \n",
       "2                 2116  \n",
       "3                  664  \n",
       "4                 4393  \n",
       "...                ...  \n",
       "9240              2385  \n",
       "9241               969  \n",
       "9242              1341  \n",
       "9243              2699  \n",
       "9244              6913  \n",
       "\n",
       "[9245 rows x 3 columns]"
      ]
     },
     "execution_count": 4,
     "metadata": {},
     "output_type": "execute_result"
    }
   ],
   "source": [
    "data_train_count = concat([data_train, data_train.text_original.str.len().rename(\"characters_total\")], axis=1)\n",
    "data_train_count"
   ]
  },
  {
   "cell_type": "code",
   "execution_count": 5,
   "metadata": {
    "collapsed": false,
    "jupyter": {
     "outputs_hidden": false
    },
    "pycharm": {
     "name": "#%%\n"
    }
   },
   "outputs": [
    {
     "data": {
      "text/html": [
       "<div>\n",
       "<style scoped>\n",
       "    .dataframe tbody tr th:only-of-type {\n",
       "        vertical-align: middle;\n",
       "    }\n",
       "\n",
       "    .dataframe tbody tr th {\n",
       "        vertical-align: top;\n",
       "    }\n",
       "\n",
       "    .dataframe thead th {\n",
       "        text-align: right;\n",
       "    }\n",
       "</style>\n",
       "<table border=\"1\" class=\"dataframe\">\n",
       "  <thead>\n",
       "    <tr style=\"text-align: right;\">\n",
       "      <th></th>\n",
       "      <th>text_original</th>\n",
       "      <th>label</th>\n",
       "      <th>characters_total</th>\n",
       "    </tr>\n",
       "  </thead>\n",
       "  <tbody>\n",
       "    <tr>\n",
       "      <th>0</th>\n",
       "      <td>Die Gewerkschaft GPA-djp lanciert den \"All-in-...</td>\n",
       "      <td>Wirtschaft</td>\n",
       "      <td>2775</td>\n",
       "    </tr>\n",
       "    <tr>\n",
       "      <th>1</th>\n",
       "      <td>Franzosen verteidigen 2:1-Führung – Kritische ...</td>\n",
       "      <td>Sport</td>\n",
       "      <td>4414</td>\n",
       "    </tr>\n",
       "    <tr>\n",
       "      <th>2</th>\n",
       "      <td>Neues Video von Designern macht im Netz die Ru...</td>\n",
       "      <td>Web</td>\n",
       "      <td>2352</td>\n",
       "    </tr>\n",
       "    <tr>\n",
       "      <th>3</th>\n",
       "      <td>23-jähriger Brasilianer muss vier Spiele pausi...</td>\n",
       "      <td>Sport</td>\n",
       "      <td>2819</td>\n",
       "    </tr>\n",
       "    <tr>\n",
       "      <th>4</th>\n",
       "      <td>Aufständische verwendeten Chemikalie bei Gefec...</td>\n",
       "      <td>International</td>\n",
       "      <td>1006</td>\n",
       "    </tr>\n",
       "    <tr>\n",
       "      <th>...</th>\n",
       "      <td>...</td>\n",
       "      <td>...</td>\n",
       "      <td>...</td>\n",
       "    </tr>\n",
       "    <tr>\n",
       "      <th>1023</th>\n",
       "      <td>Programm \"Ebay Plus\" soll Ende September start...</td>\n",
       "      <td>Web</td>\n",
       "      <td>1500</td>\n",
       "    </tr>\n",
       "    <tr>\n",
       "      <th>1024</th>\n",
       "      <td>Fehlerhafte Bilanz 2013, Partei will berufen –...</td>\n",
       "      <td>Inland</td>\n",
       "      <td>2318</td>\n",
       "    </tr>\n",
       "    <tr>\n",
       "      <th>1025</th>\n",
       "      <td>Als erster Olympia-Champion auch Hawaii-Sieger...</td>\n",
       "      <td>Sport</td>\n",
       "      <td>3411</td>\n",
       "    </tr>\n",
       "    <tr>\n",
       "      <th>1026</th>\n",
       "      <td>Der Außenseiter aus Denver gewinnt die 50. Sup...</td>\n",
       "      <td>Sport</td>\n",
       "      <td>4402</td>\n",
       "    </tr>\n",
       "    <tr>\n",
       "      <th>1027</th>\n",
       "      <td>Wohl keine Einschränkungen bei Google-Services...</td>\n",
       "      <td>Web</td>\n",
       "      <td>1175</td>\n",
       "    </tr>\n",
       "  </tbody>\n",
       "</table>\n",
       "<p>1028 rows × 3 columns</p>\n",
       "</div>"
      ],
      "text/plain": [
       "                                          text_original          label  \\\n",
       "0     Die Gewerkschaft GPA-djp lanciert den \"All-in-...     Wirtschaft   \n",
       "1     Franzosen verteidigen 2:1-Führung – Kritische ...          Sport   \n",
       "2     Neues Video von Designern macht im Netz die Ru...            Web   \n",
       "3     23-jähriger Brasilianer muss vier Spiele pausi...          Sport   \n",
       "4     Aufständische verwendeten Chemikalie bei Gefec...  International   \n",
       "...                                                 ...            ...   \n",
       "1023  Programm \"Ebay Plus\" soll Ende September start...            Web   \n",
       "1024  Fehlerhafte Bilanz 2013, Partei will berufen –...         Inland   \n",
       "1025  Als erster Olympia-Champion auch Hawaii-Sieger...          Sport   \n",
       "1026  Der Außenseiter aus Denver gewinnt die 50. Sup...          Sport   \n",
       "1027  Wohl keine Einschränkungen bei Google-Services...            Web   \n",
       "\n",
       "      characters_total  \n",
       "0                 2775  \n",
       "1                 4414  \n",
       "2                 2352  \n",
       "3                 2819  \n",
       "4                 1006  \n",
       "...                ...  \n",
       "1023              1500  \n",
       "1024              2318  \n",
       "1025              3411  \n",
       "1026              4402  \n",
       "1027              1175  \n",
       "\n",
       "[1028 rows x 3 columns]"
      ]
     },
     "execution_count": 5,
     "metadata": {},
     "output_type": "execute_result"
    }
   ],
   "source": [
    "data_test_count = concat([data_test, data_test.text_original.str.len().rename(\"characters_total\")], axis=1)\n",
    "data_test_count"
   ]
  },
  {
   "cell_type": "markdown",
   "metadata": {},
   "source": [
    "# Data Quality (missingno)"
   ]
  },
  {
   "cell_type": "markdown",
   "metadata": {},
   "source": [
    "## Training Set"
   ]
  },
  {
   "cell_type": "code",
   "execution_count": 6,
   "metadata": {
    "collapsed": false,
    "jupyter": {
     "outputs_hidden": false
    },
    "pycharm": {
     "name": "#%%\n"
    }
   },
   "outputs": [
    {
     "data": {
      "text/plain": [
       "<AxesSubplot:>"
      ]
     },
     "execution_count": 6,
     "metadata": {},
     "output_type": "execute_result"
    },
    {
     "data": {
      "image/png": "[encoded data removed]",
      "text/plain": [
       "<Figure size 1800x720 with 2 Axes>"
      ]
     },
     "metadata": {
      "needs_background": "light"
     },
     "output_type": "display_data"
    }
   ],
   "source": [
    "msno.matrix(data_train)"
   ]
  },
  {
   "cell_type": "markdown",
   "metadata": {
    "pycharm": {
     "name": "#%% md\n"
    }
   },
   "source": [
    "## Test Set"
   ]
  },
  {
   "cell_type": "code",
   "execution_count": 7,
   "metadata": {
    "collapsed": false,
    "jupyter": {
     "outputs_hidden": false
    },
    "pycharm": {
     "name": "#%%\n"
    }
   },
   "outputs": [
    {
     "data": {
      "text/plain": [
       "<AxesSubplot:>"
      ]
     },
     "execution_count": 7,
     "metadata": {},
     "output_type": "execute_result"
    },
    {
     "data": {
      "image/png": "[encoded data removed]",
      "text/plain": [
       "<Figure size 1800x720 with 2 Axes>"
      ]
     },
     "metadata": {
      "needs_background": "light"
     },
     "output_type": "display_data"
    }
   ],
   "source": [
    "msno.matrix(data_test)"
   ]
  },
  {
   "cell_type": "markdown",
   "metadata": {},
   "source": [
    "# Data Distribution (Categorical)"
   ]
  },
  {
   "cell_type": "markdown",
   "metadata": {
    "pycharm": {
     "name": "#%% md\n"
    }
   },
   "source": [
    "## Training Set"
   ]
  },
  {
   "cell_type": "code",
   "execution_count": 8,
   "metadata": {
    "collapsed": false,
    "jupyter": {
     "outputs_hidden": false
    },
    "pycharm": {
     "name": "#%%\n"
    }
   },
   "outputs": [
    {
     "data": {
      "text/plain": [
       "<AxesSubplot:xlabel='label', ylabel='count'>"
      ]
     },
     "execution_count": 8,
     "metadata": {},
     "output_type": "execute_result"
    },
    {
     "data": {
      "image/png": "[encoded data removed]",
      "text/plain": [
       "<Figure size 720x504 with 1 Axes>"
      ]
     },
     "metadata": {},
     "output_type": "display_data"
    }
   ],
   "source": [
    "sns.set(rc={'figure.figsize': (10, 7)})\n",
    "sns.countplot(x=\"label\", data=data_train)"
   ]
  },
  {
   "cell_type": "markdown",
   "metadata": {
    "pycharm": {
     "name": "#%% md\n"
    }
   },
   "source": [
    "## Test Set"
   ]
  },
  {
   "cell_type": "code",
   "execution_count": 9,
   "metadata": {
    "collapsed": false,
    "jupyter": {
     "outputs_hidden": false
    },
    "pycharm": {
     "name": "#%%\n"
    }
   },
   "outputs": [
    {
     "data": {
      "text/plain": [
       "<AxesSubplot:xlabel='label', ylabel='count'>"
      ]
     },
     "execution_count": 9,
     "metadata": {},
     "output_type": "execute_result"
    },
    {
     "data": {
      "image/png": "[encoded data removed]",
      "text/plain": [
       "<Figure size 720x504 with 1 Axes>"
      ]
     },
     "metadata": {},
     "output_type": "display_data"
    }
   ],
   "source": [
    "sns.set(rc={'figure.figsize': (10, 7)})\n",
    "sns.countplot(x=\"label\", data=data_test)"
   ]
  },
  {
   "cell_type": "markdown",
   "metadata": {},
   "source": [
    "# Data Distribution (Text Length)"
   ]
  },
  {
   "cell_type": "markdown",
   "metadata": {},
   "source": [
    "## Training Set"
   ]
  },
  {
   "cell_type": "code",
   "execution_count": 10,
   "metadata": {
    "collapsed": false,
    "jupyter": {
     "outputs_hidden": false
    },
    "pycharm": {
     "name": "#%%\n"
    }
   },
   "outputs": [
    {
     "data": {
      "text/plain": [
       "<AxesSubplot:xlabel='label', ylabel='characters_total'>"
      ]
     },
     "execution_count": 10,
     "metadata": {},
     "output_type": "execute_result"
    },
    {
     "data": {
      "image/png": "[encoded data removed]",
      "text/plain": [
       "<Figure size 720x504 with 1 Axes>"
      ]
     },
     "metadata": {},
     "output_type": "display_data"
    }
   ],
   "source": [
    "sns.violinplot(x=data_train_count.label, y=data_train_count.characters_total)"
   ]
  },
  {
   "cell_type": "code",
   "execution_count": 132,
   "metadata": {
    "collapsed": false,
    "jupyter": {
     "outputs_hidden": false
    },
    "pycharm": {
     "name": "#%%\n"
    }
   },
   "outputs": [],
   "source": []
  },
  {
   "cell_type": "markdown",
   "metadata": {},
   "source": [
    "## Test Set"
   ]
  },
  {
   "cell_type": "code",
   "execution_count": 11,
   "metadata": {
    "collapsed": false,
    "jupyter": {
     "outputs_hidden": false
    },
    "pycharm": {
     "name": "#%%\n"
    }
   },
   "outputs": [
    {
     "data": {
      "text/plain": [
       "<AxesSubplot:xlabel='label', ylabel='characters_total'>"
      ]
     },
     "execution_count": 11,
     "metadata": {},
     "output_type": "execute_result"
    },
    {
     "data": {
      "image/png": "[encoded data removed]",
      "text/plain": [
       "<Figure size 720x504 with 1 Axes>"
      ]
     },
     "metadata": {},
     "output_type": "display_data"
    }
   ],
   "source": [
    "sns.violinplot(x=data_test.label, y=data_test_count.characters_total)"
   ]
  },
  {
   "cell_type": "markdown",
   "metadata": {},
   "source": [
    "# Language Distribution"
   ]
  },
  {
   "cell_type": "markdown",
   "metadata": {},
   "source": [
    "# Example Data"
   ]
  },
  {
   "cell_type": "markdown",
   "metadata": {},
   "source": [
    "## Training Set"
   ]
  },
  {
   "cell_type": "code",
   "execution_count": 12,
   "metadata": {
    "collapsed": false,
    "jupyter": {
     "outputs_hidden": false
    },
    "pycharm": {
     "name": "#%%\n"
    }
   },
   "outputs": [
    {
     "data": {
      "text/html": [
       "<div>\n",
       "<style scoped>\n",
       "    .dataframe tbody tr th:only-of-type {\n",
       "        vertical-align: middle;\n",
       "    }\n",
       "\n",
       "    .dataframe tbody tr th {\n",
       "        vertical-align: top;\n",
       "    }\n",
       "\n",
       "    .dataframe thead th {\n",
       "        text-align: right;\n",
       "    }\n",
       "</style>\n",
       "<table border=\"1\" class=\"dataframe\">\n",
       "  <thead>\n",
       "    <tr style=\"text-align: right;\">\n",
       "      <th></th>\n",
       "      <th>text_original</th>\n",
       "      <th>label</th>\n",
       "      <th>characters_total</th>\n",
       "    </tr>\n",
       "  </thead>\n",
       "  <tbody>\n",
       "    <tr>\n",
       "      <th>385</th>\n",
       "      <td>Sachverständigengutachten wird derzeit geprüft – Weitere Einvernahmen noch geplant. Wien/Pucking – Nach der Insolvenz der Handelskette dayli im Juli 2013 ermittelt die Wirtschafts- und Korruptionsstaatsanwaltschaft (WKStA) weiterhin gegen den früheren Chef und Eigentümer Rudolf Haberleitner. Der WKStA liegt nun ein beauftragtes Sachverständigengutachten vor, das derzeit geprüft wird. Danach werden noch ergänzende Einvernahmen erforderlich sein, so Oberstaatsanwalt und WKStA-Mediensprecher Norbert Hauser auf APA-Anfrage. Deswegen könne man derzeit zur weiteren Dauer des Ermittlungsverfahrens keine zuverlässigen Angaben machen. Ermittelt wird gegen Haberleitner wegen des Vorwurfs der betrügerischen Krida in Millionenhöhe und der grob fahrlässigen Beeinträchtigung von Gläubigerinteressen. Der ehemalige dayli-Chef hatte die Vorwürfe ihn der Vergangenheit bereits mehrmals zurückgewiesen.</td>\n",
       "      <td>Wirtschaft</td>\n",
       "      <td>895</td>\n",
       "    </tr>\n",
       "    <tr>\n",
       "      <th>6273</th>\n",
       "      <td>Stadt will ab 2017 knapp ein Drittel mehr neue Wohnungen bauen, als Sofortlösung sind mobile Holzhäuser geplant. Wien – Die Stadt Wien will deutlich mehr Wohnungen bauen: Wohnbaustadtrat Michael Ludwig (SPÖ) schwebt ab 2017 eine Steigerung um 30 Prozent gegenüber dem derzeitigen Niveau vor, wie er am Mittwoch in einer Pressekonferenz sagte. Das würde jährlich 13.000 statt 10.000 neue Wohnungen bedeuten, vorerst bis zum Jahr 2020. Die Zahl der geförderten Einheiten soll von rund 7.000 auf 9.000 pro Jahr gesteigert werden, die Anzahl neuer Gemeindewohnungen bis 2020 verdoppelt werden– von bisher geplanten und im rot-grünen Koalitionspapier festgeschriebenen 2.000 auf 4.000. Die Wohnbauoffensive sei eine Reaktion auf das Bevölkerungswachstum, das zuletzt deutlich stärker ausfiel als prognostiziert, sagte Ludwig. 2015 verzeichnete Wien 43.200 neue Bewohner. Da die Aufstockung des Wohnraums erst ab 2018/19 greifen wird, hat man sich im Rathaus eine Sofortlösung überlegt. Sie besteht aus...</td>\n",
       "      <td>Panorama</td>\n",
       "      <td>3653</td>\n",
       "    </tr>\n",
       "    <tr>\n",
       "      <th>2702</th>\n",
       "      <td>Dem greisen Komponisten zugedacht: Peter Härtlings famose Roman-Fantasie \"Verdi\". Wien – Als der Tonsetzer Giuseppe Verdi (1813-1901) seine Aida komponiert hatte, näherte er sich dem sechzigsten Jahr. Der Greis besaß in den Jahren danach durchaus nicht mehr den Wunsch, eine neue Oper zu schreiben. Verdi war zu diesem Zeitpunkt ein Star. Person wie Werk standen gleichsam im Besitz der jungen italienischen Nation. Seine epochale Geltung wurde höchstens von denjenigen bestritten, die Wagners Gesamtkunstwerk Verdis Bemühungen um Psychologie und Schöngesang vorzogen. Er selbst drohte sich verschiedentlich abhandenzukommen. Peter Härtlings wunderbare Roman-Biografie Verdi beginnt irritierend wie ein Film von Michael Haneke. Der greise Komponist erhebt sich mitten in der Nacht aus dem Bett und droht, den Faden seiner Lebenserzählung zu verlieren. Sein eigener Atem dünkt ihn wie der eines Kindes: Hilf mir, bitte. Ich finde mich nicht zurecht. Seine Frau, die Opernsängerin Giuseppina (Peppi...</td>\n",
       "      <td>Kultur</td>\n",
       "      <td>2919</td>\n",
       "    </tr>\n",
       "    <tr>\n",
       "      <th>7256</th>\n",
       "      <td>Nach Schlägereien in Flüchtlingsunterkünften wird eine neue Verteilung diskutiert. Der Streit begann bei der Essensausgabe. Ein 18-jähriger Albaner soll sich nach Polizeiangaben am Wochenende in einer Notunterkunft in Kassel-Calden vorgedrängt haben, was einen 80 Jahre alten Mann aus Pakistan empörte. Zuerst flogen Worte, dann Fäuste, schließlich kam es zu einer Massenschlägerei zwischen 370 Personen. Die Bilanz: ein Dutzend verletzte Flüchtlinge, drei verletzte Polizisten. Der Vorfall ist nicht der erste, der sich in den vergangenen Monaten in einem deutschen Flüchtlingslager abgespielt hat. Doch er hat nun eine Debatte darüber ausgelöst, wie man Gewaltausbrüche in den Unterkünften verhindern könne. Für die Gewerkschaft der Polizei ist die Sache klar. Sie verlangt eine Trennung nach Religionen und Nationen der Flüchtlinge bei der Unterbringung. Unterstützung bekommt sie von den Grünen. Wenn Menschen in den Unterkünften wegen ihrer religiösen Zugehörigkeit oder sexuellen Identität ...</td>\n",
       "      <td>Panorama</td>\n",
       "      <td>3521</td>\n",
       "    </tr>\n",
       "    <tr>\n",
       "      <th>6286</th>\n",
       "      <td>Monarch löst das Parlament auf und ruft Neuwahlen für Juni aus. Madrid –Erstmals seit Spaniens Rückkehr zur Demokratie in den 1970er Jahren stehen in dem Land vorgezogene Neuwahlen an. Nach dem endgültigen Scheitern einer Regierungsbildung setzte König Felipe VI. am Dienstag den erneuten Urnengang für den 26. Juni an. Der König unterzeichnete ein Dekret, mit dem das Parlament aufgelöst wurde. Der Monarch stellte das Dekret im Beisein von Parlamentspräsident Patxi Lopez aus. Es ist das erste Mal, dass dies in der demokratischen Ära geschieht, weil wir nicht in der Lage waren, das Mandat zu erfüllen, das uns die Bürger übertragen haben, sagte Lopez. Nach dem Ende der Franco-Diktatur 1975 waren die großen Parteien in Madrid nie gezwungen, eine Koalition zu bilden. Die Enttäuschung der Spanier über das Verhalten der Parteien bei den gescheiterten Koalitionsverhandlungen ist riesig. Drei von vier Spaniern sind jedenfalls der Meinung, die Politiker und Parteien hätten ihre persönlichen I...</td>\n",
       "      <td>International</td>\n",
       "      <td>3695</td>\n",
       "    </tr>\n",
       "    <tr>\n",
       "      <th>...</th>\n",
       "      <td>...</td>\n",
       "      <td>...</td>\n",
       "      <td>...</td>\n",
       "    </tr>\n",
       "    <tr>\n",
       "      <th>235</th>\n",
       "      <td>Brasiliens Präsidentin kämpft um ihre Karriere und präsentiert sich als leidenschaftliche Kämpferin. Verrat – das ist für Brasiliens Präsidentin Dilma Rousseff die schlimmste Anschuldigung, die es gibt. Während der Militärdiktatur wurde sie gefoltert, gab aber keine Namen preis. Die Verachtung steht der ehemaligen Guerillera ins Gesicht geschrieben, als sie ihren ehemaligen Vize Michel Temer des Verrats und der Verschwörung gegen sie bezichtigt. Nach der verlorenen Abstimmung im Abgeordnetenhaus über ihre Amtsenthebung geht Rousseff mit ihren Gegnern scharf ins Gericht – sogar auf internationaler Bühne. Für manche mögen es bloß die letzten verzweifelten Kämpfe einer unpopulären Staatschefin sein, die in wenigen Wochen aus dem Präsidentenpalast gejagt werden wird – doch es ist mehr. In den vergangenen Tagen trat die 68-Jährige nicht als Verliererin, sondern als leidenschaftliche Kämpferin vor die Kameras. Ich werde kämpfen – nicht nur für mein Mandat: Nein, weil ich die demokratisch...</td>\n",
       "      <td>International</td>\n",
       "      <td>3143</td>\n",
       "    </tr>\n",
       "    <tr>\n",
       "      <th>6385</th>\n",
       "      <td>Studie im Auftrag des Innenministeriums: Umfrageergebnisse hochgerechnet auf Grundgesamtheit in Österreich. Wien – Rund 8.400 Firmen waren laut einer Hochrechnung in Österreich von Wirtschafts- und Industriespionage betroffen. Zu diesem Ergebnis kommt eine Studie im Auftrag des Innenministeriums in Kooperation mit Wirtschaftskammer und Industriellenvereinigung. Fünf Prozent der 1.149 befragten Unternehmen gaben an, dass sie in den vergangenen fünf Jahren Opfer von Wirtschafts- und Industriespionage waren. Die Studie wurde von Wissenschaftern der Fachhochschule Campus Wien, Fachbereich Risiko- und Sicherheitsmanagement, erstellt. Viele der befragten Betriebe waren mehrfach von Wirtschafts- und Industriespionage betroffen. Ein Drittel der Vorfälle entfiel auf Industriebetriebe. In nahezu der Hälfte der Fälle kam der Mitbewerber als Täter infrage, gaben die Unternehmen an. Die betroffenen Firmen äußerten nur geringe Erwartungen an eine strafrechtliche Verfolgung. Nur ein Viertel erklä...</td>\n",
       "      <td>Wirtschaft</td>\n",
       "      <td>2187</td>\n",
       "    </tr>\n",
       "    <tr>\n",
       "      <th>7654</th>\n",
       "      <td>Gesundheitsamt informiert – Infektionsgefahr nur bei längerem, unmittelbaren Kontakt in einem geschlossenen Raum – Rund 650 Erkrankungen pro Jahr in Österreich. Wien – Der Tuberkulose-Verdacht im Parlament hat sich bestätigt. Ein Mitarbeiter der Parlamentsdirektion ist laut Aussendung der Parlamentsdirektion vom Freitagabend tatsächlich an TBC erkrankt. Die Wahrscheinlichkeit, dass der Mitarbeiter im Plenarsaal des Parlaments weitere Personen angesteckt hat, ist laut Gesundheitsdienst der Stadt Wien (MA 15) aber äußerst gering. Die Ergebnisse der medizinischen Untersuchung des Betroffenen, der sich in stationärer Behandlung befindet, liegen laut Gesundheitsdienst der Stadt Wien seit Freitagabend vor. Die MA 15 wird – wie in solchen Fällen vorgesehen – alle Personen, mit denen der Erkrankte engen beruflichen oder privaten Kontakt hatte, kontaktieren und, wenn notwendig, entsprechende Untersuchungen durchführen, hieß es in der Aussendung der Parlamentskorrespondenz. Nachdem sich der ...</td>\n",
       "      <td>Panorama</td>\n",
       "      <td>3074</td>\n",
       "    </tr>\n",
       "    <tr>\n",
       "      <th>1481</th>\n",
       "      <td>Wiener Westbalkankonferenz sei \"Schande\" – Androhung im Parlament am Mittwoch. Athen – Griechenland will in der Europäischen Union solange politische Beschlüsse blockieren, bis die vereinbarte gleichmäßigere Verteilung von Flüchtlingen auf die Mitgliedstaaten in die Tat umgesetzt wird. Dies sagte der linke Regierungschef Alexis Tsipras am Mittwoch im Parlament in Athen. Griechenland fordere die sofortige Einhaltung der Vereinbarungen zur Flüchtlingspolitik, sagte er weiter. Athen werde nicht akzeptieren, dass es Staaten gebe, die einerseits keinen einzigen Migranten aufnehmen, aber andererseits Zäune bauten. Ein Regierungssprecher in Athen konnte auf Anfrage der Deutschen Presse-Agentur zunächst nicht sagen, ob sich Tsipras Blockadedrohung nur auf Fragen der Flüchtlingspolitik bezieht oder auf sämtliche EU-Politikbereiche. Tsipras nannte es zudem eine Schande, dass Österreich und Länder des Westbalkans am Mittwoch in Wien eine Konferenz zur Asylpolitik abgehalten haben – außerhalb ...</td>\n",
       "      <td>Panorama</td>\n",
       "      <td>1239</td>\n",
       "    </tr>\n",
       "    <tr>\n",
       "      <th>3708</th>\n",
       "      <td>Am 31. Oktober soll die Belegschaft des Staatsfunks einen Schwur auf Spaniens Flagge leisten. Im öffentlich-rechtlichen Fernsehsender brodelt es. Spaniens staatlicher Rundfunk (Radiotelevisión Española, RTVE) hat bessere Zeiten gesehen. Doch just nach der Regionalwahl in Katalonien vom 27. September, bei der die TVE-Sender bei den Quoten wieder einmal mit 6,6 Prozent abgeschlagen hinter LaSexta (12,3 Prozent) rangierten, hatte RTVE-Generaldirektor José Antonio Sánchez Domínguez ein patriotisches Heureka-Erlebnis. Am 31. Oktober soll die Belegschaft einen Schwur auf Spaniens Flagge leisten. Wörtlich um sein Versprechen, Spanien und seine Interessen zu verteidigen, abzugeben, hieß es im internen Rundschreiben, das El Mundo vorliegt. Sánchez musste diesen Vorstoß prompt dem Parlament auf Antrag der Vereinigten Linken (IU) erklären. Relativierend meinte er: Man habe lediglich die Einladung eines Nachbarn, der Telekomunika tionsbrigade der Armee, im in ternen Mailverteiler der RTVE verb...</td>\n",
       "      <td>Etat</td>\n",
       "      <td>3305</td>\n",
       "    </tr>\n",
       "  </tbody>\n",
       "</table>\n",
       "<p>100 rows × 3 columns</p>\n",
       "</div>"
      ],
      "text/plain": [
       "                                                                                                                                                                                                                                                                                                                                                                                                                                                                                                                                                                                                                                                                                                                                                                                                                                                                                                                                                                                                                                text_original  \\\n",
       "385                                                                                                           Sachverständigengutachten wird derzeit geprüft – Weitere Einvernahmen noch geplant. Wien/Pucking – Nach der Insolvenz der Handelskette dayli im Juli 2013 ermittelt die Wirtschafts- und Korruptionsstaatsanwaltschaft (WKStA) weiterhin gegen den früheren Chef und Eigentümer Rudolf Haberleitner. Der WKStA liegt nun ein beauftragtes Sachverständigengutachten vor, das derzeit geprüft wird. Danach werden noch ergänzende Einvernahmen erforderlich sein, so Oberstaatsanwalt und WKStA-Mediensprecher Norbert Hauser auf APA-Anfrage. Deswegen könne man derzeit zur weiteren Dauer des Ermittlungsverfahrens keine zuverlässigen Angaben machen. Ermittelt wird gegen Haberleitner wegen des Vorwurfs der betrügerischen Krida in Millionenhöhe und der grob fahrlässigen Beeinträchtigung von Gläubigerinteressen. Der ehemalige dayli-Chef hatte die Vorwürfe ihn der Vergangenheit bereits mehrmals zurückgewiesen.   \n",
       "6273  Stadt will ab 2017 knapp ein Drittel mehr neue Wohnungen bauen, als Sofortlösung sind mobile Holzhäuser geplant. Wien – Die Stadt Wien will deutlich mehr Wohnungen bauen: Wohnbaustadtrat Michael Ludwig (SPÖ) schwebt ab 2017 eine Steigerung um 30 Prozent gegenüber dem derzeitigen Niveau vor, wie er am Mittwoch in einer Pressekonferenz sagte. Das würde jährlich 13.000 statt 10.000 neue Wohnungen bedeuten, vorerst bis zum Jahr 2020. Die Zahl der geförderten Einheiten soll von rund 7.000 auf 9.000 pro Jahr gesteigert werden, die Anzahl neuer Gemeindewohnungen bis 2020 verdoppelt werden– von bisher geplanten und im rot-grünen Koalitionspapier festgeschriebenen 2.000 auf 4.000. Die Wohnbauoffensive sei eine Reaktion auf das Bevölkerungswachstum, das zuletzt deutlich stärker ausfiel als prognostiziert, sagte Ludwig. 2015 verzeichnete Wien 43.200 neue Bewohner. Da die Aufstockung des Wohnraums erst ab 2018/19 greifen wird, hat man sich im Rathaus eine Sofortlösung überlegt. Sie besteht aus...   \n",
       "2702  Dem greisen Komponisten zugedacht: Peter Härtlings famose Roman-Fantasie \"Verdi\". Wien – Als der Tonsetzer Giuseppe Verdi (1813-1901) seine Aida komponiert hatte, näherte er sich dem sechzigsten Jahr. Der Greis besaß in den Jahren danach durchaus nicht mehr den Wunsch, eine neue Oper zu schreiben. Verdi war zu diesem Zeitpunkt ein Star. Person wie Werk standen gleichsam im Besitz der jungen italienischen Nation. Seine epochale Geltung wurde höchstens von denjenigen bestritten, die Wagners Gesamtkunstwerk Verdis Bemühungen um Psychologie und Schöngesang vorzogen. Er selbst drohte sich verschiedentlich abhandenzukommen. Peter Härtlings wunderbare Roman-Biografie Verdi beginnt irritierend wie ein Film von Michael Haneke. Der greise Komponist erhebt sich mitten in der Nacht aus dem Bett und droht, den Faden seiner Lebenserzählung zu verlieren. Sein eigener Atem dünkt ihn wie der eines Kindes: Hilf mir, bitte. Ich finde mich nicht zurecht. Seine Frau, die Opernsängerin Giuseppina (Peppi...   \n",
       "7256  Nach Schlägereien in Flüchtlingsunterkünften wird eine neue Verteilung diskutiert. Der Streit begann bei der Essensausgabe. Ein 18-jähriger Albaner soll sich nach Polizeiangaben am Wochenende in einer Notunterkunft in Kassel-Calden vorgedrängt haben, was einen 80 Jahre alten Mann aus Pakistan empörte. Zuerst flogen Worte, dann Fäuste, schließlich kam es zu einer Massenschlägerei zwischen 370 Personen. Die Bilanz: ein Dutzend verletzte Flüchtlinge, drei verletzte Polizisten. Der Vorfall ist nicht der erste, der sich in den vergangenen Monaten in einem deutschen Flüchtlingslager abgespielt hat. Doch er hat nun eine Debatte darüber ausgelöst, wie man Gewaltausbrüche in den Unterkünften verhindern könne. Für die Gewerkschaft der Polizei ist die Sache klar. Sie verlangt eine Trennung nach Religionen und Nationen der Flüchtlinge bei der Unterbringung. Unterstützung bekommt sie von den Grünen. Wenn Menschen in den Unterkünften wegen ihrer religiösen Zugehörigkeit oder sexuellen Identität ...   \n",
       "6286  Monarch löst das Parlament auf und ruft Neuwahlen für Juni aus. Madrid –Erstmals seit Spaniens Rückkehr zur Demokratie in den 1970er Jahren stehen in dem Land vorgezogene Neuwahlen an. Nach dem endgültigen Scheitern einer Regierungsbildung setzte König Felipe VI. am Dienstag den erneuten Urnengang für den 26. Juni an. Der König unterzeichnete ein Dekret, mit dem das Parlament aufgelöst wurde. Der Monarch stellte das Dekret im Beisein von Parlamentspräsident Patxi Lopez aus. Es ist das erste Mal, dass dies in der demokratischen Ära geschieht, weil wir nicht in der Lage waren, das Mandat zu erfüllen, das uns die Bürger übertragen haben, sagte Lopez. Nach dem Ende der Franco-Diktatur 1975 waren die großen Parteien in Madrid nie gezwungen, eine Koalition zu bilden. Die Enttäuschung der Spanier über das Verhalten der Parteien bei den gescheiterten Koalitionsverhandlungen ist riesig. Drei von vier Spaniern sind jedenfalls der Meinung, die Politiker und Parteien hätten ihre persönlichen I...   \n",
       "...                                                                                                                                                                                                                                                                                                                                                                                                                                                                                                                                                                                                                                                                                                                                                                                                                                                                                                                                                                                                                                       ...   \n",
       "235   Brasiliens Präsidentin kämpft um ihre Karriere und präsentiert sich als leidenschaftliche Kämpferin. Verrat – das ist für Brasiliens Präsidentin Dilma Rousseff die schlimmste Anschuldigung, die es gibt. Während der Militärdiktatur wurde sie gefoltert, gab aber keine Namen preis. Die Verachtung steht der ehemaligen Guerillera ins Gesicht geschrieben, als sie ihren ehemaligen Vize Michel Temer des Verrats und der Verschwörung gegen sie bezichtigt. Nach der verlorenen Abstimmung im Abgeordnetenhaus über ihre Amtsenthebung geht Rousseff mit ihren Gegnern scharf ins Gericht – sogar auf internationaler Bühne. Für manche mögen es bloß die letzten verzweifelten Kämpfe einer unpopulären Staatschefin sein, die in wenigen Wochen aus dem Präsidentenpalast gejagt werden wird – doch es ist mehr. In den vergangenen Tagen trat die 68-Jährige nicht als Verliererin, sondern als leidenschaftliche Kämpferin vor die Kameras. Ich werde kämpfen – nicht nur für mein Mandat: Nein, weil ich die demokratisch...   \n",
       "6385  Studie im Auftrag des Innenministeriums: Umfrageergebnisse hochgerechnet auf Grundgesamtheit in Österreich. Wien – Rund 8.400 Firmen waren laut einer Hochrechnung in Österreich von Wirtschafts- und Industriespionage betroffen. Zu diesem Ergebnis kommt eine Studie im Auftrag des Innenministeriums in Kooperation mit Wirtschaftskammer und Industriellenvereinigung. Fünf Prozent der 1.149 befragten Unternehmen gaben an, dass sie in den vergangenen fünf Jahren Opfer von Wirtschafts- und Industriespionage waren. Die Studie wurde von Wissenschaftern der Fachhochschule Campus Wien, Fachbereich Risiko- und Sicherheitsmanagement, erstellt. Viele der befragten Betriebe waren mehrfach von Wirtschafts- und Industriespionage betroffen. Ein Drittel der Vorfälle entfiel auf Industriebetriebe. In nahezu der Hälfte der Fälle kam der Mitbewerber als Täter infrage, gaben die Unternehmen an. Die betroffenen Firmen äußerten nur geringe Erwartungen an eine strafrechtliche Verfolgung. Nur ein Viertel erklä...   \n",
       "7654  Gesundheitsamt informiert – Infektionsgefahr nur bei längerem, unmittelbaren Kontakt in einem geschlossenen Raum – Rund 650 Erkrankungen pro Jahr in Österreich. Wien – Der Tuberkulose-Verdacht im Parlament hat sich bestätigt. Ein Mitarbeiter der Parlamentsdirektion ist laut Aussendung der Parlamentsdirektion vom Freitagabend tatsächlich an TBC erkrankt. Die Wahrscheinlichkeit, dass der Mitarbeiter im Plenarsaal des Parlaments weitere Personen angesteckt hat, ist laut Gesundheitsdienst der Stadt Wien (MA 15) aber äußerst gering. Die Ergebnisse der medizinischen Untersuchung des Betroffenen, der sich in stationärer Behandlung befindet, liegen laut Gesundheitsdienst der Stadt Wien seit Freitagabend vor. Die MA 15 wird – wie in solchen Fällen vorgesehen – alle Personen, mit denen der Erkrankte engen beruflichen oder privaten Kontakt hatte, kontaktieren und, wenn notwendig, entsprechende Untersuchungen durchführen, hieß es in der Aussendung der Parlamentskorrespondenz. Nachdem sich der ...   \n",
       "1481  Wiener Westbalkankonferenz sei \"Schande\" – Androhung im Parlament am Mittwoch. Athen – Griechenland will in der Europäischen Union solange politische Beschlüsse blockieren, bis die vereinbarte gleichmäßigere Verteilung von Flüchtlingen auf die Mitgliedstaaten in die Tat umgesetzt wird. Dies sagte der linke Regierungschef Alexis Tsipras am Mittwoch im Parlament in Athen. Griechenland fordere die sofortige Einhaltung der Vereinbarungen zur Flüchtlingspolitik, sagte er weiter. Athen werde nicht akzeptieren, dass es Staaten gebe, die einerseits keinen einzigen Migranten aufnehmen, aber andererseits Zäune bauten. Ein Regierungssprecher in Athen konnte auf Anfrage der Deutschen Presse-Agentur zunächst nicht sagen, ob sich Tsipras Blockadedrohung nur auf Fragen der Flüchtlingspolitik bezieht oder auf sämtliche EU-Politikbereiche. Tsipras nannte es zudem eine Schande, dass Österreich und Länder des Westbalkans am Mittwoch in Wien eine Konferenz zur Asylpolitik abgehalten haben – außerhalb ...   \n",
       "3708  Am 31. Oktober soll die Belegschaft des Staatsfunks einen Schwur auf Spaniens Flagge leisten. Im öffentlich-rechtlichen Fernsehsender brodelt es. Spaniens staatlicher Rundfunk (Radiotelevisión Española, RTVE) hat bessere Zeiten gesehen. Doch just nach der Regionalwahl in Katalonien vom 27. September, bei der die TVE-Sender bei den Quoten wieder einmal mit 6,6 Prozent abgeschlagen hinter LaSexta (12,3 Prozent) rangierten, hatte RTVE-Generaldirektor José Antonio Sánchez Domínguez ein patriotisches Heureka-Erlebnis. Am 31. Oktober soll die Belegschaft einen Schwur auf Spaniens Flagge leisten. Wörtlich um sein Versprechen, Spanien und seine Interessen zu verteidigen, abzugeben, hieß es im internen Rundschreiben, das El Mundo vorliegt. Sánchez musste diesen Vorstoß prompt dem Parlament auf Antrag der Vereinigten Linken (IU) erklären. Relativierend meinte er: Man habe lediglich die Einladung eines Nachbarn, der Telekomunika tionsbrigade der Armee, im in ternen Mailverteiler der RTVE verb...   \n",
       "\n",
       "              label  characters_total  \n",
       "385      Wirtschaft               895  \n",
       "6273       Panorama              3653  \n",
       "2702         Kultur              2919  \n",
       "7256       Panorama              3521  \n",
       "6286  International              3695  \n",
       "...             ...               ...  \n",
       "235   International              3143  \n",
       "6385     Wirtschaft              2187  \n",
       "7654       Panorama              3074  \n",
       "1481       Panorama              1239  \n",
       "3708           Etat              3305  \n",
       "\n",
       "[100 rows x 3 columns]"
      ]
     },
     "execution_count": 12,
     "metadata": {},
     "output_type": "execute_result"
    }
   ],
   "source": [
    "pd.set_option('display.max_colwidth', 1000),\n",
    "data_train_count.sample(100)"
   ]
  },
  {
   "cell_type": "markdown",
   "metadata": {},
   "source": [
    "## Test Set"
   ]
  },
  {
   "cell_type": "code",
   "execution_count": 13,
   "metadata": {
    "collapsed": false,
    "jupyter": {
     "outputs_hidden": false
    },
    "pycharm": {
     "name": "#%%\n"
    }
   },
   "outputs": [
    {
     "data": {
      "text/html": [
       "<div>\n",
       "<style scoped>\n",
       "    .dataframe tbody tr th:only-of-type {\n",
       "        vertical-align: middle;\n",
       "    }\n",
       "\n",
       "    .dataframe tbody tr th {\n",
       "        vertical-align: top;\n",
       "    }\n",
       "\n",
       "    .dataframe thead th {\n",
       "        text-align: right;\n",
       "    }\n",
       "</style>\n",
       "<table border=\"1\" class=\"dataframe\">\n",
       "  <thead>\n",
       "    <tr style=\"text-align: right;\">\n",
       "      <th></th>\n",
       "      <th>text_original</th>\n",
       "      <th>label</th>\n",
       "      <th>characters_total</th>\n",
       "    </tr>\n",
       "  </thead>\n",
       "  <tbody>\n",
       "    <tr>\n",
       "      <th>857</th>\n",
       "      <td>\"Offene\" Fragen schwieriger – Probleme bei Interpretationen. Wien – Österreichische Volksschüler erzielen bei Multiple-Choice-Aufgaben vergleichsweise bessere Ergebnisse als bei offenen Formaten, wo sie selbst eine Antwort formulieren müssen. Das zeigt eine Auswertung im Expertenbericht zur Volksschul-Lesestudie PIRLS. Sie haben außerdem Schwierigkeiten beim Interpretieren von Informationen bzw. von literarischen Texten. In dem vom Bundesinstitut für Bildungsforschung (Bifie) herausgegebenen Bericht analysieren Wissenschafter die Detailergebnisse der 2011 durchgeführten Volksschul-Vergleichsstudien PIRLS. Insgesamt erreichten die österreichischen Schüler der vierten Klasse Volksschule 529 Punkte und lagen damit über dem Schnitt aller Teilnehmerländer (512 Punkte), aber etwas unter dem EU-Schnitt (534). Die PIRLS-Aufgaben überprüften dabei vier verschiedene sogenannte Verstehensprozesse: Erkennen und Wiedergeben explizit angegebener Informationen, Ziehen einfacher Schlussfolgerungen...</td>\n",
       "      <td>Inland</td>\n",
       "      <td>3442</td>\n",
       "    </tr>\n",
       "    <tr>\n",
       "      <th>64</th>\n",
       "      <td>Neuroforscher entdecken, warum wir in fremder Umgebung meist schlecht schlafen: Schuld ist die linke Hirnhälfte, die nicht zur Ruhe kommt. Providence – Schlafforscher und Handelsreisende kennen das Phänomen: Die erste Nacht in einem fremden Bett ist alles andere als erholsam. Diese Erfahrung ist durchaus universell. Ein japanisches Sprichwort etwa weiß: Wenn du das Kopfkissen wechselst, schläfst Du nicht. Aber warum ist das so? Darauf haben nun Neurowissenschafter von der Brown University in Providence (US-Bundesstaat Rode Island) erstmals eine Antwort gefunden. Wie die Forscher um Yuka Sasaki im Fachjournal Current Biology schreiben, bleibt während der Tiefschlafphase ein bestimmtes Netzwerk der linken Gehirnhemisphäre in einer Art Alarmmodus, während sich die rechte wie gewohnt ausruht. Wir wissen, dass Meerestiere und manche Vögel einen solchen Ein-Hemisphären-Schlaf haben, bei dem eine Hirnhälfte wach bleibt und die andere schläft, erläutert die Professorin für Kognitive Lingui...</td>\n",
       "      <td>Wissenschaft</td>\n",
       "      <td>3026</td>\n",
       "    </tr>\n",
       "    <tr>\n",
       "      <th>289</th>\n",
       "      <td>Militärkapelle hat Probleme mit der \"Marseillaise\". Kairo – Frankreichs Präsident François Hollande bringt von seinem Besuch in Ägyptens Hauptstadt Kairo Geschäftsabschlüsse in Höhe von zwei Milliarden Euro heim. Airbus Space Systems wird Ägypten einen hochmodernen Kommunikationsatelliten verkaufen, der Energiekonzern Engie erhält einen Großauftrag für eine Flüssiggasanlage und den Ausbau erneuerbarer Energien. Beim feierlichen Empfang durch Präsident Abdel Fattah al-Sisi sorgte die Militärkapelle für Aufsehen: Die Musiker haben offenbar die französische Hymne noch nicht besonders oft gespielt und hatten Probleme, den richtigen Ton zu treffen.</td>\n",
       "      <td>International</td>\n",
       "      <td>651</td>\n",
       "    </tr>\n",
       "    <tr>\n",
       "      <th>882</th>\n",
       "      <td>Neue Hinweise auf erstes Einzelspieler-Addon und unbekannte Story-Line. Ursprünglich wollte Rockstar Games bis Ende 2014 die erste Story-Erweiterung zum Gangsterepos Grand Theft Auto 5 herausbringen. Nach dem eigenen Aussagen nach überraschenden Erfolg des Multiplayer-Modus GTA Online wurden diese Pläne allerdings vertagt. Ein Instagram-Posting von Shawn Fonteno, dem Schauspieler hinter dem Charakter Franklin, lässt Fans allerdings nun wieder hoffen. Das Foto zeigt Fonteno kommentarlos in Motion-Capturing-Montur, was genau dahinter steckt, ist jedoch offen. Seitens des Herstellers wurde bislang nichts verraten. Dass es sich dabei um Arbeiten am ersten Story-DLC handelt, liegt nahe. Nicht zuletzt deshalb, weil Fonteno bereits vor zwei Jahren bestätigte, dass er für seine Rolle in der GTA 5-Erweiterung engagiert wurde. Damals betonte er, dass Rockstar sich fürs Addon viel vorgenommen habe. Nach zahlreichen Updates für GTA Online wäre 2016 die Zeit jedenfalls reif für Story-Nachschub....</td>\n",
       "      <td>Web</td>\n",
       "      <td>1919</td>\n",
       "    </tr>\n",
       "    <tr>\n",
       "      <th>744</th>\n",
       "      <td>Der Rapid-Coach denkt dabei aber nicht etwa an Barcelona, sondern an Mittwoch-Gegner Mattersburg. Wien/Mattersburg – Mit vier Siegen in vier Frühjahrsrunden ist Rapid 2016 in der Fußball-Bundesliga die Nummer eins. Für die Verantwortlichen in Grün-Weiß ist das jedoch noch lange kein Grund, in Jubelstimmung auszubrechen. Vor dem Spiel am Mittwoch gegen den SV Mattersburg warnte Trainer Zoran Barisic vor einer physisch irrsinnig starken Truppe, die speziell bei Standardsituationen gefährlich sei. Die Hütteldorfer tragen seit dem Start ins Bundesliga-Frühjahr eine weiße Weste. In vier Partien wurden ebenso viele Siege eingefahren, die Tordifferenz steht bei 11:2. Zuletzt verloren haben die Wiener am 13. Dezember mit 0:2 in Salzburg. Die Grünen stehen gemeinsam mit den Bullen an der Tabellenspitze. Von einem Fernduell um den Titel will die sportliche Führung aber noch lange nicht sprechen. Es ist noch sehr weit bis dahin, und man hat ja gesehen, wie schnell sich alles drehen kann im Fu...</td>\n",
       "      <td>Sport</td>\n",
       "      <td>4564</td>\n",
       "    </tr>\n",
       "    <tr>\n",
       "      <th>...</th>\n",
       "      <td>...</td>\n",
       "      <td>...</td>\n",
       "      <td>...</td>\n",
       "    </tr>\n",
       "    <tr>\n",
       "      <th>788</th>\n",
       "      <td>Ein maskierter 21-Jähriger hatte Ende Oktober die Schule überfallen. Trollhättan – Die Schwertattacke an einer Schule in Trollhättan im Oktober schockierte Schweden – jetzt ist ein Lehrer an seinen Verletzungen gestorben. Das bestätigte die Polizei der Zeitung Dagens Nyheter. Er ist das dritte Todesopfer nach dem rassistischen Angriff kurz vor Halloween, bei dem ein maskierter junger Mann gezielt auf Schüler und Lehrer mit Migrationshintergrund eingestochen hatte. Wegen seiner Verkleidung hatten die Schüler zunächst an einen Witz geglaubt und sich sogar mit dem Täter fotografieren lassen. Ein Schüler und ein Lehrer-Assistent starben, der jetzt verstorbene Lehrer und ein weiterer Schüler wurden damals schwer verletzt. Die Polizei schoss auf den 21-Jährigen, der kurz darauf ebenfalls starb.</td>\n",
       "      <td>Panorama</td>\n",
       "      <td>799</td>\n",
       "    </tr>\n",
       "    <tr>\n",
       "      <th>350</th>\n",
       "      <td>Debakel von Rapids Europacup-Gegner im Cup-Halbfinale, Coach Neville angeschlagen. Suarez trifft viermal, Messi dreimal. Barcelona – Rapids Europa-League-Gegner Valencia ist am Mittwochabend am vorläufigen Tiefpunkt angelangt. Der sechsfache spanische Meister schlitterte im Halbfinal-Hinspiel der Copa del Rey beim FC Barcelona in ein 0:7-Debakel. Der Cup war bis dato jener Bewerb, in dem Valencia zumindest etwas Selbstvertrauen tanken konnte. In der Meisterschaft ist man bereits seit elf Spielen sieglos. Offen ist nun, ob der erst im Dezember verpflichtete Coach Gary Neville den nächsten Tiefschlag nach dem 0:1 gegen Gijon in der Primera Division am Sonntag überstehen wird. Die Katalanen dominierten das Geschehen im Camp Nou nach Belieben und hätten bei ernsthafterer Spielweise durchaus höher gewinnen können. Luis Suarez mit vier (7., 12., 83., 88.) und Lionel Messi mit drei Treffern (29., 59., 74.) münzten die klare Überlegenheit in die Tore um. Zur Pause war es schon 3:0 gestande...</td>\n",
       "      <td>Sport</td>\n",
       "      <td>1631</td>\n",
       "    </tr>\n",
       "    <tr>\n",
       "      <th>435</th>\n",
       "      <td>Staatssekretär Mahrer schlägt größere Lösung als bloßes Geschichtsmuseum vor: Am Ring soll ein Haus für die Bürger entstehen, in dem auch Zukunftsfragen thematisiert werden. Wien – Das seit 1997 diskutierte Vorhaben für ein Haus der Geschichte wird von der ÖVP mit einem alternativen Konzept infrage gestellt. Harald Mahrer denkt dabei lieber groß als klein. Und wenn der Staatssekretär im Wissenschafts- und Wirtschaftsministerium an das geplante Haus der Geschichte denkt, dann denkt er nicht nur an die neuere Geschichte ab 1848 (wie sie bisherigen Plänen folgend gezeigt  werden soll), sondern er denkt weiter zurück – und einen, wenn nicht zwei Schritte nach vorn. Zunächst: Warum müsse ein Haus der Geschichte in ein bestehendes Objekt ziehen, noch dazu in die in Aussicht genommene Neue Burg, wo die Musikinstrumentensammlung des Kunsthistorischen  Museums weichen müsste. Lieber hätte Mahrer einen Neubau – als Haus der Zukunft. Und zwar nicht irgendwo, sondern gegenüber dem Naturhistori...</td>\n",
       "      <td>Inland</td>\n",
       "      <td>3304</td>\n",
       "    </tr>\n",
       "    <tr>\n",
       "      <th>32</th>\n",
       "      <td>Novomatic will seine Beteiligung an den Casinos Austria gleich weiter ausbauen. Wien/Gumpoldskirchen – Der Glücksspielkonzern Novomatic steigt bei den Casinos Austria ein. Der Konzern sei mit seinen Angeboten an die privaten Aktionäre schon weit vorangekommen, berichtete der Kurier am Samstag. Demnach wolle die Raiffeisen-Gruppe das Angebot von Novomatic annehmen. Auch die MTB Privatstiftung von Theresia Babler mit 16,8 Prozent dürfte schon unterschrieben haben. Mittlerweile ist das auch bestätigt: Novomatic habe für die Beteiligungen der MTB Privatstiftung (16,8 Prozent) und der Leipnik-Lundenburger Invest (indirekt 11,34 Prozent) verbindliche Angebote gelegt, die angenommen wurden, teilte der Konzern am Sonntag in einer Aussendung mit. Der Abschluss der beiden Transaktionen erfolge vorbehaltlich diverser öffentlich-rechtlicher und gesellschaftsrechtlicher Genehmigungen sowie formaler Zustimmungserfordernisse. Über den jeweiligen Kaufpreis sei Stillschweigen vereinbart worden. Zus...</td>\n",
       "      <td>Wirtschaft</td>\n",
       "      <td>4951</td>\n",
       "    </tr>\n",
       "    <tr>\n",
       "      <th>718</th>\n",
       "      <td>Im Herbst 1990 kam \"Goodfellas\" in die Kinos. Schon damals mit hymnischen Kritiken bedacht, gilt der Mafia-Film mittlerweile als cineastischer Meilenstein. Wie gefällt Ihnen der Klassiker?. Die Welt der Mafia bedeutet für den jugendlichen Henry Hill eine Welt, in der Gewalt, Mord und Luxus das Adrenalin liefern, das das Leben für den Jungen aus ärmlichen Verhältnissen lebenswert macht. 30 Jahre und diverse Verbrechen später, verät Hill seine ehemaligen Mitstreiter und taucht ab ins Zeugenschutzprogramm. Das Ende ist – zumindest aus Mobstersicht – ernüchternd. Hill wird, so seine Selbsteinschätzung, sein restliches Leben, als schnook verbringen, als Trottel, als Spießbürger im Reihenhaus. Gelangweilt, aber immerhin lebendig. Als Goodfellas 1990 unter der Regie des damals 48-jährigen Martin Scorsese in die Kinos kam, wurde der Film als Gegenstück zu Coppolas The Godfather wahrgenommen. Wo in Coppolas Trilogie, deren letzer Teil ebenfalls 1990 erschien, selbst dem tragischen Ende noch...</td>\n",
       "      <td>Kultur</td>\n",
       "      <td>3301</td>\n",
       "    </tr>\n",
       "  </tbody>\n",
       "</table>\n",
       "<p>100 rows × 3 columns</p>\n",
       "</div>"
      ],
      "text/plain": [
       "                                                                                                                                                                                                                                                                                                                                                                                                                                                                                                                                                                                                                                                                                                                                                                                                                                                                                                                                                                                                                               text_original  \\\n",
       "857  \"Offene\" Fragen schwieriger – Probleme bei Interpretationen. Wien – Österreichische Volksschüler erzielen bei Multiple-Choice-Aufgaben vergleichsweise bessere Ergebnisse als bei offenen Formaten, wo sie selbst eine Antwort formulieren müssen. Das zeigt eine Auswertung im Expertenbericht zur Volksschul-Lesestudie PIRLS. Sie haben außerdem Schwierigkeiten beim Interpretieren von Informationen bzw. von literarischen Texten. In dem vom Bundesinstitut für Bildungsforschung (Bifie) herausgegebenen Bericht analysieren Wissenschafter die Detailergebnisse der 2011 durchgeführten Volksschul-Vergleichsstudien PIRLS. Insgesamt erreichten die österreichischen Schüler der vierten Klasse Volksschule 529 Punkte und lagen damit über dem Schnitt aller Teilnehmerländer (512 Punkte), aber etwas unter dem EU-Schnitt (534). Die PIRLS-Aufgaben überprüften dabei vier verschiedene sogenannte Verstehensprozesse: Erkennen und Wiedergeben explizit angegebener Informationen, Ziehen einfacher Schlussfolgerungen...   \n",
       "64   Neuroforscher entdecken, warum wir in fremder Umgebung meist schlecht schlafen: Schuld ist die linke Hirnhälfte, die nicht zur Ruhe kommt. Providence – Schlafforscher und Handelsreisende kennen das Phänomen: Die erste Nacht in einem fremden Bett ist alles andere als erholsam. Diese Erfahrung ist durchaus universell. Ein japanisches Sprichwort etwa weiß: Wenn du das Kopfkissen wechselst, schläfst Du nicht. Aber warum ist das so? Darauf haben nun Neurowissenschafter von der Brown University in Providence (US-Bundesstaat Rode Island) erstmals eine Antwort gefunden. Wie die Forscher um Yuka Sasaki im Fachjournal Current Biology schreiben, bleibt während der Tiefschlafphase ein bestimmtes Netzwerk der linken Gehirnhemisphäre in einer Art Alarmmodus, während sich die rechte wie gewohnt ausruht. Wir wissen, dass Meerestiere und manche Vögel einen solchen Ein-Hemisphären-Schlaf haben, bei dem eine Hirnhälfte wach bleibt und die andere schläft, erläutert die Professorin für Kognitive Lingui...   \n",
       "289                                                                                                                                                                                                                                                                                                                                                              Militärkapelle hat Probleme mit der \"Marseillaise\". Kairo – Frankreichs Präsident François Hollande bringt von seinem Besuch in Ägyptens Hauptstadt Kairo Geschäftsabschlüsse in Höhe von zwei Milliarden Euro heim. Airbus Space Systems wird Ägypten einen hochmodernen Kommunikationsatelliten verkaufen, der Energiekonzern Engie erhält einen Großauftrag für eine Flüssiggasanlage und den Ausbau erneuerbarer Energien. Beim feierlichen Empfang durch Präsident Abdel Fattah al-Sisi sorgte die Militärkapelle für Aufsehen: Die Musiker haben offenbar die französische Hymne noch nicht besonders oft gespielt und hatten Probleme, den richtigen Ton zu treffen.   \n",
       "882  Neue Hinweise auf erstes Einzelspieler-Addon und unbekannte Story-Line. Ursprünglich wollte Rockstar Games bis Ende 2014 die erste Story-Erweiterung zum Gangsterepos Grand Theft Auto 5 herausbringen. Nach dem eigenen Aussagen nach überraschenden Erfolg des Multiplayer-Modus GTA Online wurden diese Pläne allerdings vertagt. Ein Instagram-Posting von Shawn Fonteno, dem Schauspieler hinter dem Charakter Franklin, lässt Fans allerdings nun wieder hoffen. Das Foto zeigt Fonteno kommentarlos in Motion-Capturing-Montur, was genau dahinter steckt, ist jedoch offen. Seitens des Herstellers wurde bislang nichts verraten. Dass es sich dabei um Arbeiten am ersten Story-DLC handelt, liegt nahe. Nicht zuletzt deshalb, weil Fonteno bereits vor zwei Jahren bestätigte, dass er für seine Rolle in der GTA 5-Erweiterung engagiert wurde. Damals betonte er, dass Rockstar sich fürs Addon viel vorgenommen habe. Nach zahlreichen Updates für GTA Online wäre 2016 die Zeit jedenfalls reif für Story-Nachschub....   \n",
       "744  Der Rapid-Coach denkt dabei aber nicht etwa an Barcelona, sondern an Mittwoch-Gegner Mattersburg. Wien/Mattersburg – Mit vier Siegen in vier Frühjahrsrunden ist Rapid 2016 in der Fußball-Bundesliga die Nummer eins. Für die Verantwortlichen in Grün-Weiß ist das jedoch noch lange kein Grund, in Jubelstimmung auszubrechen. Vor dem Spiel am Mittwoch gegen den SV Mattersburg warnte Trainer Zoran Barisic vor einer physisch irrsinnig starken Truppe, die speziell bei Standardsituationen gefährlich sei. Die Hütteldorfer tragen seit dem Start ins Bundesliga-Frühjahr eine weiße Weste. In vier Partien wurden ebenso viele Siege eingefahren, die Tordifferenz steht bei 11:2. Zuletzt verloren haben die Wiener am 13. Dezember mit 0:2 in Salzburg. Die Grünen stehen gemeinsam mit den Bullen an der Tabellenspitze. Von einem Fernduell um den Titel will die sportliche Führung aber noch lange nicht sprechen. Es ist noch sehr weit bis dahin, und man hat ja gesehen, wie schnell sich alles drehen kann im Fu...   \n",
       "..                                                                                                                                                                                                                                                                                                                                                                                                                                                                                                                                                                                                                                                                                                                                                                                                                                                                                                                                                                                                                                       ...   \n",
       "788                                                                                                                                                                                                          Ein maskierter 21-Jähriger hatte Ende Oktober die Schule überfallen. Trollhättan – Die Schwertattacke an einer Schule in Trollhättan im Oktober schockierte Schweden – jetzt ist ein Lehrer an seinen Verletzungen gestorben. Das bestätigte die Polizei der Zeitung Dagens Nyheter. Er ist das dritte Todesopfer nach dem rassistischen Angriff kurz vor Halloween, bei dem ein maskierter junger Mann gezielt auf Schüler und Lehrer mit Migrationshintergrund eingestochen hatte. Wegen seiner Verkleidung hatten die Schüler zunächst an einen Witz geglaubt und sich sogar mit dem Täter fotografieren lassen. Ein Schüler und ein Lehrer-Assistent starben, der jetzt verstorbene Lehrer und ein weiterer Schüler wurden damals schwer verletzt. Die Polizei schoss auf den 21-Jährigen, der kurz darauf ebenfalls starb.   \n",
       "350  Debakel von Rapids Europacup-Gegner im Cup-Halbfinale, Coach Neville angeschlagen. Suarez trifft viermal, Messi dreimal. Barcelona – Rapids Europa-League-Gegner Valencia ist am Mittwochabend am vorläufigen Tiefpunkt angelangt. Der sechsfache spanische Meister schlitterte im Halbfinal-Hinspiel der Copa del Rey beim FC Barcelona in ein 0:7-Debakel. Der Cup war bis dato jener Bewerb, in dem Valencia zumindest etwas Selbstvertrauen tanken konnte. In der Meisterschaft ist man bereits seit elf Spielen sieglos. Offen ist nun, ob der erst im Dezember verpflichtete Coach Gary Neville den nächsten Tiefschlag nach dem 0:1 gegen Gijon in der Primera Division am Sonntag überstehen wird. Die Katalanen dominierten das Geschehen im Camp Nou nach Belieben und hätten bei ernsthafterer Spielweise durchaus höher gewinnen können. Luis Suarez mit vier (7., 12., 83., 88.) und Lionel Messi mit drei Treffern (29., 59., 74.) münzten die klare Überlegenheit in die Tore um. Zur Pause war es schon 3:0 gestande...   \n",
       "435  Staatssekretär Mahrer schlägt größere Lösung als bloßes Geschichtsmuseum vor: Am Ring soll ein Haus für die Bürger entstehen, in dem auch Zukunftsfragen thematisiert werden. Wien – Das seit 1997 diskutierte Vorhaben für ein Haus der Geschichte wird von der ÖVP mit einem alternativen Konzept infrage gestellt. Harald Mahrer denkt dabei lieber groß als klein. Und wenn der Staatssekretär im Wissenschafts- und Wirtschaftsministerium an das geplante Haus der Geschichte denkt, dann denkt er nicht nur an die neuere Geschichte ab 1848 (wie sie bisherigen Plänen folgend gezeigt  werden soll), sondern er denkt weiter zurück – und einen, wenn nicht zwei Schritte nach vorn. Zunächst: Warum müsse ein Haus der Geschichte in ein bestehendes Objekt ziehen, noch dazu in die in Aussicht genommene Neue Burg, wo die Musikinstrumentensammlung des Kunsthistorischen  Museums weichen müsste. Lieber hätte Mahrer einen Neubau – als Haus der Zukunft. Und zwar nicht irgendwo, sondern gegenüber dem Naturhistori...   \n",
       "32   Novomatic will seine Beteiligung an den Casinos Austria gleich weiter ausbauen. Wien/Gumpoldskirchen – Der Glücksspielkonzern Novomatic steigt bei den Casinos Austria ein. Der Konzern sei mit seinen Angeboten an die privaten Aktionäre schon weit vorangekommen, berichtete der Kurier am Samstag. Demnach wolle die Raiffeisen-Gruppe das Angebot von Novomatic annehmen. Auch die MTB Privatstiftung von Theresia Babler mit 16,8 Prozent dürfte schon unterschrieben haben. Mittlerweile ist das auch bestätigt: Novomatic habe für die Beteiligungen der MTB Privatstiftung (16,8 Prozent) und der Leipnik-Lundenburger Invest (indirekt 11,34 Prozent) verbindliche Angebote gelegt, die angenommen wurden, teilte der Konzern am Sonntag in einer Aussendung mit. Der Abschluss der beiden Transaktionen erfolge vorbehaltlich diverser öffentlich-rechtlicher und gesellschaftsrechtlicher Genehmigungen sowie formaler Zustimmungserfordernisse. Über den jeweiligen Kaufpreis sei Stillschweigen vereinbart worden. Zus...   \n",
       "718  Im Herbst 1990 kam \"Goodfellas\" in die Kinos. Schon damals mit hymnischen Kritiken bedacht, gilt der Mafia-Film mittlerweile als cineastischer Meilenstein. Wie gefällt Ihnen der Klassiker?. Die Welt der Mafia bedeutet für den jugendlichen Henry Hill eine Welt, in der Gewalt, Mord und Luxus das Adrenalin liefern, das das Leben für den Jungen aus ärmlichen Verhältnissen lebenswert macht. 30 Jahre und diverse Verbrechen später, verät Hill seine ehemaligen Mitstreiter und taucht ab ins Zeugenschutzprogramm. Das Ende ist – zumindest aus Mobstersicht – ernüchternd. Hill wird, so seine Selbsteinschätzung, sein restliches Leben, als schnook verbringen, als Trottel, als Spießbürger im Reihenhaus. Gelangweilt, aber immerhin lebendig. Als Goodfellas 1990 unter der Regie des damals 48-jährigen Martin Scorsese in die Kinos kam, wurde der Film als Gegenstück zu Coppolas The Godfather wahrgenommen. Wo in Coppolas Trilogie, deren letzer Teil ebenfalls 1990 erschien, selbst dem tragischen Ende noch...   \n",
       "\n",
       "             label  characters_total  \n",
       "857         Inland              3442  \n",
       "64    Wissenschaft              3026  \n",
       "289  International               651  \n",
       "882            Web              1919  \n",
       "744          Sport              4564  \n",
       "..             ...               ...  \n",
       "788       Panorama               799  \n",
       "350          Sport              1631  \n",
       "435         Inland              3304  \n",
       "32      Wirtschaft              4951  \n",
       "718         Kultur              3301  \n",
       "\n",
       "[100 rows x 3 columns]"
      ]
     },
     "execution_count": 13,
     "metadata": {},
     "output_type": "execute_result"
    }
   ],
   "source": [
    "data_test_count.sample(100)"
   ]
  },
  {
   "cell_type": "code",
   "execution_count": null,
   "metadata": {},
   "outputs": [],
   "source": []
  }
 ],
 "metadata": {
  "environment": {
   "kernel": "python3",
   "name": "tf2-gpu.2-6.m82",
   "type": "gcloud",
   "uri": "gcr.io/deeplearning-platform-release/tf2-gpu.2-6:m82"
  },
  "kernelspec": {
   "display_name": "Python 3",
   "language": "python",
   "name": "python3"
  },
  "language_info": {
   "codemirror_mode": {
    "name": "ipython",
    "version": 3
   },
   "file_extension": ".py",
   "mimetype": "text/x-python",
   "name": "python",
   "nbconvert_exporter": "python",
   "pygments_lexer": "ipython3",
   "version": "3.7.10"
  }
 },
 "nbformat": 4,
 "nbformat_minor": 4
}
